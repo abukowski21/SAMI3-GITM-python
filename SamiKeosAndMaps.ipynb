{
 "cells": [
  {
   "cell_type": "code",
   "execution_count": null,
   "id": "925b210e-9331-4c32-963e-b7f64cbcaa4a",
   "metadata": {},
   "outputs": [],
   "source": []
  },
  {
   "cell_type": "markdown",
   "id": "1d6fc58c-4346-46fe-9e0c-4fde89655d30",
   "metadata": {
    "tags": []
   },
   "source": [
    "# All SAMI3 field line plots and Data Analysis used in the Sim Storm Paper"
   ]
  },
  {
   "cell_type": "markdown",
   "id": "b5b40e0f-72b9-4484-93cf-0e96b274ac23",
   "metadata": {},
   "source": [
    "## Imports"
   ]
  },
  {
   "cell_type": "code",
   "execution_count": 1,
   "id": "34badf75-77a8-4175-808a-5b38230fda68",
   "metadata": {},
   "outputs": [
    {
     "name": "stderr",
     "output_type": "stream",
     "text": [
      "<frozen importlib._bootstrap>:219: RuntimeWarning: scipy._lib.messagestream.MessageStream size changed, may indicate binary incompatibility. Expected 56 from C header, got 64 from PyObject\n"
     ]
    }
   ],
   "source": [
    "# import aacgmv2, time\n",
    "import pandas as pd\n",
    "import numpy as np\n",
    "from multiprocessing import Pool\n",
    "import math, os, shutil\n",
    "from tqdm.auto import tqdm\n",
    "import matplotlib.pyplot as plt\n",
    "# from scipy.io import readsav\n",
    "# import pymap3d as pm\n",
    "# import glob\n",
    "import datetime\n",
    "# from aetherpy.io import read_routines\n",
    "# from math import cos, radians, sin, sqrt\n",
    "from scipy import spatial, signal\n",
    "\n",
    "# from spacepy.coordinates import Coords\n",
    "# from spacepy.time import Ticktock\n",
    "# import fnmatch\n",
    "# \n",
    "import gc\n",
    "\n",
    "import sys\n",
    "from mpl_toolkits.basemap import Basemap\n",
    "import geopandas\n",
    "\n",
    "from scipy.interpolate import LinearNDInterpolator, interp1d, griddata\n",
    "\n",
    "# %matplotlib inline"
   ]
  },
  {
   "cell_type": "markdown",
   "id": "c1bba9c3-9b64-48bd-a30e-ee22cf82ec55",
   "metadata": {},
   "source": [
    "## Settings"
   ]
  },
  {
   "cell_type": "code",
   "execution_count": 304,
   "id": "7b857631-26df-4069-99c8-c24481070f93",
   "metadata": {},
   "outputs": [],
   "source": [
    "dtime_storm_start = datetime.datetime(2011,5,21,13,40) \n",
    "\n",
    "dtime_sim_start = datetime.datetime(2011,5,20)\n",
    "\n",
    "t_step_minutes = 5 # minutes\n",
    "\n",
    "\n",
    "plot_start_delta  = 2  # hours before storm onset to start making plots. set to -1 to run the whole time\n",
    "plot_end_delta    = 6  # hours after storm onset to end plots. Set to -1 to run for the whole time\n",
    "\n",
    "data_in_path = '/home/axb170054/scratch/pickles/SimStormPaper/simstorm_sami_files/'\n",
    "\n",
    "lon_keos = [-178, -150, -100, -30, 50, 100, 150]\n",
    "\n",
    "global_lat_lim = None # will limit all plots latitude. Must be none or less than keo_lat_lim\n",
    "# ^^ Needs to be tested.\n",
    "\n",
    "keo_lat_lim = 65 # limits keos to +/- degrees of lat. \n",
    "\n",
    "OVERWRITE = True # be careful!\n",
    "\n",
    "# num_pool_workers = int(0.75 * os.cpu_count()) # number of workers to use in multithreading jobs. Set to 1 if you don't know what this means. \n",
    "num_pool_workers = 40\n",
    "\n",
    "sample_rate_min = 5 #min\n",
    "low_cut = 100 # min, lowest freq wave the filter will allow thru\n",
    "high_cut = 30 # min, highest freq the filter will allow thru\n",
    "\n",
    "glons_to_plot = 10 #number of field lines you want to plot. Not necessary. You can set to none if you want to plot stuff yourself\n",
    "alts_to_plot = 10 # Number of altitudes to make maps & keos of.\n",
    "\n",
    "\n",
    "locut = 100 #minutes\n",
    "hicut = 30 #minutes\n"
   ]
  },
  {
   "cell_type": "code",
   "execution_count": 308,
   "id": "71b015c6-4a85-4a20-aec4-92e0cef682bb",
   "metadata": {},
   "outputs": [],
   "source": [
    "diff_vs = [1,2,5,10,20] # +/- lims for the diff plots. This will save a lot of time later, I think. "
   ]
  },
  {
   "cell_type": "code",
   "execution_count": 3,
   "id": "b601a761-cd18-4585-acd2-25e530f62c4e",
   "metadata": {},
   "outputs": [],
   "source": [
    "sami_keo_save_path = \"/home/axb170054/scratch/made_plots/SimStormPaper/SAMI/keos/\"\n",
    "sami_map_save_path = \"/home/axb170054/scratch/made_plots/SimStormPaper/SAMI/maps/\""
   ]
  },
  {
   "cell_type": "code",
   "execution_count": 4,
   "id": "16acb88e-5668-448d-ae94-d57b713e0ad7",
   "metadata": {},
   "outputs": [],
   "source": [
    "cols = ['edens', 'hplusdens', 'oplusdens', 'noplusdens', 'o2plusdens', 'heplusdens', 'n2plusdens', 'nplusdens', 'hdens', 'odens', 'nodens', 'o2dens', 'hedens', 'n2dens', 'ndens']\n",
    "\n",
    "# above is all cols (that I care about), below is just edens.\n",
    "\n",
    "# cols = ['edens']"
   ]
  },
  {
   "cell_type": "markdown",
   "id": "52b44408-6354-4ebb-bc8f-9e3511d41984",
   "metadata": {},
   "source": [
    "Available columns (for now) are:\n",
    "\n",
    "['edens', 'hplusdens', 'oplusdens', 'noplusdens', 'o2plusdens', 'heplusdens', 'n2plusdens', 'nplusdens', 'hdens', 'odens', 'nodens', 'o2dens', 'hedens', 'n2dens', 'ndens']"
   ]
  },
  {
   "cell_type": "code",
   "execution_count": null,
   "id": "86f1098c-aad1-4f11-b828-eae03bc3f929",
   "metadata": {},
   "outputs": [],
   "source": []
  },
  {
   "cell_type": "code",
   "execution_count": null,
   "id": "70a1f429-15af-4c3f-a296-199994705570",
   "metadata": {},
   "outputs": [],
   "source": []
  },
  {
   "cell_type": "code",
   "execution_count": null,
   "id": "d6afa99d-db30-4c9d-aee5-0500207aa9a9",
   "metadata": {},
   "outputs": [],
   "source": []
  },
  {
   "cell_type": "code",
   "execution_count": null,
   "id": "5a27e7dc-ebfa-47e5-9aa4-d2cd9e5bf14a",
   "metadata": {},
   "outputs": [],
   "source": []
  },
  {
   "cell_type": "markdown",
   "id": "c7f38d96-4a01-4bc8-a96d-0d743dfbf4ef",
   "metadata": {},
   "source": [
    "## Constants:"
   ]
  },
  {
   "cell_type": "code",
   "execution_count": null,
   "id": "5169e081-b0e5-4806-a001-bd3c7adb54f9",
   "metadata": {},
   "outputs": [],
   "source": []
  },
  {
   "cell_type": "code",
   "execution_count": null,
   "id": "6f1a6c61-eede-4b70-b41b-815c2892feef",
   "metadata": {},
   "outputs": [],
   "source": []
  },
  {
   "cell_type": "code",
   "execution_count": null,
   "id": "2a690917-6bb4-48a0-a954-18853d99f2ea",
   "metadata": {},
   "outputs": [],
   "source": []
  },
  {
   "cell_type": "code",
   "execution_count": null,
   "id": "d07415a3-91d2-489f-baba-28bc60da0587",
   "metadata": {},
   "outputs": [],
   "source": []
  },
  {
   "cell_type": "markdown",
   "id": "80aafdb1-cd2d-45ea-9cbf-7c06792f039c",
   "metadata": {},
   "source": [
    "## Functions"
   ]
  },
  {
   "cell_type": "code",
   "execution_count": 185,
   "id": "870e6370-63c9-4512-a700-564b1a191969",
   "metadata": {},
   "outputs": [],
   "source": [
    "def read_sami_data():\n",
    "    \n",
    "    \n",
    "    #times\n",
    "    times = np.loadtxt(data_in_path + 'times', dtype = str, delimiter=',')\n",
    "    #format\n",
    "    times = [datetime.datetime.strptime(i, '%Y-%m-%d %H:%M:%S') for i in times]\n",
    "    \n",
    "    hrs = [(t - dtime_storm_start)/pd.Timedelta(1, 'hour') for t in times]\n",
    "    \n",
    "    #grid\n",
    "    lats = np.loadtxt(data_in_path + 'out-lats', delimiter=',')\n",
    "    lons = np.loadtxt(data_in_path + 'out-lons', delimiter=',')\n",
    "    alts = np.loadtxt(data_in_path + 'out-alts', delimiter=',')\n",
    "    \n",
    "    data_dict = {}\n",
    "    \n",
    "    for col in cols:\n",
    "        data_dict[col] = np.loadtxt(data_in_path + 'preds-' + col, delimiter= ',').reshape(len(times),len(lats), len(lons), len(alts))\n",
    "    \n",
    "    \n",
    "    return np.array(times), hrs, lats, lons, alts, data_dict"
   ]
  },
  {
   "cell_type": "code",
   "execution_count": null,
   "id": "f973c5e5-1463-48f0-a14a-a632d78116f3",
   "metadata": {},
   "outputs": [],
   "source": []
  },
  {
   "cell_type": "code",
   "execution_count": 158,
   "id": "90325600-610b-4f4d-ae56-73e9ae9389df",
   "metadata": {},
   "outputs": [],
   "source": [
    "def make_filter(params = None, order = 2):\n",
    "    # Define the cutoff frequencies\n",
    "    lowcut = 1/(locut/60)  # 100 minutes in units of sample^-1\n",
    "    highcut = 1/(hicut/60) # 30 minutes in units of sample^-1\n",
    "\n",
    "    # Define the Butterworth filter\n",
    "    nyquist = 0.5 * 5 # 5 minutes is the sampling frequency\n",
    "    low = lowcut / nyquist\n",
    "    high = highcut / nyquist\n",
    "    sos = signal.butter(order, [low, high], btype='bandstop', output='sos')\n",
    "    return sos\n",
    "\n",
    "def remove_background(time_series, sos):\n",
    "\n",
    "\n",
    "    # Apply the filter to the time series\n",
    "    filtered_data = signal.sosfiltfilt(sos, time_series, axis = 0)\n",
    "\n",
    "    return filtered_data\n",
    "\n"
   ]
  },
  {
   "cell_type": "code",
   "execution_count": 177,
   "id": "5de99978-5dd4-4939-893d-141526fcea9e",
   "metadata": {},
   "outputs": [],
   "source": [
    "def UT_from_Storm_onset(dtime):\n",
    "    \"\"\"input a datetime\n",
    "    \n",
    "    returns the UT as HH:MM from storm onset, as a string\"\"\"\n",
    "    l = (pd.Timestamp(dtime) - dtime_storm_start)/ pd.Timedelta('1 minute') # get pd datetime of this iter, find minute diff from storm start\n",
    "    if l > 0:\n",
    "        hrs = np.floor(l/60)\n",
    "        hrs = str(int(hrs)).rjust(2,'0')\n",
    "    else:\n",
    "        hrs = np.ceil(l/60)\n",
    "        hrs = '-' + str(np.abs(int(hrs))).rjust(2,'0')\n",
    "    mins = str(int(np.abs(l)%60)).rjust(2,'0')\n",
    "    ut = hrs + ':' + mins\n",
    "    return ut"
   ]
  },
  {
   "cell_type": "code",
   "execution_count": 327,
   "id": "dbba679e-1269-4ef9-aaf1-d29aa58b15db",
   "metadata": {},
   "outputs": [],
   "source": [
    "def make_a_plot(data, x_label = None, y_label = None, title = None, \n",
    "                cbar_lims = None, cbar_label = None, save_or_show = 'show', \n",
    "                fname = None, plot_extent = None):\n",
    "    ##Clean inputs:\n",
    "    if cbar_lims == None:\n",
    "        cbar_lims = [ np.min(data), np.max(data) ]\n",
    "        \n",
    "    ## Plots have to be done in weird ways. this will make calling things easier...\n",
    "    ismap = False\n",
    "    iskeo = False\n",
    "        \n",
    "    if plot_extent == None:\n",
    "        if data.shape == (65,75):\n",
    "            plot_extent = [-180, 180, np.min(lats), np.max(lats)]\n",
    "            x_label = 'Longitude(deg)'\n",
    "            y_label = 'Latitude (deg)'\n",
    "            ismap = True\n",
    "        if data.shape ==  (144,65):\n",
    "            plot_extent = [np.min(hrs), np.max(hrs), np.min(lats), np.max(lats)]\n",
    "            x_label = 'Hours from storm onset'\n",
    "            y_label = 'Latitude (deg)'\n",
    "            iskeo = True\n",
    "    \n",
    "    \n",
    "    \n",
    "    \n",
    "    \n",
    "    if ismap:\n",
    "        \n",
    "        # Need to get the data from -180-180 not 0-360...\n",
    "        \n",
    "            ## Fix the ordering of the longitudes and go from -180-180 not 0->360 \n",
    "        newlons_for_order = []\n",
    "        newlons = np.zeros_like(lons)\n",
    "        for ilon in lons:\n",
    "            oldlon = ilon\n",
    "            if oldlon <=180:\n",
    "                newlons_for_order.append(int(oldlon))\n",
    "\n",
    "            else:\n",
    "                newlons_for_order.append(int(oldlon)-360) \n",
    "\n",
    "        new_lons_sorted = np.sort(newlons_for_order)\n",
    "        new_order = np.array([newlons_for_order.index(new_lons_sorted[i]) for i in range(len(new_lons_sorted))]) \n",
    "        \n",
    "        fig,ax = plt.subplots(figsize = (10,5))\n",
    "        world.plot(ax = ax, color = 'white', edgecolor = 'black', zorder = 1)\n",
    "        \n",
    "        p = ax.imshow(data[:,new_order], extent = plot_extent, vmin = cbar_lims[0], vmax=cbar_lims[1], origin = 'lower', \n",
    "                       aspect = 'auto', interpolation= 'bicubic', interpolation_stage='rgba', label = cbar_label, zorder = 10,\n",
    "                     alpha = 0.9)\n",
    "        fig.colorbar(p, label = cbar_label)\n",
    "        \n",
    "    elif iskeo:\n",
    "        plt.figure(figsize = (10,5))\n",
    "        plt.imshow(data.T, extent = plot_extent, vmin = cbar_lims[0], vmax=cbar_lims[1], origin = 'lower', aspect = 'auto',\n",
    "              interpolation= 'bicubic', interpolation_stage='rgba', label = cbar_label)\n",
    "        plt.colorbar()\n",
    "    \n",
    "    plt.ylabel(y_label)\n",
    "    plt.xlabel(x_label)\n",
    "    \n",
    "    plt.title(title)\n",
    "    \n",
    "    \n",
    "    \n",
    "\n",
    "    if save_or_show == 'show':\n",
    "        plt.show()\n",
    "        plt.close()\n",
    "        if fname:\n",
    "            print(fname)\n",
    "    elif save_or_show == 'save':\n",
    "        if not fname:\n",
    "            raise ValueError('plot save path must be given!')\n",
    "        else:\n",
    "            # fname = fname.replace(' ','')\n",
    "            try:\n",
    "                plt.savefig(fname)\n",
    "            except FileNotFoundError:\n",
    "                try:\n",
    "                    directory_list = os.path.join(fname).split('/')[:-1]\n",
    "                    os.makedirs('/'+os.path.join(*directory_list))\n",
    "                    plt.savefig(fname)\n",
    "                except FileExistsError:\n",
    "                    time.sleep(2) # sometimes when we make too many plots in the same directory, it fails. this fixes that.\n",
    "                    try:\n",
    "                        plt.savefig(fname)\n",
    "                    except FileNotFoundError:\n",
    "                        time.sleep(2)\n",
    "                        plt.savefig(fname)\n",
    "\n",
    "            except:\n",
    "                print(fname)\n",
    "                raise ValueError\n",
    "\n",
    "    plt.close()\n",
    "      \n",
    "\n",
    "    else:\n",
    "        raise ValueError('save_or_show input is invalid. Accepted inputs are \"save\" or \"show\", you gave ', save_or_show)\n"
   ]
  },
  {
   "cell_type": "code",
   "execution_count": 313,
   "id": "f387a47d-d086-4977-b6fa-4b1978e715d3",
   "metadata": {},
   "outputs": [],
   "source": [
    "def call_maps(col, real_time, real_alt, figtype = 'all', save_or_show = 'show'):\n",
    "    \n",
    "    itime = np.where(times == real_time)[0][0]\n",
    "    ialt = np.where(alts == real_alt)[0][0]\n",
    "    \n",
    "    raw = data_dict[col][itime,:,:,ialt]\n",
    "    fit = fits[col][itime,:,:,ialt]\n",
    "    \n",
    "    diff = 100*(raw - fit)/fit\n",
    "    \n",
    "    fname = os.path.join(sami_map_save_path, col, 'plot_type', str(int(real_alt)) , str(itime).rjust(3,'0') + '.png')\n",
    "    \n",
    "    ut_diff = UT_from_Storm_onset(real_time)\n",
    "    \n",
    "    plotted = False\n",
    "    \n",
    "    if figtype == 'all' or 'raw' in figtype:\n",
    "        title = '%s at %s from storm onset \\n %i km altitude' %(col, ut_diff, int(real_alt))\n",
    "        make_a_plot(raw, title = title, save_or_show=save_or_show, fname = fname.replace('plot_type','raw'))\n",
    "        plotted = True\n",
    "    \n",
    "    if figtype == 'all' or 'bandpass' in figtype:\n",
    "        title = '%s at %s from storm onset \\n %i km altitude' %(col, ut_diff, int(real_alt))\n",
    "        make_a_plot(fit, title = title, save_or_show=save_or_show, fname = fname.replace('plot_type','bandpass'))\n",
    "        plotted = True\n",
    "        \n",
    "    if figtype == 'all' or 'diff' in figtype:\n",
    "        title = '%s at %s from storm onset \\n %i km altitude' %(col, ut_diff, int(real_alt))\n",
    "        for v in diff_vs:\n",
    "            make_a_plot(diff, title = title, save_or_show=save_or_show, fname = fname.replace('plot_type','filt-' +str(v)), \n",
    "                    cbar_label='% over background', cbar_lims=[-v,v])\n",
    "    \n",
    "        plotted = True\n",
    "    plt.close('all')\n",
    "    gc.collect()\n",
    "    if not plotted:\n",
    "        raise ValueError(\"no plots were made. options are 'diff', 'bandpass', 'raw', or 'all', you gave %s\" %(figtype))\n",
    "    \n",
    "    \n",
    "def thread_call_maps(arg_arr):\n",
    "    call_maps(arg_arr[0], arg_arr[1], arg_arr[2], figtype=arg_arr[3], save_or_show=arg_arr[4])"
   ]
  },
  {
   "cell_type": "code",
   "execution_count": 314,
   "id": "b6940386-87b6-479d-9c8b-5997a5259427",
   "metadata": {},
   "outputs": [],
   "source": [
    "def call_keos(col, real_lon, real_alt, figtype = 'all', save_or_show = 'show', cbar_lims = None):\n",
    "    \n",
    "    ilon = np.argmin(np.abs(lons - real_lon))\n",
    "    ialt = np.argmin(np.abs(alts - real_alt))\n",
    "    \n",
    "    real_lon = lons[ilon]\n",
    "    real_alt = alts[ialt]\n",
    "    \n",
    "    raw = data_dict[col][:,:,ilon,ialt]\n",
    "    fit = fits[col][:,:,ilon,ialt]\n",
    "    \n",
    "    diff = 100*(raw - fit)/fit\n",
    "    \n",
    "    fname = os.path.join(sami_keo_save_path, col, 'plot_type', str(int(real_alt)) , 'lon' + str(int(real_lon)) + '.png')\n",
    "    \n",
    "\n",
    "    plotted = False\n",
    "    \n",
    "    if figtype == 'all' or 'raw' in figtype:\n",
    "        title = '%s at %i (deg) glon \\n %i km altitude' %(col, int(real_lon), int(real_alt))\n",
    "        make_a_plot(raw, title = title, save_or_show=save_or_show, fname = fname.replace('plot_type','raw'))\n",
    "        plotted = True\n",
    "    \n",
    "    if figtype == 'all' or 'bandpass' in figtype:\n",
    "        title = '%s at %i (deg) glon \\n %i km altitude' %(col, int(real_lon), int(real_alt))\n",
    "        make_a_plot(fit, title = title, save_or_show=save_or_show, fname = fname.replace('plot_type','bandpass'))\n",
    "        plotted = True\n",
    "        \n",
    "    if figtype == 'all' or 'diff' in figtype:\n",
    "        title = '%s at %i (deg) glon \\n %i km altitude' %(col, int(real_lon), int(real_alt))\n",
    "        for v in diff_vs:\n",
    "            make_a_plot(diff, title = title, save_or_show=save_or_show, fname = fname.replace('plot_type','filt-' + str(v)), \n",
    "                    cbar_label='% over background', cbar_lims=[-v,v])\n",
    "        plotted = True\n",
    "        \n",
    "    if not plotted:\n",
    "        raise ValueError(\"no plots were made. options are 'diff', 'bandpass', 'raw', or 'all', you gave %s\" %(figtype))\n",
    "    \n",
    "    \n",
    "    \n",
    "    \n",
    "    \n",
    "def thread_call_keos(arg_arr):\n",
    "    call_keos(arg_arr[0], arg_arr[1], arg_arr[2], figtype=arg_arr[3], save_or_show=arg_arr[4])"
   ]
  },
  {
   "cell_type": "code",
   "execution_count": null,
   "id": "90d8b78a-08fb-44bd-b73e-4d0ae580c0b5",
   "metadata": {},
   "outputs": [],
   "source": []
  },
  {
   "cell_type": "code",
   "execution_count": null,
   "id": "c0850163-2e22-4126-a106-de31ca8e23f3",
   "metadata": {},
   "outputs": [],
   "source": []
  },
  {
   "cell_type": "code",
   "execution_count": null,
   "id": "6bab2cb0-3cf9-468c-a915-f74624962658",
   "metadata": {},
   "outputs": [],
   "source": []
  },
  {
   "cell_type": "markdown",
   "id": "3c37d514-200d-4a3d-86cf-6bc88c227cc6",
   "metadata": {},
   "source": [
    "## Read in data"
   ]
  },
  {
   "cell_type": "code",
   "execution_count": 186,
   "id": "7d8f6658-d3a1-46f7-964a-28eeb76a277d",
   "metadata": {},
   "outputs": [],
   "source": [
    "times, hrs, lats, lons, alts, data_dict = read_sami_data()"
   ]
  },
  {
   "cell_type": "code",
   "execution_count": 187,
   "id": "88e91921-5f7a-4bf0-afb5-b3e5bd8744a6",
   "metadata": {},
   "outputs": [],
   "source": [
    "sos = make_filter()\n",
    "fits = {}\n",
    "for k in data_dict.keys():\n",
    "    fits[k] = remove_background(data_dict[k], sos)"
   ]
  },
  {
   "cell_type": "code",
   "execution_count": null,
   "id": "8e137cc1-5a81-465f-b603-c891a8621058",
   "metadata": {},
   "outputs": [],
   "source": []
  },
  {
   "cell_type": "code",
   "execution_count": 188,
   "id": "3416432a-043e-45eb-8d5a-d32bc16e38e2",
   "metadata": {},
   "outputs": [
    {
     "data": {
      "text/plain": [
       "numpy.ndarray"
      ]
     },
     "execution_count": 188,
     "metadata": {},
     "output_type": "execute_result"
    }
   ],
   "source": [
    "type(times)"
   ]
  },
  {
   "cell_type": "code",
   "execution_count": null,
   "id": "bb86f0ae-7c59-4d10-a068-0a252794a87e",
   "metadata": {},
   "outputs": [],
   "source": []
  },
  {
   "cell_type": "code",
   "execution_count": null,
   "id": "436affb1-c358-4904-b852-8522b89c3e34",
   "metadata": {},
   "outputs": [],
   "source": []
  },
  {
   "cell_type": "markdown",
   "id": "622c6c46-da99-4e1c-a6ce-9e6775005c0c",
   "metadata": {},
   "source": [
    "## PLOTTING"
   ]
  },
  {
   "cell_type": "code",
   "execution_count": 321,
   "id": "bb689bf2-9737-4040-a745-4c183316278d",
   "metadata": {},
   "outputs": [],
   "source": [
    "def loop_maps(cols = cols, times = times, alts = alts, thread = True, plottype = 'all'):\n",
    "    \n",
    "    \n",
    "    \n",
    "    if thread:\n",
    "        arg_arr = []\n",
    "        for col in cols:\n",
    "            for time in times:\n",
    "                for alt in alts:\n",
    "                    arg_arr.append([col, time, alt, plottype, 'save'])\n",
    "                    \n",
    "        with Pool(num_pool_workers) as pool:\n",
    "            with tqdm(desc = 'making maps!', total = len(arg_arr)) as pbar:\n",
    "                for _ in pool.imap_unordered(thread_call_maps, arg_arr):\n",
    "                    pbar.update(1)\n",
    "                "
   ]
  },
  {
   "cell_type": "code",
   "execution_count": 322,
   "id": "d30d3f10-1515-4c5d-bda1-ac60dfa2ea0f",
   "metadata": {},
   "outputs": [],
   "source": [
    "def loop_keos(cols = cols, lon_keos = lon_keos, alts = alts, thread = True, plottype = 'all'):\n",
    "    \n",
    "    \n",
    "    \n",
    "    if thread:\n",
    "        arg_arr = []\n",
    "        for col in cols:\n",
    "            for lon in lon_keos:\n",
    "                for alt in alts:\n",
    "                    arg_arr.append([col, lon, alt, plottype, 'save'])\n",
    "                    \n",
    "        with Pool(num_pool_workers) as pool:\n",
    "            with tqdm(desc = 'making keos!', total = len(arg_arr)) as pbar:\n",
    "                for _ in pool.imap_unordered(thread_call_keos, arg_arr):\n",
    "                    pbar.update(1)"
   ]
  },
  {
   "cell_type": "code",
   "execution_count": null,
   "id": "7db0f600-bc17-480f-8249-d9a1e36405e4",
   "metadata": {},
   "outputs": [],
   "source": []
  },
  {
   "cell_type": "code",
   "execution_count": null,
   "id": "1b4c7e96-b348-4947-aa73-250f73e4d5ba",
   "metadata": {},
   "outputs": [],
   "source": []
  },
  {
   "cell_type": "code",
   "execution_count": 328,
   "id": "aeb4d0ec-187c-4584-8a1c-1223f5d737e5",
   "metadata": {},
   "outputs": [
    {
     "data": {
      "application/vnd.jupyter.widget-view+json": {
       "model_id": "037a8d61b23c47bf8f8696df9463bc6c",
       "version_major": 2,
       "version_minor": 0
      },
      "text/plain": [
       "making maps!:   0%|          | 0/30240 [00:00<?, ?it/s]"
      ]
     },
     "metadata": {},
     "output_type": "display_data"
    }
   ],
   "source": [
    "loop_maps(plottype = 'diff')"
   ]
  },
  {
   "cell_type": "code",
   "execution_count": 325,
   "id": "c28883ef-f35f-4baf-b8e2-57f2369bee03",
   "metadata": {},
   "outputs": [
    {
     "data": {
      "application/vnd.jupyter.widget-view+json": {
       "model_id": "509cdca890364d94bcf290485ec7f31e",
       "version_major": 2,
       "version_minor": 0
      },
      "text/plain": [
       "making keos!:   0%|          | 0/1470 [00:00<?, ?it/s]"
      ]
     },
     "metadata": {},
     "output_type": "display_data"
    }
   ],
   "source": [
    "loop_keos(plottype='diff')"
   ]
  },
  {
   "cell_type": "code",
   "execution_count": null,
   "id": "07be7b64-4187-4688-a56d-7518983dfaf9",
   "metadata": {},
   "outputs": [],
   "source": []
  }
 ],
 "metadata": {
  "kernelspec": {
   "display_name": "Python 3 (ipykernel)",
   "language": "python",
   "name": "python3"
  },
  "language_info": {
   "codemirror_mode": {
    "name": "ipython",
    "version": 3
   },
   "file_extension": ".py",
   "mimetype": "text/x-python",
   "name": "python",
   "nbconvert_exporter": "python",
   "pygments_lexer": "ipython3",
   "version": "3.8.2"
  }
 },
 "nbformat": 4,
 "nbformat_minor": 5
}
