{
 "cells": [
  {
   "cell_type": "code",
   "execution_count": 1,
   "id": "85d90df1-94b1-4f56-89f7-f562d4243b4f",
   "metadata": {},
   "outputs": [
    {
     "name": "stderr",
     "output_type": "stream",
     "text": [
      "<frozen importlib._bootstrap>:219: RuntimeWarning: scipy._lib.messagestream.MessageStream size changed, may indicate binary incompatibility. Expected 56 from C header, got 64 from PyObject\n"
     ]
    }
   ],
   "source": [
    "import aacgmv2, time\n",
    "import pandas as pd\n",
    "import numpy as np\n",
    "from multiprocessing import Pool\n",
    "import math, os, shutil\n",
    "from tqdm.auto import tqdm\n",
    "import matplotlib.pyplot as plt\n",
    "from scipy.io import readsav\n",
    "import pymap3d as pm\n",
    "import glob\n",
    "import datetime, statistics\n",
    "from aetherpy.io import read_routines\n",
    "from math import cos, radians, sin, sqrt\n",
    "from scipy import spatial, signal\n",
    "\n",
    "from spacepy.coordinates import Coords\n",
    "from spacepy.time import Ticktock\n",
    "import fnmatch\n",
    "\n",
    "\n",
    "from mpl_toolkits.basemap import Basemap\n",
    "import geopandas\n",
    "import sys\n",
    "\n",
    "from scipy.interpolate import LinearNDInterpolator, interp1d\n",
    "\n",
    "%matplotlib inline"
   ]
  },
  {
   "cell_type": "markdown",
   "id": "aeddc1af-fbde-435f-a55c-d40890e9afc6",
   "metadata": {},
   "source": [
    "## Settings"
   ]
  },
  {
   "cell_type": "code",
   "execution_count": 2,
   "id": "fd84da93",
   "metadata": {},
   "outputs": [],
   "source": [
    "dtime_storm_start = datetime.datetime(2011,5,21,13,40) \n",
    "plot_start_delta  = 4   #hours before storm onset to start making plots\n",
    "plot_end_delta    = 8  # hours after storm onset to end plots. Set to -1 to run for the whole time\n",
    "\n",
    "\n",
    "gitm_cols = ['Rho', '[O(!U3!NP)]', '[O!D2!N]', '[N!D2!N]', '[N(!U4!NS)]', '[NO]', '[He]', '[N(!U2!ND)]', '[N(!U2!NP)]', \n",
    "             '[H]', '[CO!D2!N]', '[O(!U1!ND)]', 'Temperature', 'V!Dn!N(east)', 'V!Dn!N(north)', 'V!Dn!N(up)', 'V!Dn!N(up,O(!U3!NP))',\n",
    "             'V!Dn!N(up,O!D2!N)', 'V!Dn!N(up,N!D2!N)', 'V!Dn!N(up,N(!U4!NS))', 'V!Dn!N(up,NO)', 'V!Dn!N(up,He)', '[O_4SP_!U+!N]', \n",
    "             '[NO!U+!N]', '[O!D2!U+!N]', '[N!D2!U+!N]', '[N!U+!N]', '[O(!U2!ND)!U+!N]', '[O(!U2!NP)!U+!N]', '[H!U+!N]', '[He!U+!N]', \n",
    "             '[e-]', 'eTemperature', 'iTemperature', 'V!Di!N(east)', 'V!Di!N(north)', 'V!Di!N(up)'] # which gitm columns do you want plotted?\n",
    "#TODO: test with not all columns!\n",
    "\n",
    "gitm_path = \"/home/axb170054/scratch/GITM-testing/test_folders/step_function_driving/SAMI3-stretch/gitm_data/\"\n",
    "\n",
    "\n",
    "gitm_alt_idxs = -1 #set this to -1 if you want all altitudes\n",
    "gitm_keo_lons = [-90,2,90,-178]\n",
    "\n",
    "global_lat_lim = None # will limit all plots latitude. Must be none or less than keo_lat_lim\n",
    "# ^^ Needs to be tested.\n",
    "\n",
    "keo_lat_lim = 65 # limits keos to +/- degrees of lat. \n",
    "\n",
    "OVERWRITE = True # be careful!\n",
    "\n",
    "num_pool_workers = 40 # number of workers to use in multithreading jobs. Set to 1 if you don't know what this means.\n",
    "\n",
    "both_map_plots = True # make both_map_plots filtered and raw maps? if you only want one put it as a str ('raw'/'filt')\n",
    "\n",
    "sample_rate_min = 5 #min\n",
    "low_cut = 100 # min, lowest freq wave the filter will allow thru\n",
    "high_cut = 30 # min, highest freq the filter will allow thru\n",
    "\n",
    "diff_vs = [1,2,3,5,10,20]"
   ]
  },
  {
   "cell_type": "markdown",
   "id": "e14e88fd-8240-4ffa-bb3d-0e6a3b9adf5b",
   "metadata": {},
   "source": [
    "available gitm cols are:\n",
    "    ['Longitude', 'Latitude', 'Altitude', 'Rho', '[O(!U3!NP)]', '[O!D2!N]', '[N!D2!N]', '[N(!U4!NS)]', '[NO]', '[He]', '[N(!U2!ND)]', '[N(!U2!NP)]', '[H]', '[CO!D2!N]', '[O(!U1!ND)]', 'Temperature', 'V!Dn!N(east)', 'V!Dn!N(north)', 'V!Dn!N(up)', 'V!Dn!N(up,O(!U3!NP))', 'V!Dn!N(up,O!D2!N)', 'V!Dn!N(up,N!D2!N)', 'V!Dn!N(up,N(!U4!NS))', 'V!Dn!N(up,NO)', 'V!Dn!N(up,He)', '[O_4SP_!U+!N]', '[NO!U+!N]', '[O!D2!U+!N]', '[N!D2!U+!N]', '[N!U+!N]', '[O(!U2!ND)!U+!N]', '[O(!U2!NP)!U+!N]', '[H!U+!N]', '[He!U+!N]', '[e-]', 'eTemperature', 'iTemperature', 'V!Di!N(east)', 'V!Di!N(north)', 'V!Di!N(up)']"
   ]
  },
  {
   "cell_type": "code",
   "execution_count": 3,
   "id": "c2564910-b1b4-4224-83b5-c22bed18093d",
   "metadata": {},
   "outputs": [],
   "source": [
    "gitm_keo_save_path = \"/home/axb170054/scratch/made_plots/SimStormPaper/keos/\"\n",
    "gitm_map_save_path = \"/home/axb170054/scratch/made_plots/SimStormPaper/maps/\""
   ]
  },
  {
   "cell_type": "code",
   "execution_count": null,
   "id": "32c52f2e-ffb2-4e1f-87dd-91900aae4e31",
   "metadata": {},
   "outputs": [],
   "source": []
  },
  {
   "cell_type": "code",
   "execution_count": null,
   "id": "84d049a8-6d13-4323-b6dc-653864f95650",
   "metadata": {},
   "outputs": [],
   "source": []
  },
  {
   "cell_type": "markdown",
   "id": "1e033199-d7e7-4a07-ab94-bfda1dd4c119",
   "metadata": {},
   "source": [
    "## Do GITM Plots First"
   ]
  },
  {
   "cell_type": "code",
   "execution_count": 30,
   "id": "aecfb60e-5d3d-4212-b8ce-b18fbed92a92",
   "metadata": {},
   "outputs": [],
   "source": [
    "gitm_files = np.sort(glob.glob(gitm_path+'3DALL*'))\n",
    "\n",
    "gitm_dtimes = []\n",
    "for i in gitm_files:\n",
    "    yy, MM, dd, hr, mm, sec = i[-17:-15], i[-15:-13], i[-13:-11], i[-10:-8], i[-8:-6], i[-6:-4]\n",
    "    gitm_dtimes.append(datetime.datetime(int('20' + yy), int(MM), int(dd), int(hr), int(mm), int(sec)))\n",
    "    \n",
    "storm_start_index = np.argmin(np.abs(np.array(gitm_dtimes)-dtime_storm_start))\n",
    "plot_start_idx = np.argmin(np.abs(np.array(gitm_dtimes)-(dtime_storm_start - datetime.timedelta(hours = plot_start_delta))))\n",
    "plot_end_idx = np.argmin(np.abs(np.array(gitm_dtimes)-(dtime_storm_start + datetime.timedelta(hours = plot_end_delta)))) if plot_end_delta != -1 else -1\n",
    "\n",
    "# #OVERRIDE varnames\n",
    "# plot_start_idx = storm_start_index - 2\n",
    "# plot_end_idx = storm_start_index + 15"
   ]
  },
  {
   "cell_type": "markdown",
   "id": "e7c21838-fa7c-4d62-aa93-d945cc3f2b8c",
   "metadata": {},
   "source": [
    "### Read in all gitm files"
   ]
  },
  {
   "cell_type": "code",
   "execution_count": null,
   "id": "7d1d9f91-8dc5-44a9-863e-d1d4f0ebd0da",
   "metadata": {},
   "outputs": [],
   "source": []
  },
  {
   "cell_type": "code",
   "execution_count": 14,
   "id": "80a5fc96-437b-47ce-85a8-bca41a0b65ff",
   "metadata": {},
   "outputs": [],
   "source": [
    "def read_gitm_into_nparrays(flist):\n",
    "    \"\"\"reads a list of gitm filenames and returns a few numpy arrays.\n",
    "    \n",
    "    Parameters\n",
    "    ----------\n",
    "    flist: list\n",
    "        List of gitm filenames to read in.\n",
    "    \n",
    "    Returns\n",
    "    -------\n",
    "    gitmtimes = list\n",
    "        Datetimes corresponding to the times of the gitm files.\n",
    "    gitmgrid = dict. \n",
    "        Holds the gitm grid for reference. lons/lats have been \n",
    "        changed to degrees from rads. Ghost cells removed.\n",
    "        Keys are ['longitude', 'latitude', 'altitude']\n",
    "        Index with gitmgrid[time][key][lon][lat][alt]\n",
    "    gitmvars = list\n",
    "        The gitm variables.\n",
    "    gitmbins = numpy array. \n",
    "        All of the gitm data (except grid)\n",
    "        index with gitmbins[time,varnumber,lat,lon,alt]\n",
    "    \n",
    "    \"\"\"\n",
    "    \n",
    "    gitmtimes = []\n",
    "    \n",
    "    start = True\n",
    "    for ifile, file_name in enumerate(tqdm(flist)):\n",
    "        if start:\n",
    "            f = read_routines.read_gitm_file(file_name)\n",
    "            gitmgrid = {f['vars'][k].lower() : f[k][2:-2,2:-2,2:-2] for k in [0,1,2]}\n",
    "            nlons, nlats, nalts = np.array(f[0].shape) - 4 # ghost cells\n",
    "            gitmbins = np.zeros([len(flist), len(f['vars'])-3, nlons, nlats, nalts])\n",
    "            gitmvars = [i for i in f['vars'][3:] if i in gitm_cols]         \n",
    "            \n",
    "            start = False\n",
    "        else:\n",
    "            f = read_routines.read_gitm_file(file_name)\n",
    "        \n",
    "        gitmtimes.append(f['time']) # times\n",
    "        \n",
    "        for var in gitm_cols:\n",
    "            num_v = f['vars'].index(var)\n",
    "            gitmbins[ifile, num_v-3] = f[num_v][2:-2,2:-2,2:-2] # -3 is to adjust for grid, 2's are for ghost cells\n",
    "            \n",
    "    gitmgrid['latitude'] = np.rad2deg(gitmgrid['latitude'])\n",
    "    gitmgrid['longitude'] = np.rad2deg(gitmgrid['longitude'])\n",
    "    \n",
    "    # set and then change the ordering of the longitudes. we want -180->180, not 0->360:\n",
    "    newlons = []\n",
    "    for oldlon in gitmgrid['longitude'][:,0,0]:\n",
    "        if oldlon <=180:\n",
    "            newlons.append(int(oldlon))\n",
    "        else:\n",
    "            newlons.append(int(oldlon)-360)\n",
    "\n",
    "    new_lons_sorted = np.sort(newlons)\n",
    "    new_order = np.array([newlons.index(new_lons_sorted[i]) for i in range(len(new_lons_sorted))])\n",
    "\n",
    "    gitmbins = gitmbins[:,:,new_order,:,:]\n",
    "    gitmgrid['longitude'] = gitmgrid['longitude'][:,new_order,:]\n",
    "    \n",
    "    if global_lat_lim:\n",
    "        idx_limit = np.argmin(gitmgrid['latitude'] - global_lat_lim)\n",
    "        gitmbins = gitmbins[:,:,-idx_limit:idx_limit,:,:]\n",
    "        gitmgrid['latitude'] = gitmgrid['latitude'][:,-idx_limit:idx_limit,:,:]\n",
    "        gitmgrid['longitude']= gitmgrid['longitude'][:,-idx_limit:idx_limit,:,:]\n",
    "        gitmgrid['altitude']= gitmgrid['altitude'][:,-idx_limit:idx_limit,:,:]\n",
    "        \n",
    "    return gitmtimes, gitmgrid, gitmvars, gitmbins"
   ]
  },
  {
   "cell_type": "code",
   "execution_count": 15,
   "id": "7394cbcd",
   "metadata": {},
   "outputs": [],
   "source": [
    "def make_filter(params = None):\n",
    "    # Define the cutoff frequencies\n",
    "    lowcut = 1/(100/60)  # 100 minutes in units of sample^-1\n",
    "    highcut = 1/(30/60) # 30 minutes in units of sample^-1\n",
    "\n",
    "    # Define the Butterworth filter\n",
    "    nyquist = 0.5 * 5 # 5 minutes is the sampling frequency\n",
    "    low = lowcut / nyquist\n",
    "    high = highcut / nyquist\n",
    "    sos = signal.butter(2, [low, high], btype='bandstop', output='sos')\n",
    "    return sos\n",
    "\n",
    "def make_fits(gitm_bins):\n",
    "    \"\"\"\n",
    "    calculate bandpass filter for all data previously read in.\n",
    "    \n",
    "    inputs: nparray of gitmdata\n",
    "    \n",
    "    returns:\n",
    "    fits: np array indexed at fits[time][col][ilon][ilat][ialt]\n",
    "\n",
    "    \n",
    "    todo: you can thread this by splitting the alts into different threads.\n",
    "    then just append the fits_full later.\n",
    "    \n",
    "    \"\"\"\n",
    "    sos = make_filter()\n",
    "\n",
    "    filtered_arr = signal.sosfiltfilt(sos, gitm_bins, axis=0)\n",
    "    return filtered_arr"
   ]
  },
  {
   "cell_type": "code",
   "execution_count": 31,
   "id": "c905ce58-c4b8-4098-9884-52c3841e48f3",
   "metadata": {},
   "outputs": [
    {
     "data": {
      "application/vnd.jupyter.widget-view+json": {
       "model_id": "719373d0cad34cae8633ee86ded8ab7a",
       "version_major": 2,
       "version_minor": 0
      },
      "text/plain": [
       "  0%|          | 0/144 [00:00<?, ?it/s]"
      ]
     },
     "metadata": {},
     "output_type": "display_data"
    }
   ],
   "source": [
    "times, gitm_grid, gitm_vars, gitm_bins = read_gitm_into_nparrays(gitm_files[plot_start_idx:plot_end_idx])"
   ]
  },
  {
   "cell_type": "code",
   "execution_count": null,
   "id": "9ad96c5e",
   "metadata": {},
   "outputs": [
    {
     "name": "stdout",
     "output_type": "stream",
     "text": [
      "Calculating fits. This will take a moment...\n"
     ]
    }
   ],
   "source": [
    "print('Calculating fits. This will take a moment...')\n",
    "fits_gitm = make_fits(gitm_bins)\n"
   ]
  },
  {
   "cell_type": "code",
   "execution_count": null,
   "id": "4c1f9208-fe6c-468f-b341-33e222310008",
   "metadata": {},
   "outputs": [],
   "source": [
    "lats, lons, alts  = np.unique(gitm_grid['latitude']), np.unique(gitm_grid['longitude']), np.unique(gitm_grid['altitude'])"
   ]
  },
  {
   "cell_type": "code",
   "execution_count": null,
   "id": "0c34215a-7247-4187-8962-56f12dec622e",
   "metadata": {},
   "outputs": [
    {
     "data": {
      "text/plain": [
       "(180, 90, 50, (17, 37, 90, 180, 50))"
      ]
     },
     "execution_count": 20,
     "metadata": {},
     "output_type": "execute_result"
    }
   ],
   "source": [
    "len(lats), len(lons), len(alts), gitm_bins.shape"
   ]
  },
  {
   "cell_type": "code",
   "execution_count": null,
   "id": "4b51d2db-6e64-4688-9d1a-bcc581ff1d6b",
   "metadata": {},
   "outputs": [
    {
     "data": {
      "text/plain": [
       "(array([-89.5, -88.5, -87.5, -86.5, -85.5, -84.5, -83.5, -82.5, -81.5,\n",
       "        -80.5, -79.5, -78.5, -77.5, -76.5, -75.5, -74.5, -73.5, -72.5,\n",
       "        -71.5, -70.5, -69.5, -68.5, -67.5, -66.5, -65.5, -64.5, -63.5,\n",
       "        -62.5, -61.5, -60.5, -59.5, -58.5, -57.5, -56.5, -55.5, -54.5,\n",
       "        -53.5, -52.5, -51.5, -50.5, -49.5, -48.5, -47.5, -46.5, -45.5,\n",
       "        -44.5, -43.5, -42.5, -41.5, -40.5, -39.5, -38.5, -37.5, -36.5,\n",
       "        -35.5, -34.5, -33.5, -32.5, -31.5, -30.5, -29.5, -28.5, -27.5,\n",
       "        -26.5, -25.5, -24.5, -23.5, -22.5, -21.5, -20.5, -19.5, -18.5,\n",
       "        -17.5, -16.5, -15.5, -14.5, -13.5, -12.5, -11.5, -10.5,  -9.5,\n",
       "         -8.5,  -7.5,  -6.5,  -5.5,  -4.5,  -3.5,  -2.5,  -1.5,  -0.5,\n",
       "          0.5,   1.5,   2.5,   3.5,   4.5,   5.5,   6.5,   7.5,   8.5,\n",
       "          9.5,  10.5,  11.5,  12.5,  13.5,  14.5,  15.5,  16.5,  17.5,\n",
       "         18.5,  19.5,  20.5,  21.5,  22.5,  23.5,  24.5,  25.5,  26.5,\n",
       "         27.5,  28.5,  29.5,  30.5,  31.5,  32.5,  33.5,  34.5,  35.5,\n",
       "         36.5,  37.5,  38.5,  39.5,  40.5,  41.5,  42.5,  43.5,  44.5,\n",
       "         45.5,  46.5,  47.5,  48.5,  49.5,  50.5,  51.5,  52.5,  53.5,\n",
       "         54.5,  55.5,  56.5,  57.5,  58.5,  59.5,  60.5,  61.5,  62.5,\n",
       "         63.5,  64.5,  65.5,  66.5,  67.5,  68.5,  69.5,  70.5,  71.5,\n",
       "         72.5,  73.5,  74.5,  75.5,  76.5,  77.5,  78.5,  79.5,  80.5,\n",
       "         81.5,  82.5,  83.5,  84.5,  85.5,  86.5,  87.5,  88.5,  89.5]),\n",
       " array([100000.        , 101746.2160744 , 103532.76520399, 105373.36296577,\n",
       "        107285.46399898, 109292.43641211, 111427.40491589, 113740.13702932,\n",
       "        116302.60251795, 119216.91973438, 122623.96082423, 126668.74629578,\n",
       "        131398.59548638, 136877.51637131, 143167.01191005, 150316.82916815,\n",
       "        158361.93047869, 167320.67462182, 177194.89400606, 187970.95735041,\n",
       "        199623.53118197, 212118.82251312, 225417.70096024, 239478.09749376,\n",
       "        254256.59666071, 269709.31369452, 285792.30265775, 302461.68667706,\n",
       "        319673.64225892, 337385.28605118, 355554.46798957, 374140.6679625 ,\n",
       "        393105.64974256, 412414.04812847, 432033.80831529, 451936.43691967,\n",
       "        472097.06340294, 492494.33892091, 513110.2140428 , 533929.63939753,\n",
       "        554940.22826175, 576131.91146824, 597496.60576343, 619027.90858273,\n",
       "        640720.82584169, 662571.53481836, 684577.18126964, 706735.70821629,\n",
       "        729045.71299038, 751506.3288719 ]),\n",
       " [datetime.datetime(2011, 5, 21, 13, 30, 0, 108000),\n",
       "  datetime.datetime(2011, 5, 21, 13, 35, 0, 847000),\n",
       "  datetime.datetime(2011, 5, 21, 13, 40, 0, 873000),\n",
       "  datetime.datetime(2011, 5, 21, 13, 45, 0, 521000),\n",
       "  datetime.datetime(2011, 5, 21, 13, 50, 0, 495000),\n",
       "  datetime.datetime(2011, 5, 21, 13, 55, 0, 651000),\n",
       "  datetime.datetime(2011, 5, 21, 14, 0, 0, 77000),\n",
       "  datetime.datetime(2011, 5, 21, 14, 5, 0, 385000),\n",
       "  datetime.datetime(2011, 5, 21, 14, 10, 0, 1000),\n",
       "  datetime.datetime(2011, 5, 21, 14, 15, 0, 337000),\n",
       "  datetime.datetime(2011, 5, 21, 14, 20, 0, 182000),\n",
       "  datetime.datetime(2011, 5, 21, 14, 25, 0, 477000),\n",
       "  datetime.datetime(2011, 5, 21, 14, 30, 0, 561000),\n",
       "  datetime.datetime(2011, 5, 21, 14, 35, 0, 261000),\n",
       "  datetime.datetime(2011, 5, 21, 14, 40, 0, 649000),\n",
       "  datetime.datetime(2011, 5, 21, 14, 45, 0, 514000),\n",
       "  datetime.datetime(2011, 5, 21, 14, 50, 0, 270000)])"
      ]
     },
     "execution_count": 21,
     "metadata": {},
     "output_type": "execute_result"
    }
   ],
   "source": [
    "lats, alts, len(times)"
   ]
  },
  {
   "cell_type": "code",
   "execution_count": null,
   "id": "e9621f3e-13f2-450e-9b41-48384f3f0077",
   "metadata": {},
   "outputs": [],
   "source": [
    "# time = 5\n",
    "lat = 70\n",
    "alt = 36\n"
   ]
  },
  {
   "cell_type": "code",
   "execution_count": null,
   "id": "d85eca26",
   "metadata": {},
   "outputs": [
    {
     "data": {
      "image/png": "[encoded data removed]",
      "text/plain": [
       "<Figure size 640x480 with 2 Axes>"
      ]
     },
     "metadata": {},
     "output_type": "display_data"
    },
    {
     "data": {
      "image/png": "[encoded data removed]",
      "text/plain": [
       "<Figure size 640x480 with 2 Axes>"
      ]
     },
     "metadata": {},
     "output_type": "display_data"
    },
    {
     "data": {
      "image/png": "[encoded data removed]",
      "text/plain": [
       "<Figure size 640x480 with 2 Axes>"
      ]
     },
     "metadata": {},
     "output_type": "display_data"
    },
    {
     "data": {
      "image/png": "[encoded data removed]",
      "text/plain": [
       "<Figure size 640x480 with 2 Axes>"
      ]
     },
     "metadata": {},
     "output_type": "display_data"
    },
    {
     "data": {
      "image/png": "[encoded data removed]",
      "text/plain": [
       "<Figure size 640x480 with 2 Axes>"
      ]
     },
     "metadata": {},
     "output_type": "display_data"
    }
   ],
   "source": [
    "\n",
    "for real_lat in [60, 30, 0, -30, -60]:\n",
    "    ilat = np.argmin(np.abs(lats - real_lat))\n",
    "    plt.imshow(fits_gitm[:,0,:,lat,alt].T)\n",
    "    plt.colorbar()\n",
    "    plt.show()"
   ]
  },
  {
   "cell_type": "code",
   "execution_count": null,
   "id": "8b0c939c-5629-40e9-9d1a-e8dba738f00e",
   "metadata": {},
   "outputs": [],
   "source": []
  }
 ],
 "metadata": {
  "kernelspec": {
   "display_name": "py38",
   "language": "python",
   "name": "python3"
  },
  "language_info": {
   "codemirror_mode": {
    "name": "ipython",
    "version": 3
   },
   "file_extension": ".py",
   "mimetype": "text/x-python",
   "name": "python",
   "nbconvert_exporter": "python",
   "pygments_lexer": "ipython3",
   "version": "3.8.2"
  },
  "vscode": {
   "interpreter": {
    "hash": "714f989f0499a4ae4db61fac6fb5125c97cf24bf63d35af153ad86fce0b2ec1b"
   }
  }
 },
 "nbformat": 4,
 "nbformat_minor": 5
}
