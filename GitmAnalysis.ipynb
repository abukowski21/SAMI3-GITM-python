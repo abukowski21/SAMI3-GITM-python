{
 "cells": [
  {
   "cell_type": "markdown",
   "id": "b3fd203a-f314-40a3-b237-82109d2191a7",
   "metadata": {
    "tags": []
   },
   "source": [
    "# All GITM plots and Data Analysis used in the Sim Storm Paper"
   ]
  },
  {
   "cell_type": "markdown",
   "id": "0d1c6cb1-0e99-42cf-981b-573ae8a1888d",
   "metadata": {},
   "source": [
    "## Imports"
   ]
  },
  {
   "cell_type": "code",
   "execution_count": 1,
   "id": "831548dd-a0ac-4a2e-975c-a137d4ef8ad2",
   "metadata": {},
   "outputs": [
    {
     "name": "stderr",
     "output_type": "stream",
     "text": [
      "<frozen importlib._bootstrap>:219: RuntimeWarning: scipy._lib.messagestream.MessageStream size changed, may indicate binary incompatibility. Expected 56 from C header, got 64 from PyObject\n"
     ]
    }
   ],
   "source": [
    "import time\n",
    "import pandas as pd\n",
    "import numpy as np\n",
    "from multiprocessing import Pool\n",
    "import os\n",
    "from tqdm.auto import tqdm\n",
    "import matplotlib.pyplot as plt\n",
    "import glob\n",
    "import datetime\n",
    "from aetherpy.io import read_routines\n",
    "from scipy import signal\n",
    "\n",
    "\n",
    "import sys\n",
    "import geopandas\n",
    "\n",
    "\n"
   ]
  },
  {
   "cell_type": "markdown",
   "id": "892fb3fc-b67c-49f4-b208-f2ee5ac18a36",
   "metadata": {},
   "source": [
    "## Settings"
   ]
  },
  {
   "cell_type": "code",
   "execution_count": null,
   "id": "7c11c998-968b-45e8-90b2-c33e49c7d3ef",
   "metadata": {},
   "outputs": [],
   "source": [
    "dtime_storm_start = datetime.datetime(2011,5,21,13,40) \n",
    "plot_start_delta  = 4   #hours before storm onset to start making plots\n",
    "plot_end_delta    = 8  # hours after storm onset to end plots. Set to -1 to run for the whole time\n",
    "\n",
    "\n",
    "gitm_cols = ['Rho', '[O(!U3!NP)]', '[O!D2!N]', '[N!D2!N]', '[N(!U4!NS)]', '[NO]', '[He]', '[N(!U2!ND)]', '[N(!U2!NP)]', \n",
    "             '[H]', '[CO!D2!N]', '[O(!U1!ND)]', 'Temperature', 'V!Dn!N(east)', 'V!Dn!N(north)', 'V!Dn!N(up)', 'V!Dn!N(up,O(!U3!NP))',\n",
    "             'V!Dn!N(up,O!D2!N)', 'V!Dn!N(up,N!D2!N)', 'V!Dn!N(up,N(!U4!NS))', 'V!Dn!N(up,NO)', 'V!Dn!N(up,He)', '[O_4SP_!U+!N]', \n",
    "             '[NO!U+!N]', '[O!D2!U+!N]', '[N!D2!U+!N]', '[N!U+!N]', '[O(!U2!ND)!U+!N]', '[O(!U2!NP)!U+!N]', '[H!U+!N]', '[He!U+!N]', \n",
    "             '[e-]', 'eTemperature', 'iTemperature', 'V!Di!N(east)', 'V!Di!N(north)', 'V!Di!N(up)'] # which gitm columns do you want plotted?\n",
    "#TODO: test with not all columns!\n",
    "\n",
    "gitm_path = \"/home/axb170054/scratch/GITM-testing/test_folders/step_function_driving/SAMI3-stretch/gitm_data/\"\n",
    "\n",
    "\n",
    "gitm_alt_idxs = -1 #set this to -1 if you want all altitudes\n",
    "gitm_keo_lons = [-90,2,90,-178]\n",
    "\n",
    "global_lat_lim = None # will limit all plots latitude. Must be none or less than keo_lat_lim\n",
    "# ^^ Needs to be tested.\n",
    "\n",
    "keo_lat_lim = 65 # limits keos to +/- degrees of lat. \n",
    "\n",
    "OVERWRITE = True # be careful!\n",
    "\n",
    "num_pool_workers = 40 # number of workers to use in multithreading jobs. Set to 1 if you don't know what this means.\n",
    "\n",
    "both_map_plots = True # make both_map_plots filtered and raw maps? if you only want one put it as a str ('raw'/'filt')\n",
    "\n",
    "sample_rate_min = 5 #min\n",
    "low_cut = 100 # min, lowest freq wave the filter will allow thru\n",
    "high_cut = 30 # min, highest freq the filter will allow thru\n",
    "\n",
    "diff_vs = [1,2,3,5,10,20]"
   ]
  },
  {
   "cell_type": "markdown",
   "id": "ba92baf2-1deb-4b35-a146-fc2571467d79",
   "metadata": {},
   "source": [
    "available gitm cols are:\n",
    "    ['Longitude', 'Latitude', 'Altitude', 'Rho', '[O(!U3!NP)]', '[O!D2!N]', '[N!D2!N]', '[N(!U4!NS)]', '[NO]', '[He]', '[N(!U2!ND)]', '[N(!U2!NP)]', '[H]', '[CO!D2!N]', '[O(!U1!ND)]', 'Temperature', 'V!Dn!N(east)', 'V!Dn!N(north)', 'V!Dn!N(up)', 'V!Dn!N(up,O(!U3!NP))', 'V!Dn!N(up,O!D2!N)', 'V!Dn!N(up,N!D2!N)', 'V!Dn!N(up,N(!U4!NS))', 'V!Dn!N(up,NO)', 'V!Dn!N(up,He)', '[O_4SP_!U+!N]', '[NO!U+!N]', '[O!D2!U+!N]', '[N!D2!U+!N]', '[N!U+!N]', '[O(!U2!ND)!U+!N]', '[O(!U2!NP)!U+!N]', '[H!U+!N]', '[He!U+!N]', '[e-]', 'eTemperature', 'iTemperature', 'V!Di!N(east)', 'V!Di!N(north)', 'V!Di!N(up)']"
   ]
  },
  {
   "cell_type": "code",
   "execution_count": 3,
   "id": "c6a5cae1-9a44-486a-b68a-de89d9db0e93",
   "metadata": {},
   "outputs": [],
   "source": [
    "gitm_keo_save_path = \"/home/axb170054/scratch/made_plots/SimStormPaper/keos/\"\n",
    "gitm_map_save_path = \"/home/axb170054/scratch/made_plots/SimStormPaper/maps/\""
   ]
  },
  {
   "cell_type": "code",
   "execution_count": null,
   "id": "3d8bfe1c-32c1-48e4-9494-0f6f5a64447a",
   "metadata": {},
   "outputs": [],
   "source": []
  },
  {
   "cell_type": "markdown",
   "id": "e9b02281-43a4-4708-a158-4c73bbbc7368",
   "metadata": {},
   "source": [
    "## Set up some useful functions:"
   ]
  },
  {
   "cell_type": "code",
   "execution_count": 4,
   "id": "99bbcc79-8f29-4650-b179-ae99ac9b5cb3",
   "metadata": {},
   "outputs": [],
   "source": [
    "world = geopandas.read_file(geopandas.datasets.get_path('naturalearth_lowres'))\n",
    "# for the maps!"
   ]
  },
  {
   "cell_type": "code",
   "execution_count": 5,
   "id": "a9ddc884-8fe0-4677-840b-23f845ba36d7",
   "metadata": {},
   "outputs": [],
   "source": [
    "# This will be used in plotting:\n",
    "gitm_colnames_friendly = {'Rho': 'Total Neutral Density', '[O(!U3!NP)]': 'O(3P)', '[O!D2!N]': 'O2', '[N!D2!N]': 'N2', '[N(!U4!NS)]': 'N(4S)', '[NO]': 'NO', '[He]': 'He', '[N(!U2!ND)]': 'N(2D)', '[N(!U2!NP)]': 'N(2P)', '[H]': 'H', '[CO!D2!N]': 'CO2', '[O(!U1!ND)]': 'O(1D)', 'Temperature': 'Temperature', 'V!Dn!N(east)': 'Vn(east)', 'V!Dn!N(north)': 'Vn(north)', 'V!Dn!N(up)': 'Vn(up)', 'V!Dn!N(up,O(!U3!NP))': 'Vn(up,O(3P))', 'V!Dn!N(up,O!D2!N)': 'Vn(up,O2)', 'V!Dn!N(up,N!D2!N)': 'Vn(up,N2)', 'V!Dn!N(up,N(!U4!NS))': 'Vn(up,N(4S))', 'V!Dn!N(up,NO)': 'Vn(up,NO)', 'V!Dn!N(up,He)': 'Vn(up,He)', '[O_4SP_!U+!N]':'O(4Sp)+', '[NO!U+!N]': 'NO+', '[O!D2!U+!N]': 'O2+', '[N!D2!U+!N]': 'N2+', '[N!U+!N]': 'N+', '[O(!U2!ND)!U+!N]': 'O(2D)+', '[O(!U2!NP)!U+!N]': 'O(2P)+', '[H!U+!N]': 'H+', '[He!U+!N]': 'He+', '[e-]': 'e-', 'eTemperature': 'eTemperature', 'iTemperature': 'iTemperature', 'V!Di!N(east)': 'Vi(east)', 'V!Di!N(north)': 'Vi(north)', 'V!Di!N(up)': 'Vi(up)'}\n",
    "\n"
   ]
  },
  {
   "cell_type": "code",
   "execution_count": 6,
   "id": "d0fdd2de-a786-4533-84d2-343c5cd45d4b",
   "metadata": {},
   "outputs": [],
   "source": [
    "def read_gitm_into_nparrays(flist):\n",
    "    \"\"\"reads a list of gitm filenames and returns a few numpy arrays.\n",
    "    \n",
    "    Parameters\n",
    "    ----------\n",
    "    flist: list\n",
    "        List of gitm filenames to read in.\n",
    "    \n",
    "    Returns\n",
    "    -------\n",
    "    gitmtimes = list\n",
    "        Datetimes corresponding to the times of the gitm files.\n",
    "    gitmgrid = dict. \n",
    "        Holds the gitm grid for reference. lons/lats have been \n",
    "        changed to degrees from rads. Ghost cells removed.\n",
    "        Keys are ['longitude', 'latitude', 'altitude']\n",
    "        Index with gitmgrid[time][key][lon][lat][alt]\n",
    "    gitmvars = list\n",
    "        The gitm variables.\n",
    "    gitmbins = numpy array. \n",
    "        All of the gitm data (except grid)\n",
    "        index with gitmbins[time,varnumber,lat,lon,alt]\n",
    "    \n",
    "    \"\"\"\n",
    "    \n",
    "    gitmtimes = []\n",
    "    print('reading all gitm files in time range selected.')\n",
    "    start = True\n",
    "    for ifile, file_name in enumerate(tqdm(flist)):\n",
    "        if start:\n",
    "            f = read_routines.read_gitm_file(file_name)\n",
    "            gitmgrid = {f['vars'][k].lower() : f[k][2:-2,2:-2,2:-2] for k in [0,1,2]}\n",
    "            nlons, nlats, nalts = np.array(f[0].shape) - 4 # ghost cells\n",
    "            gitmbins = np.zeros([len(flist), len(f['vars'])-3, nlons, nlats, nalts])\n",
    "            gitmvars = [i for i in f['vars'][3:] if i in gitm_cols]         \n",
    "            \n",
    "            start = False\n",
    "        else:\n",
    "            f = read_routines.read_gitm_file(file_name)\n",
    "        \n",
    "        gitmtimes.append(f['time']) # times\n",
    "        \n",
    "        for var in gitm_cols:\n",
    "            num_v = f['vars'].index(var)\n",
    "            gitmbins[ifile, num_v-3] = f[num_v][2:-2,2:-2,2:-2] # -3 is to adjust for grid, 2's are for ghost cells\n",
    "            \n",
    "    gitmgrid['latitude'] = np.rad2deg(gitmgrid['latitude'])\n",
    "    gitmgrid['longitude'] = np.rad2deg(gitmgrid['longitude'])\n",
    "    \n",
    "    ## Fix the ordering of the longitudes and go from -180-180 not 0->360 \n",
    "    newlons_for_order = []\n",
    "    newlons = np.zeros_like(gitmgrid['longitude'])\n",
    "    for ilon in range(len(gitmgrid['longitude'])):\n",
    "        oldlon = gitmgrid['longitude'][ilon,0,0]\n",
    "        if oldlon <=180:\n",
    "            newlons_for_order.append(int(oldlon))\n",
    "\n",
    "        else:\n",
    "            newlons_for_order.append(int(oldlon)-360) \n",
    "            gitmgrid['longitude'][ilon] = gitmgrid['longitude'][ilon] - 360\n",
    "\n",
    "    new_lons_sorted = np.sort(newlons_for_order)\n",
    "    new_order = np.array([newlons_for_order.index(new_lons_sorted[i]) for i in range(len(new_lons_sorted))])\n",
    "\n",
    "    gitmbins = gitmbins[:,:,new_order,:,:]\n",
    "\n",
    "    gitmgrid['longitude'] = np.sort(gitmgrid['longitude'], axis = 0)\n",
    "\n",
    "    #enforce lat_lim:\n",
    "    if global_lat_lim:\n",
    "        idx_limit = np.argmin(gitmgrid['latitude'] - global_lat_lim)\n",
    "        gitmbins = gitmbins[:,:,idx_limit:-idx_limit,:,:]\n",
    "        gitmgrid['latitude'] = gitmgrid['latitude'][:,-idx_limit:idx_limit,:,:]\n",
    "        gitmgrid['longitude']= gitmgrid['longitude'][:,-idx_limit:idx_limit,:,:]\n",
    "        gitmgrid['altitude']= gitmgrid['altitude'][:,-idx_limit:idx_limit,:,:]\n",
    "        \n",
    "    return gitmtimes, gitmgrid, gitmvars, gitmbins"
   ]
  },
  {
   "cell_type": "code",
   "execution_count": null,
   "id": "00c33cb9-915c-4eae-b1c5-ee955ad39d55",
   "metadata": {},
   "outputs": [],
   "source": []
  },
  {
   "cell_type": "code",
   "execution_count": 7,
   "id": "26c121c4-c120-4c19-a5db-f7e954fa45fd",
   "metadata": {},
   "outputs": [],
   "source": [
    "def make_filter(params = None):\n",
    "    # Define the cutoff frequencies\n",
    "    lowcut = 1/(100/60)  # 100 minutes in units of sample^-1\n",
    "    highcut = 1/(30/60) # 30 minutes in units of sample^-1\n",
    "\n",
    "    # Define the Butterworth filter\n",
    "    nyquist = 0.5 * 5 # 5 minutes is the sampling frequency\n",
    "    low = lowcut / nyquist\n",
    "    high = highcut / nyquist\n",
    "    sos = signal.butter(2, [low, high], btype='bandstop', output='sos')\n",
    "    return sos\n",
    "\n",
    "def remove_background(time_series, sos):\n",
    "\n",
    "\n",
    "    # Apply the filter to the time series\n",
    "    filtered_data = signal.sosfiltfilt(sos, time_series)\n",
    "\n",
    "    return filtered_data"
   ]
  },
  {
   "cell_type": "code",
   "execution_count": 8,
   "id": "d5d0ca59-dd2c-4db9-9268-04372688adce",
   "metadata": {},
   "outputs": [],
   "source": [
    "def make_fits(gitm_bins):\n",
    "    \"\"\"\n",
    "    calculate bandpass filter for all data previously read in.\n",
    "    \n",
    "    inputs: nparray of gitmdata\n",
    "    \n",
    "    returns:\n",
    "    fits: np array indexed at fits[time][col][ilon][ilat][ialt]\n",
    "\n",
    "    \n",
    "    todo: you can thread this by splitting the alts into different threads.\n",
    "    then just append the fits_full later.\n",
    "    \n",
    "    \"\"\"\n",
    "    sos = make_filter()\n",
    "\n",
    "    filtered_arr = signal.sosfiltfilt(sos, gitm_bins, axis=0)\n",
    "    return filtered_arr"
   ]
  },
  {
   "cell_type": "code",
   "execution_count": 9,
   "id": "b17defc1-0686-481f-af5a-ea087b6d9320",
   "metadata": {},
   "outputs": [],
   "source": [
    "def UT_from_Storm_onset(itime):\n",
    "    \"\"\"input a datetime\n",
    "    \n",
    "    returns the UT as HH:MM from storm onset, as a string\"\"\"\n",
    "    l = (pd.Timestamp(itime) - dtime_storm_start)/ pd.Timedelta('1 minute') # get pd datetime of this iter, find minute diff from storm start\n",
    "    if l > 0:\n",
    "        hrs = np.floor(l/60)\n",
    "        hrs = str(int(hrs)).rjust(2,'0')\n",
    "    else:\n",
    "        hrs = np.ceil(l/60)\n",
    "        hrs = str(int(hrs)).rjust(2,'0')\n",
    "    mins = str(int(np.abs(l)%60)).rjust(2,'0')\n",
    "    ut = hrs + ':' + mins\n",
    "    return ut"
   ]
  },
  {
   "cell_type": "code",
   "execution_count": 10,
   "id": "04bedf39-066c-49f7-b555-d662b89674a6",
   "metadata": {},
   "outputs": [],
   "source": [
    "def remove_outliers(array):\n",
    "    arr2 = array.copy()\n",
    "    mean, std, median = np.mean(arr2), np.std(arr2), np.median(arr2) # calculate mean, standard deviation, and median over all elements\n",
    "    outlier_threshold = 5 # set outlier threshold (in terms of number of standard deviations)\n",
    "    outliers = np.logical_or(arr2 < mean - outlier_threshold * std, arr2 > mean + outlier_threshold * std) # find outliers\n",
    "    arr2[outliers] = median # set outliers to median\n",
    "    return arr2"
   ]
  },
  {
   "cell_type": "code",
   "execution_count": 11,
   "id": "edeedd13-7e3e-4cbe-9926-ae9140c5bc5f",
   "metadata": {},
   "outputs": [],
   "source": [
    "def make_a_keo(arr, title, cbarlims, cbar_name, \n",
    "               y_label = 'Latitude (deg)', x_label = 'Hours since storm onset', save_or_show = 'save' , fname = None,\n",
    "               plot_extent = [-plot_start_delta, plot_end_delta, -keo_lat_lim, keo_lat_lim]):\n",
    "    \"\"\"\n",
    "    Inputs a data array and then generates a keogram.\n",
    "    \n",
    "    Parameters:\n",
    "    -----------\n",
    "    arr: np array\n",
    "        The data array to be plotted. If grabbing from the gitm array, you do not need to transpose.\n",
    "    extent: tuple/list\n",
    "        The limits of the plot. [left, right, bottom, top]\n",
    "    xlabel: string\n",
    "        self-explanitory\n",
    "    y-label: string\n",
    "        self-explanitory\n",
    "    title: string\n",
    "        self-explanitory\n",
    "    cbar limes: tuple/list\n",
    "        vmin, vmax for the colorbar to be plot.\n",
    "    cbar_name: string.\n",
    "        Label for the colorbar.\n",
    "    save_or_show: string\n",
    "        Defaults to save. You can instead 'show' the plots. \n",
    "    \n",
    "    \"\"\"\n",
    "    if os.path.exists(fname):\n",
    "        if not OVERWRITE:\n",
    "            return\n",
    "    fig = plt.figure(figsize = (10,7))\n",
    "    if keo_lat_lim:\n",
    "        if arr.shape.index(len(lats)) ==0:\n",
    "            idx_limit = np.argmin(np.abs(lats - keo_lat_lim))\n",
    "            arr = arr[-idx_limit:idx_limit, :]\n",
    "        elif arr.shape.index(len(lats)) ==1:\n",
    "            idx_limit = np.argmin(np.abs(lats - keo_lat_lim))\n",
    "            arr = arr[:, -idx_limit:idx_limit]\n",
    "\n",
    "    plt.imshow(arr.T, extent = plot_extent, aspect = 'auto', cmap = 'viridis', origin = 'lower', vmin = cbarlims[0], vmax = cbarlims[1])\n",
    "    plt.ylabel(y_label)\n",
    "    plt.xlabel(x_label)\n",
    "    plt.title(title)\n",
    "    plt.colorbar(label = cbar_name)\n",
    "    \n",
    "    if save_or_show == 'show':\n",
    "        plt.show()\n",
    "        plt.close()\n",
    "    elif save_or_show == 'save':\n",
    "        if not fname:\n",
    "            raise ValueError('plot save path must be given!')\n",
    "        else:\n",
    "            try:\n",
    "                plt.savefig(fname)\n",
    "            except FileNotFoundError:\n",
    "                directory_list = os.path.join(fname).split('/')[:-1]\n",
    "                os.makedirs('/'+os.path.join(*directory_list))\n",
    "                plt.savefig(fname)\n",
    "            plt.close('all')\n",
    "    else:\n",
    "        raise ValueError('save_or_show input is invalid. Accepted inputs are \"save\" or \"show\", you gave ', save_or_show)\n"
   ]
  },
  {
   "cell_type": "markdown",
   "id": "b985f607-dd7d-4d93-859d-03541fe289ab",
   "metadata": {},
   "source": [
    "## Do GITM Plots First"
   ]
  },
  {
   "cell_type": "code",
   "execution_count": 12,
   "id": "d6e328f4-9e40-42a8-823b-085b5cfe2149",
   "metadata": {},
   "outputs": [],
   "source": [
    "gitm_files = np.sort(glob.glob(gitm_path+'3DALL*'))\n",
    "\n",
    "gitm_dtimes = []\n",
    "for i in gitm_files:\n",
    "    yy, MM, dd, hr, mm, sec = i[-17:-15], i[-15:-13], i[-13:-11], i[-10:-8], i[-8:-6], i[-6:-4]\n",
    "    gitm_dtimes.append(datetime.datetime(int('20' + yy), int(MM), int(dd), int(hr), int(mm), int(sec)))\n",
    "    \n",
    "storm_start_index = np.argmin(np.abs(np.array(gitm_dtimes)-dtime_storm_start))\n",
    "plot_start_idx = np.argmin(np.abs(np.array(gitm_dtimes)-(dtime_storm_start - datetime.timedelta(hours = plot_start_delta))))\n",
    "plot_end_idx = np.argmin(np.abs(np.array(gitm_dtimes)-(dtime_storm_start + datetime.timedelta(hours = plot_end_delta)))) if plot_end_delta != -1 else -1"
   ]
  },
  {
   "cell_type": "markdown",
   "id": "4afd00a4-8bb1-4ab2-b9e4-4bdba5cb4b84",
   "metadata": {},
   "source": [
    "### Read in all gitm files"
   ]
  },
  {
   "cell_type": "code",
   "execution_count": 13,
   "id": "6a5ca307-9ebd-412f-b472-c9a5eb11bd71",
   "metadata": {},
   "outputs": [
    {
     "name": "stdout",
     "output_type": "stream",
     "text": [
      "reading all gitm files in time range selected.\n"
     ]
    },
    {
     "data": {
      "application/vnd.jupyter.widget-view+json": {
       "model_id": "8e85746fb9454a0bb3a7f1dd7fd5f4b0",
       "version_major": 2,
       "version_minor": 0
      },
      "text/plain": [
       "  0%|          | 0/144 [00:00<?, ?it/s]"
      ]
     },
     "metadata": {},
     "output_type": "display_data"
    }
   ],
   "source": [
    "times, gitm_grid, gitm_vars, gitm_bins = read_gitm_into_nparrays(gitm_files[plot_start_idx:plot_end_idx])"
   ]
  },
  {
   "cell_type": "code",
   "execution_count": 14,
   "id": "8601bcfb-61a0-45e1-9bf6-c55b0f7cb8f3",
   "metadata": {},
   "outputs": [],
   "source": [
    "lats, lons, alts  = np.unique(gitm_grid['latitude']), np.unique(gitm_grid['longitude']), np.unique(gitm_grid['altitude'])"
   ]
  },
  {
   "cell_type": "markdown",
   "id": "d8edca5d-14b5-437f-b33d-c12c505c090f",
   "metadata": {},
   "source": [
    "### Calculate the fits for df\n",
    "\n",
    "This is used in keos and the maps. Faster to just do it all now rather than have it done multiple times."
   ]
  },
  {
   "cell_type": "code",
   "execution_count": 15,
   "id": "6f202ccd-af52-4dd8-a424-b2eca8590c91",
   "metadata": {},
   "outputs": [
    {
     "name": "stdout",
     "output_type": "stream",
     "text": [
      "Calculating fits. This will take a moment...\n"
     ]
    }
   ],
   "source": [
    "print('Calculating fits. This will take a moment...')\n",
    "fits_gitm = make_fits(gitm_bins)\n"
   ]
  },
  {
   "cell_type": "code",
   "execution_count": null,
   "id": "236b404d",
   "metadata": {},
   "outputs": [
    {
     "data": {
      "text/plain": [
       "(144, 37, 90, 180, 50)"
      ]
     },
     "execution_count": 19,
     "metadata": {},
     "output_type": "execute_result"
    }
   ],
   "source": [
    "fits_gitm.shape"
   ]
  },
  {
   "cell_type": "code",
   "execution_count": 20,
   "id": "9298cd0c-d997-4ea0-aace-c5c178ebcf04",
   "metadata": {},
   "outputs": [],
   "source": [
    "lat_lim = np.max(gitm_grid['latitude'])"
   ]
  },
  {
   "cell_type": "markdown",
   "id": "095cd4d9-24e1-49b6-8233-e46e87981d70",
   "metadata": {},
   "source": [
    "## Keograms! of all columns!"
   ]
  },
  {
   "cell_type": "code",
   "execution_count": 21,
   "id": "f4ecb65c-dd3d-4221-a2d9-60ec31095490",
   "metadata": {},
   "outputs": [
    {
     "data": {
      "text/plain": [
       "(datetime.datetime(2011, 5, 21, 9, 40, 0, 234000),\n",
       " numpy.datetime64('2011-05-21T13:40:00.000000'))"
      ]
     },
     "execution_count": 21,
     "metadata": {},
     "output_type": "execute_result"
    }
   ],
   "source": [
    "times[0], np.datetime64(dtime_storm_start)"
   ]
  },
  {
   "cell_type": "code",
   "execution_count": 22,
   "id": "678c72d9-21bd-4610-8fbc-898119f63cdc",
   "metadata": {},
   "outputs": [
    {
     "data": {
      "text/plain": [
       "(array([-89.5, -88.5, -87.5, -86.5, -85.5, -84.5, -83.5, -82.5, -81.5,\n",
       "        -80.5, -79.5, -78.5, -77.5, -76.5, -75.5, -74.5, -73.5, -72.5,\n",
       "        -71.5, -70.5, -69.5, -68.5, -67.5, -66.5, -65.5, -64.5, -63.5,\n",
       "        -62.5, -61.5, -60.5, -59.5, -58.5, -57.5, -56.5, -55.5, -54.5,\n",
       "        -53.5, -52.5, -51.5, -50.5, -49.5, -48.5, -47.5, -46.5, -45.5,\n",
       "        -44.5, -43.5, -42.5, -41.5, -40.5, -39.5, -38.5, -37.5, -36.5,\n",
       "        -35.5, -34.5, -33.5, -32.5, -31.5, -30.5, -29.5, -28.5, -27.5,\n",
       "        -26.5, -25.5, -24.5, -23.5, -22.5, -21.5, -20.5, -19.5, -18.5,\n",
       "        -17.5, -16.5, -15.5, -14.5, -13.5, -12.5, -11.5, -10.5,  -9.5,\n",
       "         -8.5,  -7.5,  -6.5,  -5.5,  -4.5,  -3.5,  -2.5,  -1.5,  -0.5,\n",
       "          0.5,   1.5,   2.5,   3.5,   4.5,   5.5,   6.5,   7.5,   8.5,\n",
       "          9.5,  10.5,  11.5,  12.5,  13.5,  14.5,  15.5,  16.5,  17.5,\n",
       "         18.5,  19.5,  20.5,  21.5,  22.5,  23.5,  24.5,  25.5,  26.5,\n",
       "         27.5,  28.5,  29.5,  30.5,  31.5,  32.5,  33.5,  34.5,  35.5,\n",
       "         36.5,  37.5,  38.5,  39.5,  40.5,  41.5,  42.5,  43.5,  44.5,\n",
       "         45.5,  46.5,  47.5,  48.5,  49.5,  50.5,  51.5,  52.5,  53.5,\n",
       "         54.5,  55.5,  56.5,  57.5,  58.5,  59.5,  60.5,  61.5,  62.5,\n",
       "         63.5,  64.5,  65.5,  66.5,  67.5,  68.5,  69.5,  70.5,  71.5,\n",
       "         72.5,  73.5,  74.5,  75.5,  76.5,  77.5,  78.5,  79.5,  80.5,\n",
       "         81.5,  82.5,  83.5,  84.5,  85.5,  86.5,  87.5,  88.5,  89.5]),\n",
       " array([-178., -174., -170., -166., -162., -158., -154., -150., -146.,\n",
       "        -142., -138., -134., -130., -126., -122., -118., -114., -110.,\n",
       "        -106., -102.,  -98.,  -94.,  -90.,  -86.,  -82.,  -78.,  -74.,\n",
       "         -70.,  -66.,  -62.,  -58.,  -54.,  -50.,  -46.,  -42.,  -38.,\n",
       "         -34.,  -30.,  -26.,  -22.,  -18.,  -14.,  -10.,   -6.,   -2.,\n",
       "           2.,    6.,   10.,   14.,   18.,   22.,   26.,   30.,   34.,\n",
       "          38.,   42.,   46.,   50.,   54.,   58.,   62.,   66.,   70.,\n",
       "          74.,   78.,   82.,   86.,   90.,   94.,   98.,  102.,  106.,\n",
       "         110.,  114.,  118.,  122.,  126.,  130.,  134.,  138.,  142.,\n",
       "         146.,  150.,  154.,  158.,  162.,  166.,  170.,  174.,  178.]),\n",
       " array([100000.        , 101746.2160744 , 103532.76520399, 105373.36296577,\n",
       "        107285.46399898, 109292.43641211, 111427.40491589, 113740.13702932,\n",
       "        116302.60251795, 119216.91973438, 122623.96082423, 126668.74629578,\n",
       "        131398.59548638, 136877.51637131, 143167.01191005, 150316.82916815,\n",
       "        158361.93047869, 167320.67462182, 177194.89400606, 187970.95735041,\n",
       "        199623.53118197, 212118.82251312, 225417.70096024, 239478.09749376,\n",
       "        254256.59666071, 269709.31369452, 285792.30265775, 302461.68667706,\n",
       "        319673.64225892, 337385.28605118, 355554.46798957, 374140.6679625 ,\n",
       "        393105.64974256, 412414.04812847, 432033.80831529, 451936.43691967,\n",
       "        472097.06340294, 492494.33892091, 513110.2140428 , 533929.63939753,\n",
       "        554940.22826175, 576131.91146824, 597496.60576343, 619027.90858273,\n",
       "        640720.82584169, 662571.53481836, 684577.18126964, 706735.70821629,\n",
       "        729045.71299038, 751506.3288719 ]))"
      ]
     },
     "execution_count": 22,
     "metadata": {},
     "output_type": "execute_result"
    }
   ],
   "source": [
    "lats, lons, alts"
   ]
  },
  {
   "cell_type": "markdown",
   "id": "95603194-f528-423f-ab81-0f0cc5c07987",
   "metadata": {},
   "source": [
    "### Define some useful variables:"
   ]
  },
  {
   "cell_type": "code",
   "execution_count": 23,
   "id": "5621cd93-a394-4830-8735-c9fdd854e508",
   "metadata": {},
   "outputs": [],
   "source": [
    "hrs_since_storm = np.array([(i - pd.Timestamp(dtime_storm_start)) / pd.Timedelta('1 hour') for i in times])\n",
    "if gitm_alt_idxs == -1:\n",
    "    gitm_alt_idxs = list(range(len(alts)))"
   ]
  },
  {
   "cell_type": "markdown",
   "id": "6c9976cd-5f7d-4cf7-aacd-5e1bf4eea95c",
   "metadata": {},
   "source": [
    "### Make plots:"
   ]
  },
  {
   "cell_type": "code",
   "execution_count": 408,
   "id": "ac0fc0ee-e597-40cc-b02d-ee03a1acc25a",
   "metadata": {
    "tags": []
   },
   "outputs": [],
   "source": [
    "# KEO MAKING FUNCTIONS:\n",
    "\n",
    "#TODO: get rid of either name_col or num_col. or make it so that we can give either. \n",
    "\n",
    "def call_keos(alt_idx, real_lon, numcol= None, namecol = None,  save_or_show = 'show', return_figs = False, figtype = 'all', outliers = False):\n",
    "    if numcol == None and namecol != None:\n",
    "        numcol = gitm_cols.index(namecol)\n",
    "    elif namecol == None and numcol != None:\n",
    "        namecol = gitm_cols[numcol]\n",
    "    elif numcol == None and namecol == None:\n",
    "        raise ValueError('either namecol or numcol must be specified!')\n",
    "\n",
    "    vmin_bins = np.min(gitm_bins[:,numcol,:,:,alt_idx])\n",
    "    vmax_bins = np.max(gitm_bins[:,numcol,:,:,alt_idx])\n",
    "    \n",
    "    vmin_fits = np.min(fits_gitm[:,numcol,:,:,alt_idx])\n",
    "    vmax_fits = np.max(fits_gitm[:,numcol,:,:,alt_idx])\n",
    "    \n",
    "    vmin_diffs = np.min(100*(fits_gitm[:,numcol,:,:,alt_idx] - gitm_bins[:,numcol,:,:,alt_idx])/gitm_bins[:,numcol,:,:,alt_idx])\n",
    "    vmax_diffs = np.max(100*(fits_gitm[:,numcol,:,:,alt_idx] - gitm_bins[:,numcol,:,:,alt_idx])/gitm_bins[:,numcol,:,:,alt_idx])\n",
    "\n",
    "    #get data.\n",
    "    lon_idx = np.argmin(np.abs(lons - real_lon))\n",
    "    data = gitm_bins[:,numcol,lon_idx,:,alt_idx].copy()\n",
    "    bandpass = fits_gitm[:,numcol,lon_idx,:,alt_idx].copy()\n",
    "    real_alt = alts[alt_idx]\n",
    "    percent = 100*(data - bandpass)/bandpass\n",
    "    \n",
    "    if outliers:\n",
    "        data = remove_outliers(data)\n",
    "        bandpass = remove_outliers(bandpass)\n",
    "        percent = remove_outliers(percent)\n",
    "        \n",
    "    \n",
    "    if figtype == 'all' or 'filt' in figtype:\n",
    "        #plain bandpass filter\n",
    "        title = 'Keogram of %s along %i deg Longitude at %i km' %(gitm_colnames_friendly[namecol].replace('(','[').replace(')',']'), real_lon, round(real_alt/1000,0))\n",
    "        color_label = 'Bandpass filter'\n",
    "        # print(gitm_keo_save_path, real_alt, real_lon, namecol)\n",
    "        # print(int(real_alt/1000,0), int(real_lon))\n",
    "        fname = os.path.join(gitm_keo_save_path, 'bandpass',  str(int(real_alt/1000)), 'lon'+str(int(real_lon)),  gitm_colnames_friendly[namecol] + '.png')\n",
    "        make_a_keo(bandpass, title, cbarlims=(vmin_fits,vmax_fits), cbar_name=color_label,save_or_show=save_or_show, fname = fname)\n",
    "\n",
    "    if figtype == 'all' or 'raw' in figtype:\n",
    "        #plain raw data\n",
    "        title = 'Keogram of %s along %i deg Longitude at %i km' %(gitm_colnames_friendly[namecol].replace('(','[').replace(')',']'), real_lon, round(real_alt/1000,0))\n",
    "        color_label = 'Raw data'\n",
    "        fname = os.path.join(gitm_keo_save_path, 'raw',  str(int(real_alt/1000)), 'lon'+str(int(real_lon)), gitm_colnames_friendly[namecol] + '.png')\n",
    "        make_a_keo(data, title, cbarlims=(vmin_bins,vmax_bins), cbar_name=color_label,save_or_show=save_or_show, fname = fname)\n",
    "\n",
    "    if figtype == 'all' or 'diff' in figtype:\n",
    "        #(bandpass - raw)/ raw\n",
    "        title = 'Keogram of %s along %i deg Longitude at %i km' %(gitm_colnames_friendly[namecol].replace('(','[').replace(')',']'), real_lon, round(real_alt/1000,0))\n",
    "        color_label = '% over bandpass filter'\n",
    "        fname = os.path.join(gitm_keo_save_path, 'percent-over-filter',  str(int(real_alt/1000)), 'lon'+str(int(real_lon)), gitm_colnames_friendly[namecol] + '.png')\n",
    "        make_a_keo(percent, title, cbarlims=(vmin_diffs,vmax_diffs), cbar_name=color_label,save_or_show=save_or_show, fname = fname)\n",
    "    \n",
    "\n",
    "    \n",
    "    \n",
    "def thread_call_keos(args):\n",
    "    call_keos(args[2], args[3],args[0], args[1], outliers=args[4],  save_or_show = 'save', return_figs = False, figtype = 'all')\n",
    "    \n",
    "\n",
    "    \n",
    "def loop_keos(sel_cols, sel_alts, sel_lons, save_or_show = 'show', return_figs = False, figtype = 'all', thread = False, outliers = False):\n",
    "    #make sure inputs are lists so we can loop through them.\n",
    "    if type(sel_cols) is not list: \n",
    "        if type(sel_cols) is not np.array:\n",
    "            sel_cols = [ sel_cols ]\n",
    "    if type(sel_alts) is not list: \n",
    "        if type(sel_alts) is not np.array:\n",
    "            sel_alts = [ sel_alts ]\n",
    "    if type(sel_lons) is not list: \n",
    "        if type(sel_lons) is not np.array:\n",
    "            sel_lons = [ sel_lons ]\n",
    "\n",
    "    \n",
    "    if not thread: #make plots sequentially\n",
    "        pbar = tqdm(desc = 'making keos..', total = len(sel_lons) * len(sel_alts) * len(sel_cols))\n",
    "        for namecol in sel_cols:\n",
    "            numcol = gitm_cols.index(icol)\n",
    "            for nalt in sel_alts:\n",
    "                for ilon in sel_lons:\n",
    "                    call_keos(nalt,ilon,numcol,namecol, save_or_show, return_figs, figtype, outliers)\n",
    "                \n",
    "    \n",
    "    else: # build an array of all plot arguments. then plot all the args across the number of processors specified in num_pool_workers.\n",
    "        arg_arr = []\n",
    "        print(\"thread is True. Building array and launching pool... (pbar is just an estimate. It will not be 100% accurate since we're threading.)\")\n",
    "        \n",
    "        for namecol in sel_cols:\n",
    "            numcol = gitm_cols.index(namecol)\n",
    "            for nalt in sel_alts:\n",
    "                for ilon in sel_lons:\n",
    "                    arg_arr.append([numcol,namecol,nalt,ilon,outliers])\n",
    "                    \n",
    "        with Pool(num_pool_workers) as pool:\n",
    "            with tqdm(desc = 'threading keo making', total = len(arg_arr)) as pbar:\n",
    "                for _ in pool.imap_unordered(thread_call_keos, arg_arr):\n",
    "                    pbar.update(1)\n",
    "            \n",
    "                    \n",
    "\n",
    "       "
   ]
  },
  {
   "cell_type": "code",
   "execution_count": 90,
   "id": "f9df0c85-3f32-4d35-af38-79f91a1a053f",
   "metadata": {},
   "outputs": [],
   "source": [
    "#USAGE:\n",
    "\n",
    "# loop_keos(sel_cols = gitm_cols, sel_alts = gitm_alt_idxs, sel_lons = lons, debug = True, save_or_show = 'save')"
   ]
  },
  {
   "cell_type": "code",
   "execution_count": 55,
   "id": "6f43c3d1-47bb-4a23-8d0e-b2efbb5befea",
   "metadata": {
    "tags": []
   },
   "outputs": [
    {
     "name": "stdout",
     "output_type": "stream",
     "text": [
      "thread is True. Building array and launching pool...\n"
     ]
    },
    {
     "data": {
      "application/vnd.jupyter.widget-view+json": {
       "model_id": "c569be8f5e47413691ec0de10723902e",
       "version_major": 2,
       "version_minor": 0
      },
      "text/plain": [
       "threading keo making:   0%|          | 0/7400 [00:00<?, ?it/s]"
      ]
     },
     "metadata": {},
     "output_type": "display_data"
    }
   ],
   "source": [
    "loop_keos(sel_cols = gitm_cols, sel_alts = gitm_alt_idxs, sel_lons = gitm_keo_lons, debug = False, save_or_show = 'save', thread = True)"
   ]
  },
  {
   "cell_type": "markdown",
   "id": "39b927d9-46d6-4911-8bf1-5370c4884622",
   "metadata": {
    "tags": []
   },
   "source": [
    "## Now map time"
   ]
  },
  {
   "cell_type": "code",
   "execution_count": 88,
   "id": "4802542a-b87f-46d5-b084-872579681ba2",
   "metadata": {},
   "outputs": [
    {
     "data": {
      "text/plain": [
       "(144, (144, 37, 90, 180, 50))"
      ]
     },
     "execution_count": 88,
     "metadata": {},
     "output_type": "execute_result"
    }
   ],
   "source": [
    "len(times), gitm_bins.shape"
   ]
  },
  {
   "cell_type": "code",
   "execution_count": 30,
   "id": "8caef2a0-ada4-49c1-8791-5be7a6a60959",
   "metadata": {},
   "outputs": [],
   "source": [
    "\n",
    "from pyrsistent import v\n",
    "\n",
    "\n",
    "def draw_map(data_arr, title, cbarlims, cbar_label = None,\n",
    "             y_label = 'Latitude (deg)', x_label = 'Hours since storm onset', save_or_show = 'save' , fname = None,\n",
    "             plot_extent = [min(lons), max(lons), -lat_lim, lat_lim]):\n",
    "    \n",
    "    if os.path.exists(fname):\n",
    "        if not OVERWRITE:\n",
    "            return\n",
    "    \n",
    "    fig,ax = plt.subplots(figsize = (10,5))\n",
    "    world.plot(ax = ax, color = 'white', edgecolor = 'black', zorder = 1)\n",
    "    data = ax.imshow(data_arr.T, cmap = 'viridis', aspect = 'auto', extent = plot_extent, origin = 'lower',\n",
    "                           zorder = 10, alpha = 0.8, vmin = cbarlims[0], vmax = cbarlims[1], interpolation='bicubic', interpolation_stage='rgba')\n",
    "    plt.title(title)\n",
    "    if not cbar_label:\n",
    "        fig.colorbar(data)\n",
    "    else:\n",
    "        fig.colorbar(data, label = cbar_label)\n",
    "    \n",
    "    \n",
    "    if save_or_show == 'show':\n",
    "        plt.show()\n",
    "        plt.close()\n",
    "    elif save_or_show == 'save':\n",
    "        if not fname:\n",
    "            raise ValueError('plot save path must be given!')\n",
    "        else:\n",
    "            fname = fname.replace(' ','')\n",
    "            try:\n",
    "                plt.savefig(fname)\n",
    "            except FileNotFoundError:\n",
    "                try:\n",
    "                    directory_list = os.path.join(fname).split('/')[:-1]\n",
    "                    os.makedirs('/'+os.path.join(*directory_list))\n",
    "                    plt.savefig(fname)\n",
    "                except FileExistsError:\n",
    "                    time.sleep(2) # sometimes when we make too many plots in the same directory, it fails. this fixes that.\n",
    "                    try:\n",
    "                        plt.savefig(fname)\n",
    "                    except FileNotFoundError:\n",
    "                        time.sleep(2)\n",
    "                        plt.savefig(fname)\n",
    "\n",
    "            except:\n",
    "                print(fname)\n",
    "                raise ValueError\n",
    "            plt.close()\n",
    "    else:\n",
    "        raise ValueError('save_or_show input is invalid. Accepted inputs are \"save\" or \"show\", you gave ', save_or_show)\n",
    "        \n",
    "        \n",
    "def call_maps(alt_idx, dtime_real = None, dtime_index = None, numcol = None, namecol = None,  save_or_show = 'show', return_figs = False, figtype = 'all', diffs = None, outliers = False):\n",
    "    #Make sure inputs are correct. either the index or actual value of the datetime and column to plot can be specified (or both).\n",
    "    if numcol == None and namecol != None:\n",
    "        numcol = gitm_cols.index(namecol)\n",
    "    elif namecol == None and numcol != None:\n",
    "        namecol = gitm_cols[numcol]\n",
    "    elif numcol == None and namecol == None:\n",
    "        raise ValueError('either namecol or numcol must be specified!')\n",
    "        \n",
    "    if dtime_real == None and dtime_index != None:\n",
    "        dtime_real = times[dtime_index]\n",
    "    elif dtime_index == None and dtime_real != None:\n",
    "        dtime_index = times.index(dtime_real)\n",
    "    elif dtime_real == None and dtime_index == None:\n",
    "        raise ValueError('either dtime_index or dtime_real must be specified!')\n",
    "\n",
    "    #get colorbar limits.\n",
    "    vmin_bins = np.min(gitm_bins[:,numcol,:,:,alt_idx])\n",
    "    vmax_bins = np.max(gitm_bins[:,numcol,:,:,alt_idx])\n",
    "    \n",
    "    vmin_fits = np.min(fits_gitm[:,numcol,:,:,alt_idx])\n",
    "    vmax_fits = np.max(fits_gitm[:,numcol,:,:,alt_idx])\n",
    "    \n",
    "    if diffs == None:\n",
    "    \n",
    "        vmin_diffs = np.min(100*(fits_gitm[:,numcol,:,:,alt_idx] - gitm_bins[:,numcol,:,:,alt_idx])/gitm_bins[:,numcol,:,:,alt_idx])\n",
    "        vmax_diffs = np.max(100*(fits_gitm[:,numcol,:,:,alt_idx] - gitm_bins[:,numcol,:,:,alt_idx])/gitm_bins[:,numcol,:,:,alt_idx])\n",
    "    \n",
    "    else:\n",
    "    \n",
    "    #get data. \n",
    "    raw = gitm_bins[dtime_index,numcol,:,:,alt_idx].copy()\n",
    "    bandpass = fits_gitm[dtime_index,numcol,:,:,alt_idx].copy()\n",
    "    real_alt = alts[alt_idx]\n",
    "    percent = 100*(bandpass - raw)/raw\n",
    "    \n",
    "    if outliers:\n",
    "        raw = remove_outliers(raw)\n",
    "        bandpass = remove_outliers(bandpass)\n",
    "        percent = remove_outliers(percent)\n",
    "    \n",
    "    #raw map\n",
    "    if figtype == 'all' or 'raw' in figtype:\n",
    "        title = gitm_colnames_friendly[namecol] + ' at ' + str(round(float(real_alt)/1000,0)) +' km at ' + UT_from_Storm_onset(dtime_real) +  \" from Storm Start\"\n",
    "        fname = os.path.join(gitm_map_save_path,'raw', str(int(real_alt/1000)), gitm_colnames_friendly[namecol], str(dtime_index).rjust(3,'0') + '.png')\n",
    "        cbarlims = [vmin_bins, vmax_bins]\n",
    "        draw_map(raw, title, cbarlims, fname = fname, save_or_show= save_or_show)\n",
    "        \n",
    "\n",
    "    #filter map\n",
    "    if figtype == 'all' or 'filt' in figtype:\n",
    "        title = gitm_colnames_friendly[namecol] + ' at ' + str(round(float(real_alt)/1000,0)) +' km at ' + UT_from_Storm_onset(dtime_real) +  \" from Storm Start\"\n",
    "        fname = os.path.join(gitm_map_save_path,'bandpass', str(int(real_alt/1000)), gitm_colnames_friendly[namecol], str(dtime_index).rjust(3,'0') + '.png')\n",
    "        cbarlims = [vmin_fits, vmax_fits]\n",
    "        cbar_label = 'Bandpass Filtered ' + gitm_colnames_friendly[namecol]\n",
    "        draw_map(bandpass, title, cbarlims, save_or_show= save_or_show, cbar_label = cbar_label, fname = fname)\n",
    "        \n",
    "        \n",
    "    #diffs\n",
    "    if figtype == 'all' or 'diff' in figtype:\n",
    "        title = gitm_colnames_friendly[namecol] + ' at ' + str(round(float(real_alt)/1000,0)) +' km at ' + UT_from_Storm_onset(dtime_real) +  \" from Storm Start\"\n",
    "        if diffs == None:\n",
    "            for v_lim in diff_vs:\n",
    "                fname = os.path.join(gitm_map_save_path,'diff_set_lims', str(int(real_alt/1000)), gitm_colnames_friendly[namecol], str(v_lim), str(dtime_index).rjust(3,'0') + '.png')\n",
    "                cbarlims = [-v_lim, v_lim]\n",
    "                cbar_label = '% over Background'\n",
    "                draw_map(percent, title, cbarlims, save_or_show= save_or_show, cbar_label = cbar_label, fname = fname, v_lim = v_lim)\n",
    "        else:\n",
    "            fname = os.path.join(gitm_map_save_path,'diff', str(int(real_alt/1000)), gitm_colnames_friendly[namecol], str(dtime_index).rjust(3,'0') + '.png')\n",
    "            cbarlims = [vmin_diffs, vmax_diffs]\n",
    "            cbar_label = '% over Background'\n",
    "            draw_map(percent, title, cbarlims, save_or_show= save_or_show, cbar_label = cbar_label, fname = fname)        \n",
    "        \n",
    "        \n",
    "        \n",
    "def thread_call_maps(args):\n",
    "    call_maps(alt_idx=args[0], namecol = args[1], dtime_real = args[2], outliers = args[3],  save_or_show = 'save', return_figs = False, figtype = 'all')\n",
    "        \n",
    "def loop_maps(sel_cols, sel_alts, save_or_show = 'show', return_figs = False, figtype = 'all', thread = False, outliers = False):\n",
    "    #make sure inputs are lists so we can loop through them.\n",
    "    if type(sel_cols) is not list: \n",
    "        if type(sel_cols) is not np.array:\n",
    "            sel_cols = [ sel_cols ]\n",
    "    if type(sel_alts) is not list: \n",
    "        if type(sel_alts) is not np.array:\n",
    "            sel_alts = [ sel_alts ]\n",
    "\n",
    "    \n",
    "    if not thread: #make plots sequentially\n",
    "        pbar = tqdm(desc = 'making maps..', total = len(times) * len(sel_alts) * len(sel_cols))\n",
    "        for namecol in sel_cols:\n",
    "            numcol = gitm_cols.index(namecol)\n",
    "            for nalt in sel_alts:\n",
    "                for dtime_real in times:\n",
    "                    call_maps(nalt, dtime_real = dtime_real, numcol = numcol, save_or_show = save_or_show, return_figs = return_figs, figtype = figtype, outliers = outliers)\n",
    "                    pbar.update(1)\n",
    "                    \n",
    "    \n",
    "    else: # build an array of all plot arguments. then plot all the args across the number of processors specified in num_pool_workers.\n",
    "        arg_arr = []\n",
    "        print(\"thread is True. Building array and launching pool... (pbar is just an estimate. It will not be 100% accurate since we're threading.)\")\n",
    "        \n",
    "        for namecol in sel_cols:\n",
    "            numcol = gitm_cols.index(namecol)\n",
    "            for nalt in sel_alts:\n",
    "                for dtime_real in times:\n",
    "                    arg_arr.append([nalt,namecol,dtime_real,outliers])\n",
    "    \n",
    "        with Pool(num_pool_workers) as pool:\n",
    "            with tqdm(desc = 'threading map making', total = len(arg_arr)) as pbar:\n",
    "                for _ in pool.imap_unordered(thread_call_maps, arg_arr):\n",
    "                    pbar.update(1)       \n",
    "\n"
   ]
  },
  {
   "cell_type": "code",
   "execution_count": 31,
   "id": "53e12662-84b5-400f-b7f8-5407f8f4f051",
   "metadata": {},
   "outputs": [
    {
     "data": {
      "image/png": "[encoded data removed]",
      "text/plain": [
       "<Figure size 1000x500 with 2 Axes>"
      ]
     },
     "metadata": {},
     "output_type": "display_data"
    }
   ],
   "source": [
    "# [0,0,:,:,5]\n",
    "call_maps(28, dtime_index = 50, numcol = 0, save_or_show='show', figtype='diff')"
   ]
  },
  {
   "cell_type": "code",
   "execution_count": 416,
   "id": "a08e66c2-2261-4711-9f68-242f122268b1",
   "metadata": {},
   "outputs": [],
   "source": [
    "#USAGE\n",
    "\n",
    "# call_maps(alt_idx = 5,  dtime_index = 14, numcol = 0,  save_or_show = 'save', figtype = 'all')\n",
    "# loop_maps(gitm_cols, gitm_alt_idxs, thread = False)"
   ]
  },
  {
   "cell_type": "code",
   "execution_count": null,
   "id": "d3cd9409-239b-42ef-88f5-6fc43f603685",
   "metadata": {},
   "outputs": [],
   "source": []
  },
  {
   "cell_type": "code",
   "execution_count": null,
   "id": "1420c022-0a97-4288-9b5a-bc8dd8f88202",
   "metadata": {},
   "outputs": [],
   "source": []
  },
  {
   "cell_type": "code",
   "execution_count": 425,
   "id": "10f02f6b-0b6d-457c-87c7-8f87d48ba847",
   "metadata": {},
   "outputs": [
    {
     "name": "stdout",
     "output_type": "stream",
     "text": [
      "thread is True. Building array and launching pool... (pbar is just an estimate. It will not be 100% accurate since we're threading.)\n"
     ]
    },
    {
     "data": {
      "application/vnd.jupyter.widget-view+json": {
       "model_id": "ef4c9876fd694faaa0a739763dde891b",
       "version_major": 2,
       "version_minor": 0
      },
      "text/plain": [
       "threading map making:   0%|          | 0/266400 [00:00<?, ?it/s]"
      ]
     },
     "metadata": {},
     "output_type": "display_data"
    },
    {
     "name": "stdout",
     "output_type": "stream",
     "text": [
      "/home/axb170054/scratch/made_plots/SimStormPaper/maps/raw/212/TotalNeutralDensity/084.png/home/axb170054/scratch/made_plots/SimStormPaper/maps/bandpass/212/TotalNeutralDensity/067.png/home/axb170054/scratch/made_plots/SimStormPaper/maps/percent-over-filter/212/TotalNeutralDensity/052.png/home/axb170054/scratch/made_plots/SimStormPaper/maps/bandpass/212/TotalNeutralDensity/070.png"
     ]
    },
    {
     "name": "stderr",
     "output_type": "stream",
     "text": [
      "Process ForkPoolWorker-824:\n",
      "Process ForkPoolWorker-829:\n",
      "Process ForkPoolWorker-823:\n"
     ]
    },
    {
     "name": "stdout",
     "output_type": "stream",
     "text": [
      "\n",
      "\n",
      "\n",
      "\n"
     ]
    },
    {
     "name": "stderr",
     "output_type": "stream",
     "text": [
      "Process ForkPoolWorker-822:\n"
     ]
    },
    {
     "name": "stdout",
     "output_type": "stream",
     "text": [
      "/home/axb170054/scratch/made_plots/SimStormPaper/maps/bandpass/212/TotalNeutralDensity/071.png"
     ]
    },
    {
     "name": "stderr",
     "output_type": "stream",
     "text": [
      "Exception ignored in: Process ForkPoolWorker-806:\n",
      "Process ForkPoolWorker-810:\n"
     ]
    },
    {
     "name": "stdout",
     "output_type": "stream",
     "text": [
      "\n"
     ]
    },
    {
     "name": "stderr",
     "output_type": "stream",
     "text": [
      "Process ForkPoolWorker-800:\n",
      "Process ForkPoolWorker-797:\n"
     ]
    },
    {
     "name": "stdout",
     "output_type": "stream",
     "text": [
      "/home/axb170054/scratch/made_plots/SimStormPaper/maps/percent-over-filter/212/TotalNeutralDensity/054.png"
     ]
    },
    {
     "name": "stderr",
     "output_type": "stream",
     "text": [
      "Traceback (most recent call last):\n"
     ]
    },
    {
     "name": "stdout",
     "output_type": "stream",
     "text": [
      "/home/axb170054/scratch/made_plots/SimStormPaper/maps/bandpass/212/TotalNeutralDensity/078.png/home/axb170054/scratch/made_plots/SimStormPaper/maps/bandpass/212/TotalNeutralDensity/073.png"
     ]
    },
    {
     "name": "stderr",
     "output_type": "stream",
     "text": [
      "  File \"/home/axb170054/.conda/envs/py38/lib/python3.8/multiprocessing/process.py\", line 315, in _bootstrap\n",
      "    self.run()\n",
      "Process ForkPoolWorker-809:\n",
      "Process ForkPoolWorker-807:\n",
      "Traceback (most recent call last):\n",
      "<function BaseGeometry.__del__ at 0x2b49dedd7820>  File \"/home/axb170054/.conda/envs/py38/lib/python3.8/multiprocessing/process.py\", line 108, in run\n",
      "    self._target(*self._args, **self._kwargs)\n"
     ]
    },
    {
     "name": "stdout",
     "output_type": "stream",
     "text": [
      "\n"
     ]
    },
    {
     "name": "stderr",
     "output_type": "stream",
     "text": [
      "  File \"/home/axb170054/.conda/envs/py38/lib/python3.8/multiprocessing/pool.py\", line 125, in worker\n",
      "    result = (True, func(*args, **kwds))\n",
      "  File \"/tmp/ipykernel_28052/3715868547.py\", line 107, in thread_call_maps\n",
      "    call_maps(alt_idx=args[0], namecol = args[1], dtime_real = args[2], outliers = args[3],  save_or_show = 'save', return_figs = False, figtype = 'all')\n"
     ]
    },
    {
     "name": "stdout",
     "output_type": "stream",
     "text": [
      "\n"
     ]
    },
    {
     "name": "stderr",
     "output_type": "stream",
     "text": [
      "Process ForkPoolWorker-818:\n",
      "Traceback (most recent call last):\n"
     ]
    },
    {
     "name": "stdout",
     "output_type": "stream",
     "text": [
      "\n"
     ]
    },
    {
     "name": "stderr",
     "output_type": "stream",
     "text": [
      "  File \"/tmp/ipykernel_28052/3715868547.py\", line 102, in call_maps\n",
      "    draw_map(percent, title, cbarlims, save_or_show= save_or_show, cbar_label = cbar_label, fname = fname)\n",
      "  File \"/home/axb170054/.conda/envs/py38/lib/python3.8/multiprocessing/process.py\", line 315, in _bootstrap\n",
      "    self.run()\n",
      "Traceback (most recent call last):\n"
     ]
    },
    {
     "name": "stdout",
     "output_type": "stream",
     "text": [
      "/home/axb170054/scratch/made_plots/SimStormPaper/maps/percent-over-filter/212/TotalNeutralDensity/053.png"
     ]
    },
    {
     "name": "stderr",
     "output_type": "stream",
     "text": [
      "  File \"/tmp/ipykernel_28052/3715868547.py\", line 13, in draw_map\n",
      "    fig.colorbar(data, label = cbar_label)\n",
      "Traceback (most recent call last):\n"
     ]
    },
    {
     "name": "stdout",
     "output_type": "stream",
     "text": [
      "\n"
     ]
    },
    {
     "name": "stderr",
     "output_type": "stream",
     "text": [
      "  File \"/home/axb170054/.conda/envs/py38/lib/python3.8/site-packages/matplotlib/figure.py\", line 1199, in colorbar\n",
      "    cax, kw = cbar.make_axes_gridspec(ax, **kw)\n"
     ]
    },
    {
     "name": "stdout",
     "output_type": "stream",
     "text": [
      "/home/axb170054/scratch/made_plots/SimStormPaper/maps/bandpass/212/TotalNeutralDensity/066.png"
     ]
    },
    {
     "name": "stderr",
     "output_type": "stream",
     "text": [
      "Traceback (most recent call last):\n",
      "  File \"/home/axb170054/.conda/envs/py38/lib/python3.8/multiprocessing/process.py\", line 315, in _bootstrap\n",
      "    self.run()\n"
     ]
    },
    {
     "ename": "KeyboardInterrupt",
     "evalue": "",
     "output_type": "error",
     "traceback": [
      "\u001b[0;31m---------------------------------------------------------------------------\u001b[0m",
      "\u001b[0;31mIndexError\u001b[0m                                Traceback (most recent call last)",
      "File \u001b[0;32m~/.conda/envs/py38/lib/python3.8/multiprocessing/pool.py:848\u001b[0m, in \u001b[0;36mIMapIterator.next\u001b[0;34m(self, timeout)\u001b[0m\n\u001b[1;32m    847\u001b[0m \u001b[38;5;28;01mtry\u001b[39;00m:\n\u001b[0;32m--> 848\u001b[0m     item \u001b[38;5;241m=\u001b[39m \u001b[38;5;28;43mself\u001b[39;49m\u001b[38;5;241;43m.\u001b[39;49m\u001b[43m_items\u001b[49m\u001b[38;5;241;43m.\u001b[39;49m\u001b[43mpopleft\u001b[49m\u001b[43m(\u001b[49m\u001b[43m)\u001b[49m\n\u001b[1;32m    849\u001b[0m \u001b[38;5;28;01mexcept\u001b[39;00m \u001b[38;5;167;01mIndexError\u001b[39;00m:\n",
      "\u001b[0;31mIndexError\u001b[0m: pop from an empty deque",
      "\nDuring handling of the above exception, another exception occurred:\n",
      "\u001b[0;31mKeyboardInterrupt\u001b[0m                         Traceback (most recent call last)",
      "Cell \u001b[0;32mIn[425], line 1\u001b[0m\n\u001b[0;32m----> 1\u001b[0m \u001b[43mloop_maps\u001b[49m\u001b[43m(\u001b[49m\u001b[43mgitm_cols\u001b[49m\u001b[43m,\u001b[49m\u001b[43m \u001b[49m\u001b[43mgitm_alt_idxs\u001b[49m\u001b[43m,\u001b[49m\u001b[43m \u001b[49m\u001b[43msave_or_show\u001b[49m\u001b[38;5;241;43m=\u001b[39;49m\u001b[38;5;124;43m'\u001b[39;49m\u001b[38;5;124;43msave\u001b[39;49m\u001b[38;5;124;43m'\u001b[39;49m\u001b[43m,\u001b[49m\u001b[43m \u001b[49m\u001b[43mthread\u001b[49m\u001b[43m \u001b[49m\u001b[38;5;241;43m=\u001b[39;49m\u001b[43m \u001b[49m\u001b[38;5;28;43;01mTrue\u001b[39;49;00m\u001b[43m)\u001b[49m\n",
      "Cell \u001b[0;32mIn[424], line 141\u001b[0m, in \u001b[0;36mloop_maps\u001b[0;34m(sel_cols, sel_alts, save_or_show, return_figs, figtype, thread, outliers)\u001b[0m\n\u001b[1;32m    139\u001b[0m \u001b[38;5;28;01mwith\u001b[39;00m Pool(num_pool_workers) \u001b[38;5;28;01mas\u001b[39;00m pool:\n\u001b[1;32m    140\u001b[0m     \u001b[38;5;28;01mwith\u001b[39;00m tqdm(desc \u001b[38;5;241m=\u001b[39m \u001b[38;5;124m'\u001b[39m\u001b[38;5;124mthreading map making\u001b[39m\u001b[38;5;124m'\u001b[39m, total \u001b[38;5;241m=\u001b[39m \u001b[38;5;28mlen\u001b[39m(arg_arr)) \u001b[38;5;28;01mas\u001b[39;00m pbar:\n\u001b[0;32m--> 141\u001b[0m         \u001b[38;5;28;01mfor\u001b[39;00m _ \u001b[38;5;129;01min\u001b[39;00m pool\u001b[38;5;241m.\u001b[39mimap_unordered(thread_call_maps, arg_arr):\n\u001b[1;32m    142\u001b[0m             pbar\u001b[38;5;241m.\u001b[39mupdate(\u001b[38;5;241m1\u001b[39m)\n",
      "File \u001b[0;32m~/.conda/envs/py38/lib/python3.8/multiprocessing/pool.py:853\u001b[0m, in \u001b[0;36mIMapIterator.next\u001b[0;34m(self, timeout)\u001b[0m\n\u001b[1;32m    851\u001b[0m     \u001b[38;5;28mself\u001b[39m\u001b[38;5;241m.\u001b[39m_pool \u001b[38;5;241m=\u001b[39m \u001b[38;5;28;01mNone\u001b[39;00m\n\u001b[1;32m    852\u001b[0m     \u001b[38;5;28;01mraise\u001b[39;00m \u001b[38;5;167;01mStopIteration\u001b[39;00m \u001b[38;5;28;01mfrom\u001b[39;00m \u001b[38;5;28mNone\u001b[39m\n\u001b[0;32m--> 853\u001b[0m \u001b[38;5;28;43mself\u001b[39;49m\u001b[38;5;241;43m.\u001b[39;49m\u001b[43m_cond\u001b[49m\u001b[38;5;241;43m.\u001b[39;49m\u001b[43mwait\u001b[49m\u001b[43m(\u001b[49m\u001b[43mtimeout\u001b[49m\u001b[43m)\u001b[49m\n\u001b[1;32m    854\u001b[0m \u001b[38;5;28;01mtry\u001b[39;00m:\n\u001b[1;32m    855\u001b[0m     item \u001b[38;5;241m=\u001b[39m \u001b[38;5;28mself\u001b[39m\u001b[38;5;241m.\u001b[39m_items\u001b[38;5;241m.\u001b[39mpopleft()\n",
      "File \u001b[0;32m~/.conda/envs/py38/lib/python3.8/threading.py:302\u001b[0m, in \u001b[0;36mCondition.wait\u001b[0;34m(self, timeout)\u001b[0m\n\u001b[1;32m    300\u001b[0m \u001b[38;5;28;01mtry\u001b[39;00m:    \u001b[38;5;66;03m# restore state no matter what (e.g., KeyboardInterrupt)\u001b[39;00m\n\u001b[1;32m    301\u001b[0m     \u001b[38;5;28;01mif\u001b[39;00m timeout \u001b[38;5;129;01mis\u001b[39;00m \u001b[38;5;28;01mNone\u001b[39;00m:\n\u001b[0;32m--> 302\u001b[0m         \u001b[43mwaiter\u001b[49m\u001b[38;5;241;43m.\u001b[39;49m\u001b[43macquire\u001b[49m\u001b[43m(\u001b[49m\u001b[43m)\u001b[49m\n\u001b[1;32m    303\u001b[0m         gotit \u001b[38;5;241m=\u001b[39m \u001b[38;5;28;01mTrue\u001b[39;00m\n\u001b[1;32m    304\u001b[0m     \u001b[38;5;28;01melse\u001b[39;00m:\n",
      "\u001b[0;31mKeyboardInterrupt\u001b[0m: "
     ]
    }
   ],
   "source": [
    "\n",
    "loop_maps(gitm_cols, gitm_alt_idxs, save_or_show='save', thread = True)"
   ]
  },
  {
   "cell_type": "code",
   "execution_count": null,
   "id": "20060aa6-8a54-42a4-9b6e-298bbf47e97a",
   "metadata": {},
   "outputs": [],
   "source": []
  },
  {
   "cell_type": "code",
   "execution_count": null,
   "id": "3bdb48c2-a153-4f8c-8d46-60f1be1939e4",
   "metadata": {},
   "outputs": [],
   "source": [
    "gitm_keo_save_path = \"/home/axb170054/scratch/made_plots/SimStormPaper/keos-outliers/\"\n",
    "gitm_map_save_path = \"/home/axb170054/scratch/made_plots/SimStormPaper/maps-outliers/\""
   ]
  },
  {
   "cell_type": "code",
   "execution_count": null,
   "id": "f83caf33-5d35-4681-89a6-2e264533a04f",
   "metadata": {},
   "outputs": [],
   "source": [
    "loop_keos(sel_cols = gitm_cols, sel_alts = gitm_alt_idxs, sel_lons = gitm_keo_lons, debug = False, save_or_show = 'save', thread = True, outliers = True)"
   ]
  },
  {
   "cell_type": "code",
   "execution_count": null,
   "id": "a07a0f80-e517-4b14-8a23-fb866001117c",
   "metadata": {},
   "outputs": [],
   "source": [
    "loop_maps(gitm_cols, gitm_alt_idxs, save_or_show='save', thread = True, outliers = True)"
   ]
  },
  {
   "cell_type": "code",
   "execution_count": null,
   "id": "69ed7260-233d-4ded-9497-4cc4f68357ab",
   "metadata": {},
   "outputs": [],
   "source": [
    "def make_gitm_lon_plot(alt_idx, lon_idx, dtime_index, save_or_show = 'show', return_figs = False, figtype = 'all', outliers = False):\n",
    "    #make sure inputs are lists so we can loop through them.\n",
    "    if type(alt_idx) is not list: \n",
    "        if type(alt_idx) is not np.array:\n",
    "            alt_idx = [ alt_idx ]\n",
    "    if type(lon_idx) is not list: \n",
    "        if type(lon_idx) is not np.array:\n",
    "            lon_idx = [ lon_idx ]\n",
    "    if type(dtime_index) is not list: \n",
    "        if type(dtime_index) is not np.array:\n",
    "            dtime_index = [ dtime_index ]\n",
    "    \n",
    "    for nalt in alt_idx:\n",
    "        for nlon in lon_idx:\n",
    "            for dtime_index in dtime_index:\n",
    "                dtime_real = times[dtime_index]\n",
    "                \n",
    "                real_lon = gitm_lons[nlon]\n",
    "                #get raw data\n",
    "                raw = gitm_data[dtime_index, nalt, nlon, :, dtime_index]\n",
    "                "
   ]
  },
  {
   "cell_type": "code",
   "execution_count": null,
   "id": "7438a111-fc93-476d-8da0-e7649d7ccf4a",
   "metadata": {},
   "outputs": [],
   "source": [
    "def make_gitm_lon_plots():\n",
    "    #make a plot for each gitm column at each altitude, for each longitude.\n",
    "    for namecol in gitm_cols:\n",
    "        numcol = gitm_cols.index(namecol)\n",
    "        for nalt in gitm_alt_idxs:\n",
    "            for lon in gitm_keo_lons:\n",
    "                make_gitm_lon_plot(nalt, lon, numcol, save_or_show='save', return_figs = False)"
   ]
  },
  {
   "cell_type": "code",
   "execution_count": null,
   "id": "37815b49-6b58-47a5-abe5-54bdd1696d94",
   "metadata": {},
   "outputs": [],
   "source": []
  }
 ],
 "metadata": {
  "kernelspec": {
   "display_name": "py38",
   "language": "python",
   "name": "python3"
  },
  "language_info": {
   "codemirror_mode": {
    "name": "ipython",
    "version": 3
   },
   "file_extension": ".py",
   "mimetype": "text/x-python",
   "name": "python",
   "nbconvert_exporter": "python",
   "pygments_lexer": "ipython3",
   "version": "3.8.2"
  },
  "vscode": {
   "interpreter": {
    "hash": "714f989f0499a4ae4db61fac6fb5125c97cf24bf63d35af153ad86fce0b2ec1b"
   }
  }
 },
 "nbformat": 4,
 "nbformat_minor": 5
}
