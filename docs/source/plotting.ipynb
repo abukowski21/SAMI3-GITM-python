{
 "cells": [
  {
   "cell_type": "markdown",
   "id": "ebbfc363-4ef7-4de3-a69e-eec6d0f6ff62",
   "metadata": {},
   "source": [
    "# Plotting"
   ]
  },
  {
   "cell_type": "code",
   "execution_count": 1,
   "id": "2aa6c34d-bef5-4a7b-b20a-19eacd685aed",
   "metadata": {},
   "outputs": [],
   "source": [
    "import sys\n",
    "sys.path.append('~/SAMI3-GITM-python/')"
   ]
  },
  {
   "cell_type": "code",
   "execution_count": null,
   "id": "77f2c7c0-e3a5-4388-8b66-16babdfa69e4",
   "metadata": {},
   "outputs": [],
   "source": [
    "from utility_programs import plotting_routines as pr\n",
    "from utility_programs.read_routines import SAMI, GITM\n"
   ]
  }
 ],
 "metadata": {
  "kernelspec": {
   "display_name": "Python 3 (ipykernel)",
   "language": "python",
   "name": "python3"
  },
  "language_info": {
   "codemirror_mode": {
    "name": "ipython",
    "version": 3
   },
   "file_extension": ".py",
   "mimetype": "text/x-python",
   "name": "python",
   "nbconvert_exporter": "python",
   "pygments_lexer": "ipython3",
   "version": "3.9.12"
  }
 },
 "nbformat": 4,
 "nbformat_minor": 5
}
