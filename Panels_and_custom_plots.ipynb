{
 "cells": [
  {
   "cell_type": "markdown",
   "metadata": {},
   "source": [
    "Here we'll show examples of:\n",
    "- arranging plots on a grid\n",
    "- Making custom plots\n",
    "- And some other things"
   ]
  },
  {
   "cell_type": "code",
   "execution_count": 368,
   "metadata": {},
   "outputs": [],
   "source": [
    "import numpy as np\n",
    "import matplotlib.pyplot as plt\n",
    "from matplotlib.gridspec import GridSpec\n",
    "from utility_programs.read_routines import GITM, SAMI\n",
    "\n",
    "from utility_programs import filters, plot_help\n",
    "\n",
    "import argparse\n",
    "from tqdm.auto import tqdm\n",
    "from utility_programs.plot_help import UT_from_Storm_onset\n",
    "import utility_programs.plotting_routines as pr\n",
    "from utility_programs import filters\n",
    "import os\n",
    "import datetime\n",
    "import pandas as pd\n",
    "\n",
    "from scipy import signal\n",
    "\n",
    "import aacgmv2\n",
    "\n",
    "import importlib\n",
    "\n",
    "import geopandas\n",
    "world = geopandas.read_file(geopandas.datasets.get_path(\"naturalearth_lowres\"))\n"
   ]
  },
  {
   "cell_type": "code",
   "execution_count": 385,
   "metadata": {},
   "outputs": [],
   "source": [
    "pr = importlib.reload(utility_programs.plotting_routines)\n",
    "filters = importlib.reload(utility_programs.filters)"
   ]
  },
  {
   "cell_type": "code",
   "execution_count": 18,
   "metadata": {},
   "outputs": [],
   "source": [
    "dtime_storm_start=datetime.datetime(2011,5,21,12,0)\n",
    "# we'll need this a lot."
   ]
  },
  {
   "cell_type": "code",
   "execution_count": null,
   "metadata": {},
   "outputs": [],
   "source": []
  },
  {
   "cell_type": "code",
   "execution_count": null,
   "metadata": {},
   "outputs": [],
   "source": []
  },
  {
   "cell_type": "code",
   "execution_count": null,
   "metadata": {},
   "outputs": [],
   "source": []
  },
  {
   "cell_type": "code",
   "execution_count": 2,
   "metadata": {},
   "outputs": [],
   "source": [
    "# test getting figs back from make_map..."
   ]
  },
  {
   "cell_type": "code",
   "execution_count": 3,
   "metadata": {},
   "outputs": [
    {
     "data": {
      "application/vnd.jupyter.widget-view+json": {
       "model_id": "40dddcdfde97461f8f60b543494da9e6",
       "version_major": 2,
       "version_minor": 0
      },
      "text/plain": [
       "  0%|          | 0/24 [00:00<?, ?it/s]"
      ]
     },
     "metadata": {},
     "output_type": "display_data"
    }
   ],
   "source": [
    "gitm_dtimes, gitmgrid, gitmbins, gitmvars = GITM.read_gitm_into_nparrays(\n",
    "    \"/home/axb170054/scratch/GITM-testing/test_folders/step_function_driving/run/data\", dtime_storm_start, t_start_idx=1, t_end_idx=1,return_vars=True)"
   ]
  },
  {
   "cell_type": "code",
   "execution_count": 4,
   "metadata": {},
   "outputs": [
    {
     "data": {
      "text/plain": [
       "(24, 37, 90, 180, 50)"
      ]
     },
     "execution_count": 4,
     "metadata": {},
     "output_type": "execute_result"
    }
   ],
   "source": [
    "gitmbins.shape"
   ]
  },
  {
   "cell_type": "code",
   "execution_count": 78,
   "metadata": {},
   "outputs": [],
   "source": []
  },
  {
   "cell_type": "code",
   "execution_count": 9,
   "metadata": {},
   "outputs": [
    {
     "name": "stdout",
     "output_type": "stream",
     "text": [
      "0 0 0\n",
      "1 0 1\n",
      "2 1 0\n",
      "3 1 1\n"
     ]
    }
   ],
   "source": [
    "nrows = 2\n",
    "ncols = 2\n",
    "\n",
    "i=0\n",
    "\n",
    "for row in range(nrows):\n",
    "    for col in range(ncols):\n",
    "        \n",
    "        i\n",
    "        print(i, row, col)\n",
    "        i+=1"
   ]
  },
  {
   "cell_type": "code",
   "execution_count": null,
   "metadata": {},
   "outputs": [],
   "source": []
  },
  {
   "cell_type": "code",
   "execution_count": null,
   "metadata": {},
   "outputs": [],
   "source": []
  },
  {
   "cell_type": "code",
   "execution_count": 69,
   "metadata": {},
   "outputs": [
    {
     "ename": "IndexError",
     "evalue": "index 30 is out of bounds for axis 4 with size 1",
     "output_type": "error",
     "traceback": [
      "\u001b[0;31m---------------------------------------------------------------------------\u001b[0m",
      "\u001b[0;31mIndexError\u001b[0m                                Traceback (most recent call last)",
      "Cell \u001b[0;32mIn[69], line 6\u001b[0m\n\u001b[1;32m      2\u001b[0m ncols \u001b[38;5;241m=\u001b[39m \u001b[38;5;241m2\u001b[39m\n\u001b[1;32m      5\u001b[0m data\u001b[38;5;241m=\u001b[39m[[\u001b[38;5;241m0\u001b[39m,\u001b[38;5;241m0\u001b[39m],[\u001b[38;5;241m0\u001b[39m,\u001b[38;5;241m0\u001b[39m]]\n\u001b[0;32m----> 6\u001b[0m data[\u001b[38;5;241m0\u001b[39m][\u001b[38;5;241m0\u001b[39m] \u001b[38;5;241m=\u001b[39m \u001b[43mgitmbins\u001b[49m\u001b[43m[\u001b[49m\u001b[38;5;241;43m0\u001b[39;49m\u001b[43m,\u001b[49m\u001b[38;5;241;43m0\u001b[39;49m\u001b[43m,\u001b[49m\u001b[43m:\u001b[49m\u001b[43m,\u001b[49m\u001b[43m:\u001b[49m\u001b[43m,\u001b[49m\u001b[38;5;241;43m30\u001b[39;49m\u001b[43m]\u001b[49m\n\u001b[1;32m      7\u001b[0m data[\u001b[38;5;241m0\u001b[39m][\u001b[38;5;241m1\u001b[39m] \u001b[38;5;241m=\u001b[39m gitmbins[\u001b[38;5;241m5\u001b[39m,\u001b[38;5;241m0\u001b[39m,:,:,\u001b[38;5;241m30\u001b[39m]\n\u001b[1;32m      8\u001b[0m data[\u001b[38;5;241m1\u001b[39m][\u001b[38;5;241m0\u001b[39m] \u001b[38;5;241m=\u001b[39m gitmbins[\u001b[38;5;241m10\u001b[39m,\u001b[38;5;241m0\u001b[39m,:,:,\u001b[38;5;241m30\u001b[39m]\n",
      "\u001b[0;31mIndexError\u001b[0m: index 30 is out of bounds for axis 4 with size 1"
     ]
    }
   ],
   "source": [
    "nrows = 2\n",
    "ncols = 2\n",
    "\n",
    "\n",
    "data=[[0,0],[0,0]]\n",
    "data[0][0] = gitmbins[0,0,:,:,30]\n",
    "data[0][1] = gitmbins[5,0,:,:,30]\n",
    "data[1][0] = gitmbins[10,0,:,:,30]\n",
    "data[1][1] = gitmbins[15,0,:,:,30]\n",
    "\n",
    "titles=[[0,0],[0,0]]\n",
    "titles[0][0] = \"1\"\n",
    "titles[0][1] = \"2\"\n",
    "titles[1][0] = \"3\"\n",
    "titles[1][1] = \"4\"\n",
    "\n",
    "\n",
    "# Do as shown above or (depending on your needs):\n",
    "\"\"\"\n",
    "data = []\n",
    "titles = []\n",
    "\n",
    "numtimes = [0,5,10,15]\n",
    "titles = ['one','two','three','four']\n",
    "var_idx = 0\n",
    "\n",
    "i=0\n",
    "for row in range(nrows):\n",
    "    for col in range(ncols):\n",
    "        \n",
    "        \n",
    "        data[row][col] = gitmbins[numtimes[i],var_idx,:,:,30]\n",
    "        titles[row][col] = titles[i]\n",
    "        i+=1\n",
    "\"\"\"\n",
    "\n",
    "\n",
    "fig, axes = plt.subplots(nrows,ncols, figsize=(10,5), sharex=True)\n",
    "\n",
    "for row in range(nrows):\n",
    "    for col in range(ncols):\n",
    "        im = pr.draw_map(data[row][col], [np.min(data1), np.max(data1)], save_or_show=\"return\", ax=axes[row,col], title=str(row))\n",
    "        \n",
    "        axes[row,col].set_title(titles[row][col])\n",
    "        \n",
    "        if col == 0:\n",
    "            axes[row,col].set_ylabel(\"Latitude (deg)\")\n",
    "        if row == nrows-1:\n",
    "            axes[row,col].set_xlabel(\"Longitude (deg)\")\n",
    "\n",
    "\n",
    "fig.suptitle('Some Maps          ', fontsize=16, ha='center')\n",
    "# spaces needed to center properly with the colorbar existing.\n",
    "    \n",
    "fig.colorbar(im, ax=axes.ravel().tolist(), orientation=\"vertical\",\n",
    "             label = 'Rho (n/m^3)')\n",
    "fig.align_xlabels()\n",
    "\n",
    "\n",
    "plt.show()\n",
    "plt.close()"
   ]
  },
  {
   "cell_type": "code",
   "execution_count": null,
   "metadata": {},
   "outputs": [],
   "source": []
  },
  {
   "cell_type": "code",
   "execution_count": null,
   "metadata": {},
   "outputs": [],
   "source": []
  },
  {
   "cell_type": "code",
   "execution_count": null,
   "metadata": {},
   "outputs": [],
   "source": []
  },
  {
   "cell_type": "code",
   "execution_count": null,
   "metadata": {},
   "outputs": [],
   "source": []
  },
  {
   "cell_type": "markdown",
   "metadata": {},
   "source": [
    "## Panel of Joule Heating & Particle Heating 10 mins after storm onset."
   ]
  },
  {
   "cell_type": "markdown",
   "metadata": {},
   "source": [
    "This needs to be done a little differently since the data isn't split into hemisphereres naturally"
   ]
  },
  {
   "cell_type": "code",
   "execution_count": null,
   "metadata": {},
   "outputs": [],
   "source": []
  },
  {
   "cell_type": "code",
   "execution_count": 3,
   "metadata": {},
   "outputs": [
    {
     "name": "stderr",
     "output_type": "stream",
     "text": [
      "100%|██████████| 24/24 [00:00<00:00, 24.72it/s]\n"
     ]
    }
   ],
   "source": [
    "gitm_dtimes, gitmgrid, gitmbins, gitmvars = GITM.read_gitm_into_nparrays(\n",
    "    \"/glade/u/home/abukowski/scratch/GITM-simstorm-run1/run2/UA/data\", , t_start_idx=1, t_end_idx=1,return_vars=True, gitm_file_pattern='2DANC*.bin')"
   ]
  },
  {
   "cell_type": "code",
   "execution_count": 13,
   "metadata": {},
   "outputs": [
    {
     "data": {
      "text/plain": [
       "(24, 12, 90, 180, 1)"
      ]
     },
     "execution_count": 13,
     "metadata": {},
     "output_type": "execute_result"
    }
   ],
   "source": [
    "gitmbins.shape"
   ]
  },
  {
   "cell_type": "code",
   "execution_count": null,
   "metadata": {},
   "outputs": [],
   "source": []
  },
  {
   "cell_type": "code",
   "execution_count": 38,
   "metadata": {},
   "outputs": [],
   "source": [
    "lats = np.unique(gitmgrid['latitude'])\n",
    "lons = np.unique(gitmgrid['longitude'])\n",
    "new_shape = [len(gitm_dtimes), len(lons), len(lats)]\n",
    "\n",
    "maskNorth = ((lats > 45))\n",
    "maskSouth = ((lats < -45))"
   ]
  },
  {
   "cell_type": "code",
   "execution_count": null,
   "metadata": {},
   "outputs": [],
   "source": []
  },
  {
   "cell_type": "code",
   "execution_count": null,
   "metadata": {},
   "outputs": [],
   "source": []
  },
  {
   "cell_type": "code",
   "execution_count": null,
   "metadata": {},
   "outputs": [],
   "source": []
  },
  {
   "cell_type": "code",
   "execution_count": 39,
   "metadata": {},
   "outputs": [
    {
     "data": {
      "text/plain": [
       "['LocalTime',\n",
       " 'SolarZenithAngle',\n",
       " 'VerticalTEC',\n",
       " 'AltIntJouleHeating(W/m2)',\n",
       " 'AltIntHeatingTransfer(W/m2)',\n",
       " 'AltIntEuvHeating(W/m2)',\n",
       " 'AltIntPhotoElectronHeating(W/m2)',\n",
       " 'AltIntChamicalHeating(W/m2)',\n",
       " 'AltIntRadCooling(W/m2)',\n",
       " 'AltIntCO2Cooling(W/m2)',\n",
       " 'AltIntNOCooling(W/m2)',\n",
       " 'AltIntOCooling(W/m2)']"
      ]
     },
     "execution_count": 39,
     "metadata": {},
     "output_type": "execute_result"
    }
   ],
   "source": [
    "gitmvars"
   ]
  },
  {
   "cell_type": "code",
   "execution_count": 67,
   "metadata": {},
   "outputs": [
    {
     "name": "stdout",
     "output_type": "stream",
     "text": [
      "3 AltIntJouleHeating(W/m2)\n",
      "4 AltIntHeatingTransfer(W/m2)\n",
      "5 AltIntEuvHeating(W/m2)\n",
      "6 AltIntPhotoElectronHeating(W/m2)\n",
      "7 AltIntChamicalHeating(W/m2)\n",
      "8 AltIntRadCooling(W/m2)\n",
      "9 AltIntCO2Cooling(W/m2)\n",
      "10 AltIntNOCooling(W/m2)\n",
      "11 AltIntOCooling(W/m2)\n"
     ]
    }
   ],
   "source": [
    "for i, n in enumerate(gitmvars):\n",
    "    if 'Heat' in n or 'Cool' in n:\n",
    "        print(i,n)"
   ]
  },
  {
   "cell_type": "code",
   "execution_count": null,
   "metadata": {},
   "outputs": [],
   "source": []
  },
  {
   "cell_type": "code",
   "execution_count": null,
   "metadata": {},
   "outputs": [],
   "source": []
  },
  {
   "cell_type": "code",
   "execution_count": null,
   "metadata": {},
   "outputs": [],
   "source": []
  },
  {
   "cell_type": "code",
   "execution_count": 40,
   "metadata": {},
   "outputs": [
    {
     "data": {
      "text/plain": [
       "('AltIntJouleHeating(W/m2)', 'AltIntEuvHeating(W/m2)')"
      ]
     },
     "execution_count": 40,
     "metadata": {},
     "output_type": "execute_result"
    }
   ],
   "source": [
    "gitmvars[3], gitmvars[5]"
   ]
  },
  {
   "cell_type": "code",
   "execution_count": 84,
   "metadata": {},
   "outputs": [
    {
     "name": "stderr",
     "output_type": "stream",
     "text": [
      "/glade/scratch/abukowski/ipykernel_61115/170109672.py:70: UserWarning: FixedFormatter should only be used together with FixedLocator\n",
      "  axes[row,col].set_yticklabels(ylabels)\n"
     ]
    }
   ],
   "source": [
    "nrows = 2\n",
    "ncols = 2\n",
    "t_index = 14\n",
    "\n",
    "dtime = gitm_dtimes[t_index]\n",
    "\n",
    "# Do it automatically:\n",
    "nvars = [3,5,6,7]\n",
    "nrows=len(nvars)\n",
    "data = []\n",
    "titles=['North','South']\n",
    "colorbar_labels=[]\n",
    "\n",
    "for var in nvars:\n",
    "    data.append(gitmbins[t_index,var,:,:,:].reshape([len(lons), len(lats)]))\n",
    "    colorbar_labels.append(gitmvars[var])\n",
    "                \n",
    "\n",
    "\n",
    "\"\"\"\n",
    "data=[0,0] \n",
    "# Don't set data in Column! \n",
    "# We'll plot same data, other hemisphere in the columns\n",
    "data[0] = gitmbins[t_index,3,:,:,:].reshape([len(lons), len(lats)])\n",
    "data[1] = gitmbins[t_index,5,:,:,:].reshape([len(lons), len(lats)])\n",
    "\n",
    "\n",
    "titles=[0,0]\n",
    "titles[0] = \"North\"\n",
    "titles[1] = \"South\"\n",
    "# Only needed in first row!\n",
    "\n",
    "\n",
    "colorbar_labels=[0 for i in range(nrows)]\n",
    "\"\"\"\n",
    "\n",
    "\n",
    "# fig = plt.figure(figsize=(10, 8.5))\n",
    "fig, axes = plt.subplots(nrows,ncols, figsize=(10,4*nrows),subplot_kw={'projection':'polar'})\n",
    "\n",
    "\n",
    "\n",
    "fig.suptitle('Heating/Cooling %s UT from storm onset \\n (%s UT)\\n\\n'\n",
    "                % (UT_from_Storm_onset(\n",
    "                    dtime, dtime_storm_start),\n",
    "                str(dtime)), fontsize=15)\n",
    "\n",
    "\n",
    "\n",
    "for row in range(nrows):\n",
    "    for col in range(ncols):\n",
    "        \n",
    "        r, theta = np.meshgrid(90-lats[maskNorth], lons)\n",
    "        \n",
    "        if col == 0:\n",
    "            axes[row,col].pcolor(np.deg2rad(theta), r,\n",
    "                             data[row][:, maskNorth].copy(),\n",
    "                             vmin=np.min(data[row]),\n",
    "                             vmax=np.max(data[row]),)\n",
    "        elif col ==1:\n",
    "            cb = axes[row,col].pcolor(np.deg2rad(theta), r,\n",
    "                             data[row][:, maskNorth].copy(),\n",
    "                             vmin=np.min(data[row]),\n",
    "                             vmax=np.max(data[row]),)\n",
    "            \n",
    "            fig.colorbar(cb, label=colorbar_labels[row])\n",
    "        \n",
    "        \n",
    "        ylabels = ['80', '70', '60', '50']\n",
    "        axes[row,col].set_yticklabels(ylabels)\n",
    "        axes[row,col].set_xticks(np.arange(0, 2*np.pi, np.pi/2))\n",
    "        axes[row,col].set_yticks(np.arange(10, 50, 10))\n",
    "        \n",
    "        if row == 0:\n",
    "            axes[row,col].set_title(titles[col])\n",
    "        \n",
    "        \n",
    "\n",
    "fig.tight_layout()\n",
    "\n",
    "# plt.show()\n",
    "plt.savefig('some-heatingcooling-during-storm')\n",
    "plt.close()"
   ]
  },
  {
   "cell_type": "code",
   "execution_count": null,
   "metadata": {},
   "outputs": [],
   "source": []
  },
  {
   "cell_type": "code",
   "execution_count": null,
   "metadata": {},
   "outputs": [],
   "source": []
  },
  {
   "cell_type": "code",
   "execution_count": null,
   "metadata": {},
   "outputs": [],
   "source": []
  },
  {
   "cell_type": "markdown",
   "metadata": {},
   "source": [
    "## GITM Rho Maps"
   ]
  },
  {
   "cell_type": "code",
   "execution_count": 128,
   "metadata": {},
   "outputs": [
    {
     "name": "stderr",
     "output_type": "stream",
     "text": [
      "100%|██████████| 48/48 [02:18<00:00,  2.88s/it]\n"
     ]
    }
   ],
   "source": [
    "gitm_dtimes, gitmgrid, gitmbins, gitmvars = GITM.read_gitm_into_nparrays(\n",
    "    \"/glade/u/home/abukowski/scratch/GITM-simstorm-run1/run2/UA/data\", dtime_storm_start, t_start_idx=1, t_end_idx=3,return_vars=True)"
   ]
  },
  {
   "cell_type": "code",
   "execution_count": 129,
   "metadata": {},
   "outputs": [
    {
     "data": {
      "text/plain": [
       "(datetime.datetime(2011, 5, 21, 12, 10),\n",
       " datetime.datetime(2011, 5, 21, 12, 40),\n",
       " datetime.datetime(2011, 5, 21, 14, 40),\n",
       " 'Rho')"
      ]
     },
     "execution_count": 129,
     "metadata": {},
     "output_type": "execute_result"
    }
   ],
   "source": [
    "gitm_dtimes[14], gitm_dtimes[20], gitm_dtimes[44], gitmvars[0]"
   ]
  },
  {
   "cell_type": "code",
   "execution_count": 130,
   "metadata": {},
   "outputs": [],
   "source": [
    "alt = 225 # km\n",
    "times = [14,20,26,32,38,44]\n",
    "var = 0\n",
    "\n",
    "nrows = 3\n",
    "ncols = 2\n",
    "\n",
    "\n",
    "alt_idx = np.argmin(np.abs(np.unique(gitmgrid['altitude']) - alt*1000))\n"
   ]
  },
  {
   "cell_type": "code",
   "execution_count": null,
   "metadata": {},
   "outputs": [],
   "source": []
  },
  {
   "cell_type": "code",
   "execution_count": 131,
   "metadata": {},
   "outputs": [],
   "source": [
    "fits = filters.make_fits(gitmbins)\n",
    "percents = 100*(gitmbins - fits)/gitmbins\n",
    "\n",
    "del fits, gitmbins\n"
   ]
  },
  {
   "cell_type": "code",
   "execution_count": 133,
   "metadata": {},
   "outputs": [],
   "source": [
    "data = [[],[],[]]\n",
    "titles = [[],[],[]]\n",
    "\n",
    "for row in range(nrows):\n",
    "    for col in range(ncols):\n",
    "        data[row].append(percents[times[row+col],var,:,:,alt_idx].copy())\n",
    "        titles[row].append(plot_help.UT_from_Storm_onset(gitm_dtimes[times[row+col]], dtime_storm_start))\n",
    "\n",
    "del percents"
   ]
  },
  {
   "cell_type": "code",
   "execution_count": 137,
   "metadata": {},
   "outputs": [],
   "source": [
    "titles[0][0] += ' UT from Storm Onset'"
   ]
  },
  {
   "cell_type": "code",
   "execution_count": 141,
   "metadata": {},
   "outputs": [],
   "source": [
    "\n",
    "fig, axes = plt.subplots(nrows,ncols, figsize=(10,3*nrows), sharex=True, sharey=True)\n",
    "\n",
    "for row in range(nrows):\n",
    "    for col in range(ncols):\n",
    "        im = pr.draw_map(data[row][col], [-2,2], save_or_show=\"return\", ax=axes[row,col], title=str(row), cmap='bwr')\n",
    "        \n",
    "        axes[row,col].set_title(titles[row][col])\n",
    "        \n",
    "        if col == 0:\n",
    "            axes[row,col].set_ylabel(\"Latitude (deg)\")\n",
    "\n",
    "        if row == nrows-1:\n",
    "            axes[row,col].set_xlabel(\"Longitude (deg)\")\n",
    "\n",
    "\n",
    "fig.suptitle('Neutral Density Perturbations from GITM at 225 km          ', fontsize=16, ha='center')\n",
    "# spaces needed to center properly with the colorbar existing.\n",
    "    \n",
    "fig.colorbar(im, ax=axes.ravel().tolist(), orientation=\"vertical\",\n",
    "             label = '% over Background', aspect=75)\n",
    "fig.align_xlabels()\n",
    "\n",
    "\n",
    "plt.savefig(\"/glade/u/home/abukowski/figures/fig1\")\n",
    "# plt.show()\n",
    "plt.close()"
   ]
  },
  {
   "cell_type": "code",
   "execution_count": null,
   "metadata": {},
   "outputs": [],
   "source": []
  },
  {
   "cell_type": "code",
   "execution_count": 146,
   "metadata": {},
   "outputs": [
    {
     "data": {
      "text/plain": [
       "[225, 663]"
      ]
     },
     "execution_count": 146,
     "metadata": {},
     "output_type": "execute_result"
    }
   ],
   "source": [
    "alts"
   ]
  },
  {
   "cell_type": "code",
   "execution_count": null,
   "metadata": {},
   "outputs": [],
   "source": []
  },
  {
   "cell_type": "code",
   "execution_count": 142,
   "metadata": {},
   "outputs": [
    {
     "name": "stderr",
     "output_type": "stream",
     "text": [
      "100%|██████████| 120/120 [05:29<00:00,  2.75s/it]\n"
     ]
    }
   ],
   "source": [
    "gitm_dtimes, gitmgrid, gitmbins, gitmvars = GITM.read_gitm_into_nparrays(\n",
    "    \"/glade/u/home/abukowski/scratch/GITM-simstorm-run1/run2/UA/data\", dtime_storm_start, t_start_idx=2, t_end_idx=8,return_vars=True, cols='Rho')"
   ]
  },
  {
   "cell_type": "code",
   "execution_count": 171,
   "metadata": {},
   "outputs": [],
   "source": [
    "nrows=2\n",
    "ncols=2\n",
    "\n",
    "alts=[225,663]\n",
    "lons=[1,-90]"
   ]
  },
  {
   "cell_type": "code",
   "execution_count": 172,
   "metadata": {},
   "outputs": [],
   "source": [
    "alts_real = []\n",
    "alt_idxs = []\n",
    "lons_real = []\n",
    "lon_idxs = []\n",
    "\n",
    "for i in range(len(alts)):\n",
    "    altidx=np.argmin(np.abs(np.unique(gitmgrid['altitude']) - alts[i]*1000))\n",
    "    alt_idxs.append(altidx)\n",
    "    alts_real.append(np.unique(gitmgrid['altitude'])[altidx])\n",
    "    \n",
    "    lonidx=np.argmin(np.abs(np.unique(gitmgrid['longitude']) - lons[i]))\n",
    "    lon_idxs.append(lonidx)\n",
    "    lons_real.append(np.unique(gitmgrid['longitude'])[lonidx])\n",
    "    "
   ]
  },
  {
   "cell_type": "code",
   "execution_count": 163,
   "metadata": {},
   "outputs": [],
   "source": [
    "fits = filters.make_fits(gitmbins)\n",
    "percents = 100*(gitmbins - fits)/gitmbins\n",
    "\n",
    "# del fits, gitmbins"
   ]
  },
  {
   "cell_type": "code",
   "execution_count": 173,
   "metadata": {},
   "outputs": [],
   "source": [
    "data = [[],[]]\n",
    "titles = [[],[]]\n",
    "\n",
    "for row in range(nrows):\n",
    "    for col in range(ncols):\n",
    "        data[row].append(percents[:,var,lon_idxs[row],:,alt_idxs[col]].copy())\n",
    "        titles[row].append('lon= %i deg, alt= %i km' %(lons_real[row], alts_real[col]/1000))\n",
    "\n",
    "# del percents"
   ]
  },
  {
   "cell_type": "code",
   "execution_count": 175,
   "metadata": {},
   "outputs": [],
   "source": [
    "fig, axes = plt.subplots(nrows,ncols, figsize=(10,3*nrows), sharex=True, sharey=True)\n",
    "\n",
    "for row in range(nrows):\n",
    "    for col in range(ncols):\n",
    "        im = pr.draw_map(data[row][col], [-2,2], save_or_show=\"return\", ax=axes[row,col], title=str(row), cmap='bwr')\n",
    "        \n",
    "        axes[row,col].set_title(titles[row][col])\n",
    "        \n",
    "        if col == 0:\n",
    "            axes[row,col].set_ylabel(\"Latitude (deg)\")\n",
    "\n",
    "        if row == nrows-1:\n",
    "            axes[row,col].set_xlabel(\"Longitude (deg)\")\n",
    "\n",
    "\n",
    "fig.suptitle('Keograms of Neutral Density Perturbations from GITM          ', fontsize=16, ha='center')\n",
    "# spaces needed to center properly with the colorbar existing.\n",
    "    \n",
    "fig.colorbar(im, ax=axes.ravel().tolist(), orientation=\"vertical\",\n",
    "             label = '% over Background', aspect=75)\n",
    "fig.align_xlabels()\n",
    "\n",
    "\n",
    "plt.savefig(\"/glade/u/home/abukowski/figures/fig2\")\n",
    "# plt.show()\n",
    "plt.close()"
   ]
  },
  {
   "cell_type": "code",
   "execution_count": null,
   "metadata": {},
   "outputs": [],
   "source": []
  },
  {
   "cell_type": "code",
   "execution_count": null,
   "metadata": {},
   "outputs": [],
   "source": []
  },
  {
   "cell_type": "code",
   "execution_count": null,
   "metadata": {},
   "outputs": [],
   "source": []
  },
  {
   "cell_type": "code",
   "execution_count": 233,
   "metadata": {},
   "outputs": [],
   "source": [
    "samidata, times = SAMI.read_sami_dene_tec(\n",
    "    \"/glade/u/home/abukowski/scratch/GITM-simstorm-run1/sami-gitm-coupled/\",\n",
    "    datetime.datetime(2011,5,20), dtime_storm_start,)"
   ]
  },
  {
   "cell_type": "code",
   "execution_count": 234,
   "metadata": {},
   "outputs": [],
   "source": [
    "start = np.argmin(np.abs(times-datetime.datetime(2011,5,21,10))/pd.Timedelta(1, 'minute'))\n",
    "end = np.argmin(np.abs(times-datetime.datetime(2011,5,21,20))/pd.Timedelta(1, 'minute'))"
   ]
  },
  {
   "cell_type": "code",
   "execution_count": 289,
   "metadata": {},
   "outputs": [
    {
     "data": {
      "text/plain": [
       "(528, 408)"
      ]
     },
     "execution_count": 289,
     "metadata": {},
     "output_type": "execute_result"
    }
   ],
   "source": [
    "end, start"
   ]
  },
  {
   "cell_type": "code",
   "execution_count": null,
   "metadata": {},
   "outputs": [],
   "source": []
  },
  {
   "cell_type": "code",
   "execution_count": 312,
   "metadata": {},
   "outputs": [],
   "source": [
    "lons=[90,-178,2,-90]"
   ]
  },
  {
   "cell_type": "code",
   "execution_count": 313,
   "metadata": {},
   "outputs": [
    {
     "ename": "NameError",
     "evalue": "name 'samidata' is not defined",
     "output_type": "error",
     "traceback": [
      "\u001b[0;31m---------------------------------------------------------------------------\u001b[0m",
      "\u001b[0;31mNameError\u001b[0m                                 Traceback (most recent call last)",
      "Cell \u001b[0;32mIn[313], line 1\u001b[0m\n\u001b[0;32m----> 1\u001b[0m fitssami \u001b[38;5;241m=\u001b[39m filters\u001b[38;5;241m.\u001b[39mmake_fits(\u001b[43msamidata\u001b[49m[\u001b[38;5;124m'\u001b[39m\u001b[38;5;124mdata\u001b[39m\u001b[38;5;124m'\u001b[39m][\u001b[38;5;124m'\u001b[39m\u001b[38;5;124mtec\u001b[39m\u001b[38;5;124m'\u001b[39m])\n\u001b[1;32m      2\u001b[0m percent\u001b[38;5;241m=\u001b[39m\u001b[38;5;241m100\u001b[39m\u001b[38;5;241m*\u001b[39m(samidata[\u001b[38;5;124m'\u001b[39m\u001b[38;5;124mdata\u001b[39m\u001b[38;5;124m'\u001b[39m][\u001b[38;5;124m'\u001b[39m\u001b[38;5;124mtec\u001b[39m\u001b[38;5;124m'\u001b[39m]\u001b[38;5;241m-\u001b[39mfitssami)\u001b[38;5;241m/\u001b[39msamidata[\u001b[38;5;124m'\u001b[39m\u001b[38;5;124mdata\u001b[39m\u001b[38;5;124m'\u001b[39m][\u001b[38;5;124m'\u001b[39m\u001b[38;5;124mtec\u001b[39m\u001b[38;5;124m'\u001b[39m]\n\u001b[1;32m      4\u001b[0m grid\u001b[38;5;241m=\u001b[39msamidata[\u001b[38;5;124m'\u001b[39m\u001b[38;5;124mgrid\u001b[39m\u001b[38;5;124m'\u001b[39m]\n",
      "\u001b[0;31mNameError\u001b[0m: name 'samidata' is not defined"
     ]
    }
   ],
   "source": [
    "fitssami = filters.make_fits(samidata['data']['tec'])\n",
    "percent=100*(samidata['data']['tec']-fitssami)/samidata['data']['tec']\n",
    "\n",
    "grid=samidata['grid']\n",
    "\n",
    "del samidata, fitssami"
   ]
  },
  {
   "cell_type": "code",
   "execution_count": 314,
   "metadata": {},
   "outputs": [
    {
     "data": {
      "text/plain": [
       "(625, 80, 100)"
      ]
     },
     "execution_count": 314,
     "metadata": {},
     "output_type": "execute_result"
    }
   ],
   "source": [
    "percent.shape"
   ]
  },
  {
   "cell_type": "code",
   "execution_count": 315,
   "metadata": {},
   "outputs": [],
   "source": [
    "glons = []\n",
    "glats = []\n",
    "nlons = grid['glon'].shape[0]\n",
    "nlats = grid['glat'].shape[2]\n",
    "for lat in range(nlats):\n",
    "    for lon in range(nlons):\n",
    "        glon_i = grid['glon'][lon,0,lat]\n",
    "        if glon_i > 180:\n",
    "            glons.append(glon_i - 360)\n",
    "        else:\n",
    "            glons.append(glon_i)\n",
    "        glats.append(grid['glat'][lon,0,lat])\n",
    "\n",
    "glons = np.array(glons)\n"
   ]
  },
  {
   "cell_type": "code",
   "execution_count": 316,
   "metadata": {},
   "outputs": [
    {
     "data": {
      "text/plain": [
       "(8000,)"
      ]
     },
     "execution_count": 316,
     "metadata": {},
     "output_type": "execute_result"
    }
   ],
   "source": [
    "glons.shape"
   ]
  },
  {
   "cell_type": "code",
   "execution_count": 320,
   "metadata": {},
   "outputs": [],
   "source": [
    "data = [[],[]]\n",
    "titles = [[],[]]\n",
    "\n",
    "i=0\n",
    "\n",
    "for row in range(nrows):\n",
    "    for col in range(ncols):\n",
    "        sel_pts = np.where(\n",
    "                    (np.abs(glons - lons[i]) < 3) &\n",
    "                    (np.abs(glats) < 65) )[0]\n",
    "        raw = []\n",
    "        for t in range(start, end):\n",
    "            raw.append(percent[t,:,:].copy().T.flatten()[sel_pts])\n",
    "        data[row].append(np.array(raw))\n",
    "        titles[row].append('lon= %i deg' %(lons[i]))\n",
    "        \n",
    "        i+=1\n",
    "        \n",
    "      "
   ]
  },
  {
   "cell_type": "code",
   "execution_count": null,
   "metadata": {},
   "outputs": [],
   "source": []
  },
  {
   "cell_type": "code",
   "execution_count": 321,
   "metadata": {},
   "outputs": [
    {
     "data": {
      "text/plain": [
       "(2, 2, (120, 115))"
      ]
     },
     "execution_count": 321,
     "metadata": {},
     "output_type": "execute_result"
    }
   ],
   "source": [
    "len(data), len(data[0]), data[0][0].shape"
   ]
  },
  {
   "cell_type": "code",
   "execution_count": null,
   "metadata": {},
   "outputs": [],
   "source": []
  },
  {
   "cell_type": "code",
   "execution_count": null,
   "metadata": {},
   "outputs": [],
   "source": []
  },
  {
   "cell_type": "code",
   "execution_count": 326,
   "metadata": {},
   "outputs": [],
   "source": [
    "fig, axes = plt.subplots(nrows,ncols, figsize=(10,3*nrows), sharex=True, sharey=True)\n",
    "\n",
    "for row in range(nrows):\n",
    "    for col in range(ncols):\n",
    "        im = pr.make_a_keo(data[row][col], cbarlims=[-.25,.25],\n",
    "                           save_or_show=\"return\", ax=axes[row,col], cmap='bwr', extent=[-2,8,-90,90],\n",
    "                          ylims=[-65,65])\n",
    "        \n",
    "        axes[row,col].set_title(titles[row][col])\n",
    "        \n",
    "        if col == 0:\n",
    "            axes[row,col].set_ylabel(\"Latitude (deg)\")\n",
    "\n",
    "        if row == nrows-1:\n",
    "            axes[row,col].set_xlabel(\"Hours from Storm Onset\")\n",
    "\n",
    "\n",
    "fig.suptitle('Keograms of TEC Perturbations from SAMI3          ', fontsize=16, ha='center')\n",
    "# spaces needed to center properly with the colorbar existing.\n",
    "    \n",
    "fig.colorbar(im, ax=axes.ravel().tolist(), orientation=\"vertical\",\n",
    "             label = 'deltaTEC (TEC units)', aspect=75)\n",
    "fig.align_xlabels()\n",
    "\n",
    "\n",
    "plt.savefig(\"/glade/u/home/abukowski/figures/fig4\")\n",
    "# plt.show()\n",
    "plt.close()"
   ]
  },
  {
   "cell_type": "code",
   "execution_count": null,
   "metadata": {},
   "outputs": [],
   "source": []
  },
  {
   "cell_type": "code",
   "execution_count": null,
   "metadata": {},
   "outputs": [],
   "source": []
  },
  {
   "cell_type": "code",
   "execution_count": null,
   "metadata": {},
   "outputs": [],
   "source": []
  },
  {
   "cell_type": "code",
   "execution_count": null,
   "metadata": {},
   "outputs": [],
   "source": []
  },
  {
   "cell_type": "code",
   "execution_count": null,
   "metadata": {},
   "outputs": [],
   "source": []
  },
  {
   "cell_type": "code",
   "execution_count": 332,
   "metadata": {},
   "outputs": [
    {
     "name": "stdout",
     "output_type": "stream",
     "text": [
      "(80, 72, 256, 48) 48 420 468\n"
     ]
    }
   ],
   "source": [
    "samidata, times = SAMI.read_sami_data(\n",
    "    \"/glade/u/home/abukowski/scratch/GITM-simstorm-run1/sami-gitm-coupled/\",\n",
    "    datetime.datetime(2011,5,20), dtime_storm_start, 1, 3,  cols=['edens'])"
   ]
  },
  {
   "cell_type": "code",
   "execution_count": 344,
   "metadata": {},
   "outputs": [
    {
     "data": {
      "text/plain": [
       "(80, 72, 256, 48)"
      ]
     },
     "execution_count": 344,
     "metadata": {},
     "output_type": "execute_result"
    }
   ],
   "source": [
    "samidata['data']['edens'].shape"
   ]
  },
  {
   "cell_type": "code",
   "execution_count": null,
   "metadata": {},
   "outputs": [],
   "source": []
  },
  {
   "cell_type": "code",
   "execution_count": 333,
   "metadata": {},
   "outputs": [],
   "source": [
    "mlon=317\n",
    "plottimes = [14,20,26,32,38,44]"
   ]
  },
  {
   "cell_type": "code",
   "execution_count": null,
   "metadata": {},
   "outputs": [],
   "source": []
  },
  {
   "cell_type": "code",
   "execution_count": 347,
   "metadata": {},
   "outputs": [],
   "source": [
    "mlons = np.unique(samidata['grid']['mlon']).round(2)\n",
    "mlon_idx = np.argmin(np.abs(mlons-mlon))\n",
    "\n",
    "mask = (samidata['grid']['mlon'].round(2) == mlons[mlon_idx])\n",
    "\n",
    "x = samidata['grid']['mlat'][mask]\n",
    "y = samidata['grid']['alt'][mask]"
   ]
  },
  {
   "cell_type": "code",
   "execution_count": null,
   "metadata": {},
   "outputs": [],
   "source": []
  },
  {
   "cell_type": "code",
   "execution_count": 376,
   "metadata": {},
   "outputs": [
    {
     "data": {
      "text/plain": [
       "(18432, 48)"
      ]
     },
     "execution_count": 376,
     "metadata": {},
     "output_type": "execute_result"
    }
   ],
   "source": [
    "filt.shape"
   ]
  },
  {
   "cell_type": "code",
   "execution_count": 366,
   "metadata": {},
   "outputs": [],
   "source": [
    "def make_filter(params=None):\n",
    "    # Define the cutoff frequencies\n",
    "    lowcut = 1/(100/60)  # 100 minutes in units of sample^-1\n",
    "    highcut = 1/(30/60)  # 30 minutes in units of sample^-1\n",
    "\n",
    "    # Define the Butterworth filter\n",
    "    nyquist = 0.5 * 5  # 5 minutes is the sampling frequency\n",
    "    low = lowcut / nyquist\n",
    "    high = highcut / nyquist\n",
    "    sos = signal.butter(2, [low, high], btype='bandstop', output='sos')\n",
    "    return sos\n",
    "\n",
    "\n",
    "def remove_background(time_series, sos, axis = 0):\n",
    "\n",
    "    # Apply the filter to the time series\n",
    "    filtered_data = signal.sosfiltfilt(sos, time_series, axis)\n",
    "\n",
    "    return filtered_data"
   ]
  },
  {
   "cell_type": "code",
   "execution_count": 370,
   "metadata": {},
   "outputs": [],
   "source": [
    "sos = make_filter()\n",
    "filt = remove_background(samidata['data']['edens'][mask, :].copy(), sos, axis=1)\n",
    "\n",
    "percent = 100*(samidata['data']['edens'][mask,:] - filt)/samidata['data']['edens'][mask,:]\n"
   ]
  },
  {
   "cell_type": "code",
   "execution_count": 378,
   "metadata": {},
   "outputs": [],
   "source": [
    "data = [[],[], []]\n",
    "titles = [[],[],[]]\n",
    "\n",
    "i=0\n",
    "\n",
    "for row in range(nrows):\n",
    "    for col in range(ncols):\n",
    "\n",
    "        raw = []\n",
    "        data[row].append(percent[:,plottimes[i]])\n",
    "        \n",
    "        dtime=times[plottimes[i]]\n",
    "        \n",
    "        mlt = aacgmv2.wrapper.convert_mlt(\n",
    "                        mlon, dtime, m2a=False).round(2)[0]\n",
    "        ut=UT_from_Storm_onset(dtime, dtime_storm_start)\n",
    "        \n",
    "        titles[row].append('MLT = %s, %s from Storm Onset' %(str(mlt), ut))\n",
    "        \n",
    "        i+=1"
   ]
  },
  {
   "cell_type": "code",
   "execution_count": null,
   "metadata": {},
   "outputs": [],
   "source": []
  },
  {
   "cell_type": "code",
   "execution_count": 379,
   "metadata": {},
   "outputs": [
    {
     "data": {
      "text/plain": [
       "(18432,)"
      ]
     },
     "execution_count": 379,
     "metadata": {},
     "output_type": "execute_result"
    }
   ],
   "source": [
    "data[0][0].shape"
   ]
  },
  {
   "cell_type": "code",
   "execution_count": null,
   "metadata": {},
   "outputs": [],
   "source": []
  },
  {
   "cell_type": "code",
   "execution_count": 380,
   "metadata": {},
   "outputs": [],
   "source": [
    "nrows=3\n",
    "ncols=2"
   ]
  },
  {
   "cell_type": "code",
   "execution_count": 392,
   "metadata": {},
   "outputs": [],
   "source": [
    "fig, axes = plt.subplots(nrows,ncols, figsize=(10,3*nrows), sharex=True, sharey=True)\n",
    "\n",
    "for row in range(nrows):\n",
    "    for col in range(ncols):\n",
    "        im = pr.draw_field_line_plot(x, y, data[row][col], \n",
    "                                     interpolate=True, ax = axes[row,col],\n",
    "                                     save_or_show='return', cbar_lims=[-3,3], \n",
    "                                    cmap='bwr')\n",
    "        \n",
    "        axes[row,col].set_title(titles[row][col])\n",
    "        \n",
    "        if col == 0:\n",
    "            axes[row,col].set_ylabel(\"Altitude (km)\")\n",
    "\n",
    "        if row == nrows-1:\n",
    "            axes[row,col].set_xlabel(\"Mlat (deg)\")\n",
    "\n",
    "\n",
    "fig.suptitle('Keograms of TEC Perturbations from SAMI3     \\n Along 317.25 degrees Magnetic Longitude       ', fontsize=16, ha='center')\n",
    "# spaces needed to center properly with the colorbar existing.\n",
    "    \n",
    "fig.colorbar(im, ax=axes.ravel().tolist(), orientation=\"vertical\",\n",
    "             label = 'deltaTEC (TEC units)', aspect=75)\n",
    "fig.align_xlabels()\n",
    "\n",
    "\n",
    "plt.savefig(\"/glade/u/home/abukowski/figures/fig5\")\n",
    "# plt.show()\n",
    "plt.close()"
   ]
  },
  {
   "cell_type": "code",
   "execution_count": null,
   "metadata": {},
   "outputs": [],
   "source": []
  },
  {
   "cell_type": "code",
   "execution_count": null,
   "metadata": {},
   "outputs": [],
   "source": []
  },
  {
   "cell_type": "code",
   "execution_count": null,
   "metadata": {},
   "outputs": [],
   "source": []
  },
  {
   "cell_type": "code",
   "execution_count": null,
   "metadata": {},
   "outputs": [],
   "source": []
  }
 ],
 "metadata": {
  "kernelspec": {
   "display_name": "Python [conda env:simstorm]",
   "language": "python",
   "name": "conda-env-simstorm-py"
  },
  "language_info": {
   "codemirror_mode": {
    "name": "ipython",
    "version": 3
   },
   "file_extension": ".py",
   "mimetype": "text/x-python",
   "name": "python",
   "nbconvert_exporter": "python",
   "pygments_lexer": "ipython3",
   "version": "3.11.0"
  }
 },
 "nbformat": 4,
 "nbformat_minor": 4
}
