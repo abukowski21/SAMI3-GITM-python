{
 "cells": [
  {
   "cell_type": "code",
   "execution_count": null,
   "id": "fc822a69-8b3f-4c96-bbe5-2054456d8877",
   "metadata": {},
   "outputs": [],
   "source": []
  },
  {
   "cell_type": "code",
   "execution_count": 1,
   "id": "5df0bd7f-221d-4cbe-a967-d6beb974fd89",
   "metadata": {},
   "outputs": [],
   "source": [
    "from utility_programs.read_routines import SAMI"
   ]
  },
  {
   "cell_type": "code",
   "execution_count": 2,
   "id": "0af99b1e-eff0-42f8-9e36-d31021788847",
   "metadata": {},
   "outputs": [
    {
     "name": "stderr",
     "output_type": "stream",
     "text": [
      "<frozen importlib._bootstrap>:219: RuntimeWarning: scipy._lib.messagestream.MessageStream size changed, may indicate binary incompatibility. Expected 56 from C header, got 64 from PyObject\n"
     ]
    }
   ],
   "source": [
    "from scipy.spatial import Delaunay\n",
    "from scipy.interpolate import LinearNDInterpolator, griddata\n",
    "import numpy as np\n",
    "\n",
    "\n",
    "from datetime import datetime\n",
    "from tqdm.auto import tqdm\n",
    "import xarray as xr\n",
    "\n",
    "import matplotlib.pyplot as plt\n",
    "\n",
    "import cartopy.crs as ccrs"
   ]
  },
  {
   "cell_type": "code",
   "execution_count": null,
   "id": "cb4fa835-9093-42fd-81e7-9be35fa2971c",
   "metadata": {},
   "outputs": [],
   "source": []
  },
  {
   "cell_type": "code",
   "execution_count": 3,
   "id": "f32323df-e680-4b36-8c7e-65d007abea6e",
   "metadata": {},
   "outputs": [],
   "source": [
    "import interpolate_outputs"
   ]
  },
  {
   "cell_type": "code",
   "execution_count": null,
   "id": "4f3ae8e8-e379-4e98-a0e7-1fddaed6964a",
   "metadata": {},
   "outputs": [],
   "source": []
  },
  {
   "cell_type": "code",
   "execution_count": 4,
   "id": "ff8a7673-b4b5-48a3-9ed1-6e2c891a2f13",
   "metadata": {},
   "outputs": [],
   "source": [
    "samipath = '/petastore/phil/Prasoon_satellite_project/more_runs/20130317/sami-gitm-coupled/'"
   ]
  },
  {
   "cell_type": "code",
   "execution_count": 7,
   "id": "f295a961-82f7-492b-98d8-658091a3ff2b",
   "metadata": {},
   "outputs": [],
   "source": [
    "import importlib"
   ]
  },
  {
   "cell_type": "code",
   "execution_count": null,
   "id": "e276f454-fd2b-4c63-9c8f-ff7dbbba712e",
   "metadata": {},
   "outputs": [],
   "source": []
  },
  {
   "cell_type": "code",
   "execution_count": 56,
   "id": "923ebd45-9e51-4df7-92f2-111317bb0cf7",
   "metadata": {},
   "outputs": [],
   "source": [
    "interpolate_outputs = importlib.reload(interpolate_outputs)"
   ]
  },
  {
   "cell_type": "code",
   "execution_count": 57,
   "id": "f387f3b3-b69d-4f18-b460-6d080cd39535",
   "metadata": {},
   "outputs": [
    {
     "name": "stdout",
     "output_type": "stream",
     "text": [
      "attempting to reuse existing triangulation file\n"
     ]
    },
    {
     "data": {
      "application/vnd.jupyter.widget-view+json": {
       "model_id": "45ad9d327d0744a1aecb19e87400ce9c",
       "version_major": 2,
       "version_minor": 0
      },
      "text/plain": [
       "Reading in SAMI data:   0%|          | 0/596 [00:00<?, ?it/s]"
      ]
     },
     "metadata": {},
     "output_type": "display_data"
    },
    {
     "data": {
      "application/vnd.jupyter.widget-view+json": {
       "model_id": "ad2bf1cfba394743bac95d5116371dec",
       "version_major": 2,
       "version_minor": 0
      },
      "text/plain": [
       "  0%|          | 0/597 [00:00<?, ?it/s]"
      ]
     },
     "metadata": {},
     "output_type": "display_data"
    }
   ],
   "source": [
    "interpolate_outputs.do_interpolations(samipath,\n",
    "                                    out_path='.',\n",
    "                                      dtime_sim_start='20130316',\n",
    "                                    cols='edens',\n",
    "                                      engine=None,\n",
    "                                    save_delauney=True,\n",
    "                                    show_progress=True)"
   ]
  },
  {
   "cell_type": "code",
   "execution_count": null,
   "id": "4fa2e066-de98-4df7-b043-17480d032d47",
   "metadata": {},
   "outputs": [],
   "source": []
  },
  {
   "cell_type": "code",
   "execution_count": null,
   "id": "a02e801a-48e3-42c0-a667-11476616abb4",
   "metadata": {},
   "outputs": [],
   "source": []
  },
  {
   "cell_type": "code",
   "execution_count": null,
   "id": "aff92a31-d70d-414b-96fe-72d3c52d0de5",
   "metadata": {},
   "outputs": [],
   "source": []
  },
  {
   "cell_type": "code",
   "execution_count": null,
   "id": "a5bede92-33a3-4ca8-b350-3e90ac4556e3",
   "metadata": {},
   "outputs": [],
   "source": []
  },
  {
   "cell_type": "code",
   "execution_count": null,
   "id": "345b3f2a-7fbd-4de8-afd2-0fa24fe80289",
   "metadata": {},
   "outputs": [],
   "source": []
  }
 ],
 "metadata": {
  "kernelspec": {
   "display_name": "Python 3 (ipykernel)",
   "language": "python",
   "name": "python3"
  },
  "language_info": {
   "codemirror_mode": {
    "name": "ipython",
    "version": 3
   },
   "file_extension": ".py",
   "mimetype": "text/x-python",
   "name": "python",
   "nbconvert_exporter": "python",
   "pygments_lexer": "ipython3",
   "version": "3.8.16"
  }
 },
 "nbformat": 4,
 "nbformat_minor": 5
}
