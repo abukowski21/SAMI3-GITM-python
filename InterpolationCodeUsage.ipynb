{
 "cells": [
  {
   "cell_type": "code",
   "execution_count": 1,
   "id": "5df0bd7f-221d-4cbe-a967-d6beb974fd89",
   "metadata": {
    "tags": []
   },
   "outputs": [],
   "source": [
    "from utility_programs.read_routines import SAMI"
   ]
  },
  {
   "cell_type": "code",
   "execution_count": 2,
   "id": "0af99b1e-eff0-42f8-9e36-d31021788847",
   "metadata": {
    "tags": []
   },
   "outputs": [],
   "source": [
    "from scipy.spatial import Delaunay\n",
    "from scipy.interpolate import LinearNDInterpolator, griddata\n",
    "import numpy as np\n",
    "\n",
    "\n",
    "from datetime import datetime\n",
    "from tqdm.auto import tqdm\n",
    "import xarray as xr\n",
    "\n",
    "import matplotlib.pyplot as plt\n",
    "\n",
    "import cartopy.crs as ccrs"
   ]
  },
  {
   "cell_type": "code",
   "execution_count": null,
   "id": "cb4fa835-9093-42fd-81e7-9be35fa2971c",
   "metadata": {},
   "outputs": [],
   "source": []
  },
  {
   "cell_type": "code",
   "execution_count": 3,
   "id": "f32323df-e680-4b36-8c7e-65d007abea6e",
   "metadata": {
    "tags": []
   },
   "outputs": [],
   "source": [
    "import interpolate_outputs"
   ]
  },
  {
   "cell_type": "code",
   "execution_count": null,
   "id": "4f3ae8e8-e379-4e98-a0e7-1fddaed6964a",
   "metadata": {},
   "outputs": [],
   "source": []
  },
  {
   "cell_type": "code",
   "execution_count": 4,
   "id": "ff8a7673-b4b5-48a3-9ed1-6e2c891a2f13",
   "metadata": {
    "tags": []
   },
   "outputs": [],
   "source": [
    "samipath = '/petastore/phil/Prasoon_satellite_project/more_runs/20130317/sami-gitm-coupled/'"
   ]
  },
  {
   "cell_type": "code",
   "execution_count": 57,
   "id": "f387f3b3-b69d-4f18-b460-6d080cd39535",
   "metadata": {},
   "outputs": [
    {
     "name": "stdout",
     "output_type": "stream",
     "text": [
      "attempting to reuse existing triangulation file\n"
     ]
    },
    {
     "data": {
      "application/vnd.jupyter.widget-view+json": {
       "model_id": "45ad9d327d0744a1aecb19e87400ce9c",
       "version_major": 2,
       "version_minor": 0
      },
      "text/plain": [
       "Reading in SAMI data:   0%|          | 0/596 [00:00<?, ?it/s]"
      ]
     },
     "metadata": {},
     "output_type": "display_data"
    },
    {
     "data": {
      "application/vnd.jupyter.widget-view+json": {
       "model_id": "ad2bf1cfba394743bac95d5116371dec",
       "version_major": 2,
       "version_minor": 0
      },
      "text/plain": [
       "  0%|          | 0/597 [00:00<?, ?it/s]"
      ]
     },
     "metadata": {},
     "output_type": "display_data"
    }
   ],
   "source": [
    "interpolate_outputs.do_interpolations(samipath,\n",
    "                                    out_path='/petastore/phil/Prasoon_satellite_project/satfiles/',\n",
    "                                      dtime_sim_start='20130316',\n",
    "                                    cols='edens',\n",
    "                                      engine=None,\n",
    "                                    save_delauney=True,\n",
    "                                    show_progress=True)"
   ]
  },
  {
   "cell_type": "code",
   "execution_count": null,
   "id": "4fa2e066-de98-4df7-b043-17480d032d47",
   "metadata": {},
   "outputs": [],
   "source": []
  },
  {
   "cell_type": "markdown",
   "id": "82e2dad7-79c7-4018-a826-f4718aae3644",
   "metadata": {},
   "source": [
    "## If you make any changes to the source code, reimport it with:\n",
    "\n",
    "(Then you don't have to restart the kernel)"
   ]
  },
  {
   "cell_type": "code",
   "execution_count": 5,
   "id": "f295a961-82f7-492b-98d8-658091a3ff2b",
   "metadata": {
    "tags": []
   },
   "outputs": [],
   "source": [
    "import importlib"
   ]
  },
  {
   "cell_type": "code",
   "execution_count": 6,
   "id": "923ebd45-9e51-4df7-92f2-111317bb0cf7",
   "metadata": {
    "tags": []
   },
   "outputs": [],
   "source": [
    "interpolate_outputs = importlib.reload(interpolate_outputs)"
   ]
  },
  {
   "cell_type": "code",
   "execution_count": null,
   "id": "e276f454-fd2b-4c63-9c8f-ff7dbbba712e",
   "metadata": {},
   "outputs": [],
   "source": []
  },
  {
   "cell_type": "code",
   "execution_count": null,
   "id": "d3f078a4-2701-4761-a935-a411ad249510",
   "metadata": {},
   "outputs": [],
   "source": []
  },
  {
   "cell_type": "markdown",
   "id": "1c144797-b9bc-4ae9-b9ce-ec119d501f83",
   "metadata": {},
   "source": [
    "## Read in satellite file:"
   ]
  },
  {
   "cell_type": "code",
   "execution_count": 7,
   "id": "813a1c7e-2cfb-4cb4-b0c9-590deaa47f57",
   "metadata": {
    "tags": []
   },
   "outputs": [],
   "source": [
    "import pandas as pd"
   ]
  },
  {
   "cell_type": "code",
   "execution_count": null,
   "id": "7d924fda-ecbe-4d6b-b709-742b923b003b",
   "metadata": {},
   "outputs": [],
   "source": []
  },
  {
   "cell_type": "code",
   "execution_count": 8,
   "id": "cfed8716-bad0-4990-90f5-e3ee47aea05d",
   "metadata": {
    "tags": []
   },
   "outputs": [],
   "source": [
    "allsatdf = pd.read_csv('/petastore/phil/Prasoon_satellite_project/satfiles/20130317/DMSP_all-with_datetime.csv')"
   ]
  },
  {
   "cell_type": "code",
   "execution_count": null,
   "id": "ad77f221-3a9c-4904-948f-f17200c505e3",
   "metadata": {},
   "outputs": [],
   "source": []
  },
  {
   "cell_type": "markdown",
   "id": "f05255c6-5275-4ea1-ad18-e6a554dbe72f",
   "metadata": {},
   "source": [
    "### Now grab just a single satellite's data"
   ]
  },
  {
   "cell_type": "code",
   "execution_count": 9,
   "id": "eb31ed55-2d39-414f-a684-bebaa6c69876",
   "metadata": {
    "tags": []
   },
   "outputs": [
    {
     "data": {
      "text/html": [
       "<div>\n",
       "<style scoped>\n",
       "    .dataframe tbody tr th:only-of-type {\n",
       "        vertical-align: middle;\n",
       "    }\n",
       "\n",
       "    .dataframe tbody tr th {\n",
       "        vertical-align: top;\n",
       "    }\n",
       "\n",
       "    .dataframe thead th {\n",
       "        text-align: right;\n",
       "    }\n",
       "</style>\n",
       "<table border=\"1\" class=\"dataframe\">\n",
       "  <thead>\n",
       "    <tr style=\"text-align: right;\">\n",
       "      <th></th>\n",
       "      <th>glat</th>\n",
       "      <th>glon</th>\n",
       "      <th>time</th>\n",
       "      <th>sat</th>\n",
       "      <th>dayofyear</th>\n",
       "      <th>dtime</th>\n",
       "    </tr>\n",
       "  </thead>\n",
       "  <tbody>\n",
       "    <tr>\n",
       "      <th>0</th>\n",
       "      <td>2.8</td>\n",
       "      <td>261.2</td>\n",
       "      <td>0.0</td>\n",
       "      <td>16</td>\n",
       "      <td>75</td>\n",
       "      <td>2013-03-16 00:00:00</td>\n",
       "    </tr>\n",
       "    <tr>\n",
       "      <th>1</th>\n",
       "      <td>6.3</td>\n",
       "      <td>260.5</td>\n",
       "      <td>60.0</td>\n",
       "      <td>16</td>\n",
       "      <td>75</td>\n",
       "      <td>2013-03-16 00:01:00</td>\n",
       "    </tr>\n",
       "    <tr>\n",
       "      <th>2</th>\n",
       "      <td>9.8</td>\n",
       "      <td>259.7</td>\n",
       "      <td>120.0</td>\n",
       "      <td>16</td>\n",
       "      <td>75</td>\n",
       "      <td>2013-03-16 00:02:00</td>\n",
       "    </tr>\n",
       "    <tr>\n",
       "      <th>3</th>\n",
       "      <td>13.3</td>\n",
       "      <td>258.9</td>\n",
       "      <td>180.0</td>\n",
       "      <td>16</td>\n",
       "      <td>75</td>\n",
       "      <td>2013-03-16 00:03:00</td>\n",
       "    </tr>\n",
       "    <tr>\n",
       "      <th>4</th>\n",
       "      <td>16.8</td>\n",
       "      <td>258.0</td>\n",
       "      <td>240.0</td>\n",
       "      <td>16</td>\n",
       "      <td>75</td>\n",
       "      <td>2013-03-16 00:04:00</td>\n",
       "    </tr>\n",
       "    <tr>\n",
       "      <th>...</th>\n",
       "      <td>...</td>\n",
       "      <td>...</td>\n",
       "      <td>...</td>\n",
       "      <td>...</td>\n",
       "      <td>...</td>\n",
       "      <td>...</td>\n",
       "    </tr>\n",
       "    <tr>\n",
       "      <th>4315</th>\n",
       "      <td>56.7</td>\n",
       "      <td>96.1</td>\n",
       "      <td>86100.0</td>\n",
       "      <td>16</td>\n",
       "      <td>77</td>\n",
       "      <td>2013-03-18 23:55:00</td>\n",
       "    </tr>\n",
       "    <tr>\n",
       "      <th>4316</th>\n",
       "      <td>53.3</td>\n",
       "      <td>94.3</td>\n",
       "      <td>86160.0</td>\n",
       "      <td>16</td>\n",
       "      <td>77</td>\n",
       "      <td>2013-03-18 23:56:00</td>\n",
       "    </tr>\n",
       "    <tr>\n",
       "      <th>4317</th>\n",
       "      <td>49.9</td>\n",
       "      <td>92.7</td>\n",
       "      <td>86220.0</td>\n",
       "      <td>16</td>\n",
       "      <td>77</td>\n",
       "      <td>2013-03-18 23:57:00</td>\n",
       "    </tr>\n",
       "    <tr>\n",
       "      <th>4318</th>\n",
       "      <td>46.5</td>\n",
       "      <td>91.2</td>\n",
       "      <td>86280.0</td>\n",
       "      <td>16</td>\n",
       "      <td>77</td>\n",
       "      <td>2013-03-18 23:58:00</td>\n",
       "    </tr>\n",
       "    <tr>\n",
       "      <th>4319</th>\n",
       "      <td>43.0</td>\n",
       "      <td>89.9</td>\n",
       "      <td>86340.0</td>\n",
       "      <td>16</td>\n",
       "      <td>77</td>\n",
       "      <td>2013-03-18 23:59:00</td>\n",
       "    </tr>\n",
       "  </tbody>\n",
       "</table>\n",
       "<p>4320 rows × 6 columns</p>\n",
       "</div>"
      ],
      "text/plain": [
       "      glat   glon     time  sat  dayofyear                dtime\n",
       "0      2.8  261.2      0.0   16         75  2013-03-16 00:00:00\n",
       "1      6.3  260.5     60.0   16         75  2013-03-16 00:01:00\n",
       "2      9.8  259.7    120.0   16         75  2013-03-16 00:02:00\n",
       "3     13.3  258.9    180.0   16         75  2013-03-16 00:03:00\n",
       "4     16.8  258.0    240.0   16         75  2013-03-16 00:04:00\n",
       "...    ...    ...      ...  ...        ...                  ...\n",
       "4315  56.7   96.1  86100.0   16         77  2013-03-18 23:55:00\n",
       "4316  53.3   94.3  86160.0   16         77  2013-03-18 23:56:00\n",
       "4317  49.9   92.7  86220.0   16         77  2013-03-18 23:57:00\n",
       "4318  46.5   91.2  86280.0   16         77  2013-03-18 23:58:00\n",
       "4319  43.0   89.9  86340.0   16         77  2013-03-18 23:59:00\n",
       "\n",
       "[4320 rows x 6 columns]"
      ]
     },
     "execution_count": 9,
     "metadata": {},
     "output_type": "execute_result"
    }
   ],
   "source": [
    "firstsat = allsatdf.loc[allsatdf.sat == 16].reset_index(drop=True)\n",
    "# make sure to reset index & drop bad values, otherwise it's harder\n",
    "firstsat"
   ]
  },
  {
   "cell_type": "code",
   "execution_count": 31,
   "id": "aff92a31-d70d-414b-96fe-72d3c52d0de5",
   "metadata": {
    "tags": []
   },
   "outputs": [
    {
     "data": {
      "text/plain": [
       "array([[  2.8,   6.3,   9.8, ...,  49.9,  46.5,  43. ],\n",
       "       [261.2, 260.5, 259.7, ...,  92.7,  91.2,  89.9]])"
      ]
     },
     "execution_count": 31,
     "metadata": {},
     "output_type": "execute_result"
    }
   ],
   "source": [
    "latlon = [firstsat.glat, firstsat.glon]\n",
    "latlon = np.array(latlon)\n",
    "\n",
    "latlon"
   ]
  },
  {
   "cell_type": "code",
   "execution_count": 32,
   "id": "e18df249-d34a-4b5f-b56e-7e28076eaa30",
   "metadata": {
    "tags": []
   },
   "outputs": [],
   "source": [
    "# no alt in files, just assume it's 840 km. Add that to latlon object\n",
    "alt = [840 for i in range(len(latlon[0]))]"
   ]
  },
  {
   "cell_type": "code",
   "execution_count": 34,
   "id": "9bda99a6-81e6-4a38-acf0-7e5523247175",
   "metadata": {
    "tags": []
   },
   "outputs": [],
   "source": [
    "# add in alt.\n",
    "# Theres's a better way to do this but I don't remember...\n",
    "latlonalt = (latlon[0], latlon[1], alt)\n",
    "latlonalt = np.array(latlonalt)"
   ]
  },
  {
   "cell_type": "code",
   "execution_count": 35,
   "id": "a5bede92-33a3-4ca8-b350-3e90ac4556e3",
   "metadata": {
    "tags": []
   },
   "outputs": [
    {
     "data": {
      "text/plain": [
       "array([[  2.8,   6.3,   9.8, ...,  49.9,  46.5,  43. ],\n",
       "       [261.2, 260.5, 259.7, ...,  92.7,  91.2,  89.9],\n",
       "       [840. , 840. , 840. , ..., 840. , 840. , 840. ]])"
      ]
     },
     "execution_count": 35,
     "metadata": {},
     "output_type": "execute_result"
    }
   ],
   "source": [
    "latlonalt"
   ]
  },
  {
   "cell_type": "code",
   "execution_count": null,
   "id": "a4843264-e3b0-4998-96f6-b12950a13a59",
   "metadata": {},
   "outputs": [],
   "source": []
  },
  {
   "cell_type": "markdown",
   "id": "60fdf7b1-70d2-438d-9c6c-719467e0fb9a",
   "metadata": {},
   "source": [
    "### Now send this in to the interpolation function\n",
    "\n",
    "> I'm going to add a catch to make sure the file is readable by everyione in the `phil` group\n",
    "\n",
    "Also make sure we get the dataset back. But this isn't necessary! Going to show an example where we just recalculate things and then read it back."
   ]
  },
  {
   "cell_type": "code",
   "execution_count": 36,
   "id": "7a73ad01-209c-45ff-a22d-6d6446d9fc03",
   "metadata": {
    "tags": []
   },
   "outputs": [],
   "source": [
    "out_path = '/petastore/phil/Prasoon_satellite_project/'\n",
    "\n",
    "sami_data_path = '/petastore/phil/Prasoon_satellite_project/more_runs/20130317/sami-gitm-coupled/'"
   ]
  },
  {
   "cell_type": "code",
   "execution_count": 38,
   "id": "1e4b94c7-a88c-4080-b8c9-fa51cc2d5c3a",
   "metadata": {
    "tags": []
   },
   "outputs": [
    {
     "name": "stdout",
     "output_type": "stream",
     "text": [
      "attempting to reuse existing triangulation file\n"
     ]
    },
    {
     "data": {
      "application/vnd.jupyter.widget-view+json": {
       "model_id": "9ef49d81b235440c833ff889a043664c",
       "version_major": 2,
       "version_minor": 0
      },
      "text/plain": [
       "Reading in SAMI data:   0%|          | 0/596 [00:00<?, ?it/s]"
      ]
     },
     "metadata": {},
     "output_type": "display_data"
    }
   ],
   "source": [
    "ds = interpolate_outputs.do_interpolations(sami_data_path=sami_data_path,\n",
    "                                     dtime_sim_start='20130316',\n",
    "                                     out_lat_lon_alt=latlonalt,\n",
    "                                     out_path=out_path,\n",
    "                                     out_runname='-at-sat_16',\n",
    "                                     save_delauney=True,\n",
    "                                     max_alt=1500, #to make running faster. Not necessary.\n",
    "                                     cols='edens',\n",
    "                                    show_progress=True,\n",
    "                                    engine='h5netcdf', #change to None if this makes errors\n",
    "                                      return_ds_too=True\n",
    "                                     )"
   ]
  },
  {
   "cell_type": "code",
   "execution_count": null,
   "id": "cf2c077b-2de2-4666-a21b-114e44c38ca5",
   "metadata": {},
   "outputs": [],
   "source": []
  },
  {
   "cell_type": "code",
   "execution_count": 98,
   "id": "af1ce0b5-a06e-44cb-813c-a1391baf7a60",
   "metadata": {},
   "outputs": [],
   "source": [
    "## Don't forget to change the permissions!!\n",
    "\n",
    "!chmod -R 770 {out_path}\n"
   ]
  },
  {
   "cell_type": "code",
   "execution_count": null,
   "id": "bc386655-1e8a-4092-b7ac-f15192aae09c",
   "metadata": {},
   "outputs": [],
   "source": []
  },
  {
   "cell_type": "markdown",
   "id": "f06ff0bd-eda1-40f8-ae67-fdd29543b58c",
   "metadata": {},
   "source": [
    "#### To not get the datset back and then reafd it from the created file later:\n",
    "\n",
    "i.e. you can run interpolation code in a console and then start a jupyter notebook to analyze things"
   ]
  },
  {
   "cell_type": "code",
   "execution_count": null,
   "id": "bb176aa1-fb9a-4559-9bc9-14dbd0fdbf69",
   "metadata": {},
   "outputs": [],
   "source": [
    "interpolate_outputs.do_interpolations(sami_data_path=sami_data_path,\n",
    "                                     dtime_sim_start='20130316',\n",
    "                                     out_latlonalt=latlonalt,\n",
    "                                     out_path=out_path,\n",
    "                                     out_runname='-at-sat_16',\n",
    "                                     save_delauney=True,\n",
    "                                     max_alt=1500, #to make running faster. Not necessary.\n",
    "                                     cols='edens',\n",
    "                                    show_progress=True,\n",
    "                                    engine='h5netcdf', #change to None if this makes errors\n",
    "                                     )"
   ]
  },
  {
   "cell_type": "code",
   "execution_count": null,
   "id": "22745fa4-6cdc-4e6d-81e7-62a74bec623b",
   "metadata": {},
   "outputs": [],
   "source": []
  },
  {
   "cell_type": "code",
   "execution_count": null,
   "id": "5357c244-5397-46a4-95c3-d4877b6540d7",
   "metadata": {},
   "outputs": [],
   "source": [
    "## Don't forget to change the permissions!!\n",
    "\n",
    "!chmod -R 770 {out_path}"
   ]
  },
  {
   "cell_type": "code",
   "execution_count": null,
   "id": "7c2c72d1-71dd-489c-99f4-2ee0fe79ae9a",
   "metadata": {},
   "outputs": [],
   "source": []
  },
  {
   "cell_type": "code",
   "execution_count": null,
   "id": "142638fc-2a5e-4fe1-a69f-674f214ec395",
   "metadata": {},
   "outputs": [],
   "source": [
    "# then read the created file with:\n",
    "\n",
    "import xarray as xr\n",
    "\n",
    "ds = xr.open_datset(os.path.join(out_path, 'SAMI_REGRID-at-sat-16.nc'),\n",
    "                   engine='h5netcdf') #set engine to the same one used to calculate interpolation.\n"
   ]
  },
  {
   "cell_type": "code",
   "execution_count": null,
   "id": "43601396-0e2f-4ddf-bddc-003ad7f7d81c",
   "metadata": {},
   "outputs": [],
   "source": []
  },
  {
   "cell_type": "markdown",
   "id": "8428fe3b-733e-4be9-a6bc-a00e287a2150",
   "metadata": {},
   "source": [
    "## That's about all I have time for now. \n",
    "\n",
    "\n",
    "Should be simple enough, lol. I'm sure there will be problems. Let me know what they are and I'll fix them.\n",
    "\n",
    "You can loop through multiple satellites by changing the '16' in each to the values of each satellite listed in the satfile. "
   ]
  },
  {
   "cell_type": "code",
   "execution_count": 102,
   "id": "42cbb511-c973-4c32-b439-a4c0ba04517d",
   "metadata": {},
   "outputs": [
    {
     "data": {
      "text/plain": [
       "array([16, 17, 18])"
      ]
     },
     "execution_count": 102,
     "metadata": {},
     "output_type": "execute_result"
    }
   ],
   "source": [
    "# see the available satellites:\n",
    "\n",
    "np.unique(allsatdf.sat)"
   ]
  },
  {
   "cell_type": "code",
   "execution_count": null,
   "id": "c236e342-94b8-4728-a96a-3d37fe7f5195",
   "metadata": {},
   "outputs": [],
   "source": [
    "# loop through them:\n",
    "\n",
    "for satnum in np.unique(allsatdf.sat):\n",
    "    \n",
    "    #set up output grid\n",
    "    satnow = allsatdf.loc[allsatdf.sat == satnum].reset_index(drop=True)\n",
    "    latlon = [firstsat.glat, firstsat.glon]\n",
    "    latlon = np.array(latlon)\n",
    "    alt = [840 for i in range(len(latlon[0]))]\n",
    "    latlonalt = np.array([latlon[0], latlon[1], alt])\n",
    "    \n",
    "    interpolate_outputs.do_interpolations(sami_data_path=sami_data_path,\n",
    "                                     dtime_sim_start='20130316',\n",
    "                                     out_latlonalt=latlonalt,\n",
    "                                     out_path=out_path,\n",
    "                                     out_runname='-at-sat_' + str(satnum), \n",
    "                                          # to change the output name for each sat\n",
    "                                     save_delauney=True,\n",
    "                                     max_alt=1500, #to make running faster. Not necessary.\n",
    "                                     cols='edens',\n",
    "                                    show_progress=True,\n",
    "                                    engine='h5netcdf', #change to None if this makes errors\n",
    "                                     )\n"
   ]
  },
  {
   "cell_type": "markdown",
   "id": "549843cd-069d-4d85-ba6b-c8884d3a29c3",
   "metadata": {},
   "source": [
    "Then you have to read each satellite file individually with the code shown above"
   ]
  },
  {
   "cell_type": "code",
   "execution_count": null,
   "id": "f4ce91e4-ece8-4fc5-b1d7-a66b8f64b266",
   "metadata": {},
   "outputs": [],
   "source": []
  },
  {
   "cell_type": "code",
   "execution_count": null,
   "id": "0729e7ec-653a-4813-89de-91d815d828b2",
   "metadata": {},
   "outputs": [],
   "source": []
  },
  {
   "cell_type": "code",
   "execution_count": null,
   "id": "bcec212a-80d1-4194-b9a7-f2bd9f8785ac",
   "metadata": {},
   "outputs": [],
   "source": []
  },
  {
   "cell_type": "markdown",
   "id": "14d9adaf-f79e-43b9-814d-50c38756be8c",
   "metadata": {},
   "source": [
    "# Now Working on Next Issue"
   ]
  },
  {
   "cell_type": "code",
   "execution_count": 47,
   "id": "4b1ab4df-c1ab-48a4-9048-5ea1adfaf9da",
   "metadata": {
    "tags": []
   },
   "outputs": [],
   "source": [
    "from utility_programs.read_routines import SAMI\n",
    "\n",
    "from scipy.spatial import Delaunay\n",
    "from scipy.interpolate import LinearNDInterpolator, griddata\n",
    "import numpy as np\n",
    "import pandas as pd\n",
    "\n",
    "from datetime import datetime\n",
    "from tqdm.auto import tqdm\n",
    "import xarray as xr\n",
    "\n",
    "import matplotlib.pyplot as plt\n",
    "\n",
    "import cartopy.crs as ccrs\n",
    "\n",
    "import importlib\n",
    "import interpolate_outputs\n",
    "\n"
   ]
  },
  {
   "cell_type": "code",
   "execution_count": 48,
   "id": "6292758c-f3b5-4a40-adee-9f79e0f25696",
   "metadata": {
    "tags": []
   },
   "outputs": [],
   "source": [
    "allsatdf = pd.read_csv('/petastore/phil/Prasoon_satellite_project/satfiles/20130317/DMSP_all-with_datetime.csv')\n",
    "samipath = '/petastore/phil/Prasoon_satellite_project/more_runs/20130317/sami-gitm-coupled/'\n",
    "\n",
    "firstsat = allsatdf.loc[allsatdf.sat == 16].reset_index(drop=True)\n",
    "# make sure to reset index & drop bad values, otherwise it's harder\n",
    "\n",
    "latlon = [firstsat.glat, firstsat.glon]\n",
    "latlon = np.array(latlon)\n",
    "\n",
    "# no alt in files, just assume it's 840 km. Add that to latlon object\n",
    "alt = [840 for i in range(len(latlon[0]))]\n",
    "\n",
    "# add in alt.\n",
    "# Theres's a better way to do this but I don't remember...\n",
    "latlonalt = (latlon[0], latlon[1], alt)\n",
    "latlonalt = np.array(latlonalt)\n",
    "\n",
    "latlonalt\n",
    "\n",
    "out_path = '/petastore/phil/Prasoon_satellite_project/'\n",
    "\n",
    "sami_data_path = '/petastore/phil/Prasoon_satellite_project/more_runs/20130317/sami-gitm-coupled/'\n"
   ]
  },
  {
   "cell_type": "code",
   "execution_count": 51,
   "id": "fa1a7f8c-93c1-4fda-87e9-8e11c04730d5",
   "metadata": {
    "tags": []
   },
   "outputs": [
    {
     "name": "stdout",
     "output_type": "stream",
     "text": [
      "attempting to reuse existing triangulation file\n"
     ]
    },
    {
     "data": {
      "application/vnd.jupyter.widget-view+json": {
       "model_id": "01e8c96d72134f0bbd1dc69ff70ccb48",
       "version_major": 2,
       "version_minor": 0
      },
      "text/plain": [
       "Reading in SAMI data:   0%|          | 0/596 [00:00<?, ?it/s]"
      ]
     },
     "metadata": {},
     "output_type": "display_data"
    },
    {
     "name": "stdout",
     "output_type": "stream",
     "text": [
      "16\n",
      "attempting to reuse existing triangulation file\n"
     ]
    },
    {
     "data": {
      "application/vnd.jupyter.widget-view+json": {
       "model_id": "d932fabf5df9436aac3707f00eb5c4bf",
       "version_major": 2,
       "version_minor": 0
      },
      "text/plain": [
       "Reading in SAMI data:   0%|          | 0/596 [00:00<?, ?it/s]"
      ]
     },
     "metadata": {},
     "output_type": "display_data"
    },
    {
     "name": "stdout",
     "output_type": "stream",
     "text": [
      "17\n",
      "attempting to reuse existing triangulation file\n"
     ]
    },
    {
     "data": {
      "application/vnd.jupyter.widget-view+json": {
       "model_id": "9534f4e0cec2488abfa986a54e782367",
       "version_major": 2,
       "version_minor": 0
      },
      "text/plain": [
       "Reading in SAMI data:   0%|          | 0/596 [00:00<?, ?it/s]"
      ]
     },
     "metadata": {},
     "output_type": "display_data"
    },
    {
     "name": "stdout",
     "output_type": "stream",
     "text": [
      "18\n"
     ]
    }
   ],
   "source": [
    "# see the available satellites:\n",
    "\n",
    "interpolate_outputs = importlib.reload(interpolate_outputs)\n",
    "\n",
    "np.unique(allsatdf.sat)\n",
    "\n",
    "# loop through them:\n",
    "\n",
    "for satnum in np.unique(allsatdf.sat):\n",
    "    \n",
    "    #set up output grid\n",
    "    satnow = allsatdf.loc[allsatdf.sat == satnum].reset_index(drop=True)\n",
    "    latlon = [firstsat.glat, firstsat.glon]\n",
    "    latlon = np.array(latlon)\n",
    "    alt = [840 for i in range(len(latlon[0]))]\n",
    "    latlonalt = np.array([latlon[0], latlon[1], alt])\n",
    "    \n",
    "    interpolate_outputs.do_interpolations(sami_data_path=sami_data_path,\n",
    "                                     dtime_sim_start='20130316',\n",
    "                                     out_lat_lon_alt=latlonalt,\n",
    "                                     out_path=out_path,\n",
    "                                     out_runname='testing-at-sat_' + str(satnum), \n",
    "                                          # to change the output name for each sat\n",
    "                                     save_delauney=True,\n",
    "                                     max_alt=1500, #to make running faster. Not necessary.\n",
    "                                     cols='edens',\n",
    "                                    show_progress=True,\n",
    "                                    engine='h5netcdf', #change to None if this makes errors\n",
    "                                     return_ds_too=True\n",
    "                                     )\n",
    "    print(satnum)\n"
   ]
  },
  {
   "cell_type": "code",
   "execution_count": 54,
   "id": "622d7309-0b91-400f-89cd-fb9d20e1ba15",
   "metadata": {
    "tags": []
   },
   "outputs": [
    {
     "name": "stdout",
     "output_type": "stream",
     "text": [
      "attempting to reuse existing triangulation file\n"
     ]
    },
    {
     "data": {
      "application/vnd.jupyter.widget-view+json": {
       "model_id": "9dd39b03a5b847ca9084b46926550236",
       "version_major": 2,
       "version_minor": 0
      },
      "text/plain": [
       "Reading in SAMI data:   0%|          | 0/596 [00:00<?, ?it/s]"
      ]
     },
     "metadata": {},
     "output_type": "display_data"
    }
   ],
   "source": [
    "\n",
    "\n",
    "interpolate_outputs = importlib.reload(interpolate_outputs)\n",
    "\n",
    "ds = interpolate_outputs.do_interpolations(sami_data_path=sami_data_path,\n",
    "                                     dtime_sim_start='20130316',\n",
    "                                     out_lat_lon_alt=latlonalt,\n",
    "                                     out_path=out_path,\n",
    "                                     out_runname='newtest-at-sat_16',\n",
    "                                     save_delauney=True,\n",
    "                                     max_alt=1500, #to make running faster. Not necessary.\n",
    "                                     cols='edens',\n",
    "                                    show_progress=True,\n",
    "                                    engine='h5netcdf', #change to None if this makes errors\n",
    "                                      return_ds_too=True\n",
    "                                     )"
   ]
  },
  {
   "cell_type": "code",
   "execution_count": 67,
   "id": "0d1b1387-4456-4d5e-8db0-006a423128e2",
   "metadata": {
    "tags": []
   },
   "outputs": [
    {
     "name": "stdout",
     "output_type": "stream",
     "text": [
      "<xarray.DataArray 'time' (time: 597)>\n",
      "array(['2013-03-16T00:00:00.000000000', '2013-03-16T00:04:55.999200000',\n",
      "       '2013-03-16T00:09:56.016000000', ..., '2013-03-18T01:29:56.400000000',\n",
      "       '2013-03-18T01:34:55.200000000', '2013-03-18T01:39:54.000000000'],\n",
      "      dtype='datetime64[ns]')\n",
      "Coordinates:\n",
      "  * time     (time) datetime64[ns] 2013-03-16 ... 2013-03-18T01:39:54\n"
     ]
    },
    {
     "ename": "TypeError",
     "evalue": "'<' not supported between instances of 'str' and 'Timestamp'",
     "output_type": "error",
     "traceback": [
      "\u001b[0;31m---------------------------------------------------------------------------\u001b[0m",
      "\u001b[0;31mTypeError\u001b[0m                                 Traceback (most recent call last)",
      "Cell \u001b[0;32mIn[67], line 5\u001b[0m\n\u001b[1;32m      2\u001b[0m ds[\u001b[38;5;124m'\u001b[39m\u001b[38;5;124mtime\u001b[39m\u001b[38;5;124m'\u001b[39m] \u001b[38;5;241m=\u001b[39m t_datetime\n\u001b[1;32m      3\u001b[0m \u001b[38;5;28mprint\u001b[39m(ds[\u001b[38;5;124m'\u001b[39m\u001b[38;5;124mtime\u001b[39m\u001b[38;5;124m'\u001b[39m])\n\u001b[0;32m----> 5\u001b[0m ds\u001b[38;5;241m.\u001b[39medens\u001b[38;5;241m.\u001b[39msel(alt\u001b[38;5;241m=\u001b[39m\u001b[38;5;241m300\u001b[39m, time\u001b[38;5;241m=\u001b[39m\u001b[38;5;124m\"\u001b[39m\u001b[38;5;124mYYYY-MM-DD HH:MM:SS\u001b[39m\u001b[38;5;124m\"\u001b[39m, method\u001b[38;5;241m=\u001b[39m\u001b[38;5;124m'\u001b[39m\u001b[38;5;124mnearest\u001b[39m\u001b[38;5;124m'\u001b[39m)\u001b[38;5;241m.\u001b[39mplot(x\u001b[38;5;241m=\u001b[39m\u001b[38;5;124m'\u001b[39m\u001b[38;5;124mlon\u001b[39m\u001b[38;5;124m'\u001b[39m, y\u001b[38;5;241m=\u001b[39m\u001b[38;5;124m'\u001b[39m\u001b[38;5;124mlat\u001b[39m\u001b[38;5;124m'\u001b[39m)\n",
      "File \u001b[0;32m~/.conda/envs/jlab/lib/python3.11/site-packages/xarray/core/dataarray.py:1526\u001b[0m, in \u001b[0;36mDataArray.sel\u001b[0;34m(self, indexers, method, tolerance, drop, **indexers_kwargs)\u001b[0m\n\u001b[1;32m   1416\u001b[0m \u001b[38;5;28;01mdef\u001b[39;00m \u001b[38;5;21msel\u001b[39m(\n\u001b[1;32m   1417\u001b[0m     \u001b[38;5;28mself\u001b[39m: T_DataArray,\n\u001b[1;32m   1418\u001b[0m     indexers: Mapping[Any, Any] \u001b[38;5;241m=\u001b[39m \u001b[38;5;28;01mNone\u001b[39;00m,\n\u001b[0;32m   (...)\u001b[0m\n\u001b[1;32m   1422\u001b[0m     \u001b[38;5;241m*\u001b[39m\u001b[38;5;241m*\u001b[39mindexers_kwargs: Any,\n\u001b[1;32m   1423\u001b[0m ) \u001b[38;5;241m-\u001b[39m\u001b[38;5;241m>\u001b[39m T_DataArray:\n\u001b[1;32m   1424\u001b[0m \u001b[38;5;250m    \u001b[39m\u001b[38;5;124;03m\"\"\"Return a new DataArray whose data is given by selecting index\u001b[39;00m\n\u001b[1;32m   1425\u001b[0m \u001b[38;5;124;03m    labels along the specified dimension(s).\u001b[39;00m\n\u001b[1;32m   1426\u001b[0m \n\u001b[0;32m   (...)\u001b[0m\n\u001b[1;32m   1524\u001b[0m \u001b[38;5;124;03m    Dimensions without coordinates: points\u001b[39;00m\n\u001b[1;32m   1525\u001b[0m \u001b[38;5;124;03m    \"\"\"\u001b[39;00m\n\u001b[0;32m-> 1526\u001b[0m     ds \u001b[38;5;241m=\u001b[39m \u001b[38;5;28mself\u001b[39m\u001b[38;5;241m.\u001b[39m_to_temp_dataset()\u001b[38;5;241m.\u001b[39msel(\n\u001b[1;32m   1527\u001b[0m         indexers\u001b[38;5;241m=\u001b[39mindexers,\n\u001b[1;32m   1528\u001b[0m         drop\u001b[38;5;241m=\u001b[39mdrop,\n\u001b[1;32m   1529\u001b[0m         method\u001b[38;5;241m=\u001b[39mmethod,\n\u001b[1;32m   1530\u001b[0m         tolerance\u001b[38;5;241m=\u001b[39mtolerance,\n\u001b[1;32m   1531\u001b[0m         \u001b[38;5;241m*\u001b[39m\u001b[38;5;241m*\u001b[39mindexers_kwargs,\n\u001b[1;32m   1532\u001b[0m     )\n\u001b[1;32m   1533\u001b[0m     \u001b[38;5;28;01mreturn\u001b[39;00m \u001b[38;5;28mself\u001b[39m\u001b[38;5;241m.\u001b[39m_from_temp_dataset(ds)\n",
      "File \u001b[0;32m~/.conda/envs/jlab/lib/python3.11/site-packages/xarray/core/dataset.py:2554\u001b[0m, in \u001b[0;36mDataset.sel\u001b[0;34m(self, indexers, method, tolerance, drop, **indexers_kwargs)\u001b[0m\n\u001b[1;32m   2493\u001b[0m \u001b[38;5;250m\u001b[39m\u001b[38;5;124;03m\"\"\"Returns a new dataset with each array indexed by tick labels\u001b[39;00m\n\u001b[1;32m   2494\u001b[0m \u001b[38;5;124;03malong the specified dimension(s).\u001b[39;00m\n\u001b[1;32m   2495\u001b[0m \n\u001b[0;32m   (...)\u001b[0m\n\u001b[1;32m   2551\u001b[0m \u001b[38;5;124;03mDataArray.sel\u001b[39;00m\n\u001b[1;32m   2552\u001b[0m \u001b[38;5;124;03m\"\"\"\u001b[39;00m\n\u001b[1;32m   2553\u001b[0m indexers \u001b[38;5;241m=\u001b[39m either_dict_or_kwargs(indexers, indexers_kwargs, \u001b[38;5;124m\"\u001b[39m\u001b[38;5;124msel\u001b[39m\u001b[38;5;124m\"\u001b[39m)\n\u001b[0;32m-> 2554\u001b[0m query_results \u001b[38;5;241m=\u001b[39m map_index_queries(\n\u001b[1;32m   2555\u001b[0m     \u001b[38;5;28mself\u001b[39m, indexers\u001b[38;5;241m=\u001b[39mindexers, method\u001b[38;5;241m=\u001b[39mmethod, tolerance\u001b[38;5;241m=\u001b[39mtolerance\n\u001b[1;32m   2556\u001b[0m )\n\u001b[1;32m   2558\u001b[0m \u001b[38;5;28;01mif\u001b[39;00m drop:\n\u001b[1;32m   2559\u001b[0m     no_scalar_variables \u001b[38;5;241m=\u001b[39m {}\n",
      "File \u001b[0;32m~/.conda/envs/jlab/lib/python3.11/site-packages/xarray/core/indexing.py:183\u001b[0m, in \u001b[0;36mmap_index_queries\u001b[0;34m(obj, indexers, method, tolerance, **indexers_kwargs)\u001b[0m\n\u001b[1;32m    181\u001b[0m         results\u001b[38;5;241m.\u001b[39mappend(IndexSelResult(labels))\n\u001b[1;32m    182\u001b[0m     \u001b[38;5;28;01melse\u001b[39;00m:\n\u001b[0;32m--> 183\u001b[0m         results\u001b[38;5;241m.\u001b[39mappend(index\u001b[38;5;241m.\u001b[39msel(labels, \u001b[38;5;241m*\u001b[39m\u001b[38;5;241m*\u001b[39moptions))  \u001b[38;5;66;03m# type: ignore[call-arg]\u001b[39;00m\n\u001b[1;32m    185\u001b[0m merged \u001b[38;5;241m=\u001b[39m merge_sel_results(results)\n\u001b[1;32m    187\u001b[0m \u001b[38;5;66;03m# drop dimension coordinates found in dimension indexers\u001b[39;00m\n\u001b[1;32m    188\u001b[0m \u001b[38;5;66;03m# (also drop multi-index if any)\u001b[39;00m\n\u001b[1;32m    189\u001b[0m \u001b[38;5;66;03m# (.sel() already ensures alignment)\u001b[39;00m\n",
      "File \u001b[0;32m~/.conda/envs/jlab/lib/python3.11/site-packages/xarray/core/indexes.py:459\u001b[0m, in \u001b[0;36mPandasIndex.sel\u001b[0;34m(self, labels, method, tolerance)\u001b[0m\n\u001b[1;32m    457\u001b[0m \u001b[38;5;28;01melse\u001b[39;00m:\n\u001b[1;32m    458\u001b[0m     \u001b[38;5;28;01mif\u001b[39;00m method \u001b[38;5;129;01mis\u001b[39;00m \u001b[38;5;129;01mnot\u001b[39;00m \u001b[38;5;28;01mNone\u001b[39;00m:\n\u001b[0;32m--> 459\u001b[0m         indexer \u001b[38;5;241m=\u001b[39m get_indexer_nd(\n\u001b[1;32m    460\u001b[0m             \u001b[38;5;28mself\u001b[39m\u001b[38;5;241m.\u001b[39mindex, label_array, method, tolerance\n\u001b[1;32m    461\u001b[0m         )\n\u001b[1;32m    462\u001b[0m         \u001b[38;5;28;01mif\u001b[39;00m np\u001b[38;5;241m.\u001b[39many(indexer \u001b[38;5;241m<\u001b[39m \u001b[38;5;241m0\u001b[39m):\n\u001b[1;32m    463\u001b[0m             \u001b[38;5;28;01mraise\u001b[39;00m \u001b[38;5;167;01mKeyError\u001b[39;00m(\n\u001b[1;32m    464\u001b[0m                 \u001b[38;5;124mf\u001b[39m\u001b[38;5;124m\"\u001b[39m\u001b[38;5;124mnot all values found in index \u001b[39m\u001b[38;5;132;01m{\u001b[39;00mcoord_name\u001b[38;5;132;01m!r}\u001b[39;00m\u001b[38;5;124m\"\u001b[39m\n\u001b[1;32m    465\u001b[0m             )\n",
      "File \u001b[0;32m~/.conda/envs/jlab/lib/python3.11/site-packages/xarray/core/indexes.py:267\u001b[0m, in \u001b[0;36mget_indexer_nd\u001b[0;34m(index, labels, method, tolerance)\u001b[0m\n\u001b[1;32m    263\u001b[0m \u001b[38;5;250m\u001b[39m\u001b[38;5;124;03m\"\"\"Wrapper around :meth:`pandas.Index.get_indexer` supporting n-dimensional\u001b[39;00m\n\u001b[1;32m    264\u001b[0m \u001b[38;5;124;03mlabels\u001b[39;00m\n\u001b[1;32m    265\u001b[0m \u001b[38;5;124;03m\"\"\"\u001b[39;00m\n\u001b[1;32m    266\u001b[0m flat_labels \u001b[38;5;241m=\u001b[39m np\u001b[38;5;241m.\u001b[39mravel(labels)\n\u001b[0;32m--> 267\u001b[0m flat_indexer \u001b[38;5;241m=\u001b[39m index\u001b[38;5;241m.\u001b[39mget_indexer(flat_labels, method\u001b[38;5;241m=\u001b[39mmethod, tolerance\u001b[38;5;241m=\u001b[39mtolerance)\n\u001b[1;32m    268\u001b[0m indexer \u001b[38;5;241m=\u001b[39m flat_indexer\u001b[38;5;241m.\u001b[39mreshape(labels\u001b[38;5;241m.\u001b[39mshape)\n\u001b[1;32m    269\u001b[0m \u001b[38;5;28;01mreturn\u001b[39;00m indexer\n",
      "File \u001b[0;32m~/.conda/envs/jlab/lib/python3.11/site-packages/pandas/core/indexes/base.py:3969\u001b[0m, in \u001b[0;36mIndex.get_indexer\u001b[0;34m(self, target, method, limit, tolerance)\u001b[0m\n\u001b[1;32m   3967\u001b[0m     this \u001b[38;5;241m=\u001b[39m \u001b[38;5;28mself\u001b[39m\u001b[38;5;241m.\u001b[39mastype(dtype, copy\u001b[38;5;241m=\u001b[39m\u001b[38;5;28;01mFalse\u001b[39;00m)\n\u001b[1;32m   3968\u001b[0m     target \u001b[38;5;241m=\u001b[39m target\u001b[38;5;241m.\u001b[39mastype(dtype, copy\u001b[38;5;241m=\u001b[39m\u001b[38;5;28;01mFalse\u001b[39;00m)\n\u001b[0;32m-> 3969\u001b[0m     \u001b[38;5;28;01mreturn\u001b[39;00m this\u001b[38;5;241m.\u001b[39m_get_indexer(\n\u001b[1;32m   3970\u001b[0m         target, method\u001b[38;5;241m=\u001b[39mmethod, limit\u001b[38;5;241m=\u001b[39mlimit, tolerance\u001b[38;5;241m=\u001b[39mtolerance\n\u001b[1;32m   3971\u001b[0m     )\n\u001b[1;32m   3973\u001b[0m \u001b[38;5;28;01mreturn\u001b[39;00m \u001b[38;5;28mself\u001b[39m\u001b[38;5;241m.\u001b[39m_get_indexer(target, method, limit, tolerance)\n",
      "File \u001b[0;32m~/.conda/envs/jlab/lib/python3.11/site-packages/pandas/core/indexes/base.py:3988\u001b[0m, in \u001b[0;36mIndex._get_indexer\u001b[0;34m(self, target, method, limit, tolerance)\u001b[0m\n\u001b[1;32m   3986\u001b[0m     indexer \u001b[38;5;241m=\u001b[39m \u001b[38;5;28mself\u001b[39m\u001b[38;5;241m.\u001b[39m_get_fill_indexer(target, method, limit, tolerance)\n\u001b[1;32m   3987\u001b[0m \u001b[38;5;28;01melif\u001b[39;00m method \u001b[38;5;241m==\u001b[39m \u001b[38;5;124m\"\u001b[39m\u001b[38;5;124mnearest\u001b[39m\u001b[38;5;124m\"\u001b[39m:\n\u001b[0;32m-> 3988\u001b[0m     indexer \u001b[38;5;241m=\u001b[39m \u001b[38;5;28mself\u001b[39m\u001b[38;5;241m.\u001b[39m_get_nearest_indexer(target, limit, tolerance)\n\u001b[1;32m   3989\u001b[0m \u001b[38;5;28;01melse\u001b[39;00m:\n\u001b[1;32m   3990\u001b[0m     \u001b[38;5;28;01mif\u001b[39;00m target\u001b[38;5;241m.\u001b[39m_is_multi \u001b[38;5;129;01mand\u001b[39;00m \u001b[38;5;28mself\u001b[39m\u001b[38;5;241m.\u001b[39m_is_multi:\n",
      "File \u001b[0;32m~/.conda/envs/jlab/lib/python3.11/site-packages/pandas/core/indexes/base.py:4152\u001b[0m, in \u001b[0;36mIndex._get_nearest_indexer\u001b[0;34m(self, target, limit, tolerance)\u001b[0m\n\u001b[1;32m   4149\u001b[0m \u001b[38;5;28;01mif\u001b[39;00m \u001b[38;5;129;01mnot\u001b[39;00m \u001b[38;5;28mlen\u001b[39m(\u001b[38;5;28mself\u001b[39m):\n\u001b[1;32m   4150\u001b[0m     \u001b[38;5;28;01mreturn\u001b[39;00m \u001b[38;5;28mself\u001b[39m\u001b[38;5;241m.\u001b[39m_get_fill_indexer(target, \u001b[38;5;124m\"\u001b[39m\u001b[38;5;124mpad\u001b[39m\u001b[38;5;124m\"\u001b[39m)\n\u001b[0;32m-> 4152\u001b[0m left_indexer \u001b[38;5;241m=\u001b[39m \u001b[38;5;28mself\u001b[39m\u001b[38;5;241m.\u001b[39mget_indexer(target, \u001b[38;5;124m\"\u001b[39m\u001b[38;5;124mpad\u001b[39m\u001b[38;5;124m\"\u001b[39m, limit\u001b[38;5;241m=\u001b[39mlimit)\n\u001b[1;32m   4153\u001b[0m right_indexer \u001b[38;5;241m=\u001b[39m \u001b[38;5;28mself\u001b[39m\u001b[38;5;241m.\u001b[39mget_indexer(target, \u001b[38;5;124m\"\u001b[39m\u001b[38;5;124mbackfill\u001b[39m\u001b[38;5;124m\"\u001b[39m, limit\u001b[38;5;241m=\u001b[39mlimit)\n\u001b[1;32m   4155\u001b[0m left_distances \u001b[38;5;241m=\u001b[39m \u001b[38;5;28mself\u001b[39m\u001b[38;5;241m.\u001b[39m_difference_compat(target, left_indexer)\n",
      "File \u001b[0;32m~/.conda/envs/jlab/lib/python3.11/site-packages/pandas/core/indexes/base.py:3973\u001b[0m, in \u001b[0;36mIndex.get_indexer\u001b[0;34m(self, target, method, limit, tolerance)\u001b[0m\n\u001b[1;32m   3968\u001b[0m     target \u001b[38;5;241m=\u001b[39m target\u001b[38;5;241m.\u001b[39mastype(dtype, copy\u001b[38;5;241m=\u001b[39m\u001b[38;5;28;01mFalse\u001b[39;00m)\n\u001b[1;32m   3969\u001b[0m     \u001b[38;5;28;01mreturn\u001b[39;00m this\u001b[38;5;241m.\u001b[39m_get_indexer(\n\u001b[1;32m   3970\u001b[0m         target, method\u001b[38;5;241m=\u001b[39mmethod, limit\u001b[38;5;241m=\u001b[39mlimit, tolerance\u001b[38;5;241m=\u001b[39mtolerance\n\u001b[1;32m   3971\u001b[0m     )\n\u001b[0;32m-> 3973\u001b[0m \u001b[38;5;28;01mreturn\u001b[39;00m \u001b[38;5;28mself\u001b[39m\u001b[38;5;241m.\u001b[39m_get_indexer(target, method, limit, tolerance)\n",
      "File \u001b[0;32m~/.conda/envs/jlab/lib/python3.11/site-packages/pandas/core/indexes/base.py:3986\u001b[0m, in \u001b[0;36mIndex._get_indexer\u001b[0;34m(self, target, method, limit, tolerance)\u001b[0m\n\u001b[1;32m   3983\u001b[0m     tolerance \u001b[38;5;241m=\u001b[39m \u001b[38;5;28mself\u001b[39m\u001b[38;5;241m.\u001b[39m_convert_tolerance(tolerance, target)\n\u001b[1;32m   3985\u001b[0m \u001b[38;5;28;01mif\u001b[39;00m method \u001b[38;5;129;01min\u001b[39;00m [\u001b[38;5;124m\"\u001b[39m\u001b[38;5;124mpad\u001b[39m\u001b[38;5;124m\"\u001b[39m, \u001b[38;5;124m\"\u001b[39m\u001b[38;5;124mbackfill\u001b[39m\u001b[38;5;124m\"\u001b[39m]:\n\u001b[0;32m-> 3986\u001b[0m     indexer \u001b[38;5;241m=\u001b[39m \u001b[38;5;28mself\u001b[39m\u001b[38;5;241m.\u001b[39m_get_fill_indexer(target, method, limit, tolerance)\n\u001b[1;32m   3987\u001b[0m \u001b[38;5;28;01melif\u001b[39;00m method \u001b[38;5;241m==\u001b[39m \u001b[38;5;124m\"\u001b[39m\u001b[38;5;124mnearest\u001b[39m\u001b[38;5;124m\"\u001b[39m:\n\u001b[1;32m   3988\u001b[0m     indexer \u001b[38;5;241m=\u001b[39m \u001b[38;5;28mself\u001b[39m\u001b[38;5;241m.\u001b[39m_get_nearest_indexer(target, limit, tolerance)\n",
      "File \u001b[0;32m~/.conda/envs/jlab/lib/python3.11/site-packages/pandas/core/indexes/base.py:4096\u001b[0m, in \u001b[0;36mIndex._get_fill_indexer\u001b[0;34m(self, target, method, limit, tolerance)\u001b[0m\n\u001b[1;32m   4093\u001b[0m     \u001b[38;5;28;01mraise\u001b[39;00m \u001b[38;5;167;01mNotImplementedError\u001b[39;00m\n\u001b[1;32m   4095\u001b[0m \u001b[38;5;28;01mif\u001b[39;00m method \u001b[38;5;241m==\u001b[39m \u001b[38;5;124m\"\u001b[39m\u001b[38;5;124mpad\u001b[39m\u001b[38;5;124m\"\u001b[39m:\n\u001b[0;32m-> 4096\u001b[0m     indexer \u001b[38;5;241m=\u001b[39m libalgos\u001b[38;5;241m.\u001b[39mpad(own_values, target_values, limit\u001b[38;5;241m=\u001b[39mlimit)\n\u001b[1;32m   4097\u001b[0m \u001b[38;5;28;01melse\u001b[39;00m:\n\u001b[1;32m   4098\u001b[0m     \u001b[38;5;66;03m# i.e. \"backfill\"\u001b[39;00m\n\u001b[1;32m   4099\u001b[0m     indexer \u001b[38;5;241m=\u001b[39m libalgos\u001b[38;5;241m.\u001b[39mbackfill(own_values, target_values, limit\u001b[38;5;241m=\u001b[39mlimit)\n",
      "File \u001b[0;32m~/.conda/envs/jlab/lib/python3.11/site-packages/pandas/_libs/algos.pyx:530\u001b[0m, in \u001b[0;36mpandas._libs.algos.pad\u001b[0;34m()\u001b[0m\n",
      "\u001b[0;31mTypeError\u001b[0m: '<' not supported between instances of 'str' and 'Timestamp'"
     ]
    }
   ],
   "source": [
    "ds.edens.sel(alt=300, time=\"YYYY-MM-DD HH:MM:SS\", method='nearest').plot(x='lon', y='lat')\n"
   ]
  },
  {
   "cell_type": "code",
   "execution_count": 68,
   "id": "6b8d5c60-567a-4747-bed1-d100c9354b30",
   "metadata": {
    "tags": []
   },
   "outputs": [
    {
     "ename": "TypeError",
     "evalue": "'<' not supported between instances of 'str' and 'Timestamp'",
     "output_type": "error",
     "traceback": [
      "\u001b[0;31m---------------------------------------------------------------------------\u001b[0m",
      "\u001b[0;31mTypeError\u001b[0m                                 Traceback (most recent call last)",
      "Cell \u001b[0;32mIn[68], line 1\u001b[0m\n\u001b[0;32m----> 1\u001b[0m ds\u001b[38;5;241m.\u001b[39medens\u001b[38;5;241m.\u001b[39mintegrate(\u001b[38;5;124m'\u001b[39m\u001b[38;5;124malt\u001b[39m\u001b[38;5;124m'\u001b[39m)\u001b[38;5;241m.\u001b[39msel(time \u001b[38;5;241m=\u001b[39m \u001b[38;5;124m\"\u001b[39m\u001b[38;5;124mYYYY-MM-DD HH:MM:SS\u001b[39m\u001b[38;5;124m\"\u001b[39m, method\u001b[38;5;241m=\u001b[39m\u001b[38;5;124m'\u001b[39m\u001b[38;5;124mnearest\u001b[39m\u001b[38;5;124m'\u001b[39m)\u001b[38;5;241m.\u001b[39mplot(x\u001b[38;5;241m=\u001b[39m\u001b[38;5;124m'\u001b[39m\u001b[38;5;124mlon\u001b[39m\u001b[38;5;124m'\u001b[39m, y\u001b[38;5;241m=\u001b[39m\u001b[38;5;124m'\u001b[39m\u001b[38;5;124mlat\u001b[39m\u001b[38;5;124m'\u001b[39m)\n",
      "File \u001b[0;32m~/.conda/envs/jlab/lib/python3.11/site-packages/xarray/core/dataarray.py:1526\u001b[0m, in \u001b[0;36mDataArray.sel\u001b[0;34m(self, indexers, method, tolerance, drop, **indexers_kwargs)\u001b[0m\n\u001b[1;32m   1416\u001b[0m \u001b[38;5;28;01mdef\u001b[39;00m \u001b[38;5;21msel\u001b[39m(\n\u001b[1;32m   1417\u001b[0m     \u001b[38;5;28mself\u001b[39m: T_DataArray,\n\u001b[1;32m   1418\u001b[0m     indexers: Mapping[Any, Any] \u001b[38;5;241m=\u001b[39m \u001b[38;5;28;01mNone\u001b[39;00m,\n\u001b[0;32m   (...)\u001b[0m\n\u001b[1;32m   1422\u001b[0m     \u001b[38;5;241m*\u001b[39m\u001b[38;5;241m*\u001b[39mindexers_kwargs: Any,\n\u001b[1;32m   1423\u001b[0m ) \u001b[38;5;241m-\u001b[39m\u001b[38;5;241m>\u001b[39m T_DataArray:\n\u001b[1;32m   1424\u001b[0m \u001b[38;5;250m    \u001b[39m\u001b[38;5;124;03m\"\"\"Return a new DataArray whose data is given by selecting index\u001b[39;00m\n\u001b[1;32m   1425\u001b[0m \u001b[38;5;124;03m    labels along the specified dimension(s).\u001b[39;00m\n\u001b[1;32m   1426\u001b[0m \n\u001b[0;32m   (...)\u001b[0m\n\u001b[1;32m   1524\u001b[0m \u001b[38;5;124;03m    Dimensions without coordinates: points\u001b[39;00m\n\u001b[1;32m   1525\u001b[0m \u001b[38;5;124;03m    \"\"\"\u001b[39;00m\n\u001b[0;32m-> 1526\u001b[0m     ds \u001b[38;5;241m=\u001b[39m \u001b[38;5;28mself\u001b[39m\u001b[38;5;241m.\u001b[39m_to_temp_dataset()\u001b[38;5;241m.\u001b[39msel(\n\u001b[1;32m   1527\u001b[0m         indexers\u001b[38;5;241m=\u001b[39mindexers,\n\u001b[1;32m   1528\u001b[0m         drop\u001b[38;5;241m=\u001b[39mdrop,\n\u001b[1;32m   1529\u001b[0m         method\u001b[38;5;241m=\u001b[39mmethod,\n\u001b[1;32m   1530\u001b[0m         tolerance\u001b[38;5;241m=\u001b[39mtolerance,\n\u001b[1;32m   1531\u001b[0m         \u001b[38;5;241m*\u001b[39m\u001b[38;5;241m*\u001b[39mindexers_kwargs,\n\u001b[1;32m   1532\u001b[0m     )\n\u001b[1;32m   1533\u001b[0m     \u001b[38;5;28;01mreturn\u001b[39;00m \u001b[38;5;28mself\u001b[39m\u001b[38;5;241m.\u001b[39m_from_temp_dataset(ds)\n",
      "File \u001b[0;32m~/.conda/envs/jlab/lib/python3.11/site-packages/xarray/core/dataset.py:2554\u001b[0m, in \u001b[0;36mDataset.sel\u001b[0;34m(self, indexers, method, tolerance, drop, **indexers_kwargs)\u001b[0m\n\u001b[1;32m   2493\u001b[0m \u001b[38;5;250m\u001b[39m\u001b[38;5;124;03m\"\"\"Returns a new dataset with each array indexed by tick labels\u001b[39;00m\n\u001b[1;32m   2494\u001b[0m \u001b[38;5;124;03malong the specified dimension(s).\u001b[39;00m\n\u001b[1;32m   2495\u001b[0m \n\u001b[0;32m   (...)\u001b[0m\n\u001b[1;32m   2551\u001b[0m \u001b[38;5;124;03mDataArray.sel\u001b[39;00m\n\u001b[1;32m   2552\u001b[0m \u001b[38;5;124;03m\"\"\"\u001b[39;00m\n\u001b[1;32m   2553\u001b[0m indexers \u001b[38;5;241m=\u001b[39m either_dict_or_kwargs(indexers, indexers_kwargs, \u001b[38;5;124m\"\u001b[39m\u001b[38;5;124msel\u001b[39m\u001b[38;5;124m\"\u001b[39m)\n\u001b[0;32m-> 2554\u001b[0m query_results \u001b[38;5;241m=\u001b[39m map_index_queries(\n\u001b[1;32m   2555\u001b[0m     \u001b[38;5;28mself\u001b[39m, indexers\u001b[38;5;241m=\u001b[39mindexers, method\u001b[38;5;241m=\u001b[39mmethod, tolerance\u001b[38;5;241m=\u001b[39mtolerance\n\u001b[1;32m   2556\u001b[0m )\n\u001b[1;32m   2558\u001b[0m \u001b[38;5;28;01mif\u001b[39;00m drop:\n\u001b[1;32m   2559\u001b[0m     no_scalar_variables \u001b[38;5;241m=\u001b[39m {}\n",
      "File \u001b[0;32m~/.conda/envs/jlab/lib/python3.11/site-packages/xarray/core/indexing.py:183\u001b[0m, in \u001b[0;36mmap_index_queries\u001b[0;34m(obj, indexers, method, tolerance, **indexers_kwargs)\u001b[0m\n\u001b[1;32m    181\u001b[0m         results\u001b[38;5;241m.\u001b[39mappend(IndexSelResult(labels))\n\u001b[1;32m    182\u001b[0m     \u001b[38;5;28;01melse\u001b[39;00m:\n\u001b[0;32m--> 183\u001b[0m         results\u001b[38;5;241m.\u001b[39mappend(index\u001b[38;5;241m.\u001b[39msel(labels, \u001b[38;5;241m*\u001b[39m\u001b[38;5;241m*\u001b[39moptions))  \u001b[38;5;66;03m# type: ignore[call-arg]\u001b[39;00m\n\u001b[1;32m    185\u001b[0m merged \u001b[38;5;241m=\u001b[39m merge_sel_results(results)\n\u001b[1;32m    187\u001b[0m \u001b[38;5;66;03m# drop dimension coordinates found in dimension indexers\u001b[39;00m\n\u001b[1;32m    188\u001b[0m \u001b[38;5;66;03m# (also drop multi-index if any)\u001b[39;00m\n\u001b[1;32m    189\u001b[0m \u001b[38;5;66;03m# (.sel() already ensures alignment)\u001b[39;00m\n",
      "File \u001b[0;32m~/.conda/envs/jlab/lib/python3.11/site-packages/xarray/core/indexes.py:459\u001b[0m, in \u001b[0;36mPandasIndex.sel\u001b[0;34m(self, labels, method, tolerance)\u001b[0m\n\u001b[1;32m    457\u001b[0m \u001b[38;5;28;01melse\u001b[39;00m:\n\u001b[1;32m    458\u001b[0m     \u001b[38;5;28;01mif\u001b[39;00m method \u001b[38;5;129;01mis\u001b[39;00m \u001b[38;5;129;01mnot\u001b[39;00m \u001b[38;5;28;01mNone\u001b[39;00m:\n\u001b[0;32m--> 459\u001b[0m         indexer \u001b[38;5;241m=\u001b[39m get_indexer_nd(\n\u001b[1;32m    460\u001b[0m             \u001b[38;5;28mself\u001b[39m\u001b[38;5;241m.\u001b[39mindex, label_array, method, tolerance\n\u001b[1;32m    461\u001b[0m         )\n\u001b[1;32m    462\u001b[0m         \u001b[38;5;28;01mif\u001b[39;00m np\u001b[38;5;241m.\u001b[39many(indexer \u001b[38;5;241m<\u001b[39m \u001b[38;5;241m0\u001b[39m):\n\u001b[1;32m    463\u001b[0m             \u001b[38;5;28;01mraise\u001b[39;00m \u001b[38;5;167;01mKeyError\u001b[39;00m(\n\u001b[1;32m    464\u001b[0m                 \u001b[38;5;124mf\u001b[39m\u001b[38;5;124m\"\u001b[39m\u001b[38;5;124mnot all values found in index \u001b[39m\u001b[38;5;132;01m{\u001b[39;00mcoord_name\u001b[38;5;132;01m!r}\u001b[39;00m\u001b[38;5;124m\"\u001b[39m\n\u001b[1;32m    465\u001b[0m             )\n",
      "File \u001b[0;32m~/.conda/envs/jlab/lib/python3.11/site-packages/xarray/core/indexes.py:267\u001b[0m, in \u001b[0;36mget_indexer_nd\u001b[0;34m(index, labels, method, tolerance)\u001b[0m\n\u001b[1;32m    263\u001b[0m \u001b[38;5;250m\u001b[39m\u001b[38;5;124;03m\"\"\"Wrapper around :meth:`pandas.Index.get_indexer` supporting n-dimensional\u001b[39;00m\n\u001b[1;32m    264\u001b[0m \u001b[38;5;124;03mlabels\u001b[39;00m\n\u001b[1;32m    265\u001b[0m \u001b[38;5;124;03m\"\"\"\u001b[39;00m\n\u001b[1;32m    266\u001b[0m flat_labels \u001b[38;5;241m=\u001b[39m np\u001b[38;5;241m.\u001b[39mravel(labels)\n\u001b[0;32m--> 267\u001b[0m flat_indexer \u001b[38;5;241m=\u001b[39m index\u001b[38;5;241m.\u001b[39mget_indexer(flat_labels, method\u001b[38;5;241m=\u001b[39mmethod, tolerance\u001b[38;5;241m=\u001b[39mtolerance)\n\u001b[1;32m    268\u001b[0m indexer \u001b[38;5;241m=\u001b[39m flat_indexer\u001b[38;5;241m.\u001b[39mreshape(labels\u001b[38;5;241m.\u001b[39mshape)\n\u001b[1;32m    269\u001b[0m \u001b[38;5;28;01mreturn\u001b[39;00m indexer\n",
      "File \u001b[0;32m~/.conda/envs/jlab/lib/python3.11/site-packages/pandas/core/indexes/base.py:3969\u001b[0m, in \u001b[0;36mIndex.get_indexer\u001b[0;34m(self, target, method, limit, tolerance)\u001b[0m\n\u001b[1;32m   3967\u001b[0m     this \u001b[38;5;241m=\u001b[39m \u001b[38;5;28mself\u001b[39m\u001b[38;5;241m.\u001b[39mastype(dtype, copy\u001b[38;5;241m=\u001b[39m\u001b[38;5;28;01mFalse\u001b[39;00m)\n\u001b[1;32m   3968\u001b[0m     target \u001b[38;5;241m=\u001b[39m target\u001b[38;5;241m.\u001b[39mastype(dtype, copy\u001b[38;5;241m=\u001b[39m\u001b[38;5;28;01mFalse\u001b[39;00m)\n\u001b[0;32m-> 3969\u001b[0m     \u001b[38;5;28;01mreturn\u001b[39;00m this\u001b[38;5;241m.\u001b[39m_get_indexer(\n\u001b[1;32m   3970\u001b[0m         target, method\u001b[38;5;241m=\u001b[39mmethod, limit\u001b[38;5;241m=\u001b[39mlimit, tolerance\u001b[38;5;241m=\u001b[39mtolerance\n\u001b[1;32m   3971\u001b[0m     )\n\u001b[1;32m   3973\u001b[0m \u001b[38;5;28;01mreturn\u001b[39;00m \u001b[38;5;28mself\u001b[39m\u001b[38;5;241m.\u001b[39m_get_indexer(target, method, limit, tolerance)\n",
      "File \u001b[0;32m~/.conda/envs/jlab/lib/python3.11/site-packages/pandas/core/indexes/base.py:3988\u001b[0m, in \u001b[0;36mIndex._get_indexer\u001b[0;34m(self, target, method, limit, tolerance)\u001b[0m\n\u001b[1;32m   3986\u001b[0m     indexer \u001b[38;5;241m=\u001b[39m \u001b[38;5;28mself\u001b[39m\u001b[38;5;241m.\u001b[39m_get_fill_indexer(target, method, limit, tolerance)\n\u001b[1;32m   3987\u001b[0m \u001b[38;5;28;01melif\u001b[39;00m method \u001b[38;5;241m==\u001b[39m \u001b[38;5;124m\"\u001b[39m\u001b[38;5;124mnearest\u001b[39m\u001b[38;5;124m\"\u001b[39m:\n\u001b[0;32m-> 3988\u001b[0m     indexer \u001b[38;5;241m=\u001b[39m \u001b[38;5;28mself\u001b[39m\u001b[38;5;241m.\u001b[39m_get_nearest_indexer(target, limit, tolerance)\n\u001b[1;32m   3989\u001b[0m \u001b[38;5;28;01melse\u001b[39;00m:\n\u001b[1;32m   3990\u001b[0m     \u001b[38;5;28;01mif\u001b[39;00m target\u001b[38;5;241m.\u001b[39m_is_multi \u001b[38;5;129;01mand\u001b[39;00m \u001b[38;5;28mself\u001b[39m\u001b[38;5;241m.\u001b[39m_is_multi:\n",
      "File \u001b[0;32m~/.conda/envs/jlab/lib/python3.11/site-packages/pandas/core/indexes/base.py:4152\u001b[0m, in \u001b[0;36mIndex._get_nearest_indexer\u001b[0;34m(self, target, limit, tolerance)\u001b[0m\n\u001b[1;32m   4149\u001b[0m \u001b[38;5;28;01mif\u001b[39;00m \u001b[38;5;129;01mnot\u001b[39;00m \u001b[38;5;28mlen\u001b[39m(\u001b[38;5;28mself\u001b[39m):\n\u001b[1;32m   4150\u001b[0m     \u001b[38;5;28;01mreturn\u001b[39;00m \u001b[38;5;28mself\u001b[39m\u001b[38;5;241m.\u001b[39m_get_fill_indexer(target, \u001b[38;5;124m\"\u001b[39m\u001b[38;5;124mpad\u001b[39m\u001b[38;5;124m\"\u001b[39m)\n\u001b[0;32m-> 4152\u001b[0m left_indexer \u001b[38;5;241m=\u001b[39m \u001b[38;5;28mself\u001b[39m\u001b[38;5;241m.\u001b[39mget_indexer(target, \u001b[38;5;124m\"\u001b[39m\u001b[38;5;124mpad\u001b[39m\u001b[38;5;124m\"\u001b[39m, limit\u001b[38;5;241m=\u001b[39mlimit)\n\u001b[1;32m   4153\u001b[0m right_indexer \u001b[38;5;241m=\u001b[39m \u001b[38;5;28mself\u001b[39m\u001b[38;5;241m.\u001b[39mget_indexer(target, \u001b[38;5;124m\"\u001b[39m\u001b[38;5;124mbackfill\u001b[39m\u001b[38;5;124m\"\u001b[39m, limit\u001b[38;5;241m=\u001b[39mlimit)\n\u001b[1;32m   4155\u001b[0m left_distances \u001b[38;5;241m=\u001b[39m \u001b[38;5;28mself\u001b[39m\u001b[38;5;241m.\u001b[39m_difference_compat(target, left_indexer)\n",
      "File \u001b[0;32m~/.conda/envs/jlab/lib/python3.11/site-packages/pandas/core/indexes/base.py:3973\u001b[0m, in \u001b[0;36mIndex.get_indexer\u001b[0;34m(self, target, method, limit, tolerance)\u001b[0m\n\u001b[1;32m   3968\u001b[0m     target \u001b[38;5;241m=\u001b[39m target\u001b[38;5;241m.\u001b[39mastype(dtype, copy\u001b[38;5;241m=\u001b[39m\u001b[38;5;28;01mFalse\u001b[39;00m)\n\u001b[1;32m   3969\u001b[0m     \u001b[38;5;28;01mreturn\u001b[39;00m this\u001b[38;5;241m.\u001b[39m_get_indexer(\n\u001b[1;32m   3970\u001b[0m         target, method\u001b[38;5;241m=\u001b[39mmethod, limit\u001b[38;5;241m=\u001b[39mlimit, tolerance\u001b[38;5;241m=\u001b[39mtolerance\n\u001b[1;32m   3971\u001b[0m     )\n\u001b[0;32m-> 3973\u001b[0m \u001b[38;5;28;01mreturn\u001b[39;00m \u001b[38;5;28mself\u001b[39m\u001b[38;5;241m.\u001b[39m_get_indexer(target, method, limit, tolerance)\n",
      "File \u001b[0;32m~/.conda/envs/jlab/lib/python3.11/site-packages/pandas/core/indexes/base.py:3986\u001b[0m, in \u001b[0;36mIndex._get_indexer\u001b[0;34m(self, target, method, limit, tolerance)\u001b[0m\n\u001b[1;32m   3983\u001b[0m     tolerance \u001b[38;5;241m=\u001b[39m \u001b[38;5;28mself\u001b[39m\u001b[38;5;241m.\u001b[39m_convert_tolerance(tolerance, target)\n\u001b[1;32m   3985\u001b[0m \u001b[38;5;28;01mif\u001b[39;00m method \u001b[38;5;129;01min\u001b[39;00m [\u001b[38;5;124m\"\u001b[39m\u001b[38;5;124mpad\u001b[39m\u001b[38;5;124m\"\u001b[39m, \u001b[38;5;124m\"\u001b[39m\u001b[38;5;124mbackfill\u001b[39m\u001b[38;5;124m\"\u001b[39m]:\n\u001b[0;32m-> 3986\u001b[0m     indexer \u001b[38;5;241m=\u001b[39m \u001b[38;5;28mself\u001b[39m\u001b[38;5;241m.\u001b[39m_get_fill_indexer(target, method, limit, tolerance)\n\u001b[1;32m   3987\u001b[0m \u001b[38;5;28;01melif\u001b[39;00m method \u001b[38;5;241m==\u001b[39m \u001b[38;5;124m\"\u001b[39m\u001b[38;5;124mnearest\u001b[39m\u001b[38;5;124m\"\u001b[39m:\n\u001b[1;32m   3988\u001b[0m     indexer \u001b[38;5;241m=\u001b[39m \u001b[38;5;28mself\u001b[39m\u001b[38;5;241m.\u001b[39m_get_nearest_indexer(target, limit, tolerance)\n",
      "File \u001b[0;32m~/.conda/envs/jlab/lib/python3.11/site-packages/pandas/core/indexes/base.py:4096\u001b[0m, in \u001b[0;36mIndex._get_fill_indexer\u001b[0;34m(self, target, method, limit, tolerance)\u001b[0m\n\u001b[1;32m   4093\u001b[0m     \u001b[38;5;28;01mraise\u001b[39;00m \u001b[38;5;167;01mNotImplementedError\u001b[39;00m\n\u001b[1;32m   4095\u001b[0m \u001b[38;5;28;01mif\u001b[39;00m method \u001b[38;5;241m==\u001b[39m \u001b[38;5;124m\"\u001b[39m\u001b[38;5;124mpad\u001b[39m\u001b[38;5;124m\"\u001b[39m:\n\u001b[0;32m-> 4096\u001b[0m     indexer \u001b[38;5;241m=\u001b[39m libalgos\u001b[38;5;241m.\u001b[39mpad(own_values, target_values, limit\u001b[38;5;241m=\u001b[39mlimit)\n\u001b[1;32m   4097\u001b[0m \u001b[38;5;28;01melse\u001b[39;00m:\n\u001b[1;32m   4098\u001b[0m     \u001b[38;5;66;03m# i.e. \"backfill\"\u001b[39;00m\n\u001b[1;32m   4099\u001b[0m     indexer \u001b[38;5;241m=\u001b[39m libalgos\u001b[38;5;241m.\u001b[39mbackfill(own_values, target_values, limit\u001b[38;5;241m=\u001b[39mlimit)\n",
      "File \u001b[0;32m~/.conda/envs/jlab/lib/python3.11/site-packages/pandas/_libs/algos.pyx:530\u001b[0m, in \u001b[0;36mpandas._libs.algos.pad\u001b[0;34m()\u001b[0m\n",
      "\u001b[0;31mTypeError\u001b[0m: '<' not supported between instances of 'str' and 'Timestamp'"
     ]
    }
   ],
   "source": [
    "ds.edens.integrate('alt').sel(time = \"YYYY-MM-DD HH:MM:SS\", method='nearest').plot(x='lon', y='lat')"
   ]
  },
  {
   "cell_type": "code",
   "execution_count": 71,
   "id": "9cd52e49-f87c-4896-9ac7-dae23de1d67b",
   "metadata": {
    "tags": []
   },
   "outputs": [],
   "source": [
    "ds = xr.open_mfdataset('/petastore/phil/Prasoon_satellite_project/testing-at-sat_18_SAMI_REGRID.nc')"
   ]
  },
  {
   "cell_type": "code",
   "execution_count": 73,
   "id": "b0f3a286-7219-4828-af3d-62e02ada2191",
   "metadata": {
    "tags": []
   },
   "outputs": [
    {
     "ename": "TypeError",
     "evalue": "'<' not supported between instances of 'str' and 'Timestamp'",
     "output_type": "error",
     "traceback": [
      "\u001b[0;31m---------------------------------------------------------------------------\u001b[0m",
      "\u001b[0;31mTypeError\u001b[0m                                 Traceback (most recent call last)",
      "Cell \u001b[0;32mIn[73], line 1\u001b[0m\n\u001b[0;32m----> 1\u001b[0m ds\u001b[38;5;241m.\u001b[39medens\u001b[38;5;241m.\u001b[39msel(alt\u001b[38;5;241m=\u001b[39m\u001b[38;5;241m300\u001b[39m, time \u001b[38;5;241m=\u001b[39m \u001b[38;5;124m\"\u001b[39m\u001b[38;5;124mYYYY-MM-DD HH:MM:SS\u001b[39m\u001b[38;5;124m\"\u001b[39m, method\u001b[38;5;241m=\u001b[39m\u001b[38;5;124m'\u001b[39m\u001b[38;5;124mnearest\u001b[39m\u001b[38;5;124m'\u001b[39m)\u001b[38;5;241m.\u001b[39mplot(x\u001b[38;5;241m=\u001b[39m\u001b[38;5;124m'\u001b[39m\u001b[38;5;124mlon\u001b[39m\u001b[38;5;124m'\u001b[39m, y\u001b[38;5;241m=\u001b[39m\u001b[38;5;124m'\u001b[39m\u001b[38;5;124mlat\u001b[39m\u001b[38;5;124m'\u001b[39m)\n",
      "File \u001b[0;32m~/.conda/envs/jlab/lib/python3.11/site-packages/xarray/core/dataarray.py:1526\u001b[0m, in \u001b[0;36mDataArray.sel\u001b[0;34m(self, indexers, method, tolerance, drop, **indexers_kwargs)\u001b[0m\n\u001b[1;32m   1416\u001b[0m \u001b[38;5;28;01mdef\u001b[39;00m \u001b[38;5;21msel\u001b[39m(\n\u001b[1;32m   1417\u001b[0m     \u001b[38;5;28mself\u001b[39m: T_DataArray,\n\u001b[1;32m   1418\u001b[0m     indexers: Mapping[Any, Any] \u001b[38;5;241m=\u001b[39m \u001b[38;5;28;01mNone\u001b[39;00m,\n\u001b[0;32m   (...)\u001b[0m\n\u001b[1;32m   1422\u001b[0m     \u001b[38;5;241m*\u001b[39m\u001b[38;5;241m*\u001b[39mindexers_kwargs: Any,\n\u001b[1;32m   1423\u001b[0m ) \u001b[38;5;241m-\u001b[39m\u001b[38;5;241m>\u001b[39m T_DataArray:\n\u001b[1;32m   1424\u001b[0m \u001b[38;5;250m    \u001b[39m\u001b[38;5;124;03m\"\"\"Return a new DataArray whose data is given by selecting index\u001b[39;00m\n\u001b[1;32m   1425\u001b[0m \u001b[38;5;124;03m    labels along the specified dimension(s).\u001b[39;00m\n\u001b[1;32m   1426\u001b[0m \n\u001b[0;32m   (...)\u001b[0m\n\u001b[1;32m   1524\u001b[0m \u001b[38;5;124;03m    Dimensions without coordinates: points\u001b[39;00m\n\u001b[1;32m   1525\u001b[0m \u001b[38;5;124;03m    \"\"\"\u001b[39;00m\n\u001b[0;32m-> 1526\u001b[0m     ds \u001b[38;5;241m=\u001b[39m \u001b[38;5;28mself\u001b[39m\u001b[38;5;241m.\u001b[39m_to_temp_dataset()\u001b[38;5;241m.\u001b[39msel(\n\u001b[1;32m   1527\u001b[0m         indexers\u001b[38;5;241m=\u001b[39mindexers,\n\u001b[1;32m   1528\u001b[0m         drop\u001b[38;5;241m=\u001b[39mdrop,\n\u001b[1;32m   1529\u001b[0m         method\u001b[38;5;241m=\u001b[39mmethod,\n\u001b[1;32m   1530\u001b[0m         tolerance\u001b[38;5;241m=\u001b[39mtolerance,\n\u001b[1;32m   1531\u001b[0m         \u001b[38;5;241m*\u001b[39m\u001b[38;5;241m*\u001b[39mindexers_kwargs,\n\u001b[1;32m   1532\u001b[0m     )\n\u001b[1;32m   1533\u001b[0m     \u001b[38;5;28;01mreturn\u001b[39;00m \u001b[38;5;28mself\u001b[39m\u001b[38;5;241m.\u001b[39m_from_temp_dataset(ds)\n",
      "File \u001b[0;32m~/.conda/envs/jlab/lib/python3.11/site-packages/xarray/core/dataset.py:2554\u001b[0m, in \u001b[0;36mDataset.sel\u001b[0;34m(self, indexers, method, tolerance, drop, **indexers_kwargs)\u001b[0m\n\u001b[1;32m   2493\u001b[0m \u001b[38;5;250m\u001b[39m\u001b[38;5;124;03m\"\"\"Returns a new dataset with each array indexed by tick labels\u001b[39;00m\n\u001b[1;32m   2494\u001b[0m \u001b[38;5;124;03malong the specified dimension(s).\u001b[39;00m\n\u001b[1;32m   2495\u001b[0m \n\u001b[0;32m   (...)\u001b[0m\n\u001b[1;32m   2551\u001b[0m \u001b[38;5;124;03mDataArray.sel\u001b[39;00m\n\u001b[1;32m   2552\u001b[0m \u001b[38;5;124;03m\"\"\"\u001b[39;00m\n\u001b[1;32m   2553\u001b[0m indexers \u001b[38;5;241m=\u001b[39m either_dict_or_kwargs(indexers, indexers_kwargs, \u001b[38;5;124m\"\u001b[39m\u001b[38;5;124msel\u001b[39m\u001b[38;5;124m\"\u001b[39m)\n\u001b[0;32m-> 2554\u001b[0m query_results \u001b[38;5;241m=\u001b[39m map_index_queries(\n\u001b[1;32m   2555\u001b[0m     \u001b[38;5;28mself\u001b[39m, indexers\u001b[38;5;241m=\u001b[39mindexers, method\u001b[38;5;241m=\u001b[39mmethod, tolerance\u001b[38;5;241m=\u001b[39mtolerance\n\u001b[1;32m   2556\u001b[0m )\n\u001b[1;32m   2558\u001b[0m \u001b[38;5;28;01mif\u001b[39;00m drop:\n\u001b[1;32m   2559\u001b[0m     no_scalar_variables \u001b[38;5;241m=\u001b[39m {}\n",
      "File \u001b[0;32m~/.conda/envs/jlab/lib/python3.11/site-packages/xarray/core/indexing.py:183\u001b[0m, in \u001b[0;36mmap_index_queries\u001b[0;34m(obj, indexers, method, tolerance, **indexers_kwargs)\u001b[0m\n\u001b[1;32m    181\u001b[0m         results\u001b[38;5;241m.\u001b[39mappend(IndexSelResult(labels))\n\u001b[1;32m    182\u001b[0m     \u001b[38;5;28;01melse\u001b[39;00m:\n\u001b[0;32m--> 183\u001b[0m         results\u001b[38;5;241m.\u001b[39mappend(index\u001b[38;5;241m.\u001b[39msel(labels, \u001b[38;5;241m*\u001b[39m\u001b[38;5;241m*\u001b[39moptions))  \u001b[38;5;66;03m# type: ignore[call-arg]\u001b[39;00m\n\u001b[1;32m    185\u001b[0m merged \u001b[38;5;241m=\u001b[39m merge_sel_results(results)\n\u001b[1;32m    187\u001b[0m \u001b[38;5;66;03m# drop dimension coordinates found in dimension indexers\u001b[39;00m\n\u001b[1;32m    188\u001b[0m \u001b[38;5;66;03m# (also drop multi-index if any)\u001b[39;00m\n\u001b[1;32m    189\u001b[0m \u001b[38;5;66;03m# (.sel() already ensures alignment)\u001b[39;00m\n",
      "File \u001b[0;32m~/.conda/envs/jlab/lib/python3.11/site-packages/xarray/core/indexes.py:459\u001b[0m, in \u001b[0;36mPandasIndex.sel\u001b[0;34m(self, labels, method, tolerance)\u001b[0m\n\u001b[1;32m    457\u001b[0m \u001b[38;5;28;01melse\u001b[39;00m:\n\u001b[1;32m    458\u001b[0m     \u001b[38;5;28;01mif\u001b[39;00m method \u001b[38;5;129;01mis\u001b[39;00m \u001b[38;5;129;01mnot\u001b[39;00m \u001b[38;5;28;01mNone\u001b[39;00m:\n\u001b[0;32m--> 459\u001b[0m         indexer \u001b[38;5;241m=\u001b[39m get_indexer_nd(\n\u001b[1;32m    460\u001b[0m             \u001b[38;5;28mself\u001b[39m\u001b[38;5;241m.\u001b[39mindex, label_array, method, tolerance\n\u001b[1;32m    461\u001b[0m         )\n\u001b[1;32m    462\u001b[0m         \u001b[38;5;28;01mif\u001b[39;00m np\u001b[38;5;241m.\u001b[39many(indexer \u001b[38;5;241m<\u001b[39m \u001b[38;5;241m0\u001b[39m):\n\u001b[1;32m    463\u001b[0m             \u001b[38;5;28;01mraise\u001b[39;00m \u001b[38;5;167;01mKeyError\u001b[39;00m(\n\u001b[1;32m    464\u001b[0m                 \u001b[38;5;124mf\u001b[39m\u001b[38;5;124m\"\u001b[39m\u001b[38;5;124mnot all values found in index \u001b[39m\u001b[38;5;132;01m{\u001b[39;00mcoord_name\u001b[38;5;132;01m!r}\u001b[39;00m\u001b[38;5;124m\"\u001b[39m\n\u001b[1;32m    465\u001b[0m             )\n",
      "File \u001b[0;32m~/.conda/envs/jlab/lib/python3.11/site-packages/xarray/core/indexes.py:267\u001b[0m, in \u001b[0;36mget_indexer_nd\u001b[0;34m(index, labels, method, tolerance)\u001b[0m\n\u001b[1;32m    263\u001b[0m \u001b[38;5;250m\u001b[39m\u001b[38;5;124;03m\"\"\"Wrapper around :meth:`pandas.Index.get_indexer` supporting n-dimensional\u001b[39;00m\n\u001b[1;32m    264\u001b[0m \u001b[38;5;124;03mlabels\u001b[39;00m\n\u001b[1;32m    265\u001b[0m \u001b[38;5;124;03m\"\"\"\u001b[39;00m\n\u001b[1;32m    266\u001b[0m flat_labels \u001b[38;5;241m=\u001b[39m np\u001b[38;5;241m.\u001b[39mravel(labels)\n\u001b[0;32m--> 267\u001b[0m flat_indexer \u001b[38;5;241m=\u001b[39m index\u001b[38;5;241m.\u001b[39mget_indexer(flat_labels, method\u001b[38;5;241m=\u001b[39mmethod, tolerance\u001b[38;5;241m=\u001b[39mtolerance)\n\u001b[1;32m    268\u001b[0m indexer \u001b[38;5;241m=\u001b[39m flat_indexer\u001b[38;5;241m.\u001b[39mreshape(labels\u001b[38;5;241m.\u001b[39mshape)\n\u001b[1;32m    269\u001b[0m \u001b[38;5;28;01mreturn\u001b[39;00m indexer\n",
      "File \u001b[0;32m~/.conda/envs/jlab/lib/python3.11/site-packages/pandas/core/indexes/base.py:3969\u001b[0m, in \u001b[0;36mIndex.get_indexer\u001b[0;34m(self, target, method, limit, tolerance)\u001b[0m\n\u001b[1;32m   3967\u001b[0m     this \u001b[38;5;241m=\u001b[39m \u001b[38;5;28mself\u001b[39m\u001b[38;5;241m.\u001b[39mastype(dtype, copy\u001b[38;5;241m=\u001b[39m\u001b[38;5;28;01mFalse\u001b[39;00m)\n\u001b[1;32m   3968\u001b[0m     target \u001b[38;5;241m=\u001b[39m target\u001b[38;5;241m.\u001b[39mastype(dtype, copy\u001b[38;5;241m=\u001b[39m\u001b[38;5;28;01mFalse\u001b[39;00m)\n\u001b[0;32m-> 3969\u001b[0m     \u001b[38;5;28;01mreturn\u001b[39;00m this\u001b[38;5;241m.\u001b[39m_get_indexer(\n\u001b[1;32m   3970\u001b[0m         target, method\u001b[38;5;241m=\u001b[39mmethod, limit\u001b[38;5;241m=\u001b[39mlimit, tolerance\u001b[38;5;241m=\u001b[39mtolerance\n\u001b[1;32m   3971\u001b[0m     )\n\u001b[1;32m   3973\u001b[0m \u001b[38;5;28;01mreturn\u001b[39;00m \u001b[38;5;28mself\u001b[39m\u001b[38;5;241m.\u001b[39m_get_indexer(target, method, limit, tolerance)\n",
      "File \u001b[0;32m~/.conda/envs/jlab/lib/python3.11/site-packages/pandas/core/indexes/base.py:3988\u001b[0m, in \u001b[0;36mIndex._get_indexer\u001b[0;34m(self, target, method, limit, tolerance)\u001b[0m\n\u001b[1;32m   3986\u001b[0m     indexer \u001b[38;5;241m=\u001b[39m \u001b[38;5;28mself\u001b[39m\u001b[38;5;241m.\u001b[39m_get_fill_indexer(target, method, limit, tolerance)\n\u001b[1;32m   3987\u001b[0m \u001b[38;5;28;01melif\u001b[39;00m method \u001b[38;5;241m==\u001b[39m \u001b[38;5;124m\"\u001b[39m\u001b[38;5;124mnearest\u001b[39m\u001b[38;5;124m\"\u001b[39m:\n\u001b[0;32m-> 3988\u001b[0m     indexer \u001b[38;5;241m=\u001b[39m \u001b[38;5;28mself\u001b[39m\u001b[38;5;241m.\u001b[39m_get_nearest_indexer(target, limit, tolerance)\n\u001b[1;32m   3989\u001b[0m \u001b[38;5;28;01melse\u001b[39;00m:\n\u001b[1;32m   3990\u001b[0m     \u001b[38;5;28;01mif\u001b[39;00m target\u001b[38;5;241m.\u001b[39m_is_multi \u001b[38;5;129;01mand\u001b[39;00m \u001b[38;5;28mself\u001b[39m\u001b[38;5;241m.\u001b[39m_is_multi:\n",
      "File \u001b[0;32m~/.conda/envs/jlab/lib/python3.11/site-packages/pandas/core/indexes/base.py:4152\u001b[0m, in \u001b[0;36mIndex._get_nearest_indexer\u001b[0;34m(self, target, limit, tolerance)\u001b[0m\n\u001b[1;32m   4149\u001b[0m \u001b[38;5;28;01mif\u001b[39;00m \u001b[38;5;129;01mnot\u001b[39;00m \u001b[38;5;28mlen\u001b[39m(\u001b[38;5;28mself\u001b[39m):\n\u001b[1;32m   4150\u001b[0m     \u001b[38;5;28;01mreturn\u001b[39;00m \u001b[38;5;28mself\u001b[39m\u001b[38;5;241m.\u001b[39m_get_fill_indexer(target, \u001b[38;5;124m\"\u001b[39m\u001b[38;5;124mpad\u001b[39m\u001b[38;5;124m\"\u001b[39m)\n\u001b[0;32m-> 4152\u001b[0m left_indexer \u001b[38;5;241m=\u001b[39m \u001b[38;5;28mself\u001b[39m\u001b[38;5;241m.\u001b[39mget_indexer(target, \u001b[38;5;124m\"\u001b[39m\u001b[38;5;124mpad\u001b[39m\u001b[38;5;124m\"\u001b[39m, limit\u001b[38;5;241m=\u001b[39mlimit)\n\u001b[1;32m   4153\u001b[0m right_indexer \u001b[38;5;241m=\u001b[39m \u001b[38;5;28mself\u001b[39m\u001b[38;5;241m.\u001b[39mget_indexer(target, \u001b[38;5;124m\"\u001b[39m\u001b[38;5;124mbackfill\u001b[39m\u001b[38;5;124m\"\u001b[39m, limit\u001b[38;5;241m=\u001b[39mlimit)\n\u001b[1;32m   4155\u001b[0m left_distances \u001b[38;5;241m=\u001b[39m \u001b[38;5;28mself\u001b[39m\u001b[38;5;241m.\u001b[39m_difference_compat(target, left_indexer)\n",
      "File \u001b[0;32m~/.conda/envs/jlab/lib/python3.11/site-packages/pandas/core/indexes/base.py:3973\u001b[0m, in \u001b[0;36mIndex.get_indexer\u001b[0;34m(self, target, method, limit, tolerance)\u001b[0m\n\u001b[1;32m   3968\u001b[0m     target \u001b[38;5;241m=\u001b[39m target\u001b[38;5;241m.\u001b[39mastype(dtype, copy\u001b[38;5;241m=\u001b[39m\u001b[38;5;28;01mFalse\u001b[39;00m)\n\u001b[1;32m   3969\u001b[0m     \u001b[38;5;28;01mreturn\u001b[39;00m this\u001b[38;5;241m.\u001b[39m_get_indexer(\n\u001b[1;32m   3970\u001b[0m         target, method\u001b[38;5;241m=\u001b[39mmethod, limit\u001b[38;5;241m=\u001b[39mlimit, tolerance\u001b[38;5;241m=\u001b[39mtolerance\n\u001b[1;32m   3971\u001b[0m     )\n\u001b[0;32m-> 3973\u001b[0m \u001b[38;5;28;01mreturn\u001b[39;00m \u001b[38;5;28mself\u001b[39m\u001b[38;5;241m.\u001b[39m_get_indexer(target, method, limit, tolerance)\n",
      "File \u001b[0;32m~/.conda/envs/jlab/lib/python3.11/site-packages/pandas/core/indexes/base.py:3986\u001b[0m, in \u001b[0;36mIndex._get_indexer\u001b[0;34m(self, target, method, limit, tolerance)\u001b[0m\n\u001b[1;32m   3983\u001b[0m     tolerance \u001b[38;5;241m=\u001b[39m \u001b[38;5;28mself\u001b[39m\u001b[38;5;241m.\u001b[39m_convert_tolerance(tolerance, target)\n\u001b[1;32m   3985\u001b[0m \u001b[38;5;28;01mif\u001b[39;00m method \u001b[38;5;129;01min\u001b[39;00m [\u001b[38;5;124m\"\u001b[39m\u001b[38;5;124mpad\u001b[39m\u001b[38;5;124m\"\u001b[39m, \u001b[38;5;124m\"\u001b[39m\u001b[38;5;124mbackfill\u001b[39m\u001b[38;5;124m\"\u001b[39m]:\n\u001b[0;32m-> 3986\u001b[0m     indexer \u001b[38;5;241m=\u001b[39m \u001b[38;5;28mself\u001b[39m\u001b[38;5;241m.\u001b[39m_get_fill_indexer(target, method, limit, tolerance)\n\u001b[1;32m   3987\u001b[0m \u001b[38;5;28;01melif\u001b[39;00m method \u001b[38;5;241m==\u001b[39m \u001b[38;5;124m\"\u001b[39m\u001b[38;5;124mnearest\u001b[39m\u001b[38;5;124m\"\u001b[39m:\n\u001b[1;32m   3988\u001b[0m     indexer \u001b[38;5;241m=\u001b[39m \u001b[38;5;28mself\u001b[39m\u001b[38;5;241m.\u001b[39m_get_nearest_indexer(target, limit, tolerance)\n",
      "File \u001b[0;32m~/.conda/envs/jlab/lib/python3.11/site-packages/pandas/core/indexes/base.py:4096\u001b[0m, in \u001b[0;36mIndex._get_fill_indexer\u001b[0;34m(self, target, method, limit, tolerance)\u001b[0m\n\u001b[1;32m   4093\u001b[0m     \u001b[38;5;28;01mraise\u001b[39;00m \u001b[38;5;167;01mNotImplementedError\u001b[39;00m\n\u001b[1;32m   4095\u001b[0m \u001b[38;5;28;01mif\u001b[39;00m method \u001b[38;5;241m==\u001b[39m \u001b[38;5;124m\"\u001b[39m\u001b[38;5;124mpad\u001b[39m\u001b[38;5;124m\"\u001b[39m:\n\u001b[0;32m-> 4096\u001b[0m     indexer \u001b[38;5;241m=\u001b[39m libalgos\u001b[38;5;241m.\u001b[39mpad(own_values, target_values, limit\u001b[38;5;241m=\u001b[39mlimit)\n\u001b[1;32m   4097\u001b[0m \u001b[38;5;28;01melse\u001b[39;00m:\n\u001b[1;32m   4098\u001b[0m     \u001b[38;5;66;03m# i.e. \"backfill\"\u001b[39;00m\n\u001b[1;32m   4099\u001b[0m     indexer \u001b[38;5;241m=\u001b[39m libalgos\u001b[38;5;241m.\u001b[39mbackfill(own_values, target_values, limit\u001b[38;5;241m=\u001b[39mlimit)\n",
      "File \u001b[0;32m~/.conda/envs/jlab/lib/python3.11/site-packages/pandas/_libs/algos.pyx:530\u001b[0m, in \u001b[0;36mpandas._libs.algos.pad\u001b[0;34m()\u001b[0m\n",
      "\u001b[0;31mTypeError\u001b[0m: '<' not supported between instances of 'str' and 'Timestamp'"
     ]
    }
   ],
   "source": [
    "ds.edens.sel(alt=300, time = \"YYYY-MM-DD HH:MM:SS\", method='nearest').plot(x='lon', y='lat')"
   ]
  }
 ],
 "metadata": {
  "kernelspec": {
   "display_name": "Python 3 (ipykernel)",
   "language": "python",
   "name": "python3"
  },
  "language_info": {
   "codemirror_mode": {
    "name": "ipython",
    "version": 3
   },
   "file_extension": ".py",
   "mimetype": "text/x-python",
   "name": "python",
   "nbconvert_exporter": "python",
   "pygments_lexer": "ipython3",
   "version": "3.11.3"
  }
 },
 "nbformat": 4,
 "nbformat_minor": 5
}
