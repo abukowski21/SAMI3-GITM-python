{
 "cells": [
  {
   "cell_type": "code",
   "execution_count": 1,
   "id": "5df0bd7f-221d-4cbe-a967-d6beb974fd89",
   "metadata": {
    "tags": []
   },
   "outputs": [],
   "source": [
    "from utility_programs.read_routines import SAMI"
   ]
  },
  {
   "cell_type": "code",
   "execution_count": 2,
   "id": "0af99b1e-eff0-42f8-9e36-d31021788847",
   "metadata": {
    "tags": []
   },
   "outputs": [],
   "source": [
    "from scipy.spatial import Delaunay\n",
    "from scipy.interpolate import LinearNDInterpolator, griddata\n",
    "import numpy as np\n",
    "\n",
    "\n",
    "from datetime import datetime\n",
    "from tqdm.auto import tqdm\n",
    "import xarray as xr\n",
    "\n",
    "import matplotlib.pyplot as plt\n",
    "\n",
    "import cartopy.crs as ccrs"
   ]
  },
  {
   "cell_type": "code",
   "execution_count": null,
   "id": "cb4fa835-9093-42fd-81e7-9be35fa2971c",
   "metadata": {},
   "outputs": [],
   "source": []
  },
  {
   "cell_type": "code",
   "execution_count": 3,
   "id": "f32323df-e680-4b36-8c7e-65d007abea6e",
   "metadata": {
    "tags": []
   },
   "outputs": [],
   "source": [
    "import interpolate_outputs"
   ]
  },
  {
   "cell_type": "code",
   "execution_count": null,
   "id": "4f3ae8e8-e379-4e98-a0e7-1fddaed6964a",
   "metadata": {},
   "outputs": [],
   "source": []
  },
  {
   "cell_type": "code",
   "execution_count": 4,
   "id": "ff8a7673-b4b5-48a3-9ed1-6e2c891a2f13",
   "metadata": {
    "tags": []
   },
   "outputs": [],
   "source": [
    "samipath = '/petastore/phil/Prasoon_satellite_project/more_runs/20130317/sami-gitm-coupled/'"
   ]
  },
  {
   "cell_type": "code",
   "execution_count": 57,
   "id": "f387f3b3-b69d-4f18-b460-6d080cd39535",
   "metadata": {},
   "outputs": [
    {
     "name": "stdout",
     "output_type": "stream",
     "text": [
      "attempting to reuse existing triangulation file\n"
     ]
    },
    {
     "data": {
      "application/vnd.jupyter.widget-view+json": {
       "model_id": "45ad9d327d0744a1aecb19e87400ce9c",
       "version_major": 2,
       "version_minor": 0
      },
      "text/plain": [
       "Reading in SAMI data:   0%|          | 0/596 [00:00<?, ?it/s]"
      ]
     },
     "metadata": {},
     "output_type": "display_data"
    },
    {
     "data": {
      "application/vnd.jupyter.widget-view+json": {
       "model_id": "ad2bf1cfba394743bac95d5116371dec",
       "version_major": 2,
       "version_minor": 0
      },
      "text/plain": [
       "  0%|          | 0/597 [00:00<?, ?it/s]"
      ]
     },
     "metadata": {},
     "output_type": "display_data"
    }
   ],
   "source": [
    "interpolate_outputs.do_interpolations(samipath,\n",
    "                                    out_path='/petastore/phil/Prasoon_satellite_project/satfiles/',\n",
    "                                      dtime_sim_start='20130316',\n",
    "                                    cols='edens',\n",
    "                                      engine=None,\n",
    "                                    save_delauney=True,\n",
    "                                    show_progress=True)"
   ]
  },
  {
   "cell_type": "code",
   "execution_count": null,
   "id": "4fa2e066-de98-4df7-b043-17480d032d47",
   "metadata": {},
   "outputs": [],
   "source": []
  },
  {
   "cell_type": "markdown",
   "id": "82e2dad7-79c7-4018-a826-f4718aae3644",
   "metadata": {},
   "source": [
    "## If you make any changes to the source code, reimport it with:\n",
    "\n",
    "(Then you don't have to restart the kernel)"
   ]
  },
  {
   "cell_type": "code",
   "execution_count": 5,
   "id": "f295a961-82f7-492b-98d8-658091a3ff2b",
   "metadata": {
    "tags": []
   },
   "outputs": [],
   "source": [
    "import importlib"
   ]
  },
  {
   "cell_type": "code",
   "execution_count": 6,
   "id": "923ebd45-9e51-4df7-92f2-111317bb0cf7",
   "metadata": {
    "tags": []
   },
   "outputs": [],
   "source": [
    "interpolate_outputs = importlib.reload(interpolate_outputs)"
   ]
  },
  {
   "cell_type": "code",
   "execution_count": null,
   "id": "e276f454-fd2b-4c63-9c8f-ff7dbbba712e",
   "metadata": {},
   "outputs": [],
   "source": []
  },
  {
   "cell_type": "code",
   "execution_count": null,
   "id": "d3f078a4-2701-4761-a935-a411ad249510",
   "metadata": {},
   "outputs": [],
   "source": []
  },
  {
   "cell_type": "markdown",
   "id": "1c144797-b9bc-4ae9-b9ce-ec119d501f83",
   "metadata": {},
   "source": [
    "## Read in satellite file:"
   ]
  },
  {
   "cell_type": "code",
   "execution_count": 7,
   "id": "813a1c7e-2cfb-4cb4-b0c9-590deaa47f57",
   "metadata": {
    "tags": []
   },
   "outputs": [],
   "source": [
    "import pandas as pd"
   ]
  },
  {
   "cell_type": "code",
   "execution_count": null,
   "id": "7d924fda-ecbe-4d6b-b709-742b923b003b",
   "metadata": {},
   "outputs": [],
   "source": []
  },
  {
   "cell_type": "code",
   "execution_count": 8,
   "id": "cfed8716-bad0-4990-90f5-e3ee47aea05d",
   "metadata": {
    "tags": []
   },
   "outputs": [],
   "source": [
    "allsatdf = pd.read_csv('/petastore/phil/Prasoon_satellite_project/satfiles/20130317/DMSP_all-with_datetime.csv')"
   ]
  },
  {
   "cell_type": "code",
   "execution_count": null,
   "id": "ad77f221-3a9c-4904-948f-f17200c505e3",
   "metadata": {},
   "outputs": [],
   "source": []
  },
  {
   "cell_type": "markdown",
   "id": "f05255c6-5275-4ea1-ad18-e6a554dbe72f",
   "metadata": {},
   "source": [
    "### Now grab just a single satellite's data"
   ]
  },
  {
   "cell_type": "code",
   "execution_count": 9,
   "id": "eb31ed55-2d39-414f-a684-bebaa6c69876",
   "metadata": {
    "tags": []
   },
   "outputs": [
    {
     "data": {
      "text/html": [
       "<div>\n",
       "<style scoped>\n",
       "    .dataframe tbody tr th:only-of-type {\n",
       "        vertical-align: middle;\n",
       "    }\n",
       "\n",
       "    .dataframe tbody tr th {\n",
       "        vertical-align: top;\n",
       "    }\n",
       "\n",
       "    .dataframe thead th {\n",
       "        text-align: right;\n",
       "    }\n",
       "</style>\n",
       "<table border=\"1\" class=\"dataframe\">\n",
       "  <thead>\n",
       "    <tr style=\"text-align: right;\">\n",
       "      <th></th>\n",
       "      <th>glat</th>\n",
       "      <th>glon</th>\n",
       "      <th>time</th>\n",
       "      <th>sat</th>\n",
       "      <th>dayofyear</th>\n",
       "      <th>dtime</th>\n",
       "    </tr>\n",
       "  </thead>\n",
       "  <tbody>\n",
       "    <tr>\n",
       "      <th>0</th>\n",
       "      <td>2.8</td>\n",
       "      <td>261.2</td>\n",
       "      <td>0.0</td>\n",
       "      <td>16</td>\n",
       "      <td>75</td>\n",
       "      <td>2013-03-16 00:00:00</td>\n",
       "    </tr>\n",
       "    <tr>\n",
       "      <th>1</th>\n",
       "      <td>6.3</td>\n",
       "      <td>260.5</td>\n",
       "      <td>60.0</td>\n",
       "      <td>16</td>\n",
       "      <td>75</td>\n",
       "      <td>2013-03-16 00:01:00</td>\n",
       "    </tr>\n",
       "    <tr>\n",
       "      <th>2</th>\n",
       "      <td>9.8</td>\n",
       "      <td>259.7</td>\n",
       "      <td>120.0</td>\n",
       "      <td>16</td>\n",
       "      <td>75</td>\n",
       "      <td>2013-03-16 00:02:00</td>\n",
       "    </tr>\n",
       "    <tr>\n",
       "      <th>3</th>\n",
       "      <td>13.3</td>\n",
       "      <td>258.9</td>\n",
       "      <td>180.0</td>\n",
       "      <td>16</td>\n",
       "      <td>75</td>\n",
       "      <td>2013-03-16 00:03:00</td>\n",
       "    </tr>\n",
       "    <tr>\n",
       "      <th>4</th>\n",
       "      <td>16.8</td>\n",
       "      <td>258.0</td>\n",
       "      <td>240.0</td>\n",
       "      <td>16</td>\n",
       "      <td>75</td>\n",
       "      <td>2013-03-16 00:04:00</td>\n",
       "    </tr>\n",
       "    <tr>\n",
       "      <th>...</th>\n",
       "      <td>...</td>\n",
       "      <td>...</td>\n",
       "      <td>...</td>\n",
       "      <td>...</td>\n",
       "      <td>...</td>\n",
       "      <td>...</td>\n",
       "    </tr>\n",
       "    <tr>\n",
       "      <th>4315</th>\n",
       "      <td>56.7</td>\n",
       "      <td>96.1</td>\n",
       "      <td>86100.0</td>\n",
       "      <td>16</td>\n",
       "      <td>77</td>\n",
       "      <td>2013-03-18 23:55:00</td>\n",
       "    </tr>\n",
       "    <tr>\n",
       "      <th>4316</th>\n",
       "      <td>53.3</td>\n",
       "      <td>94.3</td>\n",
       "      <td>86160.0</td>\n",
       "      <td>16</td>\n",
       "      <td>77</td>\n",
       "      <td>2013-03-18 23:56:00</td>\n",
       "    </tr>\n",
       "    <tr>\n",
       "      <th>4317</th>\n",
       "      <td>49.9</td>\n",
       "      <td>92.7</td>\n",
       "      <td>86220.0</td>\n",
       "      <td>16</td>\n",
       "      <td>77</td>\n",
       "      <td>2013-03-18 23:57:00</td>\n",
       "    </tr>\n",
       "    <tr>\n",
       "      <th>4318</th>\n",
       "      <td>46.5</td>\n",
       "      <td>91.2</td>\n",
       "      <td>86280.0</td>\n",
       "      <td>16</td>\n",
       "      <td>77</td>\n",
       "      <td>2013-03-18 23:58:00</td>\n",
       "    </tr>\n",
       "    <tr>\n",
       "      <th>4319</th>\n",
       "      <td>43.0</td>\n",
       "      <td>89.9</td>\n",
       "      <td>86340.0</td>\n",
       "      <td>16</td>\n",
       "      <td>77</td>\n",
       "      <td>2013-03-18 23:59:00</td>\n",
       "    </tr>\n",
       "  </tbody>\n",
       "</table>\n",
       "<p>4320 rows × 6 columns</p>\n",
       "</div>"
      ],
      "text/plain": [
       "      glat   glon     time  sat  dayofyear                dtime\n",
       "0      2.8  261.2      0.0   16         75  2013-03-16 00:00:00\n",
       "1      6.3  260.5     60.0   16         75  2013-03-16 00:01:00\n",
       "2      9.8  259.7    120.0   16         75  2013-03-16 00:02:00\n",
       "3     13.3  258.9    180.0   16         75  2013-03-16 00:03:00\n",
       "4     16.8  258.0    240.0   16         75  2013-03-16 00:04:00\n",
       "...    ...    ...      ...  ...        ...                  ...\n",
       "4315  56.7   96.1  86100.0   16         77  2013-03-18 23:55:00\n",
       "4316  53.3   94.3  86160.0   16         77  2013-03-18 23:56:00\n",
       "4317  49.9   92.7  86220.0   16         77  2013-03-18 23:57:00\n",
       "4318  46.5   91.2  86280.0   16         77  2013-03-18 23:58:00\n",
       "4319  43.0   89.9  86340.0   16         77  2013-03-18 23:59:00\n",
       "\n",
       "[4320 rows x 6 columns]"
      ]
     },
     "execution_count": 9,
     "metadata": {},
     "output_type": "execute_result"
    }
   ],
   "source": [
    "firstsat = allsatdf.loc[allsatdf.sat == 16].reset_index(drop=True)\n",
    "# make sure to reset index & drop bad values, otherwise it's harder\n",
    "firstsat"
   ]
  },
  {
   "cell_type": "code",
   "execution_count": 31,
   "id": "aff92a31-d70d-414b-96fe-72d3c52d0de5",
   "metadata": {
    "tags": []
   },
   "outputs": [
    {
     "data": {
      "text/plain": [
       "array([[  2.8,   6.3,   9.8, ...,  49.9,  46.5,  43. ],\n",
       "       [261.2, 260.5, 259.7, ...,  92.7,  91.2,  89.9]])"
      ]
     },
     "execution_count": 31,
     "metadata": {},
     "output_type": "execute_result"
    }
   ],
   "source": [
    "latlon = [firstsat.glat, firstsat.glon]\n",
    "latlon = np.array(latlon)\n",
    "\n",
    "latlon"
   ]
  },
  {
   "cell_type": "code",
   "execution_count": 32,
   "id": "e18df249-d34a-4b5f-b56e-7e28076eaa30",
   "metadata": {
    "tags": []
   },
   "outputs": [],
   "source": [
    "# no alt in files, just assume it's 840 km. Add that to latlon object\n",
    "alt = [840 for i in range(len(latlon[0]))]"
   ]
  },
  {
   "cell_type": "code",
   "execution_count": 34,
   "id": "9bda99a6-81e6-4a38-acf0-7e5523247175",
   "metadata": {
    "tags": []
   },
   "outputs": [],
   "source": [
    "# add in alt.\n",
    "# Theres's a better way to do this but I don't remember...\n",
    "latlonalt = (latlon[0], latlon[1], alt)\n",
    "latlonalt = np.array(latlonalt)"
   ]
  },
  {
   "cell_type": "code",
   "execution_count": 35,
   "id": "a5bede92-33a3-4ca8-b350-3e90ac4556e3",
   "metadata": {
    "tags": []
   },
   "outputs": [
    {
     "data": {
      "text/plain": [
       "array([[  2.8,   6.3,   9.8, ...,  49.9,  46.5,  43. ],\n",
       "       [261.2, 260.5, 259.7, ...,  92.7,  91.2,  89.9],\n",
       "       [840. , 840. , 840. , ..., 840. , 840. , 840. ]])"
      ]
     },
     "execution_count": 35,
     "metadata": {},
     "output_type": "execute_result"
    }
   ],
   "source": [
    "latlonalt"
   ]
  },
  {
   "cell_type": "code",
   "execution_count": null,
   "id": "a4843264-e3b0-4998-96f6-b12950a13a59",
   "metadata": {},
   "outputs": [],
   "source": []
  },
  {
   "cell_type": "markdown",
   "id": "60fdf7b1-70d2-438d-9c6c-719467e0fb9a",
   "metadata": {},
   "source": [
    "### Now send this in to the interpolation function\n",
    "\n",
    "> I'm going to add a catch to make sure the file is readable by everyione in the `phil` group\n",
    "\n",
    "Also make sure we get the dataset back. But this isn't necessary! Going to show an example where we just recalculate things and then read it back."
   ]
  },
  {
   "cell_type": "code",
   "execution_count": 36,
   "id": "7a73ad01-209c-45ff-a22d-6d6446d9fc03",
   "metadata": {
    "tags": []
   },
   "outputs": [],
   "source": [
    "out_path = '/petastore/phil/Prasoon_satellite_project/'\n",
    "\n",
    "sami_data_path = '/petastore/phil/Prasoon_satellite_project/more_runs/20130317/sami-gitm-coupled/'"
   ]
  },
  {
   "cell_type": "code",
   "execution_count": 38,
   "id": "1e4b94c7-a88c-4080-b8c9-fa51cc2d5c3a",
   "metadata": {
    "tags": []
   },
   "outputs": [
    {
     "name": "stdout",
     "output_type": "stream",
     "text": [
      "attempting to reuse existing triangulation file\n"
     ]
    },
    {
     "data": {
      "application/vnd.jupyter.widget-view+json": {
       "model_id": "9ef49d81b235440c833ff889a043664c",
       "version_major": 2,
       "version_minor": 0
      },
      "text/plain": [
       "Reading in SAMI data:   0%|          | 0/596 [00:00<?, ?it/s]"
      ]
     },
     "metadata": {},
     "output_type": "display_data"
    }
   ],
   "source": [
    "ds = interpolate_outputs.do_interpolations(sami_data_path=sami_data_path,\n",
    "                                     dtime_sim_start='20130316',\n",
    "                                     out_lat_lon_alt=latlonalt,\n",
    "                                     out_path=out_path,\n",
    "                                     out_runname='-at-sat_16',\n",
    "                                     save_delauney=True,\n",
    "                                     max_alt=1500, #to make running faster. Not necessary.\n",
    "                                     cols='edens',\n",
    "                                    show_progress=True,\n",
    "                                    engine='h5netcdf', #change to None if this makes errors\n",
    "                                      return_ds_too=True\n",
    "                                     )"
   ]
  },
  {
   "cell_type": "code",
   "execution_count": null,
   "id": "cf2c077b-2de2-4666-a21b-114e44c38ca5",
   "metadata": {},
   "outputs": [],
   "source": []
  },
  {
   "cell_type": "code",
   "execution_count": 98,
   "id": "af1ce0b5-a06e-44cb-813c-a1391baf7a60",
   "metadata": {},
   "outputs": [],
   "source": [
    "## Don't forget to change the permissions!!\n",
    "\n",
    "!chmod -R 770 {out_path}\n"
   ]
  },
  {
   "cell_type": "code",
   "execution_count": null,
   "id": "bc386655-1e8a-4092-b7ac-f15192aae09c",
   "metadata": {},
   "outputs": [],
   "source": []
  },
  {
   "cell_type": "markdown",
   "id": "f06ff0bd-eda1-40f8-ae67-fdd29543b58c",
   "metadata": {},
   "source": [
    "#### To not get the datset back and then reafd it from the created file later:\n",
    "\n",
    "i.e. you can run interpolation code in a console and then start a jupyter notebook to analyze things"
   ]
  },
  {
   "cell_type": "code",
   "execution_count": null,
   "id": "bb176aa1-fb9a-4559-9bc9-14dbd0fdbf69",
   "metadata": {},
   "outputs": [],
   "source": [
    "interpolate_outputs.do_interpolations(sami_data_path=sami_data_path,\n",
    "                                     dtime_sim_start='20130316',\n",
    "                                     out_latlonalt=latlonalt,\n",
    "                                     out_path=out_path,\n",
    "                                     out_runname='-at-sat_16',\n",
    "                                     save_delauney=True,\n",
    "                                     max_alt=1500, #to make running faster. Not necessary.\n",
    "                                     cols='edens',\n",
    "                                    show_progress=True,\n",
    "                                    engine='h5netcdf', #change to None if this makes errors\n",
    "                                     )"
   ]
  },
  {
   "cell_type": "code",
   "execution_count": null,
   "id": "22745fa4-6cdc-4e6d-81e7-62a74bec623b",
   "metadata": {},
   "outputs": [],
   "source": []
  },
  {
   "cell_type": "code",
   "execution_count": null,
   "id": "5357c244-5397-46a4-95c3-d4877b6540d7",
   "metadata": {},
   "outputs": [],
   "source": [
    "## Don't forget to change the permissions!!\n",
    "\n",
    "!chmod -R 770 {out_path}"
   ]
  },
  {
   "cell_type": "code",
   "execution_count": null,
   "id": "7c2c72d1-71dd-489c-99f4-2ee0fe79ae9a",
   "metadata": {},
   "outputs": [],
   "source": []
  },
  {
   "cell_type": "code",
   "execution_count": null,
   "id": "142638fc-2a5e-4fe1-a69f-674f214ec395",
   "metadata": {},
   "outputs": [],
   "source": [
    "# then read the created file with:\n",
    "\n",
    "import xarray as xr\n",
    "\n",
    "ds = xr.open_datset(os.path.join(out_path, 'SAMI_REGRID-at-sat-16.nc'),\n",
    "                   engine='h5netcdf') #set engine to the same one used to calculate interpolation.\n"
   ]
  },
  {
   "cell_type": "code",
   "execution_count": null,
   "id": "43601396-0e2f-4ddf-bddc-003ad7f7d81c",
   "metadata": {},
   "outputs": [],
   "source": []
  },
  {
   "cell_type": "markdown",
   "id": "8428fe3b-733e-4be9-a6bc-a00e287a2150",
   "metadata": {},
   "source": [
    "## That's about all I have time for now. \n",
    "\n",
    "\n",
    "Should be simple enough, lol. I'm sure there will be problems. Let me know what they are and I'll fix them.\n",
    "\n",
    "You can loop through multiple satellites by changing the '16' in each to the values of each satellite listed in the satfile. "
   ]
  },
  {
   "cell_type": "code",
   "execution_count": 102,
   "id": "42cbb511-c973-4c32-b439-a4c0ba04517d",
   "metadata": {},
   "outputs": [
    {
     "data": {
      "text/plain": [
       "array([16, 17, 18])"
      ]
     },
     "execution_count": 102,
     "metadata": {},
     "output_type": "execute_result"
    }
   ],
   "source": [
    "# see the available satellites:\n",
    "\n",
    "np.unique(allsatdf.sat)"
   ]
  },
  {
   "cell_type": "code",
   "execution_count": null,
   "id": "c236e342-94b8-4728-a96a-3d37fe7f5195",
   "metadata": {},
   "outputs": [],
   "source": [
    "# loop through them:\n",
    "\n",
    "for satnum in np.unique(allsatdf.sat):\n",
    "    \n",
    "    #set up output grid\n",
    "    satnow = allsatdf.loc[allsatdf.sat == satnum].reset_index(drop=True)\n",
    "    latlon = [firstsat.glat, firstsat.glon]\n",
    "    latlon = np.array(latlon)\n",
    "    alt = [840 for i in range(len(latlon[0]))]\n",
    "    latlonalt = np.array([latlon[0], latlon[1], alt])\n",
    "    \n",
    "    interpolate_outputs.do_interpolations(sami_data_path=sami_data_path,\n",
    "                                     dtime_sim_start='20130316',\n",
    "                                     out_latlonalt=latlonalt,\n",
    "                                     out_path=out_path,\n",
    "                                     out_runname='-at-sat_' + str(satnum), \n",
    "                                          # to change the output name for each sat\n",
    "                                     save_delauney=True,\n",
    "                                     max_alt=1500, #to make running faster. Not necessary.\n",
    "                                     cols='edens',\n",
    "                                    show_progress=True,\n",
    "                                    engine='h5netcdf', #change to None if this makes errors\n",
    "                                     )\n"
   ]
  },
  {
   "cell_type": "markdown",
   "id": "549843cd-069d-4d85-ba6b-c8884d3a29c3",
   "metadata": {},
   "source": [
    "Then you have to read each satellite file individually with the code shown above"
   ]
  },
  {
   "cell_type": "code",
   "execution_count": null,
   "id": "f4ce91e4-ece8-4fc5-b1d7-a66b8f64b266",
   "metadata": {},
   "outputs": [],
   "source": []
  },
  {
   "cell_type": "code",
   "execution_count": null,
   "id": "0729e7ec-653a-4813-89de-91d815d828b2",
   "metadata": {},
   "outputs": [],
   "source": []
  },
  {
   "cell_type": "code",
   "execution_count": null,
   "id": "bcec212a-80d1-4194-b9a7-f2bd9f8785ac",
   "metadata": {},
   "outputs": [],
   "source": []
  },
  {
   "cell_type": "markdown",
   "id": "14d9adaf-f79e-43b9-814d-50c38756be8c",
   "metadata": {},
   "source": [
    "# Now Working on Next Issue"
   ]
  },
  {
   "cell_type": "code",
   "execution_count": 1,
   "id": "4b1ab4df-c1ab-48a4-9048-5ea1adfaf9da",
   "metadata": {
    "tags": []
   },
   "outputs": [
    {
     "name": "stderr",
     "output_type": "stream",
     "text": [
      "/home/pxv220016/.conda/envs/SAMI3-GITM/lib/python3.10/site-packages/tqdm/auto.py:21: TqdmWarning: IProgress not found. Please update jupyter and ipywidgets. See https://ipywidgets.readthedocs.io/en/stable/user_install.html\n",
      "  from .autonotebook import tqdm as notebook_tqdm\n"
     ]
    }
   ],
   "source": [
    "from utility_programs.read_routines import SAMI\n",
    "\n",
    "from scipy.spatial import Delaunay\n",
    "from scipy.interpolate import LinearNDInterpolator, griddata\n",
    "import numpy as np\n",
    "import pandas as pd\n",
    "\n",
    "from datetime import datetime\n",
    "from tqdm.auto import tqdm\n",
    "import xarray as xr\n",
    "\n",
    "import matplotlib.pyplot as plt\n",
    "\n",
    "import cartopy.crs as ccrs\n",
    "\n",
    "import importlib\n",
    "import interpolate_outputs\n",
    "\n"
   ]
  },
  {
   "cell_type": "code",
   "execution_count": 2,
   "id": "6292758c-f3b5-4a40-adee-9f79e0f25696",
   "metadata": {
    "tags": []
   },
   "outputs": [],
   "source": [
    "allsatdf = pd.read_csv('/petastore/phil/Prasoon_satellite_project/satfiles/20130317/DMSP_all-with_datetime.csv')\n",
    "samipath = '/petastore/phil/Prasoon_satellite_project/more_runs/20130317/sami-gitm-coupled/'\n",
    "\n",
    "firstsat = allsatdf.loc[allsatdf.sat == 16].reset_index(drop=True)\n",
    "# make sure to reset index & drop bad values, otherwise it's harder\n",
    "\n",
    "latlon = [firstsat.glat, firstsat.glon]\n",
    "latlon = np.array(latlon)\n",
    "\n",
    "# no alt in files, just assume it's 840 km. Add that to latlon object\n",
    "alt = [840 for i in range(len(latlon[0]))]\n",
    "\n",
    "# add in alt.\n",
    "# Theres's a better way to do this but I don't remember...\n",
    "latlonalt = (latlon[0], latlon[1], alt)\n",
    "latlonalt = np.array(latlonalt)\n",
    "\n",
    "latlonalt\n",
    "\n",
    "out_path = '/petastore/phil/Prasoon_satellite_project/'\n",
    "\n",
    "sami_data_path = '/petastore/phil/Prasoon_satellite_project/more_runs/20130317/sami-gitm-coupled/'\n"
   ]
  },
  {
   "cell_type": "code",
   "execution_count": null,
   "id": "fa1a7f8c-93c1-4fda-87e9-8e11c04730d5",
   "metadata": {
    "tags": []
   },
   "outputs": [],
   "source": [
    "# see the available satellites:\n",
    "\n",
    "interpolate_outputs = importlib.reload(interpolate_outputs)\n",
    "\n",
    "np.unique(allsatdf.sat)\n",
    "\n",
    "# loop through them:\n",
    "\n",
    "for satnum in np.unique(allsatdf.sat):\n",
    "    \n",
    "    #set up output grid\n",
    "    satnow = allsatdf.loc[allsatdf.sat == satnum].reset_index(drop=True)\n",
    "    latlon = [firstsat.glat, firstsat.glon]\n",
    "    latlon = np.array(latlon)\n",
    "    alt = [840 for i in range(len(latlon[0]))]\n",
    "    latlonalt = np.array([latlon[0], latlon[1], alt])\n",
    "    \n",
    "    dtime_sim_start = '201303' + str(satnum)\n",
    "    \n",
    "    ds = interpolate_outputs.do_interpolations(sami_data_path=sami_data_path,\n",
    "                                     dtime_sim_start=dtime_sim_start,\n",
    "                                     out_lat_lon_alt=latlonalt,\n",
    "                                     out_path=out_path,\n",
    "                                     out_runname='testing-at-sat_' + str(satnum), \n",
    "                                          # to change the output name for each sat\n",
    "                                     save_delauney=True,\n",
    "                                     max_alt=1500, #to make running faster. Not necessary.\n",
    "                                     cols='edens',\n",
    "                                    show_progress=True,\n",
    "                                    engine='h5netcdf', #change to None if this makes errors\n",
    "                                     return_ds_too=True\n",
    "                                     )\n",
    "    print(satnum)\n",
    "    \n",
    "    dtime_sim_start = '2013-03-' + str(satnum) + ' 16:30:00'\n",
    "    \n",
    "    ds.edens.sel(alt=300, time=dtime_sim_start, method='nearest').plot(x='lon', y='lat')\n",
    "    \n",
    "    print('done part 1')\n",
    "    \n",
    "    ds.edens.integrate('alt').sel(time = dtime_sim_start, method='nearest').plot(x='lon', y='lat')\n",
    "    \n",
    "    print('done part 2')\n",
    "    \n",
    "    print(satnum, 'complete')\n"
   ]
  },
  {
   "cell_type": "code",
   "execution_count": null,
   "id": "465f08f9-819a-4364-a1f0-ab753114e468",
   "metadata": {},
   "outputs": [],
   "source": [
    "prasoon/data/SAMI3-GITM-python/test/SAMI_REGRID-at-sat_16.nc"
   ]
  },
  {
   "cell_type": "code",
   "execution_count": 3,
   "id": "5bfa1264-5538-43cf-8f80-b46583e5654b",
   "metadata": {
    "tags": []
   },
   "outputs": [
    {
     "name": "stdout",
     "output_type": "stream",
     "text": [
      "attempting to reuse existing triangulation file\n"
     ]
    },
    {
     "name": "stderr",
     "output_type": "stream",
     "text": [
      "writing Dataset...: : 597it [05:52,  1.69it/s]                                  \n"
     ]
    },
    {
     "name": "stdout",
     "output_type": "stream",
     "text": [
      "17\n"
     ]
    }
   ],
   "source": [
    "interpolate_outputs = importlib.reload(interpolate_outputs)\n",
    "\n",
    "\n",
    "day = 17\n",
    "\n",
    "#set up output grid\n",
    "satnow = allsatdf.loc[allsatdf.sat == satnum].reset_index(drop=True)\n",
    "latlon = [firstsat.glat, firstsat.glon]\n",
    "latlon = np.array(latlon)\n",
    "alt = [840 for i in range(len(latlon[0]))]\n",
    "#alt = [840, 850, 860, 870]\n",
    "\n",
    "latlonalt = ([latlon[0], latlon[1], alt])\n",
    "\n",
    "#dtime_sim_start = \n",
    "\n",
    "ds = interpolate_outputs.do_interpolations(sami_data_path=sami_data_path,\n",
    "                                           dtime_sim_start='20130316',\n",
    "                                           out_lat_lon_alt=latlonalt,\n",
    "                                           out_path=out_path,\n",
    "                                           out_runname='testing-at-sat_' + str(satnum), \n",
    "                                           # to change the output name for each sat\n",
    "                                           save_delauney=True,\n",
    "                                           max_alt=1500, #to make running faster. Not necessary.\n",
    "                                           cols='edens',\n",
    "                                           show_progress=True,\n",
    "                                           engine='h5netcdf', #change to None if this makes errors\n",
    "                                           return_ds_too=True\n",
    "                                          )\n",
    "print(day)\n"
   ]
  },
  {
   "cell_type": "code",
   "execution_count": 4,
   "id": "4500b87f-c86a-4bd4-b5be-f45493024a87",
   "metadata": {
    "tags": []
   },
   "outputs": [
    {
     "name": "stdout",
     "output_type": "stream",
     "text": [
      "<xarray.DataArray 'time' (time: 597)>\n",
      "array(['2013-03-17T00:00:00.000000000', '2013-03-17T00:04:55.999200000',\n",
      "       '2013-03-17T00:09:56.016000000', ..., '2013-03-19T01:29:56.400000000',\n",
      "       '2013-03-19T01:34:55.200000000', '2013-03-19T01:39:54.000000000'],\n",
      "      dtype='datetime64[ns]')\n",
      "Coordinates:\n",
      "  * time     (time) datetime64[ns] 2013-03-17 ... 2013-03-19T01:39:54\n"
     ]
    }
   ],
   "source": [
    "print(ds['edens']['time'])"
   ]
  },
  {
   "cell_type": "code",
   "execution_count": null,
   "id": "74788339-29d0-404e-80e3-b75d6a9f22ec",
   "metadata": {},
   "outputs": [],
   "source": []
  },
  {
   "cell_type": "code",
   "execution_count": null,
   "id": "bfd8ca83-5b90-4901-93e2-cc1cbae22385",
   "metadata": {},
   "outputs": [],
   "source": []
  },
  {
   "cell_type": "code",
   "execution_count": null,
   "id": "c6139650-5de2-4b76-8e4c-607fef9893a7",
   "metadata": {},
   "outputs": [],
   "source": []
  },
  {
   "cell_type": "code",
   "execution_count": null,
   "id": "2e7aed7e-64aa-4c41-bf4a-6ab4630c86a4",
   "metadata": {},
   "outputs": [],
   "source": []
  },
  {
   "cell_type": "code",
   "execution_count": 22,
   "id": "beadd781-98c6-4548-b2f8-d2f9586e9768",
   "metadata": {
    "tags": []
   },
   "outputs": [
    {
     "name": "stdout",
     "output_type": "stream",
     "text": [
      "2013-03-17 13:30:00\n",
      "[840]\n",
      "done part 1\n",
      "done part 2\n"
     ]
    },
    {
     "data": {
      "image/png": "[encoded data removed]",
      "text/plain": [
       "<Figure size 640x480 with 2 Axes>"
      ]
     },
     "metadata": {},
     "output_type": "display_data"
    }
   ],
   "source": [
    "dtime = '2013-03-' + str(day) + ' 13:30:00'\n",
    "\n",
    "print(dtime)\n",
    "\n",
    "alt = sorted(set(alt))\n",
    "print(alt)\n",
    "\n",
    "#ds.edens.sel(alt=840, time=dtime_sim_start, method='nearest').plot(x='lon', y='lat')\n",
    "\n",
    "print('done part 1')\n",
    "\n",
    "ds.edens.integrate('alt').sel(time = dtime, method='nearest').plot(x='lon', y='lat')\n",
    "\n",
    "print('done part 2')"
   ]
  },
  {
   "cell_type": "code",
   "execution_count": 20,
   "id": "d6c972fc-3cd7-4c32-8c88-dfae16a42736",
   "metadata": {
    "tags": []
   },
   "outputs": [
    {
     "name": "stdout",
     "output_type": "stream",
     "text": [
      "2013-03-17 12:35:00\n",
      "[840]\n",
      "done part 1\n",
      "done part 2\n"
     ]
    },
    {
     "data": {
      "image/png": "[encoded data removed]",
      "text/plain": [
       "<Figure size 640x480 with 2 Axes>"
      ]
     },
     "metadata": {},
     "output_type": "display_data"
    }
   ],
   "source": [
    "dtime_sim_start = '2013-03-' + str(satnum) + ' 12:35:00'\n",
    "\n",
    "print(dtime_sim_start)\n",
    "\n",
    "alt = sorted(set(alt))\n",
    "print(alt)\n",
    "\n",
    "#ds.edens.sel(alt=840, time=dtime_sim_start, method='nearest').plot(x='lon', y='lat')\n",
    "\n",
    "print('done part 1')\n",
    "\n",
    "ds.edens.integrate('alt').sel(time = dtime_sim_start, method='nearest').plot(x='lon', y='lat')\n",
    "\n",
    "print('done part 2')"
   ]
  },
  {
   "cell_type": "code",
   "execution_count": null,
   "id": "3eef14b3-1b14-491b-97d7-3a179813ded6",
   "metadata": {},
   "outputs": [],
   "source": []
  },
  {
   "cell_type": "code",
   "execution_count": 8,
   "id": "fa6c339e-c7e2-4ab8-be2d-6981029bb5d5",
   "metadata": {
    "tags": []
   },
   "outputs": [
    {
     "name": "stdout",
     "output_type": "stream",
     "text": [
      "done part 2\n"
     ]
    },
    {
     "data": {
      "image/png": "[encoded data removed]",
      "text/plain": [
       "<Figure size 640x480 with 2 Axes>"
      ]
     },
     "metadata": {},
     "output_type": "display_data"
    }
   ],
   "source": [
    "ds.edens.integrate('alt').sel(time = dtime_sim_start, method='nearest').plot(x='lon', y='lat')\n",
    "\n",
    "print('done part 2')"
   ]
  },
  {
   "cell_type": "code",
   "execution_count": 23,
   "id": "2854f27a-dd65-4866-bbac-dcf01ae0a60b",
   "metadata": {
    "tags": []
   },
   "outputs": [
    {
     "name": "stdout",
     "output_type": "stream",
     "text": [
      "range(5, 5, -1)\n",
      "10\n",
      "9\n",
      "8\n",
      "7\n",
      "6\n"
     ]
    }
   ],
   "source": [
    "a = range(10, 10-5,-1)\n",
    "\n",
    "print(a[10:5])\n",
    "\n",
    "for i in range(10, 10-5,-1):\n",
    "    print(i)"
   ]
  },
  {
   "cell_type": "code",
   "execution_count": 9,
   "id": "9cd52e49-f87c-4896-9ac7-dae23de1d67b",
   "metadata": {
    "tags": []
   },
   "outputs": [],
   "source": [
    "del ds\n",
    "\n",
    "ds = xr.open_mfdataset('/petastore/phil/Prasoon_satellite_project/testing-at-sat_16_SAMI_REGRID.nc')"
   ]
  },
  {
   "cell_type": "code",
   "execution_count": 10,
   "id": "b0f3a286-7219-4828-af3d-62e02ada2191",
   "metadata": {
    "tags": []
   },
   "outputs": [
    {
     "name": "stdout",
     "output_type": "stream",
     "text": [
      "done part 1\n"
     ]
    },
    {
     "data": {
      "image/png": "[encoded data removed]",
      "text/plain": [
       "<Figure size 640x480 with 2 Axes>"
      ]
     },
     "metadata": {},
     "output_type": "display_data"
    }
   ],
   "source": [
    "ds.edens.sel(alt=840, time=dtime_sim_start, method='nearest').plot(x='lon', y='lat')\n",
    "\n",
    "print('done part 1')"
   ]
  },
  {
   "cell_type": "code",
   "execution_count": 11,
   "id": "6da3a991-4934-44d9-ab83-38d906b1bc77",
   "metadata": {
    "tags": []
   },
   "outputs": [
    {
     "name": "stdout",
     "output_type": "stream",
     "text": [
      "done part 2\n"
     ]
    },
    {
     "data": {
      "image/png": "[encoded data removed]",
      "text/plain": [
       "<Figure size 640x480 with 2 Axes>"
      ]
     },
     "metadata": {},
     "output_type": "display_data"
    }
   ],
   "source": [
    "ds.edens.integrate('alt').sel(time = dtime_sim_start, method='nearest').plot(x='lon', y='lat')\n",
    "\n",
    "print('done part 2')"
   ]
  }
 ],
 "metadata": {
  "kernelspec": {
   "display_name": "Python [conda env:.conda-SAMI3-GITM]",
   "language": "python",
   "name": "conda-env-.conda-SAMI3-GITM-py"
  },
  "language_info": {
   "codemirror_mode": {
    "name": "ipython",
    "version": 3
   },
   "file_extension": ".py",
   "mimetype": "text/x-python",
   "name": "python",
   "nbconvert_exporter": "python",
   "pygments_lexer": "ipython3",
   "version": "3.10.11"
  }
 },
 "nbformat": 4,
 "nbformat_minor": 5
}
