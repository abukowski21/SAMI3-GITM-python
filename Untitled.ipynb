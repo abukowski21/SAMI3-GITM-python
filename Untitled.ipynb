{
 "cells": [
  {
   "cell_type": "code",
   "execution_count": 1,
   "id": "9cd94f7d-6194-464d-b799-b9349ee99ef9",
   "metadata": {},
   "outputs": [],
   "source": [
    "import xarray as xr\n",
    "import numpy as np\n",
    "from datetime import datetime, timedelta\n",
    "import cartopy.crs as ccrs\n",
    "import matplotlib.pyplot as plt\n",
    "import os, glob, sys, tqdm\n"
   ]
  },
  {
   "cell_type": "code",
   "execution_count": 2,
   "id": "56d7098a-eb9e-48f5-afe3-88551ca06828",
   "metadata": {},
   "outputs": [
    {
     "name": "stderr",
     "output_type": "stream",
     "text": [
      "/glade/u/home/abukowski/SAMI3-GITM-python/utility_programs/plotting_routines.py:7: FutureWarning: The geopandas.dataset module is deprecated and will be removed in GeoPandas 1.0. You can get the original 'naturalearth_lowres' data from https://www.naturalearthdata.com/downloads/110m-cultural-vectors/.\n",
      "  world = geopandas.read_file(geopandas.datasets.get_path(\"naturalearth_lowres\"))\n",
      "/glade/work/abukowski/conda-envs/SAMI3-GITM/lib/python3.10/site-packages/tqdm/auto.py:21: TqdmWarning: IProgress not found. Please update jupyter and ipywidgets. See https://ipywidgets.readthedocs.io/en/stable/user_install.html\n",
      "  from .autonotebook import tqdm as notebook_tqdm\n"
     ]
    }
   ],
   "source": [
    "import argparse\n",
    "import glob\n",
    "import os\n",
    "from datetime import timedelta\n",
    "\n",
    "import matplotlib.pyplot as plt\n",
    "import numpy as np\n",
    "import xarray as xr\n",
    "\n",
    "import utility_programs.filters as filters\n",
    "from utility_programs.plotting_routines import panel_plot\n",
    "from utility_programs.read_routines.GITM import auto_read as auto_read_gitm\n",
    "from utility_programs.read_routines.GITM import gitm_times_from_filelist\n",
    "from utility_programs.read_routines.SAMI import auto_read as auto_read_sami\n"
   ]
  },
  {
   "cell_type": "code",
   "execution_count": 58,
   "id": "379aaa0c",
   "metadata": {},
   "outputs": [],
   "source": [
    "directories =['/glade/u/home/abukowski/scratch/simstorm-20111121/postprocessed/ut6',\n",
    "              '/glade/u/home/abukowski/scratch/simstorm-20111121/postprocessed/ut18']\n",
    "prefixes = None\n",
    "cuts = 'all'\n",
    "samicols = ['edens']\n",
    "gitmcols = ['rho']\n",
    "start_plotting = 24\n",
    "end_plotting=48\n",
    "out_dir = '~/scratch/plots/new_plots/'\n",
    "use_dask = False\n",
    "afewtimes = [10, 20, 30, 40, 50, 60, 70, 80]"
   ]
  },
  {
   "cell_type": "code",
   "execution_count": 23,
   "id": "82e7f9f5-a4f7-47df-a24a-801ea44ad795",
   "metadata": {},
   "outputs": [],
   "source": [
    "def get_fit(array, lowcut=80, highcut=40):\n",
    "\n",
    "    return xr.apply_ufunc(filters.make_fits, array.load(), lowcut, highcut)\n",
    "\n",
    "\n",
    "def get_diffs(array):\n",
    "    return 100 * (array - get_fit(array)) / array\n"
   ]
  },
  {
   "cell_type": "code",
   "execution_count": 24,
   "id": "1e22fc16",
   "metadata": {},
   "outputs": [],
   "source": [
    "\n",
    "# make times, get start & end idx.\n",
    "if isinstance(directories, str):\n",
    "    directories = [directories]\n",
    "all_files = glob.glob(os.path.join(directories[0], 'GITM*.nc'))\n",
    "if len(all_files) == 0:\n",
    "    all_files = glob.glob(directories[0] + 'SAMI_REGRID*.nc')\n",
    "if len(all_files) == 0:\n",
    "    raise ValueError('No netCDF files found in %s' % directories[0])\n",
    "all_times = np.sort(gitm_times_from_filelist(all_files))\n",
    "\n",
    "t_start = all_times[0] + timedelta(hours=start_plotting)\n",
    "t_end = all_times[0] + timedelta(hours=end_plotting)\n",
    "start_idx = np.argmin(np.abs(all_times - t_start))\n",
    "end_idx = np.argmin(np.abs(all_times - t_end))\n",
    "\n"
   ]
  },
  {
   "cell_type": "code",
   "execution_count": 25,
   "id": "ab313a4a",
   "metadata": {},
   "outputs": [],
   "source": [
    "# check if GITM or SAMI, then read all the data in to a dict\n",
    "\n",
    "\n",
    "# read in data\n",
    "data = {}\n",
    "dirs_read = 0\n",
    "\n",
    "\n",
    "\n",
    "if prefixes is not None:\n",
    "    if not isinstance(prefixes, list):\n",
    "        prefixes = [prefixes]\n",
    "    for fpath in directories:\n",
    "        for prefix in prefixes:\n",
    "\n",
    "            if 'sami' in prefix.lower():\n",
    "                data[str(dirs_read) + '-sami'] = auto_read_sami(\n",
    "                    fpath + prefix, cols=samicols,\n",
    "                    start_idx=start_idx, end_idx=end_idx,\n",
    "                    use_dask=use_dask)\n",
    "            elif 'gitm' in prefix.lower():\n",
    "                data[str(dirs_read) + '-gitm'] = auto_read_gitm(\n",
    "                    fpath + prefix, cols=gitmcols,\n",
    "                    start_idx=start_idx, end_idx=end_idx,\n",
    "                    use_dask=use_dask)\n",
    "            else:\n",
    "                raise ValueError('Prefix %s is not valid' % prefix)\n",
    "        dirs_read += 1\n",
    "\n",
    "else:\n",
    "    for fpath in directories:\n",
    "        data[str(dirs_read) + '-sami'] = auto_read_sami(\n",
    "            fpath, cols=samicols,\n",
    "            start_idx=start_idx, end_idx=end_idx, use_dask=use_dask)\n",
    "        data[str(dirs_read) + '-gitm'] = auto_read_gitm(\n",
    "            fpath, cols=gitmcols,\n",
    "            start_idx=start_idx, end_idx=end_idx, use_dask=use_dask)\n",
    "        dirs_read += 1"
   ]
  },
  {
   "cell_type": "code",
   "execution_count": 26,
   "id": "933bb16d",
   "metadata": {},
   "outputs": [
    {
     "data": {
      "text/plain": [
       "dict_keys(['0-sami', '0-gitm', '1-sami', '1-gitm'])"
      ]
     },
     "execution_count": 26,
     "metadata": {},
     "output_type": "execute_result"
    }
   ],
   "source": [
    "data.keys()"
   ]
  },
  {
   "cell_type": "code",
   "execution_count": 27,
   "id": "c34bc877",
   "metadata": {},
   "outputs": [
    {
     "data": {
      "text/plain": [
       "Data variables:\n",
       "    edens    (time, lat, lon, alt) float64 3.391e+05 4.524e+05 ... 2.649e+03"
      ]
     },
     "execution_count": 27,
     "metadata": {},
     "output_type": "execute_result"
    }
   ],
   "source": [
    "data[list(data.keys())[0]].data_vars"
   ]
  },
  {
   "cell_type": "code",
   "execution_count": 28,
   "id": "e49127e8",
   "metadata": {},
   "outputs": [
    {
     "name": "stdout",
     "output_type": "stream",
     "text": [
      "0-sami Data variables:\n",
      "    edens    (time, lat, lon, alt) float64 3.391e+05 4.524e+05 ... 2.649e+03\n",
      "0-gitm Data variables:\n",
      "    *empty*\n",
      "1-sami Data variables:\n",
      "    edens    (time, lat, lon, alt) float64 3.391e+05 4.525e+05 ... 2.205e+03\n",
      "1-gitm Data variables:\n",
      "    *empty*\n"
     ]
    }
   ],
   "source": [
    "for k in data.keys():\n",
    "    print(k, data[k].data_vars)"
   ]
  },
  {
   "cell_type": "code",
   "execution_count": 31,
   "id": "602613da",
   "metadata": {},
   "outputs": [
    {
     "data": {
      "text/plain": [
       "597200720"
      ]
     },
     "execution_count": 31,
     "metadata": {},
     "output_type": "execute_result"
    }
   ],
   "source": [
    "data['1-sami'].nbytes"
   ]
  },
  {
   "cell_type": "code",
   "execution_count": 35,
   "id": "8a1549db",
   "metadata": {},
   "outputs": [],
   "source": [
    "ds0=auto_read_gitm(directories[1], cols=['Rho'], progress_bar=True,\n",
    "            start_idx=start_idx, end_idx=end_idx, use_dask=use_dask)"
   ]
  },
  {
   "cell_type": "code",
   "execution_count": 36,
   "id": "d190e56c",
   "metadata": {},
   "outputs": [
    {
     "data": {
      "text/plain": [
       "Data variables:\n",
       "    Rho      (time, lon, lat, alt) float64 5.367e-07 3.743e-07 ... 1.707e-13"
      ]
     },
     "execution_count": 36,
     "metadata": {},
     "output_type": "execute_result"
    }
   ],
   "source": [
    "ds0.data_vars"
   ]
  },
  {
   "cell_type": "code",
   "execution_count": 37,
   "id": "6378f897",
   "metadata": {},
   "outputs": [],
   "source": [
    "ds2 = data['1-sami'].copy()"
   ]
  },
  {
   "cell_type": "code",
   "execution_count": 38,
   "id": "d70d2c24",
   "metadata": {},
   "outputs": [
    {
     "data": {
      "text/plain": [
       "147.23172154402795"
      ]
     },
     "execution_count": 38,
     "metadata": {},
     "output_type": "execute_result"
    }
   ],
   "source": [
    "ds2.nbytes/2014**2"
   ]
  },
  {
   "cell_type": "code",
   "execution_count": 44,
   "id": "66e00509",
   "metadata": {},
   "outputs": [],
   "source": [
    "tec = ds2.edens.integrate('alt')/1e16 / 1e-6"
   ]
  },
  {
   "cell_type": "code",
   "execution_count": 50,
   "id": "0a337914",
   "metadata": {},
   "outputs": [
    {
     "data": {
      "text/plain": [
       "<matplotlib.collections.QuadMesh at 0x7f52b0ebd240>"
      ]
     },
     "execution_count": 50,
     "metadata": {},
     "output_type": "execute_result"
    },
    {
     "data": {
      "image/png": "[encoded data removed]",
      "text/plain": [
       "<Figure size 640x480 with 2 Axes>"
      ]
     },
     "metadata": {},
     "output_type": "display_data"
    }
   ],
   "source": [
    "get_diffs(tec).isel(time=170).plot()"
   ]
  },
  {
   "cell_type": "code",
   "execution_count": 55,
   "id": "94cfe14f",
   "metadata": {},
   "outputs": [
    {
     "data": {
      "text/plain": [
       "(288, 90, 72, 40)"
      ]
     },
     "execution_count": 55,
     "metadata": {},
     "output_type": "execute_result"
    }
   ],
   "source": [
    "ds2.edens.shape"
   ]
  },
  {
   "cell_type": "code",
   "execution_count": 61,
   "id": "56d9230b",
   "metadata": {},
   "outputs": [
    {
     "name": "stderr",
     "output_type": "stream",
     "text": [
      "Exception ignored in: <function File.close at 0x7f536984f7f0>\n",
      "Traceback (most recent call last):\n",
      "  File \"/glade/work/abukowski/conda-envs/SAMI3-GITM/lib/python3.10/site-packages/h5netcdf/core.py\", line 1207, in close\n",
      "    if not self._closed:\n",
      "AttributeError: 'File' object has no attribute '_closed'\n"
     ]
    },
    {
     "ename": "ValueError",
     "evalue": "Dimensions {'wrap_col'} do not exist. Expected one or more of ('time', 'lat', 'lon')",
     "output_type": "error",
     "traceback": [
      "\u001b[0;31m---------------------------------------------------------------------------\u001b[0m",
      "\u001b[0;31mValueError\u001b[0m                                Traceback (most recent call last)",
      "Cell \u001b[0;32mIn[61], line 1\u001b[0m\n\u001b[0;32m----> 1\u001b[0m panel_plot(data[\u001b[39m'\u001b[39;49m\u001b[39m1-sami\u001b[39;49m\u001b[39m'\u001b[39;49m][\u001b[39m'\u001b[39;49m\u001b[39medens\u001b[39;49m\u001b[39m'\u001b[39;49m]\u001b[39m.\u001b[39;49msel(\n\u001b[1;32m      2\u001b[0m                             alt\u001b[39m=\u001b[39;49m\u001b[39m300\u001b[39;49m, method\u001b[39m=\u001b[39;49m\u001b[39m'\u001b[39;49m\u001b[39mnearest\u001b[39;49m\u001b[39m'\u001b[39;49m),\n\u001b[1;32m      3\u001b[0m                             x\u001b[39m=\u001b[39;49m\u001b[39m'\u001b[39;49m\u001b[39mlon\u001b[39;49m\u001b[39m'\u001b[39;49m, y\u001b[39m=\u001b[39;49m\u001b[39m'\u001b[39;49m\u001b[39mlat\u001b[39;49m\u001b[39m'\u001b[39;49m, wrap_col\u001b[39m=\u001b[39;49m\u001b[39m'\u001b[39;49m\u001b[39mtime\u001b[39;49m\u001b[39m'\u001b[39;49m,\n\u001b[1;32m      4\u001b[0m                             do_map\u001b[39m=\u001b[39;49m\u001b[39mTrue\u001b[39;49;00m,\n\u001b[1;32m      5\u001b[0m                             plot_vals\u001b[39m=\u001b[39;49mafewtimes,\n\u001b[1;32m      6\u001b[0m                             suptitle\u001b[39m=\u001b[39;49m\u001b[39m'\u001b[39;49m\u001b[39msami\u001b[39;49m\u001b[39m'\u001b[39;49m,)\n",
      "File \u001b[0;32m~/SAMI3-GITM-python/utility_programs/plotting_routines.py:178\u001b[0m, in \u001b[0;36mpanel_plot\u001b[0;34m(da, x, y, wrap_col, plot_vals, do_map, col_wrap, suptitle, vlims, cmap, out_fname)\u001b[0m\n\u001b[1;32m    176\u001b[0m \n\u001b[1;32m    177\u001b[0m     if do_map:\n\u001b[0;32m--> 178\u001b[0m         p = da.isel(wrap_col=plot_vals).plot(\n\u001b[1;32m    179\u001b[0m             x=x, y=y, col=wrap_col,\n\u001b[1;32m    180\u001b[0m             transform=ccrs.PlateCarree(),\n",
      "File \u001b[0;32m/glade/work/abukowski/conda-envs/SAMI3-GITM/lib/python3.10/site-packages/xarray/core/dataarray.py:1402\u001b[0m, in \u001b[0;36mDataArray.isel\u001b[0;34m(self, indexers, drop, missing_dims, **indexers_kwargs)\u001b[0m\n\u001b[1;32m   1397\u001b[0m     \u001b[39mreturn\u001b[39;00m \u001b[39mself\u001b[39m\u001b[39m.\u001b[39m_from_temp_dataset(ds)\n\u001b[1;32m   1399\u001b[0m \u001b[39m# Much faster algorithm for when all indexers are ints, slices, one-dimensional\u001b[39;00m\n\u001b[1;32m   1400\u001b[0m \u001b[39m# lists, or zero or one-dimensional np.ndarray's\u001b[39;00m\n\u001b[0;32m-> 1402\u001b[0m variable \u001b[39m=\u001b[39m \u001b[39mself\u001b[39;49m\u001b[39m.\u001b[39;49m_variable\u001b[39m.\u001b[39;49misel(indexers, missing_dims\u001b[39m=\u001b[39;49mmissing_dims)\n\u001b[1;32m   1403\u001b[0m indexes, index_variables \u001b[39m=\u001b[39m isel_indexes(\u001b[39mself\u001b[39m\u001b[39m.\u001b[39mxindexes, indexers)\n\u001b[1;32m   1405\u001b[0m coords \u001b[39m=\u001b[39m {}\n",
      "File \u001b[0;32m/glade/work/abukowski/conda-envs/SAMI3-GITM/lib/python3.10/site-packages/xarray/core/variable.py:1333\u001b[0m, in \u001b[0;36mVariable.isel\u001b[0;34m(self, indexers, missing_dims, **indexers_kwargs)\u001b[0m\n\u001b[1;32m   1309\u001b[0m \u001b[39m\u001b[39m\u001b[39m\"\"\"Return a new array indexed along the specified dimension(s).\u001b[39;00m\n\u001b[1;32m   1310\u001b[0m \n\u001b[1;32m   1311\u001b[0m \u001b[39mParameters\u001b[39;00m\n\u001b[0;32m   (...)\u001b[0m\n\u001b[1;32m   1329\u001b[0m \u001b[39m    indexer, in which case the data will be a copy.\u001b[39;00m\n\u001b[1;32m   1330\u001b[0m \u001b[39m\"\"\"\u001b[39;00m\n\u001b[1;32m   1331\u001b[0m indexers \u001b[39m=\u001b[39m either_dict_or_kwargs(indexers, indexers_kwargs, \u001b[39m\"\u001b[39m\u001b[39misel\u001b[39m\u001b[39m\"\u001b[39m)\n\u001b[0;32m-> 1333\u001b[0m indexers \u001b[39m=\u001b[39m drop_dims_from_indexers(indexers, \u001b[39mself\u001b[39;49m\u001b[39m.\u001b[39;49mdims, missing_dims)\n\u001b[1;32m   1335\u001b[0m key \u001b[39m=\u001b[39m \u001b[39mtuple\u001b[39m(indexers\u001b[39m.\u001b[39mget(dim, \u001b[39mslice\u001b[39m(\u001b[39mNone\u001b[39;00m)) \u001b[39mfor\u001b[39;00m dim \u001b[39min\u001b[39;00m \u001b[39mself\u001b[39m\u001b[39m.\u001b[39mdims)\n\u001b[1;32m   1336\u001b[0m \u001b[39mreturn\u001b[39;00m \u001b[39mself\u001b[39m[key]\n",
      "File \u001b[0;32m/glade/work/abukowski/conda-envs/SAMI3-GITM/lib/python3.10/site-packages/xarray/core/utils.py:859\u001b[0m, in \u001b[0;36mdrop_dims_from_indexers\u001b[0;34m(indexers, dims, missing_dims)\u001b[0m\n\u001b[1;32m    857\u001b[0m     invalid \u001b[39m=\u001b[39m indexers\u001b[39m.\u001b[39mkeys() \u001b[39m-\u001b[39m \u001b[39mset\u001b[39m(dims)\n\u001b[1;32m    858\u001b[0m     \u001b[39mif\u001b[39;00m invalid:\n\u001b[0;32m--> 859\u001b[0m         \u001b[39mraise\u001b[39;00m \u001b[39mValueError\u001b[39;00m(\n\u001b[1;32m    860\u001b[0m             \u001b[39mf\u001b[39m\u001b[39m\"\u001b[39m\u001b[39mDimensions \u001b[39m\u001b[39m{\u001b[39;00minvalid\u001b[39m}\u001b[39;00m\u001b[39m do not exist. Expected one or more of \u001b[39m\u001b[39m{\u001b[39;00mdims\u001b[39m}\u001b[39;00m\u001b[39m\"\u001b[39m\n\u001b[1;32m    861\u001b[0m         )\n\u001b[1;32m    863\u001b[0m     \u001b[39mreturn\u001b[39;00m indexers\n\u001b[1;32m    865\u001b[0m \u001b[39melif\u001b[39;00m missing_dims \u001b[39m==\u001b[39m \u001b[39m\"\u001b[39m\u001b[39mwarn\u001b[39m\u001b[39m\"\u001b[39m:\n\u001b[1;32m    866\u001b[0m     \u001b[39m# don't modify input\u001b[39;00m\n",
      "\u001b[0;31mValueError\u001b[0m: Dimensions {'wrap_col'} do not exist. Expected one or more of ('time', 'lat', 'lon')"
     ]
    }
   ],
   "source": [
    "panel_plot(data['1-sami']['edens'].sel(\n",
    "                            alt=300, method='nearest'),\n",
    "                            x='lon', y='lat', wrap_col='time',\n",
    "                            do_map=True,\n",
    "                            plot_vals=afewtimes,\n",
    "                            suptitle='sami',)"
   ]
  },
  {
   "cell_type": "code",
   "execution_count": null,
   "id": "86696319",
   "metadata": {},
   "outputs": [],
   "source": []
  },
  {
   "cell_type": "code",
   "execution_count": 62,
   "metadata": {},
   "outputs": [],
   "source": [
    "wrap_col='time'"
   ]
  },
  {
   "cell_type": "code",
   "execution_count": null,
   "id": "53699f27",
   "metadata": {},
   "outputs": [],
   "source": []
  },
  {
   "cell_type": "code",
   "execution_count": 66,
   "id": "9fc5e312",
   "metadata": {},
   "outputs": [
    {
     "ename": "ValueError",
     "evalue": "cannot specify both keyword and positional arguments to .isel",
     "output_type": "error",
     "traceback": [
      "\u001b[0;31m---------------------------------------------------------------------------\u001b[0m",
      "\u001b[0;31mValueError\u001b[0m                                Traceback (most recent call last)",
      "Cell \u001b[0;32mIn[66], line 1\u001b[0m\n\u001b[0;32m----> 1\u001b[0m data[\u001b[39m'\u001b[39;49m\u001b[39m1-sami\u001b[39;49m\u001b[39m'\u001b[39;49m]\u001b[39m.\u001b[39;49misel({wrap_col:afewtimes}, method\u001b[39m=\u001b[39;49m\u001b[39m'\u001b[39;49m\u001b[39mnearest\u001b[39;49m\u001b[39m'\u001b[39;49m)\u001b[39m.\u001b[39mplot(\n\u001b[1;32m      2\u001b[0m             x\u001b[39m=\u001b[39mx, y\u001b[39m=\u001b[39my, col\u001b[39m=\u001b[39mwrap_col,\n\u001b[1;32m      3\u001b[0m             col_wrap\u001b[39m=\u001b[39mcol_wrap, vmin\u001b[39m=\u001b[39m\u001b[39m-\u001b[39mvlims, vmax\u001b[39m=\u001b[39mvlims,\n\u001b[1;32m      4\u001b[0m             cmap\u001b[39m=\u001b[39mcmap, aa\u001b[39m=\u001b[39m\u001b[39mTrue\u001b[39;00m)\n",
      "File \u001b[0;32m/glade/work/abukowski/conda-envs/SAMI3-GITM/lib/python3.10/site-packages/xarray/core/dataset.py:2432\u001b[0m, in \u001b[0;36mDataset.isel\u001b[0;34m(self, indexers, drop, missing_dims, **indexers_kwargs)\u001b[0m\n\u001b[1;32m   2379\u001b[0m \u001b[39mdef\u001b[39;00m \u001b[39misel\u001b[39m(\n\u001b[1;32m   2380\u001b[0m     \u001b[39mself\u001b[39m: T_Dataset,\n\u001b[1;32m   2381\u001b[0m     indexers: Mapping[Any, Any] \u001b[39m|\u001b[39m \u001b[39mNone\u001b[39;00m \u001b[39m=\u001b[39m \u001b[39mNone\u001b[39;00m,\n\u001b[0;32m   (...)\u001b[0m\n\u001b[1;32m   2384\u001b[0m     \u001b[39m*\u001b[39m\u001b[39m*\u001b[39mindexers_kwargs: Any,\n\u001b[1;32m   2385\u001b[0m ) \u001b[39m-\u001b[39m\u001b[39m>\u001b[39m T_Dataset:\n\u001b[1;32m   2386\u001b[0m \u001b[39m    \u001b[39m\u001b[39m\"\"\"Returns a new dataset with each array indexed along the specified\u001b[39;00m\n\u001b[1;32m   2387\u001b[0m \u001b[39m    dimension(s).\u001b[39;00m\n\u001b[1;32m   2388\u001b[0m \n\u001b[0;32m   (...)\u001b[0m\n\u001b[1;32m   2430\u001b[0m \u001b[39m    DataArray.isel\u001b[39;00m\n\u001b[1;32m   2431\u001b[0m \u001b[39m    \"\"\"\u001b[39;00m\n\u001b[0;32m-> 2432\u001b[0m     indexers \u001b[39m=\u001b[39m either_dict_or_kwargs(indexers, indexers_kwargs, \u001b[39m\"\u001b[39;49m\u001b[39misel\u001b[39;49m\u001b[39m\"\u001b[39;49m)\n\u001b[1;32m   2433\u001b[0m     \u001b[39mif\u001b[39;00m \u001b[39many\u001b[39m(is_fancy_indexer(idx) \u001b[39mfor\u001b[39;00m idx \u001b[39min\u001b[39;00m indexers\u001b[39m.\u001b[39mvalues()):\n\u001b[1;32m   2434\u001b[0m         \u001b[39mreturn\u001b[39;00m \u001b[39mself\u001b[39m\u001b[39m.\u001b[39m_isel_fancy(indexers, drop\u001b[39m=\u001b[39mdrop, missing_dims\u001b[39m=\u001b[39mmissing_dims)\n",
      "File \u001b[0;32m/glade/work/abukowski/conda-envs/SAMI3-GITM/lib/python3.10/site-packages/xarray/core/utils.py:283\u001b[0m, in \u001b[0;36meither_dict_or_kwargs\u001b[0;34m(pos_kwargs, kw_kwargs, func_name)\u001b[0m\n\u001b[1;32m    281\u001b[0m     \u001b[39mraise\u001b[39;00m \u001b[39mValueError\u001b[39;00m(\u001b[39mf\u001b[39m\u001b[39m\"\u001b[39m\u001b[39mthe first argument to .\u001b[39m\u001b[39m{\u001b[39;00mfunc_name\u001b[39m}\u001b[39;00m\u001b[39m must be a dictionary\u001b[39m\u001b[39m\"\u001b[39m)\n\u001b[1;32m    282\u001b[0m \u001b[39mif\u001b[39;00m kw_kwargs:\n\u001b[0;32m--> 283\u001b[0m     \u001b[39mraise\u001b[39;00m \u001b[39mValueError\u001b[39;00m(\n\u001b[1;32m    284\u001b[0m         \u001b[39mf\u001b[39m\u001b[39m\"\u001b[39m\u001b[39mcannot specify both keyword and positional arguments to .\u001b[39m\u001b[39m{\u001b[39;00mfunc_name\u001b[39m}\u001b[39;00m\u001b[39m\"\u001b[39m\n\u001b[1;32m    285\u001b[0m     )\n\u001b[1;32m    286\u001b[0m \u001b[39mreturn\u001b[39;00m pos_kwargs\n",
      "\u001b[0;31mValueError\u001b[0m: cannot specify both keyword and positional arguments to .isel"
     ]
    }
   ],
   "source": [
    "data['1-sami'].isel({wrap_col:afewtimes}, method='nearest').plot(\n",
    "            x=x, y=y, col=wrap_col,\n",
    "            col_wrap=col_wrap, vmin=-vlims, vmax=vlims,\n",
    "            cmap=cmap, aa=True)"
   ]
  },
  {
   "cell_type": "code",
   "execution_count": null,
   "id": "88a53dcd",
   "metadata": {},
   "outputs": [],
   "source": []
  }
 ],
 "metadata": {
  "kernelspec": {
   "display_name": "SAMI3-GITM",
   "language": "python",
   "name": "python3"
  },
  "language_info": {
   "codemirror_mode": {
    "name": "ipython",
    "version": 3
   },
   "file_extension": ".py",
   "mimetype": "text/x-python",
   "name": "python",
   "nbconvert_exporter": "python",
   "pygments_lexer": "ipython3",
   "version": "3.10.11"
  }
 },
 "nbformat": 4,
 "nbformat_minor": 5
}
