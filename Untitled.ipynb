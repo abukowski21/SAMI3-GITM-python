{
 "cells": [
  {
   "cell_type": "code",
   "execution_count": null,
   "id": "b99cf9f9-205c-4800-b0ae-6d2167ea5158",
   "metadata": {},
   "outputs": [],
   "source": []
  },
  {
   "cell_type": "code",
   "execution_count": 1,
   "id": "e5f7c3a6-d96f-416e-b9fa-c87028898053",
   "metadata": {},
   "outputs": [
    {
     "name": "stderr",
     "output_type": "stream",
     "text": [
      "/glade/work/abukowski/conda-envs/gitm-sami-xr/lib/python3.8/site-packages/tqdm/auto.py:21: TqdmWarning: IProgress not found. Please update jupyter and ipywidgets. See https://ipywidgets.readthedocs.io/en/stable/user_install.html\n",
      "  from .autonotebook import tqdm as notebook_tqdm\n"
     ]
    },
    {
     "name": "stdout",
     "output_type": "stream",
     "text": [
      "No Numba available\n"
     ]
    }
   ],
   "source": [
    "import xarray as xr\n",
    "\n",
    "from tqdm.auto import tqdm\n",
    "import numpy as np\n",
    "\n",
    "from scipy.spatial import KDTree\n",
    "import os\n",
    "from utility_programs.read_routines import SAMI\n",
    "from utility_programs.utils import str_to_ut, make_ccmc_name\n",
    "import argparse\n",
    "\n",
    "from utility_programs.RegridSami import *\n"
   ]
  },
  {
   "cell_type": "code",
   "execution_count": null,
   "id": "44a2a16e-2475-4e20-88ae-fc70ac58dec0",
   "metadata": {},
   "outputs": [],
   "source": []
  },
  {
   "cell_type": "code",
   "execution_count": 2,
   "id": "e4276f72-71a0-400c-a345-e12f301b0860",
   "metadata": {},
   "outputs": [],
   "source": [
    "sami_data_path = '/glade/u/home/abukowski/scratch/simstorm-20110521/GITM-simstorm-run1/sami-gitm-coupled-lores/'"
   ]
  },
  {
   "cell_type": "code",
   "execution_count": 3,
   "id": "1b672cd9-1869-4f09-9c46-91fda86e7dc5",
   "metadata": {},
   "outputs": [],
   "source": [
    "out_path = '/glade/u/home/abukowski/scratch/simstorm-20110521/FullStorm/'"
   ]
  },
  {
   "cell_type": "code",
   "execution_count": null,
   "id": "537b719d-08c1-4372-aaa1-a116ef01a6e4",
   "metadata": {},
   "outputs": [],
   "source": []
  },
  {
   "cell_type": "code",
   "execution_count": 4,
   "id": "9892d757-baf3-4228-9bc1-fffba1b24878",
   "metadata": {},
   "outputs": [],
   "source": [
    "nz, nf, nlt, nt = SAMI.get_grid_elems_from_parammod(sami_data_path)\n",
    "old_shape = [nlt, nf, nz]\n",
    "\n",
    "grid2 = SAMI.get_sami_grid(sami_data_path, nlt, nf, nz)\n",
    "\n",
    "grid = {}\n",
    "for k in grid2.keys():\n",
    "    grid[k] = grid2[k].flatten()\n",
    "    grid2[k] = grid2[k]\n"
   ]
  },
  {
   "cell_type": "code",
   "execution_count": 35,
   "id": "5ce3bbb4-73b9-4342-9c51-fa7084365462",
   "metadata": {},
   "outputs": [],
   "source": [
    "in_cart = latlonalt_to_cart(grid['glat'], grid['glon'], grid['malt'])\n",
    "\n",
    "latout = np.arange(-90, 90, 4)\n",
    "lonout = np.arange(0, 360, 0.5)\n",
    "altout = np.arange(200, 2200, 50)\n",
    "\n",
    "out_lats = []\n",
    "out_lons = []\n",
    "out_alts = []\n",
    "\n",
    "for a in latout:\n",
    "    for o in lonout:\n",
    "        for l1 in altout:\n",
    "            out_lats.append(a)\n",
    "            out_lons.append(o)\n",
    "            out_alts.append(l1)\n",
    "\n",
    "out_cart = latlonalt_to_cart(out_lats, out_lons, np.array(out_alts)+6371)"
   ]
  },
  {
   "cell_type": "code",
   "execution_count": 6,
   "id": "f94956fe-ec38-40a8-9abd-a721ab622ba2",
   "metadata": {},
   "outputs": [
    {
     "name": "stdout",
     "output_type": "stream",
     "text": [
      "using weights from /glade/u/home/abukowski/scratch/simstorm-20110521/FullStorm/\n"
     ]
    }
   ],
   "source": [
    "weights = np.fromfile(os.path.join(out_path, 'weights'))\n",
    "idxs = np.fromfile(os.path.join(out_path, 'indexes'))\n",
    "weights = weights.reshape([int(len(weights)/8), 8])\n",
    "idxs = idxs.reshape([int(len(idxs)/8), 8])\n",
    "idxs = idxs.astype(int)\n",
    "print('using weights from %s' % out_path)"
   ]
  },
  {
   "cell_type": "code",
   "execution_count": 36,
   "id": "43f66540-1e3e-4096-95ba-60d050134a23",
   "metadata": {},
   "outputs": [
    {
     "data": {
      "text/plain": [
       "((3, 1474560), (3, 1296000))"
      ]
     },
     "execution_count": 36,
     "metadata": {},
     "output_type": "execute_result"
    }
   ],
   "source": [
    "in_cart.shape, out_cart.shape"
   ]
  },
  {
   "cell_type": "code",
   "execution_count": 37,
   "id": "140fca6f-0eab-4f1e-a692-01f560928d58",
   "metadata": {},
   "outputs": [
    {
     "data": {
      "text/plain": [
       "((648000, 8), (648000, 8))"
      ]
     },
     "execution_count": 37,
     "metadata": {},
     "output_type": "execute_result"
    }
   ],
   "source": [
    "weights.shape, idxs.shape"
   ]
  },
  {
   "cell_type": "code",
   "execution_count": 38,
   "id": "e64ec476-c211-4ae8-880c-7b48af1fe27d",
   "metadata": {},
   "outputs": [
    {
     "data": {
      "text/plain": [
       "5018424"
      ]
     },
     "execution_count": 38,
     "metadata": {},
     "output_type": "execute_result"
    }
   ],
   "source": [
    "(weights == 0).sum()"
   ]
  },
  {
   "cell_type": "code",
   "execution_count": 39,
   "id": "14cc309a-9b13-41f8-802e-8f096a03a88a",
   "metadata": {},
   "outputs": [
    {
     "name": "stdout",
     "output_type": "stream",
     "text": [
      "Calculating weights...\n"
     ]
    },
    {
     "name": "stderr",
     "output_type": "stream",
     "text": [
      "100%|██████████| 1296000/1296000 [00:46<00:00, 27832.54it/s]"
     ]
    },
    {
     "name": "stdout",
     "output_type": "stream",
     "text": [
      "Done, found 375256 valid points\n"
     ]
    },
    {
     "name": "stderr",
     "output_type": "stream",
     "text": [
      "\n"
     ]
    }
   ],
   "source": [
    "# centers, coords = generate_interior_points(in_cart, old_shape)\n",
    "nearest = find_pairs(centers, out_cart)\n",
    "\n",
    "weights2, idxs2 = make_weights(in_cart, out_cart,\n",
    "                             nearest, old_shape, coords)"
   ]
  },
  {
   "cell_type": "code",
   "execution_count": 40,
   "id": "1dc32a15-95d9-49a4-8e39-57aaa0f6f2a0",
   "metadata": {},
   "outputs": [
    {
     "data": {
      "text/plain": [
       "9992744"
      ]
     },
     "execution_count": 40,
     "metadata": {},
     "output_type": "execute_result"
    }
   ],
   "source": [
    "(weights2 == 0).sum()"
   ]
  },
  {
   "cell_type": "code",
   "execution_count": 41,
   "id": "59be2d64-e7eb-4a53-b24a-168e45a8593d",
   "metadata": {},
   "outputs": [],
   "source": [
    "idxs2 = idxs2.astype(int)"
   ]
  },
  {
   "cell_type": "code",
   "execution_count": 42,
   "id": "d7edaf17-1420-415a-9919-a5586503bb8a",
   "metadata": {},
   "outputs": [],
   "source": [
    "sami_og_vars = SAMI.sami_og_vars"
   ]
  },
  {
   "cell_type": "code",
   "execution_count": 43,
   "id": "73cce30d-4cd8-48be-bd07-9c99897c2df9",
   "metadata": {},
   "outputs": [],
   "source": [
    "cols = ['edens']"
   ]
  },
  {
   "cell_type": "code",
   "execution_count": 44,
   "id": "219e1fdc-7aba-464c-90c3-8bdeff312886",
   "metadata": {},
   "outputs": [
    {
     "name": "stderr",
     "output_type": "stream",
     "text": [
      "reading SAMI data: 100%|██████████| 624/624 [00:17<00:00, 36.60it/s]\n"
     ]
    }
   ],
   "source": [
    "data, times = SAMI.read_to_nparray(\n",
    "    sami_data_path, str_to_ut('20110520'), cols=cols,\n",
    "    t_start_idx = 0,\n",
    "    t_end_idx = 100,\n",
    "    pbar=True)"
   ]
  },
  {
   "cell_type": "code",
   "execution_count": 45,
   "id": "534421f1-0718-441f-838b-0f3f8c49e5e1",
   "metadata": {},
   "outputs": [
    {
     "data": {
      "text/plain": [
       "(80, 72, 256, 624)"
      ]
     },
     "execution_count": 45,
     "metadata": {},
     "output_type": "execute_result"
    }
   ],
   "source": [
    "data['data']['edens'].shape"
   ]
  },
  {
   "cell_type": "code",
   "execution_count": null,
   "id": "ef4d0f40-005a-4402-b3d5-12103ebe102a",
   "metadata": {},
   "outputs": [],
   "source": []
  },
  {
   "cell_type": "code",
   "execution_count": 46,
   "id": "f6b71404-96f6-45ab-861e-2d86ecd61c2b",
   "metadata": {},
   "outputs": [
    {
     "data": {
      "text/plain": [
       "((648000, 8), (3, 1474560), (3, 1296000), (1296000, 8))"
      ]
     },
     "execution_count": 46,
     "metadata": {},
     "output_type": "execute_result"
    }
   ],
   "source": [
    "weights.shape, in_cart.shape, out_cart.shape, weights2.shape"
   ]
  },
  {
   "cell_type": "code",
   "execution_count": 47,
   "id": "1768d2a1-f2c3-44e1-b94b-4100b2b7dc2c",
   "metadata": {},
   "outputs": [
    {
     "data": {
      "text/plain": [
       "-46907"
      ]
     },
     "execution_count": 47,
     "metadata": {},
     "output_type": "execute_result"
    }
   ],
   "source": [
    "np.sum(np.sum(weights2, axis=1) == 0) - len(weights2)"
   ]
  },
  {
   "cell_type": "code",
   "execution_count": null,
   "id": "8b3d8371-6e03-44e5-9abf-59c75d810ae6",
   "metadata": {},
   "outputs": [],
   "source": []
  },
  {
   "cell_type": "code",
   "execution_count": 48,
   "id": "c0a50847-9efc-406a-84b0-b8af2b14a921",
   "metadata": {},
   "outputs": [
    {
     "name": "stderr",
     "output_type": "stream",
     "text": [
      "  0%|          | 0/624 [00:00<?, ?it/s]/glade/u/home/abukowski/SAMI3-GITM-python/utility_programs/RegridSami.py:281: RuntimeWarning: invalid value encountered in divide\n",
      "  outv[t] += np.sum(weights * np.take(\n",
      "100%|██████████| 624/624 [01:11<00:00,  8.78it/s]\n"
     ]
    }
   ],
   "source": [
    "ds = do_apply_weights(weights2, idxs2,\n",
    "                      data, times, altout, latout, lonout,\n",
    "                      pbar=True)"
   ]
  },
  {
   "cell_type": "code",
   "execution_count": null,
   "id": "01fc6f18-0eb2-445a-ac15-4e72a8dd7574",
   "metadata": {},
   "outputs": [],
   "source": []
  },
  {
   "cell_type": "code",
   "execution_count": 49,
   "id": "315f1e9c-04b2-4e37-a31b-7c1c546d9ad6",
   "metadata": {},
   "outputs": [
    {
     "data": {
      "text/plain": [
       "<matplotlib.collections.QuadMesh at 0x7f6247098430>"
      ]
     },
     "execution_count": 49,
     "metadata": {},
     "output_type": "execute_result"
    },
    {
     "data": {
      "image/png": "[encoded data removed]",
      "text/plain": [
       "<Figure size 640x480 with 2 Axes>"
      ]
     },
     "metadata": {},
     "output_type": "display_data"
    }
   ],
   "source": [
    "ds.edens.isel(time=450).sel(alt=450, method='nearest').plot(x='lon',y='lat')"
   ]
  },
  {
   "cell_type": "code",
   "execution_count": null,
   "id": "859f8146-361d-4e25-9cb2-4dc82193ffad",
   "metadata": {},
   "outputs": [],
   "source": []
  },
  {
   "cell_type": "code",
   "execution_count": null,
   "id": "bf501323-d970-4bb9-a4c9-366ef3134727",
   "metadata": {},
   "outputs": [],
   "source": []
  },
  {
   "cell_type": "code",
   "execution_count": null,
   "id": "3583250b-e6ce-43fc-be70-03f8199a41bc",
   "metadata": {},
   "outputs": [],
   "source": []
  },
  {
   "cell_type": "code",
   "execution_count": null,
   "id": "3f9202ee-3b82-4433-bf68-a3c30d00e479",
   "metadata": {},
   "outputs": [],
   "source": []
  },
  {
   "cell_type": "code",
   "execution_count": null,
   "id": "ce570d6b-241e-4d6e-8ce0-9e8746581b38",
   "metadata": {},
   "outputs": [],
   "source": []
  },
  {
   "cell_type": "code",
   "execution_count": null,
   "id": "0840b770-8648-478d-82d2-4fa8d2017f71",
   "metadata": {},
   "outputs": [],
   "source": []
  }
 ],
 "metadata": {
  "kernelspec": {
   "display_name": "Python [conda env:gitm-sami-xr]",
   "language": "python",
   "name": "conda-env-gitm-sami-xr-py"
  },
  "language_info": {
   "codemirror_mode": {
    "name": "ipython",
    "version": 3
   },
   "file_extension": ".py",
   "mimetype": "text/x-python",
   "name": "python",
   "nbconvert_exporter": "python",
   "pygments_lexer": "ipython3",
   "version": "3.8.16"
  }
 },
 "nbformat": 4,
 "nbformat_minor": 5
}
