{
 "cells": [
  {
   "cell_type": "code",
   "execution_count": null,
   "id": "b99cf9f9-205c-4800-b0ae-6d2167ea5158",
   "metadata": {},
   "outputs": [],
   "source": []
  },
  {
   "cell_type": "code",
   "execution_count": 2,
   "id": "e5f7c3a6-d96f-416e-b9fa-c87028898053",
   "metadata": {},
   "outputs": [
    {
     "name": "stdout",
     "output_type": "stream",
     "text": [
      "No Numba available\n"
     ]
    }
   ],
   "source": [
    "import xarray as xr\n",
    "\n",
    "from tqdm.auto import tqdm\n",
    "import numpy as np\n",
    "\n",
    "from scipy.spatial import KDTree\n",
    "import os\n",
    "from utility_programs.read_routines import SAMI\n",
    "from utility_programs.utils import str_to_ut, make_ccmc_name\n",
    "import argparse\n",
    "\n",
    "from utility_programs.RegridSami import *\n"
   ]
  },
  {
   "cell_type": "code",
   "execution_count": null,
   "id": "44a2a16e-2475-4e20-88ae-fc70ac58dec0",
   "metadata": {},
   "outputs": [],
   "source": []
  },
  {
   "cell_type": "code",
   "execution_count": 8,
   "id": "e4276f72-71a0-400c-a345-e12f301b0860",
   "metadata": {},
   "outputs": [],
   "source": [
    "sami_data_path = '/glade/u/home/abukowski/scratch/simstorm-20110521/GITM-simstorm-run1/sami-gitm-coupled-lores/'"
   ]
  },
  {
   "cell_type": "code",
   "execution_count": 15,
   "id": "1b672cd9-1869-4f09-9c46-91fda86e7dc5",
   "metadata": {},
   "outputs": [],
   "source": [
    "out_path = '/glade/u/home/abukowski/scratch/simstorm-20110521/FullStorm/'"
   ]
  },
  {
   "cell_type": "code",
   "execution_count": null,
   "id": "537b719d-08c1-4372-aaa1-a116ef01a6e4",
   "metadata": {},
   "outputs": [],
   "source": []
  },
  {
   "cell_type": "code",
   "execution_count": 9,
   "id": "9892d757-baf3-4228-9bc1-fffba1b24878",
   "metadata": {},
   "outputs": [],
   "source": [
    "nz, nf, nlt, nt = SAMI.get_grid_elems_from_parammod(sami_data_path)\n",
    "old_shape = [nlt, nf, nz]\n",
    "\n",
    "grid2 = SAMI.get_sami_grid(sami_data_path, nlt, nf, nz)\n",
    "\n",
    "grid = {}\n",
    "for k in grid2.keys():\n",
    "    grid[k] = grid2[k].flatten()\n",
    "    grid2[k] = grid2[k]\n"
   ]
  },
  {
   "cell_type": "code",
   "execution_count": 11,
   "id": "5ce3bbb4-73b9-4342-9c51-fa7084365462",
   "metadata": {},
   "outputs": [],
   "source": [
    "in_cart = latlonalt_to_cart(grid['glat'], grid['glon'], grid['malt'])\n",
    "\n",
    "latout = np.arange(-90, 90, 2)\n",
    "lonout = np.arange(0, 360, 1)\n",
    "altout = np.arange(200, 2200, 50)\n",
    "\n",
    "out_lats = []\n",
    "out_lons = []\n",
    "out_alts = []\n",
    "\n",
    "for a in latout:\n",
    "    for o in lonout:\n",
    "        for l1 in altout:\n",
    "            out_lats.append(a)\n",
    "            out_lons.append(o)\n",
    "            out_alts.append(l1)\n",
    "\n",
    "out_cart = latlonalt_to_cart(out_lats, out_lons, np.array(out_alts)+6371)"
   ]
  },
  {
   "cell_type": "code",
   "execution_count": 16,
   "id": "f94956fe-ec38-40a8-9abd-a721ab622ba2",
   "metadata": {},
   "outputs": [
    {
     "name": "stdout",
     "output_type": "stream",
     "text": [
      "using weights from /glade/u/home/abukowski/scratch/simstorm-20110521/FullStorm/\n"
     ]
    }
   ],
   "source": [
    "weights = np.fromfile(os.path.join(out_path, 'weights'))\n",
    "idxs = np.fromfile(os.path.join(out_path, 'indexes'))\n",
    "weights = weights.reshape([int(len(weights)/8), 8])\n",
    "idxs = idxs.reshape([int(len(idxs)/8), 8])\n",
    "idxs = idxs.astype(int)\n",
    "print('using weights from %s' % out_path)"
   ]
  },
  {
   "cell_type": "code",
   "execution_count": 17,
   "id": "43f66540-1e3e-4096-95ba-60d050134a23",
   "metadata": {},
   "outputs": [
    {
     "data": {
      "text/plain": [
       "((3, 1474560), (3, 1296000))"
      ]
     },
     "execution_count": 17,
     "metadata": {},
     "output_type": "execute_result"
    }
   ],
   "source": [
    "in_cart.shape, out_cart.shape"
   ]
  },
  {
   "cell_type": "code",
   "execution_count": 18,
   "id": "140fca6f-0eab-4f1e-a692-01f560928d58",
   "metadata": {},
   "outputs": [
    {
     "data": {
      "text/plain": [
       "((648000, 8), (648000, 8))"
      ]
     },
     "execution_count": 18,
     "metadata": {},
     "output_type": "execute_result"
    }
   ],
   "source": [
    "weights.shape, idxs.shape"
   ]
  },
  {
   "cell_type": "code",
   "execution_count": 26,
   "id": "e64ec476-c211-4ae8-880c-7b48af1fe27d",
   "metadata": {},
   "outputs": [
    {
     "data": {
      "text/plain": [
       "5018424"
      ]
     },
     "execution_count": 26,
     "metadata": {},
     "output_type": "execute_result"
    }
   ],
   "source": [
    "(weights == 0).sum()"
   ]
  },
  {
   "cell_type": "code",
   "execution_count": 25,
   "id": "14cc309a-9b13-41f8-802e-8f096a03a88a",
   "metadata": {},
   "outputs": [
    {
     "name": "stderr",
     "output_type": "stream",
     "text": [
      "Generating interior points:  99%|█████████▊| 1454080/1474560 [04:50<00:04, 5010.82it/s]\n"
     ]
    },
    {
     "name": "stdout",
     "output_type": "stream",
     "text": [
      "From 1474560 grid points we generated 1454080 cubes\n",
      "Calculating weights...\n"
     ]
    },
    {
     "name": "stderr",
     "output_type": "stream",
     "text": [
      "100%|██████████| 1296000/1296000 [00:36<00:00, 35326.60it/s]"
     ]
    },
    {
     "name": "stdout",
     "output_type": "stream",
     "text": [
      "Done, found 340128 valid points\n"
     ]
    },
    {
     "name": "stderr",
     "output_type": "stream",
     "text": [
      "\n"
     ]
    }
   ],
   "source": [
    "centers, coords = generate_interior_points(in_cart, old_shape)\n",
    "nearest = find_pairs(centers, out_cart)\n",
    "\n",
    "weights2, idxs2 = make_weights(in_cart, out_cart,\n",
    "                             nearest, old_shape, coords)"
   ]
  },
  {
   "cell_type": "code",
   "execution_count": 29,
   "id": "1dc32a15-95d9-49a4-8e39-57aaa0f6f2a0",
   "metadata": {},
   "outputs": [
    {
     "data": {
      "text/plain": [
       "10027872"
      ]
     },
     "execution_count": 29,
     "metadata": {},
     "output_type": "execute_result"
    }
   ],
   "source": [
    "(weights2 == 0).sum()"
   ]
  },
  {
   "cell_type": "code",
   "execution_count": 31,
   "id": "59be2d64-e7eb-4a53-b24a-168e45a8593d",
   "metadata": {},
   "outputs": [],
   "source": [
    "idxs2 = idxs2.astype(int)"
   ]
  },
  {
   "cell_type": "code",
   "execution_count": 32,
   "id": "d7edaf17-1420-415a-9919-a5586503bb8a",
   "metadata": {},
   "outputs": [],
   "source": [
    "sami_og_vars = SAMI.sami_og_vars"
   ]
  },
  {
   "cell_type": "code",
   "execution_count": 33,
   "id": "73cce30d-4cd8-48be-bd07-9c99897c2df9",
   "metadata": {},
   "outputs": [],
   "source": [
    "cols = ['edens']"
   ]
  },
  {
   "cell_type": "code",
   "execution_count": null,
   "id": "219e1fdc-7aba-464c-90c3-8bdeff312886",
   "metadata": {},
   "outputs": [
    {
     "name": "stderr",
     "output_type": "stream",
     "text": [
      "reading SAMI data:   1%|          | 4/624 [01:52<6:00:27, 34.88s/it]"
     ]
    }
   ],
   "source": [
    "data, times = SAMI.read_to_nparray(\n",
    "                sami_data_path, str_to_ut('20110520'), cols=cols, pbar=True)"
   ]
  },
  {
   "cell_type": "code",
   "execution_count": null,
   "id": "8b3d8371-6e03-44e5-9abf-59c75d810ae6",
   "metadata": {},
   "outputs": [],
   "source": []
  },
  {
   "cell_type": "code",
   "execution_count": null,
   "id": "c0a50847-9efc-406a-84b0-b8af2b14a921",
   "metadata": {},
   "outputs": [],
   "source": [
    "ds = do_apply_weights(weights2, idxs2,\n",
    "                      data, times, altout, latout, lonout,\n",
    "                      pbar=True)"
   ]
  },
  {
   "cell_type": "code",
   "execution_count": null,
   "id": "01fc6f18-0eb2-445a-ac15-4e72a8dd7574",
   "metadata": {},
   "outputs": [],
   "source": []
  },
  {
   "cell_type": "code",
   "execution_count": null,
   "id": "315f1e9c-04b2-4e37-a31b-7c1c546d9ad6",
   "metadata": {},
   "outputs": [],
   "source": []
  },
  {
   "cell_type": "code",
   "execution_count": null,
   "id": "859f8146-361d-4e25-9cb2-4dc82193ffad",
   "metadata": {},
   "outputs": [],
   "source": []
  },
  {
   "cell_type": "code",
   "execution_count": null,
   "id": "bf501323-d970-4bb9-a4c9-366ef3134727",
   "metadata": {},
   "outputs": [],
   "source": []
  },
  {
   "cell_type": "code",
   "execution_count": null,
   "id": "3583250b-e6ce-43fc-be70-03f8199a41bc",
   "metadata": {},
   "outputs": [],
   "source": []
  },
  {
   "cell_type": "code",
   "execution_count": null,
   "id": "3f9202ee-3b82-4433-bf68-a3c30d00e479",
   "metadata": {},
   "outputs": [],
   "source": []
  },
  {
   "cell_type": "code",
   "execution_count": null,
   "id": "ce570d6b-241e-4d6e-8ce0-9e8746581b38",
   "metadata": {},
   "outputs": [],
   "source": []
  },
  {
   "cell_type": "code",
   "execution_count": null,
   "id": "0840b770-8648-478d-82d2-4fa8d2017f71",
   "metadata": {},
   "outputs": [],
   "source": []
  }
 ],
 "metadata": {
  "kernelspec": {
   "display_name": "Python [conda env:gitm-sami-xr]",
   "language": "python",
   "name": "conda-env-gitm-sami-xr-py"
  },
  "language_info": {
   "codemirror_mode": {
    "name": "ipython",
    "version": 3
   },
   "file_extension": ".py",
   "mimetype": "text/x-python",
   "name": "python",
   "nbconvert_exporter": "python",
   "pygments_lexer": "ipython3",
   "version": "3.8.16"
  }
 },
 "nbformat": 4,
 "nbformat_minor": 5
}
