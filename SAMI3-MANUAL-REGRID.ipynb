{
 "cells": [
  {
   "cell_type": "code",
   "execution_count": 1,
   "id": "89513155-1f3b-4e85-bec6-7dbdcd1d6300",
   "metadata": {},
   "outputs": [],
   "source": [
    "import xarray as xr\n",
    "import matplotlib.pyplot as plt\n",
    "import pandas as pd\n",
    "import importlib\n",
    "import os\n",
    "from glob import glob\n",
    "from tqdm import tqdm\n",
    "import numpy as np\n",
    "\n",
    "import datetime\n",
    "\n",
    "from  utility_programs.read_routines import SAMI\n",
    "\n",
    "import cartopy.crs as ccrs\n",
    "\n",
    "from datetime import datetime\n",
    "from scipy.spatial import KDTree\n",
    "\n",
    "\n",
    "import cartopy.crs as ccrs"
   ]
  },
  {
   "cell_type": "code",
   "execution_count": null,
   "id": "b734e404-bff6-4705-83d3-03b6ab37d43d",
   "metadata": {},
   "outputs": [],
   "source": []
  },
  {
   "cell_type": "code",
   "execution_count": 2,
   "id": "e9b6533b-2c74-4bc9-ad7c-d6222ec15767",
   "metadata": {},
   "outputs": [],
   "source": [
    "sami_data_path = '/glade/u/home/abukowski/scratch/simstorm-20110521/GITM-simstorm-run1/sami-gitm-coupled/'"
   ]
  },
  {
   "cell_type": "code",
   "execution_count": 3,
   "id": "03772a09-7184-46db-aa5c-db8fea61af70",
   "metadata": {},
   "outputs": [],
   "source": [
    "SAMI = importlib.reload(SAMI)"
   ]
  },
  {
   "cell_type": "code",
   "execution_count": 4,
   "id": "4be963ca-99a8-41a6-a7bc-b420273ad412",
   "metadata": {},
   "outputs": [
    {
     "name": "stdout",
     "output_type": "stream",
     "text": [
      "skipping deni1u.dat because it is not in cols\n",
      "skipping deni2u.dat because it is not in cols\n",
      "skipping deni3u.dat because it is not in cols\n",
      "skipping deni4u.dat because it is not in cols\n",
      "skipping deni5u.dat because it is not in cols\n",
      "skipping deni6u.dat because it is not in cols\n",
      "skipping deni7u.dat because it is not in cols\n",
      "skipping denn1u.dat because it is not in cols\n",
      "skipping denn2u.dat because it is not in cols\n",
      "skipping denn3u.dat because it is not in cols\n",
      "skipping denn4u.dat because it is not in cols\n",
      "skipping denn5u.dat because it is not in cols\n",
      "skipping denn6u.dat because it is not in cols\n",
      "skipping denn7u.dat because it is not in cols\n",
      "skipping teu.dat because it is not in cols\n",
      "skipping ti1u.dat because it is not in cols\n",
      "skipping ti2u.dat because it is not in cols\n",
      "skipping ti5u.dat because it is not in cols\n",
      "skipping vsi1u.dat because it is not in cols\n",
      "skipping vsi2u.dat because it is not in cols\n",
      "skipping u1pu.dat because it is not in cols\n",
      "skipping u3hu.dat because it is not in cols\n",
      "skipping u1u.dat because it is not in cols\n",
      "skipping u2u.dat because it is not in cols\n"
     ]
    }
   ],
   "source": [
    "nz, nf, nlt, nt = SAMI.get_grid_elems_from_parammod(sami_data_path)\n",
    "\n",
    "old_shape = [nlt, nf, nz]\n",
    "\n",
    "grid2 = SAMI.get_sami_grid(sami_data_path, nlt, nf, nz)\n",
    "\n",
    "data2, times = SAMI.read_to_nparray(sami_data_path, datetime(2011,5,20),\n",
    "                                    datetime(2011,5,21,12), 1, 2, cols='edens')\n",
    "\n",
    "grid = {};"
   ]
  },
  {
   "cell_type": "code",
   "execution_count": 5,
   "id": "32c35019-5405-4d25-977a-ce907e7fca2b",
   "metadata": {},
   "outputs": [
    {
     "data": {
      "text/plain": [
       "(8006212318202.014, (80, 72, 256, 36))"
      ]
     },
     "execution_count": 5,
     "metadata": {},
     "output_type": "execute_result"
    }
   ],
   "source": [
    "np.sum(data2['data']['edens']), data2['data']['edens'].shape"
   ]
  },
  {
   "cell_type": "code",
   "execution_count": 6,
   "id": "bf510a89-814a-4759-9ad4-60374c74cba5",
   "metadata": {},
   "outputs": [
    {
     "data": {
      "text/plain": [
       "(80, 72, 256)"
      ]
     },
     "execution_count": 6,
     "metadata": {},
     "output_type": "execute_result"
    }
   ],
   "source": [
    "nlt, nf, nz"
   ]
  },
  {
   "cell_type": "code",
   "execution_count": 7,
   "id": "692de6c1-5b41-4ff7-9567-a2edfbe2c4ba",
   "metadata": {},
   "outputs": [],
   "source": [
    "# inmask = np.where(grid2['alt'] < 4000, )"
   ]
  },
  {
   "cell_type": "code",
   "execution_count": 8,
   "id": "6c0fd42c-26c3-47cf-a94b-ca23c4c6bf26",
   "metadata": {},
   "outputs": [
    {
     "name": "stdout",
     "output_type": "stream",
     "text": [
      "glat (1474560,) (80, 72, 256)\n",
      "glon (1474560,) (80, 72, 256)\n",
      "alt (1474560,) (80, 72, 256)\n",
      "mlat (1474560,) (80, 72, 256)\n",
      "mlon (1474560,) (80, 72, 256)\n",
      "malt (1474560,) (80, 72, 256)\n"
     ]
    }
   ],
   "source": [
    "for k in grid2.keys():\n",
    "    grid[k] = grid2[k].flatten()\n",
    "    grid2[k] = grid2[k]\n",
    "    print(k, grid[k].shape, grid2[k].shape)"
   ]
  },
  {
   "cell_type": "code",
   "execution_count": 9,
   "id": "ac43b6c0-3e28-4d14-a5ff-26239c6e6eae",
   "metadata": {},
   "outputs": [],
   "source": [
    "\"\"\"\n",
    "- convert to cartesian\n",
    "- for pt in output grid:\n",
    "    - find nearest input grid pt.\n",
    "    - build cube with input grid\n",
    "    - 3D interpolate (in cartesian)\n",
    "    - i guess store weigts? somehow?\n",
    "- save weights.\n",
    "\n",
    "\n",
    "\"\"\";"
   ]
  },
  {
   "cell_type": "code",
   "execution_count": 10,
   "id": "9666d004-8ca8-4060-8e25-c64bb23300fb",
   "metadata": {},
   "outputs": [],
   "source": [
    "def latlonalt_to_cart(lat, lon, radius):\n",
    "    lat = np.deg2rad(lat)\n",
    "    lon = np.deg2rad(lon)\n",
    "    x = radius * np.cos(lat) * np.cos(lon)\n",
    "    y = radius * np.cos(lat) * np.sin(lon)\n",
    "    z = radius * np.sin(lat)\n",
    "    return np.array([x,y,z])"
   ]
  },
  {
   "cell_type": "code",
   "execution_count": null,
   "id": "6fd9a7f5-209a-4a23-a34a-bdbebd55dbcf",
   "metadata": {},
   "outputs": [],
   "source": []
  },
  {
   "cell_type": "code",
   "execution_count": 11,
   "id": "ede76356-dce0-42e7-a808-766cf66702d1",
   "metadata": {},
   "outputs": [],
   "source": [
    "in_cart = latlonalt_to_cart(grid['glat'], grid['glon'], grid['malt'])"
   ]
  },
  {
   "cell_type": "code",
   "execution_count": 12,
   "id": "a2692219-94ef-4aac-a92f-a4698e616d0f",
   "metadata": {},
   "outputs": [],
   "source": [
    "latout = np.arange(-90,90,0.5)\n",
    "lonout = np.arange(0,360,0.5)\n",
    "altout = np.arange(100,2200,50)\n",
    "\n",
    "out_lats = []\n",
    "out_lons = []\n",
    "out_alts = []\n",
    "\n",
    "\n",
    "\n",
    "for a in latout:\n",
    "    for o in lonout:\n",
    "        for l in altout:\n",
    "            out_lats.append(a)\n",
    "            out_lons.append(o)\n",
    "            out_alts.append(l)\n",
    "            \n",
    "            \n",
    "\n",
    "out_cart = latlonalt_to_cart(out_lats, out_lons, np.array(out_alts)+6371)\n",
    "\n"
   ]
  },
  {
   "cell_type": "code",
   "execution_count": 13,
   "id": "347088da-d584-4a95-8fe7-62659558262d",
   "metadata": {},
   "outputs": [
    {
     "data": {
      "text/plain": [
       "((3, 1474560), (3, 10886400))"
      ]
     },
     "execution_count": 13,
     "metadata": {},
     "output_type": "execute_result"
    }
   ],
   "source": [
    "in_cart.shape, out_cart.shape"
   ]
  },
  {
   "cell_type": "code",
   "execution_count": 14,
   "id": "52df69e8-277b-449f-abde-6dc2c4ed88ad",
   "metadata": {},
   "outputs": [],
   "source": [
    "tree = KDTree(in_cart.T)\n",
    "dists, nearest = tree.query(out_cart.T)"
   ]
  },
  {
   "cell_type": "code",
   "execution_count": null,
   "id": "a090fc1e-fe80-4eb9-a427-71cb08288f48",
   "metadata": {},
   "outputs": [],
   "source": []
  },
  {
   "cell_type": "code",
   "execution_count": 18,
   "id": "176ad092-6460-43c7-8adb-62efe9ec8dcb",
   "metadata": {},
   "outputs": [
    {
     "data": {
      "text/plain": [
       "775392"
      ]
     },
     "execution_count": 18,
     "metadata": {},
     "output_type": "execute_result"
    }
   ],
   "source": [
    "len(np.unique(nearest))"
   ]
  },
  {
   "cell_type": "code",
   "execution_count": 19,
   "id": "8ebe70a8-1ac6-40e4-8f3f-9b22838882f6",
   "metadata": {},
   "outputs": [
    {
     "data": {
      "text/plain": [
       "(-90.0, 0.0, 100)"
      ]
     },
     "execution_count": 19,
     "metadata": {},
     "output_type": "execute_result"
    }
   ],
   "source": [
    "out_lats[0], out_lons[0], out_alts[0]"
   ]
  },
  {
   "cell_type": "code",
   "execution_count": 20,
   "id": "25a3b3ae-cd28-4f8e-8e29-971ca826ac44",
   "metadata": {},
   "outputs": [
    {
     "name": "stdout",
     "output_type": "stream",
     "text": [
      "glat -88.99971\n",
      "glon 99.99974\n",
      "alt 118.805176\n",
      "mlat -75.12826\n",
      "mlon 20.249998\n",
      "malt 6490.0054\n"
     ]
    }
   ],
   "source": [
    "for k in grid2.keys():\n",
    "    print(k, grid[k][nearest[0]])"
   ]
  },
  {
   "cell_type": "code",
   "execution_count": null,
   "id": "8117b581-724b-47fa-b633-4dd3358b4a5d",
   "metadata": {},
   "outputs": [],
   "source": []
  },
  {
   "cell_type": "code",
   "execution_count": 27,
   "id": "af8fd18e-eae3-4045-b132-d23665330ed6",
   "metadata": {
    "tags": []
   },
   "outputs": [
    {
     "name": "stderr",
     "output_type": "stream",
     "text": [
      "  1%|          | 84909/10886400 [00:08<18:03, 9973.42it/s] \n"
     ]
    },
    {
     "ename": "KeyboardInterrupt",
     "evalue": "",
     "output_type": "error",
     "traceback": [
      "\u001b[0;31m---------------------------------------------------------------------------\u001b[0m",
      "\u001b[0;31mKeyboardInterrupt\u001b[0m                         Traceback (most recent call last)",
      "Cell \u001b[0;32mIn[27], line 67\u001b[0m\n\u001b[1;32m     64\u001b[0m     zs\u001b[38;5;241m.\u001b[39mappend(in_cart[\u001b[38;5;241m2\u001b[39m,index])\n\u001b[1;32m     66\u001b[0m d \u001b[38;5;241m=\u001b[39m np\u001b[38;5;241m.\u001b[39msqrt((xs\u001b[38;5;241m-\u001b[39mout_cart[\u001b[38;5;241m0\u001b[39m,n])\u001b[38;5;241m*\u001b[39m\u001b[38;5;241m*\u001b[39m\u001b[38;5;241m2\u001b[39m \u001b[38;5;241m+\u001b[39m (ys\u001b[38;5;241m-\u001b[39mout_cart[\u001b[38;5;241m1\u001b[39m,n])\u001b[38;5;241m*\u001b[39m\u001b[38;5;241m*\u001b[39m\u001b[38;5;241m2\u001b[39m \u001b[38;5;241m+\u001b[39m (zs\u001b[38;5;241m-\u001b[39mout_cart[\u001b[38;5;241m2\u001b[39m,n])\u001b[38;5;241m*\u001b[39m\u001b[38;5;241m*\u001b[39m\u001b[38;5;241m2\u001b[39m)\n\u001b[0;32m---> 67\u001b[0m dtot\u001b[38;5;241m=\u001b[39m\u001b[43mnp\u001b[49m\u001b[38;5;241;43m.\u001b[39;49m\u001b[43msum\u001b[49m\u001b[43m(\u001b[49m\u001b[43md\u001b[49m\u001b[43m)\u001b[49m\n\u001b[1;32m     69\u001b[0m \u001b[38;5;28;01mtry\u001b[39;00m:\n\u001b[1;32m     70\u001b[0m     weights[\u001b[38;5;124m'\u001b[39m\u001b[38;5;124mweight\u001b[39m\u001b[38;5;124m'\u001b[39m][n] \u001b[38;5;241m=\u001b[39m \u001b[38;5;241m1\u001b[39m\u001b[38;5;241m/\u001b[39m(d)\n",
      "File \u001b[0;32m<__array_function__ internals>:200\u001b[0m, in \u001b[0;36msum\u001b[0;34m(*args, **kwargs)\u001b[0m\n",
      "File \u001b[0;32m/glade/work/abukowski/conda-envs/simstorm/lib/python3.11/site-packages/numpy/core/fromnumeric.py:2324\u001b[0m, in \u001b[0;36msum\u001b[0;34m(a, axis, dtype, out, keepdims, initial, where)\u001b[0m\n\u001b[1;32m   2321\u001b[0m         \u001b[38;5;28;01mreturn\u001b[39;00m out\n\u001b[1;32m   2322\u001b[0m     \u001b[38;5;28;01mreturn\u001b[39;00m res\n\u001b[0;32m-> 2324\u001b[0m \u001b[38;5;28;01mreturn\u001b[39;00m \u001b[43m_wrapreduction\u001b[49m\u001b[43m(\u001b[49m\u001b[43ma\u001b[49m\u001b[43m,\u001b[49m\u001b[43m \u001b[49m\u001b[43mnp\u001b[49m\u001b[38;5;241;43m.\u001b[39;49m\u001b[43madd\u001b[49m\u001b[43m,\u001b[49m\u001b[43m \u001b[49m\u001b[38;5;124;43m'\u001b[39;49m\u001b[38;5;124;43msum\u001b[39;49m\u001b[38;5;124;43m'\u001b[39;49m\u001b[43m,\u001b[49m\u001b[43m \u001b[49m\u001b[43maxis\u001b[49m\u001b[43m,\u001b[49m\u001b[43m \u001b[49m\u001b[43mdtype\u001b[49m\u001b[43m,\u001b[49m\u001b[43m \u001b[49m\u001b[43mout\u001b[49m\u001b[43m,\u001b[49m\u001b[43m \u001b[49m\u001b[43mkeepdims\u001b[49m\u001b[38;5;241;43m=\u001b[39;49m\u001b[43mkeepdims\u001b[49m\u001b[43m,\u001b[49m\n\u001b[1;32m   2325\u001b[0m \u001b[43m                      \u001b[49m\u001b[43minitial\u001b[49m\u001b[38;5;241;43m=\u001b[39;49m\u001b[43minitial\u001b[49m\u001b[43m,\u001b[49m\u001b[43m \u001b[49m\u001b[43mwhere\u001b[49m\u001b[38;5;241;43m=\u001b[39;49m\u001b[43mwhere\u001b[49m\u001b[43m)\u001b[49m\n",
      "File \u001b[0;32m/glade/work/abukowski/conda-envs/simstorm/lib/python3.11/site-packages/numpy/core/fromnumeric.py:86\u001b[0m, in \u001b[0;36m_wrapreduction\u001b[0;34m(obj, ufunc, method, axis, dtype, out, **kwargs)\u001b[0m\n\u001b[1;32m     83\u001b[0m         \u001b[38;5;28;01melse\u001b[39;00m:\n\u001b[1;32m     84\u001b[0m             \u001b[38;5;28;01mreturn\u001b[39;00m reduction(axis\u001b[38;5;241m=\u001b[39maxis, out\u001b[38;5;241m=\u001b[39mout, \u001b[38;5;241m*\u001b[39m\u001b[38;5;241m*\u001b[39mpasskwargs)\n\u001b[0;32m---> 86\u001b[0m \u001b[38;5;28;01mreturn\u001b[39;00m \u001b[43mufunc\u001b[49m\u001b[38;5;241;43m.\u001b[39;49m\u001b[43mreduce\u001b[49m\u001b[43m(\u001b[49m\u001b[43mobj\u001b[49m\u001b[43m,\u001b[49m\u001b[43m \u001b[49m\u001b[43maxis\u001b[49m\u001b[43m,\u001b[49m\u001b[43m \u001b[49m\u001b[43mdtype\u001b[49m\u001b[43m,\u001b[49m\u001b[43m \u001b[49m\u001b[43mout\u001b[49m\u001b[43m,\u001b[49m\u001b[43m \u001b[49m\u001b[38;5;241;43m*\u001b[39;49m\u001b[38;5;241;43m*\u001b[39;49m\u001b[43mpasskwargs\u001b[49m\u001b[43m)\u001b[49m\n",
      "\u001b[0;31mKeyboardInterrupt\u001b[0m: "
     ]
    }
   ],
   "source": [
    "\n",
    "badbadbad = []\n",
    "\n",
    "badbadbad2 = []\n",
    "\n",
    "\n",
    "# zero1ddst = np.empty(len(in_cart[0]))\n",
    "# zero3ddst = np.empty([len(in_cart[1]),3])\n",
    "zero1dsrc = np.empty([len(out_cart[0]),8])\n",
    "# zero3dsrc = np.empty([len(out_cart[0]),8,3])\n",
    "\n",
    "\n",
    "weights = {'weight':zero1dsrc.copy(),\n",
    "           'dstidxs1d':zero1dsrc.copy(),\n",
    "           'srcidxs1d':zero1dsrc.copy(),}\n",
    "# print(weights)\n",
    "# w2 = np.zeros([len(in_cart[0]),len(out_cart[0])])\n",
    "\n",
    "\n",
    "for n, i in enumerate(tqdm(nearest)):\n",
    "    \n",
    "    l, f, z = np.unravel_index(i, old_shape)\n",
    "    \n",
    "    if l == old_shape[0]-1:\n",
    "        l2 = 0\n",
    "    else:\n",
    "        l2 = l+1\n",
    "    \n",
    "    if z == 0:\n",
    "        z2 = -1\n",
    "    else:\n",
    "        z2 = z-1\n",
    "    \n",
    "    \n",
    "    f2 = f+1\n",
    "    if f == old_shape[1]-1:\n",
    "        badbadbad.append([l,f,z,i,n])\n",
    "        continue\n",
    "    \n",
    "    cs = [[l,  f,  z  ],\n",
    "          [l,  f,  z2 ],\n",
    "          [l2, f,  z2 ],\n",
    "          [l2, f,  z  ],\n",
    "          [l,  f2, z  ],\n",
    "          [l,  f2, z  ],\n",
    "          [l2, f2, z2 ],\n",
    "          [l2, f2, z2 ],]\n",
    "    \n",
    "#     weights['srcidxs3d'][n] = cs\n",
    "    \n",
    "    \n",
    "    id_pt = []\n",
    "    xs = []\n",
    "    ys = []\n",
    "    zs = []\n",
    "    for c in cs:\n",
    "        try:\n",
    "            index = np.ravel_multi_index(c,old_shape)\n",
    "        except:\n",
    "            break\n",
    "        id_pt.append(index)\n",
    "        \n",
    "        xs.append(in_cart[0,index])\n",
    "        ys.append(in_cart[1,index])\n",
    "        zs.append(in_cart[2,index])\n",
    "        \n",
    "    d = np.sqrt((xs-out_cart[0,n])**2 + (ys-out_cart[1,n])**2 + (zs-out_cart[2,n])**2)\n",
    "    dtot=np.sum(d)\n",
    "    \n",
    "    try:\n",
    "        weights['weight'][n] = 1/(d)\n",
    "    except ValueError:\n",
    "        badbadbad2.append([l,f,z,i,n])\n",
    "    # weights['weights'].append(d/dtot)\n",
    "    \n",
    "    \n",
    "\n",
    "        \n",
    "    weights['srcidxs1d'][n]=id_pt\n",
    "\n",
    "\n",
    "#     weights['dstidxs1d'][n]=i\n",
    "    \n",
    "    \n",
    "    "
   ]
  },
  {
   "cell_type": "code",
   "execution_count": 28,
   "id": "1c8c3f57-298b-485d-b2b0-fb2d79c57857",
   "metadata": {},
   "outputs": [
    {
     "data": {
      "text/plain": [
       "([4, 67, 77], [80, 72, 256])"
      ]
     },
     "execution_count": 28,
     "metadata": {},
     "output_type": "execute_result"
    }
   ],
   "source": [
    "c, old_shape"
   ]
  },
  {
   "cell_type": "code",
   "execution_count": 29,
   "id": "3ed20617-a483-4835-ac4c-ca208dfb70ba",
   "metadata": {},
   "outputs": [
    {
     "data": {
      "text/plain": [
       "(0, 0)"
      ]
     },
     "execution_count": 29,
     "metadata": {},
     "output_type": "execute_result"
    }
   ],
   "source": [
    "len(badbadbad), len(badbadbad2)"
   ]
  },
  {
   "cell_type": "code",
   "execution_count": null,
   "id": "87527b2f-e69d-4db5-a8b8-e900e642b11a",
   "metadata": {},
   "outputs": [],
   "source": []
  },
  {
   "cell_type": "code",
   "execution_count": null,
   "id": "dccf2900-2005-45c9-931f-21c4acd2a93d",
   "metadata": {},
   "outputs": [],
   "source": []
  },
  {
   "cell_type": "code",
   "execution_count": null,
   "id": "2851e613-4d23-49e5-a43b-7f61037ec4e0",
   "metadata": {},
   "outputs": [],
   "source": [
    "weights.keys()"
   ]
  },
  {
   "cell_type": "code",
   "execution_count": null,
   "id": "636d8b21-c1a7-47a1-bdb7-39f3bb095167",
   "metadata": {},
   "outputs": [],
   "source": [
    "for k in weights.keys():\n",
    "    print(k, np.array(weights[k]).shape, np.sum(weights[k]))"
   ]
  },
  {
   "cell_type": "code",
   "execution_count": null,
   "id": "633e439d-48c1-49e3-9cdb-48fff29f7598",
   "metadata": {
    "tags": []
   },
   "outputs": [],
   "source": [
    "np.array(badbadbad).shape"
   ]
  },
  {
   "cell_type": "code",
   "execution_count": null,
   "id": "0a69b9e2-f759-423b-9f35-cca6bfec9b8c",
   "metadata": {},
   "outputs": [],
   "source": [
    "t0 = data2['data']['edens'][:,:,:]"
   ]
  },
  {
   "cell_type": "code",
   "execution_count": null,
   "id": "0c3db93c-264c-45e2-829d-0c2fb4312d66",
   "metadata": {},
   "outputs": [],
   "source": [
    "t0.shape, np.sum(t0)"
   ]
  },
  {
   "cell_type": "code",
   "execution_count": null,
   "id": "39794b38-998a-4d4b-bde1-fa88d9bc4116",
   "metadata": {},
   "outputs": [],
   "source": [
    "out = []\n",
    "for t in range(t0.shape[-1]):\n",
    "    out.append(np.sum(weights['weight'] * np.take(t0[:,:,:,t],weights['srcidxs1d'].astype(int)), axis=1) / np.sum(weights['weight'], axis=1))"
   ]
  },
  {
   "cell_type": "code",
   "execution_count": null,
   "id": "355f30a3-f639-4e31-b21f-a9e7d2db59d4",
   "metadata": {},
   "outputs": [],
   "source": []
  },
  {
   "cell_type": "code",
   "execution_count": null,
   "id": "0474699e-510e-4552-89cf-725f00f05bce",
   "metadata": {},
   "outputs": [],
   "source": [
    "out = np.array(out)"
   ]
  },
  {
   "cell_type": "code",
   "execution_count": null,
   "id": "9cd3e236-4253-49c1-a3eb-81a4bef76f76",
   "metadata": {},
   "outputs": [],
   "source": [
    "out.shape"
   ]
  },
  {
   "cell_type": "code",
   "execution_count": null,
   "id": "0d581c50-b363-485c-8c01-d47a28991b24",
   "metadata": {},
   "outputs": [],
   "source": []
  },
  {
   "cell_type": "code",
   "execution_count": null,
   "id": "31528d80-35cc-476f-8936-2a4d7b8dc778",
   "metadata": {},
   "outputs": [],
   "source": []
  },
  {
   "cell_type": "code",
   "execution_count": null,
   "id": "e528d4d0-dbbd-4b6d-819e-e54e0bdcc587",
   "metadata": {},
   "outputs": [],
   "source": []
  },
  {
   "cell_type": "code",
   "execution_count": null,
   "id": "1795c1b5-33b4-4aff-b125-5429b68a2607",
   "metadata": {},
   "outputs": [],
   "source": [
    "ds =  xr.Dataset(coords={\n",
    "    'time':(['time'],times),\n",
    "    'alt':(['alt'],altout),\n",
    "    'lat':(['lat'],latout),\n",
    "    'lon':(['lon'],lonout)},\n",
    "                     data_vars={\n",
    "                         'dene':(['time','lat','lon','alt'],out.reshape(len(times),len(latout), len(lonout), len(altout)))})"
   ]
  },
  {
   "cell_type": "code",
   "execution_count": null,
   "id": "60700d51-a54e-474e-8872-aa8d9cac723c",
   "metadata": {},
   "outputs": [],
   "source": [
    "ds"
   ]
  },
  {
   "cell_type": "code",
   "execution_count": null,
   "id": "1b03149e-7003-4d90-a44e-dbd788c8b87f",
   "metadata": {},
   "outputs": [],
   "source": []
  },
  {
   "cell_type": "code",
   "execution_count": null,
   "id": "06be9225-93f9-4adc-9746-c8f8ba75b0f1",
   "metadata": {},
   "outputs": [],
   "source": [
    "plt.figure(figsize = (12,5))\n",
    "ax = plt.subplot(projection=ccrs.PlateCarree(), )\n",
    "ds.dene.sel(alt=650, method='nearest').isel(time=30).plot(ax = ax, aa = True)\n",
    "ax.coastlines()\n",
    "ax.gridlines(draw_labels = True, alpha = 0.6)"
   ]
  },
  {
   "cell_type": "code",
   "execution_count": null,
   "id": "794cad2b-fe5a-4de1-992d-7bc8392186df",
   "metadata": {},
   "outputs": [],
   "source": []
  },
  {
   "cell_type": "code",
   "execution_count": null,
   "id": "d87bbbca-c207-42e7-83ad-2170e2f66b72",
   "metadata": {},
   "outputs": [],
   "source": []
  },
  {
   "cell_type": "code",
   "execution_count": null,
   "id": "469d304b-e9c0-4083-9ee3-69355b483e3b",
   "metadata": {},
   "outputs": [],
   "source": []
  },
  {
   "cell_type": "code",
   "execution_count": null,
   "id": "f60f7a78-3b37-4da9-ab8e-8a5767f2b862",
   "metadata": {},
   "outputs": [],
   "source": []
  },
  {
   "cell_type": "code",
   "execution_count": null,
   "id": "73f76afd-6885-41b1-acd5-82310e41211b",
   "metadata": {},
   "outputs": [],
   "source": []
  },
  {
   "cell_type": "code",
   "execution_count": null,
   "id": "4fef123b-83fe-4014-b273-77401bb3a020",
   "metadata": {},
   "outputs": [],
   "source": []
  },
  {
   "cell_type": "code",
   "execution_count": null,
   "id": "a374271b-ace8-4aa6-b485-dd27f24870b3",
   "metadata": {},
   "outputs": [],
   "source": []
  },
  {
   "cell_type": "code",
   "execution_count": null,
   "id": "68ea4fd9-f0b0-49f4-b667-40e6ae83b60b",
   "metadata": {},
   "outputs": [],
   "source": []
  },
  {
   "cell_type": "code",
   "execution_count": null,
   "id": "ec4d9288-4529-4051-8771-c0a778dfe939",
   "metadata": {},
   "outputs": [],
   "source": []
  },
  {
   "cell_type": "code",
   "execution_count": null,
   "id": "be1c98a4-088f-4dd9-97ed-a8e9b35f1898",
   "metadata": {},
   "outputs": [],
   "source": []
  },
  {
   "cell_type": "code",
   "execution_count": 31,
   "id": "8c776829-f0b8-46e6-b8d9-f2b779fdfdb6",
   "metadata": {},
   "outputs": [
    {
     "ename": "ValueError",
     "evalue": "cannot reshape array of size 48988800 into shape (180,360,21)",
     "output_type": "error",
     "traceback": [
      "\u001b[0;31m---------------------------------------------------------------------------\u001b[0m",
      "\u001b[0;31mValueError\u001b[0m                                Traceback (most recent call last)",
      "Cell \u001b[0;32mIn[31], line 1\u001b[0m\n\u001b[0;32m----> 1\u001b[0m plt\u001b[38;5;241m.\u001b[39mimshow(\u001b[43mout\u001b[49m\u001b[38;5;241;43m.\u001b[39;49m\u001b[43mreshape\u001b[49m\u001b[43m(\u001b[49m\u001b[38;5;28;43mlen\u001b[39;49m\u001b[43m(\u001b[49m\u001b[43mlatout\u001b[49m\u001b[43m)\u001b[49m\u001b[43m,\u001b[49m\u001b[43m \u001b[49m\u001b[38;5;28;43mlen\u001b[39;49m\u001b[43m(\u001b[49m\u001b[43mlonout\u001b[49m\u001b[43m)\u001b[49m\u001b[43m,\u001b[49m\u001b[43m \u001b[49m\u001b[38;5;28;43mlen\u001b[39;49m\u001b[43m(\u001b[49m\u001b[43maltout\u001b[49m\u001b[43m)\u001b[49m\u001b[43m)\u001b[49m[:,:,\u001b[38;5;241m5\u001b[39m], interpolation \u001b[38;5;241m=\u001b[39m \u001b[38;5;124m'\u001b[39m\u001b[38;5;124mbicubic\u001b[39m\u001b[38;5;124m'\u001b[39m, interpolation_stage\u001b[38;5;241m=\u001b[39m\u001b[38;5;124m'\u001b[39m\u001b[38;5;124mrgba\u001b[39m\u001b[38;5;124m'\u001b[39m)\n",
      "\u001b[0;31mValueError\u001b[0m: cannot reshape array of size 48988800 into shape (180,360,21)"
     ]
    }
   ],
   "source": [
    "plt.imshow(out.reshape(len(latout), len(lonout), len(altout))[:,:,5], interpolation = 'bicubic', interpolation_stage='rgba')"
   ]
  },
  {
   "cell_type": "code",
   "execution_count": null,
   "id": "48a3d15f-5e24-4ba4-ba1f-a03ad882de9b",
   "metadata": {},
   "outputs": [],
   "source": []
  }
 ],
 "metadata": {
  "kernelspec": {
   "display_name": "Python [conda env:simstorm]",
   "language": "python",
   "name": "conda-env-simstorm-py"
  },
  "language_info": {
   "codemirror_mode": {
    "name": "ipython",
    "version": 3
   },
   "file_extension": ".py",
   "mimetype": "text/x-python",
   "name": "python",
   "nbconvert_exporter": "python",
   "pygments_lexer": "ipython3",
   "version": "3.11.0"
  }
 },
 "nbformat": 4,
 "nbformat_minor": 5
}
