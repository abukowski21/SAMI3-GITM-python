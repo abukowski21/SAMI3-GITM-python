{
 "cells": [
  {
   "cell_type": "code",
   "execution_count": null,
   "id": "d12fc105-cf22-4f3f-9487-ba4c8af5529e",
   "metadata": {},
   "outputs": [],
   "source": [
    "# InterpolationCodeUsage.ipynb testing"
   ]
  },
  {
   "cell_type": "code",
   "execution_count": null,
   "id": "985d0546-1e47-4f5a-b91c-9f8776cf4853",
   "metadata": {},
   "outputs": [],
   "source": []
  },
  {
   "cell_type": "code",
   "execution_count": 2,
   "id": "98a7770c-eb05-4ab9-85a0-e1b556043c4f",
   "metadata": {
    "tags": []
   },
   "outputs": [
    {
     "name": "stdout",
     "output_type": "stream",
     "text": [
      "/home/pxv220016/prasoon/data/SAMI3-GITM-python\n"
     ]
    }
   ],
   "source": [
    "from utility_programs.read_routines import SAMI\n",
    "\n",
    "from scipy.spatial import Delaunay\n",
    "from scipy.interpolate import LinearNDInterpolator, griddata\n",
    "import numpy as np\n",
    "import pandas as pd\n",
    "\n",
    "\n",
    "from datetime import datetime\n",
    "from tqdm.auto import tqdm\n",
    "import xarray as xr\n",
    "\n",
    "import matplotlib.pyplot as plt\n",
    "\n",
    "import cartopy.crs as ccrs\n",
    "\n",
    "#import test_interpolate_outputs\n",
    "\n",
    "!pwd"
   ]
  },
  {
   "cell_type": "code",
   "execution_count": null,
   "id": "77397185-8305-44a9-8731-7f1b0bc2955d",
   "metadata": {
    "tags": []
   },
   "outputs": [],
   "source": [
    "# !chmod -R 770 test\n"
   ]
  },
  {
   "cell_type": "code",
   "execution_count": 4,
   "id": "c4d855f2-a77f-4e84-a0b5-305f30f2d7b1",
   "metadata": {
    "tags": []
   },
   "outputs": [
    {
     "data": {
      "text/html": [
       "<div>\n",
       "<style scoped>\n",
       "    .dataframe tbody tr th:only-of-type {\n",
       "        vertical-align: middle;\n",
       "    }\n",
       "\n",
       "    .dataframe tbody tr th {\n",
       "        vertical-align: top;\n",
       "    }\n",
       "\n",
       "    .dataframe thead th {\n",
       "        text-align: right;\n",
       "    }\n",
       "</style>\n",
       "<table border=\"1\" class=\"dataframe\">\n",
       "  <thead>\n",
       "    <tr style=\"text-align: right;\">\n",
       "      <th></th>\n",
       "      <th>glat</th>\n",
       "      <th>glon</th>\n",
       "      <th>time</th>\n",
       "      <th>sat</th>\n",
       "      <th>dayofyear</th>\n",
       "      <th>dtime</th>\n",
       "    </tr>\n",
       "  </thead>\n",
       "  <tbody>\n",
       "    <tr>\n",
       "      <th>0</th>\n",
       "      <td>2.8</td>\n",
       "      <td>261.2</td>\n",
       "      <td>0.0</td>\n",
       "      <td>16</td>\n",
       "      <td>75</td>\n",
       "      <td>2013-03-16 00:00:00</td>\n",
       "    </tr>\n",
       "    <tr>\n",
       "      <th>1</th>\n",
       "      <td>6.3</td>\n",
       "      <td>260.5</td>\n",
       "      <td>60.0</td>\n",
       "      <td>16</td>\n",
       "      <td>75</td>\n",
       "      <td>2013-03-16 00:01:00</td>\n",
       "    </tr>\n",
       "    <tr>\n",
       "      <th>2</th>\n",
       "      <td>9.8</td>\n",
       "      <td>259.7</td>\n",
       "      <td>120.0</td>\n",
       "      <td>16</td>\n",
       "      <td>75</td>\n",
       "      <td>2013-03-16 00:02:00</td>\n",
       "    </tr>\n",
       "    <tr>\n",
       "      <th>3</th>\n",
       "      <td>13.3</td>\n",
       "      <td>258.9</td>\n",
       "      <td>180.0</td>\n",
       "      <td>16</td>\n",
       "      <td>75</td>\n",
       "      <td>2013-03-16 00:03:00</td>\n",
       "    </tr>\n",
       "    <tr>\n",
       "      <th>4</th>\n",
       "      <td>16.8</td>\n",
       "      <td>258.0</td>\n",
       "      <td>240.0</td>\n",
       "      <td>16</td>\n",
       "      <td>75</td>\n",
       "      <td>2013-03-16 00:04:00</td>\n",
       "    </tr>\n",
       "    <tr>\n",
       "      <th>...</th>\n",
       "      <td>...</td>\n",
       "      <td>...</td>\n",
       "      <td>...</td>\n",
       "      <td>...</td>\n",
       "      <td>...</td>\n",
       "      <td>...</td>\n",
       "    </tr>\n",
       "    <tr>\n",
       "      <th>4315</th>\n",
       "      <td>56.7</td>\n",
       "      <td>96.1</td>\n",
       "      <td>86100.0</td>\n",
       "      <td>16</td>\n",
       "      <td>77</td>\n",
       "      <td>2013-03-18 23:55:00</td>\n",
       "    </tr>\n",
       "    <tr>\n",
       "      <th>4316</th>\n",
       "      <td>53.3</td>\n",
       "      <td>94.3</td>\n",
       "      <td>86160.0</td>\n",
       "      <td>16</td>\n",
       "      <td>77</td>\n",
       "      <td>2013-03-18 23:56:00</td>\n",
       "    </tr>\n",
       "    <tr>\n",
       "      <th>4317</th>\n",
       "      <td>49.9</td>\n",
       "      <td>92.7</td>\n",
       "      <td>86220.0</td>\n",
       "      <td>16</td>\n",
       "      <td>77</td>\n",
       "      <td>2013-03-18 23:57:00</td>\n",
       "    </tr>\n",
       "    <tr>\n",
       "      <th>4318</th>\n",
       "      <td>46.5</td>\n",
       "      <td>91.2</td>\n",
       "      <td>86280.0</td>\n",
       "      <td>16</td>\n",
       "      <td>77</td>\n",
       "      <td>2013-03-18 23:58:00</td>\n",
       "    </tr>\n",
       "    <tr>\n",
       "      <th>4319</th>\n",
       "      <td>43.0</td>\n",
       "      <td>89.9</td>\n",
       "      <td>86340.0</td>\n",
       "      <td>16</td>\n",
       "      <td>77</td>\n",
       "      <td>2013-03-18 23:59:00</td>\n",
       "    </tr>\n",
       "  </tbody>\n",
       "</table>\n",
       "<p>4320 rows × 6 columns</p>\n",
       "</div>"
      ],
      "text/plain": [
       "      glat   glon     time  sat  dayofyear                dtime\n",
       "0      2.8  261.2      0.0   16         75  2013-03-16 00:00:00\n",
       "1      6.3  260.5     60.0   16         75  2013-03-16 00:01:00\n",
       "2      9.8  259.7    120.0   16         75  2013-03-16 00:02:00\n",
       "3     13.3  258.9    180.0   16         75  2013-03-16 00:03:00\n",
       "4     16.8  258.0    240.0   16         75  2013-03-16 00:04:00\n",
       "...    ...    ...      ...  ...        ...                  ...\n",
       "4315  56.7   96.1  86100.0   16         77  2013-03-18 23:55:00\n",
       "4316  53.3   94.3  86160.0   16         77  2013-03-18 23:56:00\n",
       "4317  49.9   92.7  86220.0   16         77  2013-03-18 23:57:00\n",
       "4318  46.5   91.2  86280.0   16         77  2013-03-18 23:58:00\n",
       "4319  43.0   89.9  86340.0   16         77  2013-03-18 23:59:00\n",
       "\n",
       "[4320 rows x 6 columns]"
      ]
     },
     "execution_count": 4,
     "metadata": {},
     "output_type": "execute_result"
    }
   ],
   "source": [
    "import pandas as pd\n",
    "\n",
    "allsatdf = pd.read_csv('/petastore/phil/Prasoon_satellite_project/satfiles/20130317/DMSP_all-with_datetime.csv')\n",
    "\n",
    "firstsat = allsatdf.loc[allsatdf.sat == 16].reset_index(drop=True)\n",
    "# make sure to reset index & drop bad values, otherwise it's harder\n",
    "firstsat\n"
   ]
  },
  {
   "cell_type": "code",
   "execution_count": 5,
   "id": "a00be9d3-4f4f-4f43-87db-5dd9d40018e1",
   "metadata": {
    "tags": []
   },
   "outputs": [],
   "source": [
    "latlon = [firstsat.glat, firstsat.glon]\n",
    "latlon = np.array(latlon)\n",
    "\n",
    "# no alt in files, just assume it's 840 km. Add that to latlon object\n",
    "alt = np.array([840]) #[840 for i in range(len(latlon[0]))] # thus everywhere the 840km is set as the altitude\n",
    "\n",
    "lat = latlon[0]\n",
    "lon = latlon[1]\n",
    "\n",
    "\n",
    "# add in alt.\n",
    "# Theres's a better way to do this but I don't remember...\n",
    "latlonalt = ([lat[:], lon[:], alt])\n",
    "\n",
    "# latlonalt"
   ]
  },
  {
   "cell_type": "code",
   "execution_count": null,
   "id": "7864c744-880f-4fe7-854c-b46f684754e2",
   "metadata": {},
   "outputs": [],
   "source": []
  },
  {
   "cell_type": "code",
   "execution_count": 7,
   "id": "20b003cd-842c-4f42-89c0-64fb5e50473e",
   "metadata": {
    "tags": []
   },
   "outputs": [
    {
     "name": "stdout",
     "output_type": "stream",
     "text": [
      "attempting to reuse existing triangulation file\n"
     ]
    },
    {
     "data": {
      "application/vnd.jupyter.widget-view+json": {
       "model_id": "ad837718cd954ddcb71d16a5e359dda5",
       "version_major": 2,
       "version_minor": 0
      },
      "text/plain": [
       "Reading in SAMI data:   0%|          | 0/596 [00:00<?, ?it/s]"
      ]
     },
     "metadata": {},
     "output_type": "display_data"
    },
    {
     "data": {
      "application/vnd.jupyter.widget-view+json": {
       "model_id": "eea540955886413db710cba2a18a2e66",
       "version_major": 2,
       "version_minor": 0
      },
      "text/plain": [
       "  0%|          | 0/597 [00:00<?, ?it/s]"
      ]
     },
     "metadata": {},
     "output_type": "display_data"
    }
   ],
   "source": [
    "import interpolate_outputs\n",
    "\n",
    "# out_path = '/home/pxv220016/prasoon/data/SAMI3-GITM-python/test'\n",
    "out_path = '/petastore/phil/Prasoon_satellite_project/'\n",
    "\n",
    "sami_data_path = '/petastore/phil/Prasoon_satellite_project/more_runs/20130317/sami-gitm-coupled/'\n",
    "\n",
    "ds = interpolate_outputs.do_interpolations(sami_data_path=sami_data_path,\n",
    "                                     dtime_sim_start='20130316', #! CHANGED THIS\n",
    "                                     out_lat_lon_alt=latlonalt,\n",
    "                                     out_path=out_path,\n",
    "                                     out_runname='-at-sat_16',\n",
    "                                     save_delauney=True,\n",
    "                                     max_alt=1500, #to make running faster. Not necessary.\n",
    "                                     cols='edens',\n",
    "                                    show_progress=True,\n",
    "                                    engine='h5netcdf', #change to None if this makes errors\n",
    "                                      return_ds_too=True\n",
    "                                     )"
   ]
  },
  {
   "cell_type": "code",
   "execution_count": null,
   "id": "e3ee78f3-1a00-4d74-85c6-ce5b23ad9bf4",
   "metadata": {},
   "outputs": [],
   "source": []
  },
  {
   "cell_type": "code",
   "execution_count": null,
   "id": "c1e556dd-8898-46af-a22e-9387df0d0344",
   "metadata": {},
   "outputs": [],
   "source": [
    "ds.edens.isel(lon=300, lat=300).plot(x='time')"
   ]
  },
  {
   "cell_type": "code",
   "execution_count": null,
   "id": "b377f0c1-7bdb-4482-80b2-ed21d1ce2f4e",
   "metadata": {},
   "outputs": [],
   "source": []
  },
  {
   "cell_type": "code",
   "execution_count": null,
   "id": "59ce313a-704c-4f00-902b-2d1d0d5f1288",
   "metadata": {},
   "outputs": [],
   "source": []
  },
  {
   "cell_type": "code",
   "execution_count": null,
   "id": "06d1ebe5-c60b-4cd1-9dcd-a3e13f28d9ae",
   "metadata": {},
   "outputs": [],
   "source": []
  },
  {
   "cell_type": "code",
   "execution_count": null,
   "id": "04c2a64b-32cc-467b-acb5-69b0ec513ace",
   "metadata": {},
   "outputs": [],
   "source": [
    "#### BELOW IS JUST TO TEST THAT ds WAS WRITTEN CORRECTLY. return_ds_too ABOVE ALREADY HAS THE DATASET STORED IN MEMORY!"
   ]
  },
  {
   "cell_type": "code",
   "execution_count": 9,
   "id": "9492647a-6afb-4a87-8509-684a2e742ac2",
   "metadata": {},
   "outputs": [
    {
     "name": "stdout",
     "output_type": "stream",
     "text": [
      "/home/pxv220016/prasoon/data/SAMI3-GITM-python\n",
      "<xarray.Dataset>\n",
      "Dimensions:  (time: 597, lat: 4320, lon: 4320, alt: 1)\n",
      "Coordinates:\n",
      "  * time     (time) datetime64[ns] 2011-03-16 ... 2011-03-18T01:39:54\n",
      "  * lat      (lat) float64 2.8 6.3 9.8 13.3 16.8 ... 56.7 53.3 49.9 46.5 43.0\n",
      "  * lon      (lon) float64 261.2 260.5 259.7 258.9 258.0 ... 94.3 92.7 91.2 89.9\n",
      "  * alt      (alt) int64 840\n",
      "Data variables:\n",
      "    edens    (time, lat, lon, alt) float64 ...\n"
     ]
    }
   ],
   "source": [
    "# then read the created file with:\n",
    "\n",
    "!cd test\n",
    "!pwd\n",
    "\n",
    "import xarray as xr\n",
    "import os\n",
    "\n",
    "ds = xr.open_dataset(os.path.join(out_path, 'SAMI_REGRID-at-sat_16.nc'),\n",
    "                   engine='h5netcdf') #set engine to the same one used to calculate interpolation.\n",
    "\n",
    "print(ds)"
   ]
  },
  {
   "cell_type": "code",
   "execution_count": null,
   "id": "e2ba5cb9-28fd-4045-b6a4-d223be8f4439",
   "metadata": {},
   "outputs": [],
   "source": []
  }
 ],
 "metadata": {
  "kernelspec": {
   "display_name": "Python [conda env:.conda-py38] *",
   "language": "python",
   "name": "conda-env-.conda-py38-py"
  },
  "language_info": {
   "codemirror_mode": {
    "name": "ipython",
    "version": 3
   },
   "file_extension": ".py",
   "mimetype": "text/x-python",
   "name": "python",
   "nbconvert_exporter": "python",
   "pygments_lexer": "ipython3",
   "version": "3.8.16"
  }
 },
 "nbformat": 4,
 "nbformat_minor": 5
}
