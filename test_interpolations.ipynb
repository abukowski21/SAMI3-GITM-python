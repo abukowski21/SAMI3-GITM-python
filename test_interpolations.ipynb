{
 "cells": [
  {
   "cell_type": "code",
   "execution_count": null,
   "id": "d12fc105-cf22-4f3f-9487-ba4c8af5529e",
   "metadata": {},
   "outputs": [],
   "source": [
    "# InterpolationCodeUsage.ipynb testing"
   ]
  },
  {
   "cell_type": "code",
   "execution_count": null,
   "id": "985d0546-1e47-4f5a-b91c-9f8776cf4853",
   "metadata": {},
   "outputs": [],
   "source": []
  },
  {
   "cell_type": "code",
   "execution_count": 1,
   "id": "98a7770c-eb05-4ab9-85a0-e1b556043c4f",
   "metadata": {
    "tags": []
   },
   "outputs": [
    {
     "name": "stdout",
     "output_type": "stream",
     "text": [
      "/home/pxv220016/prasoon/data/SAMI3-GITM-python\n"
     ]
    }
   ],
   "source": [
    "from utility_programs.read_routines import SAMI\n",
    "\n",
    "from scipy.spatial import Delaunay\n",
    "from scipy.interpolate import LinearNDInterpolator, griddata\n",
    "import numpy as np\n",
    "import pandas as pd\n",
    "\n",
    "\n",
    "from datetime import datetime\n",
    "from tqdm.auto import tqdm\n",
    "import xarray as xr\n",
    "\n",
    "import matplotlib.pyplot as plt\n",
    "\n",
    "import cartopy.crs as ccrs\n",
    "\n",
    "#import test_interpolate_outputs\n",
    "\n",
    "!pwd"
   ]
  },
  {
   "cell_type": "code",
   "execution_count": null,
   "id": "77397185-8305-44a9-8731-7f1b0bc2955d",
   "metadata": {
    "tags": []
   },
   "outputs": [],
   "source": [
    "# !chmod -R 770 test\n"
   ]
  },
  {
   "cell_type": "code",
   "execution_count": 2,
   "id": "c4d855f2-a77f-4e84-a0b5-305f30f2d7b1",
   "metadata": {
    "tags": []
   },
   "outputs": [
    {
     "data": {
      "text/html": [
       "<div>\n",
       "<style scoped>\n",
       "    .dataframe tbody tr th:only-of-type {\n",
       "        vertical-align: middle;\n",
       "    }\n",
       "\n",
       "    .dataframe tbody tr th {\n",
       "        vertical-align: top;\n",
       "    }\n",
       "\n",
       "    .dataframe thead th {\n",
       "        text-align: right;\n",
       "    }\n",
       "</style>\n",
       "<table border=\"1\" class=\"dataframe\">\n",
       "  <thead>\n",
       "    <tr style=\"text-align: right;\">\n",
       "      <th></th>\n",
       "      <th>glat</th>\n",
       "      <th>glon</th>\n",
       "      <th>time</th>\n",
       "      <th>sat</th>\n",
       "      <th>dayofyear</th>\n",
       "      <th>dtime</th>\n",
       "    </tr>\n",
       "  </thead>\n",
       "  <tbody>\n",
       "    <tr>\n",
       "      <th>0</th>\n",
       "      <td>2.8</td>\n",
       "      <td>261.2</td>\n",
       "      <td>0.0</td>\n",
       "      <td>16</td>\n",
       "      <td>75</td>\n",
       "      <td>2013-03-16 00:00:00</td>\n",
       "    </tr>\n",
       "    <tr>\n",
       "      <th>1</th>\n",
       "      <td>6.3</td>\n",
       "      <td>260.5</td>\n",
       "      <td>60.0</td>\n",
       "      <td>16</td>\n",
       "      <td>75</td>\n",
       "      <td>2013-03-16 00:01:00</td>\n",
       "    </tr>\n",
       "    <tr>\n",
       "      <th>2</th>\n",
       "      <td>9.8</td>\n",
       "      <td>259.7</td>\n",
       "      <td>120.0</td>\n",
       "      <td>16</td>\n",
       "      <td>75</td>\n",
       "      <td>2013-03-16 00:02:00</td>\n",
       "    </tr>\n",
       "    <tr>\n",
       "      <th>3</th>\n",
       "      <td>13.3</td>\n",
       "      <td>258.9</td>\n",
       "      <td>180.0</td>\n",
       "      <td>16</td>\n",
       "      <td>75</td>\n",
       "      <td>2013-03-16 00:03:00</td>\n",
       "    </tr>\n",
       "    <tr>\n",
       "      <th>4</th>\n",
       "      <td>16.8</td>\n",
       "      <td>258.0</td>\n",
       "      <td>240.0</td>\n",
       "      <td>16</td>\n",
       "      <td>75</td>\n",
       "      <td>2013-03-16 00:04:00</td>\n",
       "    </tr>\n",
       "    <tr>\n",
       "      <th>...</th>\n",
       "      <td>...</td>\n",
       "      <td>...</td>\n",
       "      <td>...</td>\n",
       "      <td>...</td>\n",
       "      <td>...</td>\n",
       "      <td>...</td>\n",
       "    </tr>\n",
       "    <tr>\n",
       "      <th>4315</th>\n",
       "      <td>56.7</td>\n",
       "      <td>96.1</td>\n",
       "      <td>86100.0</td>\n",
       "      <td>16</td>\n",
       "      <td>77</td>\n",
       "      <td>2013-03-18 23:55:00</td>\n",
       "    </tr>\n",
       "    <tr>\n",
       "      <th>4316</th>\n",
       "      <td>53.3</td>\n",
       "      <td>94.3</td>\n",
       "      <td>86160.0</td>\n",
       "      <td>16</td>\n",
       "      <td>77</td>\n",
       "      <td>2013-03-18 23:56:00</td>\n",
       "    </tr>\n",
       "    <tr>\n",
       "      <th>4317</th>\n",
       "      <td>49.9</td>\n",
       "      <td>92.7</td>\n",
       "      <td>86220.0</td>\n",
       "      <td>16</td>\n",
       "      <td>77</td>\n",
       "      <td>2013-03-18 23:57:00</td>\n",
       "    </tr>\n",
       "    <tr>\n",
       "      <th>4318</th>\n",
       "      <td>46.5</td>\n",
       "      <td>91.2</td>\n",
       "      <td>86280.0</td>\n",
       "      <td>16</td>\n",
       "      <td>77</td>\n",
       "      <td>2013-03-18 23:58:00</td>\n",
       "    </tr>\n",
       "    <tr>\n",
       "      <th>4319</th>\n",
       "      <td>43.0</td>\n",
       "      <td>89.9</td>\n",
       "      <td>86340.0</td>\n",
       "      <td>16</td>\n",
       "      <td>77</td>\n",
       "      <td>2013-03-18 23:59:00</td>\n",
       "    </tr>\n",
       "  </tbody>\n",
       "</table>\n",
       "<p>4320 rows × 6 columns</p>\n",
       "</div>"
      ],
      "text/plain": [
       "      glat   glon     time  sat  dayofyear                dtime\n",
       "0      2.8  261.2      0.0   16         75  2013-03-16 00:00:00\n",
       "1      6.3  260.5     60.0   16         75  2013-03-16 00:01:00\n",
       "2      9.8  259.7    120.0   16         75  2013-03-16 00:02:00\n",
       "3     13.3  258.9    180.0   16         75  2013-03-16 00:03:00\n",
       "4     16.8  258.0    240.0   16         75  2013-03-16 00:04:00\n",
       "...    ...    ...      ...  ...        ...                  ...\n",
       "4315  56.7   96.1  86100.0   16         77  2013-03-18 23:55:00\n",
       "4316  53.3   94.3  86160.0   16         77  2013-03-18 23:56:00\n",
       "4317  49.9   92.7  86220.0   16         77  2013-03-18 23:57:00\n",
       "4318  46.5   91.2  86280.0   16         77  2013-03-18 23:58:00\n",
       "4319  43.0   89.9  86340.0   16         77  2013-03-18 23:59:00\n",
       "\n",
       "[4320 rows x 6 columns]"
      ]
     },
     "execution_count": 2,
     "metadata": {},
     "output_type": "execute_result"
    }
   ],
   "source": [
    "import pandas as pd\n",
    "\n",
    "allsatdf = pd.read_csv('/petastore/phil/Prasoon_satellite_project/satfiles/20130317/DMSP_all-with_datetime.csv')\n",
    "\n",
    "firstsat = allsatdf.loc[allsatdf.sat == 16].reset_index(drop=True)\n",
    "# make sure to reset index & drop bad values, otherwise it's harder\n",
    "firstsat\n"
   ]
  },
  {
   "cell_type": "code",
   "execution_count": 4,
   "id": "a00be9d3-4f4f-4f43-87db-5dd9d40018e1",
   "metadata": {
    "tags": []
   },
   "outputs": [
    {
     "data": {
      "text/plain": [
       "[array([ 2.8,  6.3,  9.8, ..., 49.9, 46.5, 43. ]),\n",
       " array([261.2, 260.5, 259.7, ...,  92.7,  91.2,  89.9]),\n",
       " array([840])]"
      ]
     },
     "execution_count": 4,
     "metadata": {},
     "output_type": "execute_result"
    }
   ],
   "source": [
    "latlon = [firstsat.glat, firstsat.glon]\n",
    "latlon = np.array(latlon)\n",
    "\n",
    "# no alt in files, just assume it's 840 km. Add that to latlon object\n",
    "alt = np.array([840]) #[840 for i in range(len(latlon[0]))] # thus everywhere the 840km is set as the altitude\n",
    "\n",
    "lat = latlon[0]\n",
    "lon = latlon[1]\n",
    "\n",
    "\n",
    "# add in alt.\n",
    "# Theres's a better way to do this but I don't remember...\n",
    "latlonalt = ([lat[:], lon[:], alt])\n",
    "\n",
    "latlonalt"
   ]
  },
  {
   "cell_type": "code",
   "execution_count": null,
   "id": "7864c744-880f-4fe7-854c-b46f684754e2",
   "metadata": {},
   "outputs": [],
   "source": []
  },
  {
   "cell_type": "code",
   "execution_count": 5,
   "id": "20b003cd-842c-4f42-89c0-64fb5e50473e",
   "metadata": {
    "tags": []
   },
   "outputs": [
    {
     "name": "stdout",
     "output_type": "stream",
     "text": [
      "attempting to reuse existing triangulation file\n"
     ]
    },
    {
     "data": {
      "application/vnd.jupyter.widget-view+json": {
       "model_id": "9dc6e9ca61b5415a80a73b3f6dcc33c9",
       "version_major": 2,
       "version_minor": 0
      },
      "text/plain": [
       "Reading in SAMI data:   0%|          | 0/596 [00:00<?, ?it/s]"
      ]
     },
     "metadata": {},
     "output_type": "display_data"
    },
    {
     "data": {
      "application/vnd.jupyter.widget-view+json": {
       "model_id": "3d3a2e170761495eb2b5877dc3ac0ed9",
       "version_major": 2,
       "version_minor": 0
      },
      "text/plain": [
       "  0%|          | 0/597 [00:00<?, ?it/s]"
      ]
     },
     "metadata": {},
     "output_type": "display_data"
    },
    {
     "ename": "UnboundLocalError",
     "evalue": "cannot access local variable 'altout' where it is not associated with a value",
     "output_type": "error",
     "traceback": [
      "\u001b[0;31m---------------------------------------------------------------------------\u001b[0m",
      "\u001b[0;31mUnboundLocalError\u001b[0m                         Traceback (most recent call last)",
      "Cell \u001b[0;32mIn[5], line 8\u001b[0m\n\u001b[1;32m      4\u001b[0m out_path \u001b[38;5;241m=\u001b[39m \u001b[38;5;124m'\u001b[39m\u001b[38;5;124m/petastore/phil/Prasoon_satellite_project/\u001b[39m\u001b[38;5;124m'\u001b[39m\n\u001b[1;32m      6\u001b[0m sami_data_path \u001b[38;5;241m=\u001b[39m \u001b[38;5;124m'\u001b[39m\u001b[38;5;124m/petastore/phil/Prasoon_satellite_project/more_runs/20130317/sami-gitm-coupled/\u001b[39m\u001b[38;5;124m'\u001b[39m\n\u001b[0;32m----> 8\u001b[0m ds \u001b[38;5;241m=\u001b[39m interpolate_outputs\u001b[38;5;241m.\u001b[39mdo_interpolations(sami_data_path\u001b[38;5;241m=\u001b[39msami_data_path,\n\u001b[1;32m      9\u001b[0m                                      dtime_sim_start\u001b[38;5;241m=\u001b[39m\u001b[38;5;124m'\u001b[39m\u001b[38;5;124m20130316\u001b[39m\u001b[38;5;124m'\u001b[39m,\n\u001b[1;32m     10\u001b[0m                                      out_lat_lon_alt\u001b[38;5;241m=\u001b[39mlatlonalt,\n\u001b[1;32m     11\u001b[0m                                      out_path\u001b[38;5;241m=\u001b[39mout_path,\n\u001b[1;32m     12\u001b[0m                                      out_runname\u001b[38;5;241m=\u001b[39m\u001b[38;5;124m'\u001b[39m\u001b[38;5;124m-at-sat_16\u001b[39m\u001b[38;5;124m'\u001b[39m,\n\u001b[1;32m     13\u001b[0m                                      save_delauney\u001b[38;5;241m=\u001b[39m\u001b[38;5;28;01mTrue\u001b[39;00m,\n\u001b[1;32m     14\u001b[0m                                      max_alt\u001b[38;5;241m=\u001b[39m\u001b[38;5;241m1500\u001b[39m, \u001b[38;5;66;03m#to make running faster. Not necessary.\u001b[39;00m\n\u001b[1;32m     15\u001b[0m                                      cols\u001b[38;5;241m=\u001b[39m\u001b[38;5;124m'\u001b[39m\u001b[38;5;124medens\u001b[39m\u001b[38;5;124m'\u001b[39m,\n\u001b[1;32m     16\u001b[0m                                     show_progress\u001b[38;5;241m=\u001b[39m\u001b[38;5;28;01mTrue\u001b[39;00m,\n\u001b[1;32m     17\u001b[0m                                     engine\u001b[38;5;241m=\u001b[39m\u001b[38;5;124m'\u001b[39m\u001b[38;5;124mh5netcdf\u001b[39m\u001b[38;5;124m'\u001b[39m, \u001b[38;5;66;03m#change to None if this makes errors\u001b[39;00m\n\u001b[1;32m     18\u001b[0m                                       return_ds_too\u001b[38;5;241m=\u001b[39m\u001b[38;5;28;01mTrue\u001b[39;00m\n\u001b[1;32m     19\u001b[0m                                      )\n",
      "File \u001b[0;32m~/prasoon/data/SAMI3-GITM-python/interpolate_outputs.py:235\u001b[0m, in \u001b[0;36mdo_interpolations\u001b[0;34m(sami_data_path, dtime_sim_start, gitm_data_path, gitm_output_each_var, gitm_output_each_time, out_lat_lon_alt, out_path, out_runname, save_delauney, max_alt, cols, show_progress, engine, return_ds_too)\u001b[0m\n\u001b[1;32m    231\u001b[0m \u001b[38;5;28;01mif\u001b[39;00m show_progress:\n\u001b[1;32m    232\u001b[0m     pbar\u001b[38;5;241m.\u001b[39mset_description(\u001b[38;5;124m'\u001b[39m\u001b[38;5;124mwriting Dataset...\u001b[39m\u001b[38;5;124m'\u001b[39m)\n\u001b[1;32m    233\u001b[0m ds \u001b[38;5;241m=\u001b[39m xr\u001b[38;5;241m.\u001b[39mDataset(coords\u001b[38;5;241m=\u001b[39m{\n\u001b[1;32m    234\u001b[0m     \u001b[38;5;124m'\u001b[39m\u001b[38;5;124mtime\u001b[39m\u001b[38;5;124m'\u001b[39m: ([\u001b[38;5;124m'\u001b[39m\u001b[38;5;124mtime\u001b[39m\u001b[38;5;124m'\u001b[39m], times),\n\u001b[0;32m--> 235\u001b[0m     \u001b[38;5;124m'\u001b[39m\u001b[38;5;124malt\u001b[39m\u001b[38;5;124m'\u001b[39m: ([\u001b[38;5;124m'\u001b[39m\u001b[38;5;124malt\u001b[39m\u001b[38;5;124m'\u001b[39m], altout),\n\u001b[1;32m    236\u001b[0m     \u001b[38;5;124m'\u001b[39m\u001b[38;5;124mlat\u001b[39m\u001b[38;5;124m'\u001b[39m: ([\u001b[38;5;124m'\u001b[39m\u001b[38;5;124mlat\u001b[39m\u001b[38;5;124m'\u001b[39m], latout),\n\u001b[1;32m    237\u001b[0m     \u001b[38;5;124m'\u001b[39m\u001b[38;5;124mlon\u001b[39m\u001b[38;5;124m'\u001b[39m: ([\u001b[38;5;124m'\u001b[39m\u001b[38;5;124mlon\u001b[39m\u001b[38;5;124m'\u001b[39m], lonout)},)\n\u001b[1;32m    238\u001b[0m ds[data_var] \u001b[38;5;241m=\u001b[39m ((\u001b[38;5;124m'\u001b[39m\u001b[38;5;124mtime\u001b[39m\u001b[38;5;124m'\u001b[39m, \u001b[38;5;124m'\u001b[39m\u001b[38;5;124mlat\u001b[39m\u001b[38;5;124m'\u001b[39m, \u001b[38;5;124m'\u001b[39m\u001b[38;5;124mlon\u001b[39m\u001b[38;5;124m'\u001b[39m, \u001b[38;5;124m'\u001b[39m\u001b[38;5;124malt\u001b[39m\u001b[38;5;124m'\u001b[39m),\n\u001b[1;32m    239\u001b[0m                 np\u001b[38;5;241m.\u001b[39marray(interpd)\u001b[38;5;241m.\u001b[39mreshape(\n\u001b[1;32m    240\u001b[0m     \u001b[38;5;28mlen\u001b[39m(times),\n\u001b[1;32m    241\u001b[0m     \u001b[38;5;28mlen\u001b[39m(latout),\n\u001b[1;32m    242\u001b[0m     \u001b[38;5;28mlen\u001b[39m(lonout),\n\u001b[1;32m    243\u001b[0m     \u001b[38;5;28mlen\u001b[39m(altout)))\n\u001b[1;32m    244\u001b[0m ds\u001b[38;5;241m.\u001b[39mto_netcdf(os\u001b[38;5;241m.\u001b[39mpath\u001b[38;5;241m.\u001b[39mjoin(\n\u001b[1;32m    245\u001b[0m     out_path, \u001b[38;5;124m'\u001b[39m\u001b[38;5;124mSAMI_REGRID\u001b[39m\u001b[38;5;124m'\u001b[39m \u001b[38;5;241m+\u001b[39m out_runname \u001b[38;5;241m+\u001b[39m \u001b[38;5;124m'\u001b[39m\u001b[38;5;124m.nc\u001b[39m\u001b[38;5;124m'\u001b[39m),\n\u001b[1;32m    246\u001b[0m     engine\u001b[38;5;241m=\u001b[39mengine,\n\u001b[1;32m    247\u001b[0m     mode\u001b[38;5;241m=\u001b[39m\u001b[38;5;124m'\u001b[39m\u001b[38;5;124mw\u001b[39m\u001b[38;5;124m'\u001b[39m \u001b[38;5;28;01mif\u001b[39;00m first \u001b[38;5;28;01melse\u001b[39;00m \u001b[38;5;124m'\u001b[39m\u001b[38;5;124ma\u001b[39m\u001b[38;5;124m'\u001b[39m,\n\u001b[1;32m    248\u001b[0m     encoding\u001b[38;5;241m=\u001b[39m{\u001b[38;5;124m'\u001b[39m\u001b[38;5;124mtime\u001b[39m\u001b[38;5;124m'\u001b[39m: {\u001b[38;5;124m'\u001b[39m\u001b[38;5;124mdtype\u001b[39m\u001b[38;5;124m'\u001b[39m: \u001b[38;5;28mfloat\u001b[39m}})\n",
      "\u001b[0;31mUnboundLocalError\u001b[0m: cannot access local variable 'altout' where it is not associated with a value"
     ]
    }
   ],
   "source": [
    "import interpolate_outputs\n",
    "\n",
    "# out_path = '/home/pxv220016/prasoon/data/SAMI3-GITM-python/test'\n",
    "out_path = '/petastore/phil/Prasoon_satellite_project/'\n",
    "\n",
    "sami_data_path = '/petastore/phil/Prasoon_satellite_project/more_runs/20130317/sami-gitm-coupled/'\n",
    "\n",
    "ds = interpolate_outputs.do_interpolations(sami_data_path=sami_data_path,\n",
    "                                     dtime_sim_start='20130316',\n",
    "                                     out_lat_lon_alt=latlonalt,\n",
    "                                     out_path=out_path,\n",
    "                                     out_runname='-at-sat_16',\n",
    "                                     save_delauney=True,\n",
    "                                     max_alt=1500, #to make running faster. Not necessary.\n",
    "                                     cols='edens',\n",
    "                                    show_progress=True,\n",
    "                                    engine='h5netcdf', #change to None if this makes errors\n",
    "                                      return_ds_too=True\n",
    "                                     )"
   ]
  },
  {
   "cell_type": "code",
   "execution_count": null,
   "id": "e3ee78f3-1a00-4d74-85c6-ce5b23ad9bf4",
   "metadata": {},
   "outputs": [],
   "source": []
  },
  {
   "cell_type": "code",
   "execution_count": 9,
   "id": "9492647a-6afb-4a87-8509-684a2e742ac2",
   "metadata": {},
   "outputs": [
    {
     "name": "stdout",
     "output_type": "stream",
     "text": [
      "/home/pxv220016/prasoon/data/SAMI3-GITM-python\n",
      "<xarray.Dataset>\n",
      "Dimensions:  (time: 597, lat: 4320, lon: 4320, alt: 1)\n",
      "Coordinates:\n",
      "  * time     (time) datetime64[ns] 2011-03-16 ... 2011-03-18T01:39:54\n",
      "  * lat      (lat) float64 2.8 6.3 9.8 13.3 16.8 ... 56.7 53.3 49.9 46.5 43.0\n",
      "  * lon      (lon) float64 261.2 260.5 259.7 258.9 258.0 ... 94.3 92.7 91.2 89.9\n",
      "  * alt      (alt) int64 840\n",
      "Data variables:\n",
      "    edens    (time, lat, lon, alt) float64 ...\n"
     ]
    }
   ],
   "source": [
    "# then read the created file with:\n",
    "\n",
    "!cd test\n",
    "!pwd\n",
    "\n",
    "import xarray as xr\n",
    "import os\n",
    "\n",
    "ds = xr.open_dataset(os.path.join(out_path, 'SAMI_REGRID-at-sat_16.nc'),\n",
    "                   engine='h5netcdf') #set engine to the same one used to calculate interpolation.\n",
    "\n",
    "print(ds)"
   ]
  },
  {
   "cell_type": "code",
   "execution_count": null,
   "id": "e2ba5cb9-28fd-4045-b6a4-d223be8f4439",
   "metadata": {},
   "outputs": [],
   "source": []
  },
  {
   "cell_type": "code",
   "execution_count": null,
   "id": "34b546af-4af3-4312-a74e-2a79ba802d34",
   "metadata": {},
   "outputs": [],
   "source": []
  },
  {
   "cell_type": "code",
   "execution_count": null,
   "id": "d5b52f84-e8af-473d-bc25-cd87108a609a",
   "metadata": {},
   "outputs": [],
   "source": []
  },
  {
   "cell_type": "code",
   "execution_count": null,
   "id": "359a1f6f-a74c-437b-9f8d-84f6af1fb5e6",
   "metadata": {},
   "outputs": [],
   "source": []
  },
  {
   "cell_type": "code",
   "execution_count": null,
   "id": "64505410-9543-4ade-9cba-ce115d81fe33",
   "metadata": {},
   "outputs": [],
   "source": []
  },
  {
   "cell_type": "code",
   "execution_count": null,
   "id": "47da40f8-b2e6-4553-99fb-ac1608eaa18b",
   "metadata": {},
   "outputs": [],
   "source": []
  },
  {
   "cell_type": "code",
   "execution_count": null,
   "id": "def97def-537f-4bd3-99e6-438a1c4c1ccb",
   "metadata": {},
   "outputs": [],
   "source": []
  },
  {
   "cell_type": "code",
   "execution_count": null,
   "id": "53a56515-f3d3-424e-aee9-d1caa21d2be3",
   "metadata": {},
   "outputs": [],
   "source": []
  },
  {
   "cell_type": "code",
   "execution_count": null,
   "id": "7c663473-5430-443e-8fc6-7661d498ddb2",
   "metadata": {},
   "outputs": [],
   "source": []
  },
  {
   "cell_type": "code",
   "execution_count": null,
   "id": "fe5bc2eb-fa44-4f85-b912-355dcdd26459",
   "metadata": {},
   "outputs": [],
   "source": [
    "import importlib\n",
    "import interpolate_outputs"
   ]
  },
  {
   "cell_type": "code",
   "execution_count": null,
   "id": "523b8169-433a-45f7-b9fe-f36aef7da7e8",
   "metadata": {},
   "outputs": [],
   "source": [
    "ds = interpolate_outputs.do_interpolate([...], return_ds_too = True)"
   ]
  },
  {
   "cell_type": "code",
   "execution_count": null,
   "id": "43159381-de36-4e8f-8546-f43412e1a365",
   "metadata": {},
   "outputs": [],
   "source": [
    "ds.edens.sel(alt=300, time = \"YYYMMMDDD HH:MM:SS\", method='nearest').plot(x='lon', y='lat')"
   ]
  },
  {
   "cell_type": "code",
   "execution_count": null,
   "id": "74dd5c69-e152-4f3e-9805-8aa5767525fb",
   "metadata": {},
   "outputs": [],
   "source": [
    "ds.edens.integrate('alt').sel(time = \"YYYMMMDDD HH:MM:SS\", method='nearest').plot(x='lon', y='lat')"
   ]
  },
  {
   "cell_type": "code",
   "execution_count": null,
   "id": "53571a19-739b-429b-9290-91c60e670391",
   "metadata": {},
   "outputs": [],
   "source": []
  },
  {
   "cell_type": "code",
   "execution_count": null,
   "id": "ae91ed13-f399-4689-9b94-54e456e880c9",
   "metadata": {},
   "outputs": [],
   "source": [
    "del ds"
   ]
  },
  {
   "cell_type": "code",
   "execution_count": null,
   "id": "8b930695-5ca1-4188-a0f8-e4a49981abb2",
   "metadata": {},
   "outputs": [],
   "source": [
    "ds = xr.open_mfdataset('[.....]SAMI_REGRID.nc')"
   ]
  },
  {
   "cell_type": "code",
   "execution_count": null,
   "id": "d11d63ec-fd62-4e71-8de1-e1622d4196f6",
   "metadata": {},
   "outputs": [],
   "source": [
    "ds.edens.sel(alt=300, time = \"YYYMMMDDD HH:MM:SS\", method='nearest').plot(x='lon', y='lat')"
   ]
  },
  {
   "cell_type": "code",
   "execution_count": null,
   "id": "39134df5-efd1-4375-8395-d65846ea64b5",
   "metadata": {},
   "outputs": [],
   "source": [
    "ds.edens.integrate('alt').sel(time = \"YYYMMMDDD HH:MM:SS\", method='nearest').plot(x='lon', y='lat')"
   ]
  },
  {
   "cell_type": "code",
   "execution_count": null,
   "id": "89836e67-927f-4a97-86a1-3087a4765d42",
   "metadata": {},
   "outputs": [],
   "source": []
  },
  {
   "cell_type": "code",
   "execution_count": null,
   "id": "7942a156-e73e-4764-8fd3-f5c5d655e8a5",
   "metadata": {},
   "outputs": [],
   "source": [
    "interpolate_outputs = importlib.reload(interpolate_outputs)\n",
    "interpolate_outputs.do_interpolate([...], return_ds_too = False)\n",
    "ds = xr.open_mfdataset('[.....]SAMI_REGRID.nc')\n",
    "\n"
   ]
  },
  {
   "cell_type": "code",
   "execution_count": null,
   "id": "36c8561e-e3e5-4a11-9af8-74fc15e193aa",
   "metadata": {},
   "outputs": [],
   "source": [
    "ds.edens.sel(alt=300, time = \"YYYMMMDDD HH:MM:SS\", method='nearest').plot(x='lon', y='lat')"
   ]
  },
  {
   "cell_type": "code",
   "execution_count": null,
   "id": "a0fb027c-f85a-4733-8394-0ef078c1461b",
   "metadata": {},
   "outputs": [],
   "source": [
    "ds.edens.integrate('alt').sel(time = \"YYYMMMDDD HH:MM:SS\", method='nearest').plot(x='lon', y='lat')"
   ]
  },
  {
   "cell_type": "code",
   "execution_count": null,
   "id": "3f49aeff-2da5-4bc2-b606-2b96498217a5",
   "metadata": {},
   "outputs": [],
   "source": []
  },
  {
   "cell_type": "code",
   "execution_count": null,
   "id": "c50845bd-a2c6-4cee-a18f-2e77819ba100",
   "metadata": {},
   "outputs": [],
   "source": []
  },
  {
   "cell_type": "code",
   "execution_count": 2,
   "id": "d735b764-3325-439f-a8cc-0debd0906cd2",
   "metadata": {},
   "outputs": [
    {
     "ename": "IndentationError",
     "evalue": "unindent does not match any outer indentation level (<tokenize>, line 107)",
     "output_type": "error",
     "traceback": [
      "\u001b[0;36m  File \u001b[0;32m<tokenize>:107\u001b[0;36m\u001b[0m\n\u001b[0;31m    out_lats = []\u001b[0m\n\u001b[0m    ^\u001b[0m\n\u001b[0;31mIndentationError\u001b[0m\u001b[0;31m:\u001b[0m unindent does not match any outer indentation level\n"
     ]
    }
   ],
   "source": [
    "def do_interpolations(\n",
    "    sami_data_path=None,\n",
    "    dtime_sim_start=None,\n",
    "    gitm_data_path=None,\n",
    "    gitm_output_each_var=True,\n",
    "    gitm_output_each_time=False,\n",
    "    out_lat_lon_alt=None,\n",
    "    out_path=None,\n",
    "    out_runname='',\n",
    "    save_delauney=False,\n",
    "    max_alt=None,\n",
    "    cols='all',\n",
    "    show_progress=False,\n",
    "    engine='h5netcdf',\n",
    "    return_ds_too=False,\n",
    "):\n",
    "    \"\"\"Interpolate SAMI (GITM functionality not done yet) to either a\n",
    "        standard geographic grid or to user-defined points.\n",
    "\n",
    "    Args:\n",
    "        sami_data_math (string): path to sami data.\n",
    "        dtime_sim_start (string/datetime.datetime): Start time of simulation.\n",
    "            Required to read SAMI data. Can be str (YYYYMMDD) or a pre-computed\n",
    "            datetime object.\n",
    "        gitm_data_path (string): path to gitm data.\n",
    "        gitm_output_each_var (bool): If True, output each variable to a\n",
    "            separate file. Requires looping through the GITM output files\n",
    "            multiple times. If False, gitm_output_each_time must be True.\n",
    "        gitm_output_each_time (bool): If True, output each time to a separate\n",
    "            file. Will run faster for all variables than gitm_output_each_var,\n",
    "            but will include variables the user does not care for.\n",
    "        out_lat_lon_alt (numpy.array): Coordinates to interpolate to.\n",
    "            Must have dimenstions 3xN, where N is number of points.\n",
    "            Will be converted to cartesian coordinates.\n",
    "            Lon and Lat in degrees, Alt in km above earth surface.\n",
    "        out_path (str): Path to save regridded to.\n",
    "            Default is same as MODEL_data_path.\n",
    "        out_runname (str): Descriptive name for output file. Appended to\n",
    "            out_path + SAMI_REGRID.\n",
    "        save_delauney (bool): Option to save/read delauney weights from file.\n",
    "            It takes a while to compute them. Weight file is saved to the\n",
    "            sami_data_path path with a specification of the max_alt.\n",
    "            Setting to True allows the program to read weights as well as save\n",
    "            them.\n",
    "        max_alt (int): specify maximum altitude of data grid to feed in to\n",
    "            delauney calculations. Useful if you don't want to recalculate\n",
    "            weights and the interpoaltion is different from one already done.\n",
    "        cols (str/list-like): Which variables to interpolate. Default is 'all'.\n",
    "            Can be any str from\n",
    "            utility_programs.read_routines.SAMI.sami_og_vars.\n",
    "        show_progress (bool): Show progressbars? Default: False\n",
    "            Requires tqdm.\n",
    "        engine (str): Which engine to use when writing netcdf files.\n",
    "            Default is 'h5netcdf' but can cause some issues on some systems and\n",
    "            some python environments. Set to None to use default xarray engine.\n",
    "        return_ds_too (bool): Set to True to also return the interpolated\n",
    "            dataset.\n",
    "            !! Does not support multiple variables.\n",
    "            !! ONLY works for SAMI (currently).\n",
    "\n",
    "\n",
    "    Returns:\n",
    "        Nothing. Unless return_ds_too == True\n",
    "            - The interpolated data is written to a file.\n",
    "    \"\"\"\n",
    "    if sami_data_path is not None and gitm_data_path is not None:\n",
    "        raise ValueError('Only one of sami_data_path or gitm_data_path can be'\n",
    "                         ' specified at a time.')\n",
    "\n",
    "    if out_path is None:\n",
    "        if sami_data_path is not None:\n",
    "            out_path = sami_data_path\n",
    "        else:\n",
    "            out_path = gitm_data_path\n",
    "\n",
    "    # outputs...\n",
    "    if out_lat_lon_alt is None:\n",
    "        latout = np.arange(-90, 90, 2)\n",
    "        lonout = np.arange(0, 360, 5)\n",
    "        if sami_data_path is not None:\n",
    "            altout = np.arange(200, 2200, 50)\n",
    "        else:\n",
    "            altout = np.arange(120, 670, 50)\n",
    "        out_lats = []\n",
    "        out_lons = []\n",
    "        out_alts = []\n",
    "\n",
    "        for a in latout:\n",
    "            for o in lonout:\n",
    "                for l1 in altout:\n",
    "                    out_lats.append(a)\n",
    "                    out_lons.append(o)\n",
    "                    out_alts.append(l1)\n",
    "\n",
    "        out_lat_lon_alt = latlonalt_to_cart(\n",
    "            out_lats, out_lons, np.array(out_alts) + 6371)\n",
    "    else:\n",
    "<<<<<<< HEAD\n",
    "        out_lat_lon_alt = latlonalt_to_cart(\n",
    "            out_lat_lon_alt[0], out_lat_lon_alt[1],\n",
    "            np.array(out_lat_lon_alt[2]) + 6371)\n",
    "=======\n",
    "        latout = np.array(out_lat_lon_alt[0])\n",
    "        lonout = np.array(out_lat_lon_alt[1])\n",
    "        altout = np.array(out_lat_lon_alt[2])\n",
    "\n",
    "    out_lats = []\n",
    "    out_lons = []\n",
    "    out_alts = []\n",
    "\n",
    "    for a in latout:\n",
    "        for o in lonout:\n",
    "            for l1 in altout:\n",
    "                out_lats.append(a)\n",
    "                out_lons.append(o)\n",
    "                out_alts.append(l1)\n",
    "\n",
    "    out_lat_lon_alt = gps_to_ecef_custom(\n",
    "        out_lons, out_lats, out_alts)\n",
    ">>>>>>> 548a59d664ddd861776d5dfd38fafee4f0fddf7f\n",
    "\n",
    "    # deal with sami first\n",
    "    if sami_data_path is not None:\n",
    "\n",
    "        if isinstance(dtime_sim_start, str):\n",
    "            dtime_sim_start = str_to_ut(dtime_sim_start)\n",
    "\n",
    "        nz, nf, nlt, nt = SAMI.get_grid_elems_from_parammod(sami_data_path)\n",
    "        # old_shape = [nlt, nf, nz]\n",
    "        grid = SAMI.get_sami_grid(sami_data_path, nlt, nf, nz)\n",
    "\n",
    "        # specify max alt to build delauney at\n",
    "        if max_alt is None:\n",
    "            if out_lat_lon_alt is not None:\n",
    "                # alt will be the biggest coord:\n",
    "                max_alt = np.max(out_lat_lon_alt) + 300\n",
    "                # add 300 to make sure we have enough points above top\n",
    "            else:\n",
    "                max_alt = 2500\n",
    "\n",
    "        mask = np.where(grid['alt'] < max_alt)\n",
    "        grid2 = {}\n",
    "        for k in grid.keys():\n",
    "            grid2[k] = grid[k][mask].flatten()\n",
    "        del grid\n",
    "\n",
    "        in_cart = gps_to_ecef_custom(grid2['glon'],\n",
    "                                    grid2['glat'],\n",
    "                                    grid2['alt']).T\n",
    "\n",
    "        if os.path.exists(os.path.join(sami_data_path,\n",
    "                                       'delauney_max-%i.pkl' % max_alt)):\n",
    "            if save_delauney:\n",
    "                print('attempting to reuse existing triangulation file')\n",
    "                with open(os.path.join(\n",
    "                        sami_data_path, 'delauney_max-%i.pkl' % max_alt),\n",
    "                        'rb') as f:\n",
    "                    tri = pickle.load(f)\n",
    "            else:\n",
    "                print('Found existing triangulation file. Recalculating...',\n",
    "                      '\\n(Specify save_delauney=True to reuse)')\n",
    "                tri = Delaunay(in_cart)\n",
    "        else:\n",
    "            print('Calculating Delauney Triangulation..')\n",
    "            tri = Delaunay(in_cart)\n",
    "            if save_delauney:\n",
    "                print('Saving')\n",
    "                with open(os.path.join(sami_data_path,\n",
    "                                       'delauney_max-%i.pkl' % max_alt),\n",
    "                          'wb') as f:\n",
    "                    pickle.dump(tri, f)\n",
    "\n",
    "        # format 'cols' variable\n",
    "        if cols == 'all':\n",
    "            cols = SAMI.sami_og_vars.items()\n",
    "        else:\n",
    "            if isinstance(cols, str):\n",
    "                cols = [cols]\n",
    "            else:\n",
    "                cols = np.asarray(cols)\n",
    "\n",
    "        if show_progress:\n",
    "            pbar = tqdm(total=len(cols) * nt,\n",
    "                        desc='Reading in SAMI data')\n",
    "\n",
    "        first = True  # for choosing which mode to write\n",
    "        for data_var in cols:\n",
    "            interpd = []\n",
    "            data, times = SAMI.read_to_nparray(\n",
    "                sami_data_path, dtime_sim_start,\n",
    "                cols=data_var,\n",
    "                skip_time_check=True)\n",
    "\n",
    "            if show_progress:\n",
    "                pbar.set_description('interpolating')\n",
    "            for t in range(len(times)):\n",
    "                interp = LinearNDInterpolator(\n",
    "                    tri,\n",
    "                    data['data'][data_var][:, :, :, t][mask].flatten())\n",
    "                interpd.append(interp(out_lat_lon_alt.T))\n",
    "                if show_progress:\n",
    "                    pbar.update()\n",
    "            if show_progress:\n",
    "                pbar.set_description('writing Dataset...')\n",
    "            ds = xr.Dataset(coords={\n",
    "                'time': (['time'], times),\n",
    "                'alt': (['alt'], altout),\n",
    "                'lat': (['lat'], latout),\n",
    "                'lon': (['lon'], lonout)},)\n",
    "            ds[data_var] = (('time', 'lat', 'lon', 'alt'),\n",
    "                            np.array(interpd).reshape(\n",
    "                len(times),\n",
    "                len(latout),\n",
    "                len(lonout),\n",
    "                len(altout)))\n",
    "            if out_runname != '':\n",
    "                out_runname = '_' + out_runname + '_'\n",
    "            ds.to_netcdf(os.path.join(\n",
    "                out_path, 'SAMI_REGRID' + out_runname + '.nc'),\n",
    "                engine=engine,\n",
    "                mode='w' if first else 'a',\n",
    "                encoding={'time': {'dtype': float}})\n",
    "            print('done')\n",
    "            first = False\n",
    "            if return_ds_too:\n",
    "                return ds\n",
    "            del ds, interpd, data  # clean up memory"
   ]
  },
  {
   "cell_type": "code",
   "execution_count": 3,
   "id": "a8355c87-d4fa-4c0c-8b63-a03125604a0c",
   "metadata": {},
   "outputs": [
    {
     "ename": "NameError",
     "evalue": "name 'do_interpolate' is not defined",
     "output_type": "error",
     "traceback": [
      "\u001b[0;31m---------------------------------------------------------------------------\u001b[0m",
      "\u001b[0;31mNameError\u001b[0m                                 Traceback (most recent call last)",
      "Cell \u001b[0;32mIn[3], line 1\u001b[0m\n\u001b[0;32m----> 1\u001b[0m \u001b[43mdo_interpolate\u001b[49m([\u001b[38;5;241m.\u001b[39m\u001b[38;5;241m.\u001b[39m\u001b[38;5;241m.\u001b[39m], return_ds_too \u001b[38;5;241m=\u001b[39m \u001b[38;5;28;01mFalse\u001b[39;00m)\n\u001b[1;32m      2\u001b[0m ds \u001b[38;5;241m=\u001b[39m xr\u001b[38;5;241m.\u001b[39mopen_mfdataset(\u001b[38;5;124m'\u001b[39m\u001b[38;5;124m[.....]SAMI_REGRID.nc\u001b[39m\u001b[38;5;124m'\u001b[39m)\n",
      "\u001b[0;31mNameError\u001b[0m: name 'do_interpolate' is not defined"
     ]
    }
   ],
   "source": [
    "\n",
    "do_interpolate([...], return_ds_too = False)\n",
    "ds = xr.open_mfdataset('[.....]SAMI_REGRID.nc')\n",
    "\n"
   ]
  },
  {
   "cell_type": "code",
   "execution_count": null,
   "id": "d7aa1d08-f9ad-460a-83ed-4d31be757d7c",
   "metadata": {},
   "outputs": [],
   "source": []
  },
  {
   "cell_type": "code",
   "execution_count": null,
   "id": "ddcb4a15-8d58-40f3-96a8-78abfaabf4c0",
   "metadata": {},
   "outputs": [],
   "source": []
  }
 ],
 "metadata": {
  "kernelspec": {
   "display_name": "Python [conda env:.conda-py38] *",
   "language": "python",
   "name": "conda-env-.conda-py38-py"
  },
  "language_info": {
   "codemirror_mode": {
    "name": "ipython",
    "version": 3
   },
   "file_extension": ".py",
   "mimetype": "text/x-python",
   "name": "python",
   "nbconvert_exporter": "python",
   "pygments_lexer": "ipython3",
   "version": "3.8.16"
  }
 },
 "nbformat": 4,
 "nbformat_minor": 5
}
