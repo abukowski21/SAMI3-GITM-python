{
 "cells": [
  {
   "cell_type": "code",
   "execution_count": 1,
   "id": "3ad59d74-7ead-455f-9599-768646b1f3c4",
   "metadata": {},
   "outputs": [],
   "source": [
    "import os\n",
    "import glob\n",
    "from datetime import datetime\n",
    "import basic_plots_from_netcdf\n",
    "\n",
    "from utility_programs.utils import get_var_names, str_to_ut\n",
    "import numpy as np\n",
    "import xarray as xr\n",
    "from cartopy import crs as ccrs\n",
    "import matplotlib.pyplot as plt\n",
    "import gc"
   ]
  },
  {
   "cell_type": "code",
   "execution_count": null,
   "id": "90bd1ce8-b678-4c8d-80f0-92b133a73e6f",
   "metadata": {},
   "outputs": [],
   "source": []
  },
  {
   "cell_type": "markdown",
   "id": "06d4216f-db1b-4b1c-b202-de5e040be078",
   "metadata": {},
   "source": [
    "# Settings"
   ]
  },
  {
   "cell_type": "code",
   "execution_count": 2,
   "id": "05a71e65-b243-4b25-9bb6-8e0cbfeb3627",
   "metadata": {},
   "outputs": [],
   "source": [
    "top_path = '/glade/u/home/abukowski/scratch/simstorm-20111121/postprocessed/'"
   ]
  },
  {
   "cell_type": "code",
   "execution_count": 3,
   "id": "8b28cedf-47ff-4251-97d9-02f6599fe49b",
   "metadata": {},
   "outputs": [],
   "source": [
    "out_dir = '/glade/u/home/abukowski/plots/gitm-rho-movies/'"
   ]
  },
  {
   "cell_type": "code",
   "execution_count": 4,
   "id": "5a13cff5-3f9e-4547-b000-a3e72391beb3",
   "metadata": {},
   "outputs": [],
   "source": [
    "columns = ['Rho']"
   ]
  },
  {
   "cell_type": "code",
   "execution_count": 5,
   "id": "093e22cb-ef76-4bbc-813d-d3a7ae9e44ad",
   "metadata": {},
   "outputs": [],
   "source": [
    "do_map = True"
   ]
  },
  {
   "cell_type": "code",
   "execution_count": 6,
   "id": "2e69facc-525f-4f2c-b8c7-825b3a36254a",
   "metadata": {},
   "outputs": [],
   "source": [
    "time_lims_set = [201111211030, 2011112120]"
   ]
  },
  {
   "cell_type": "code",
   "execution_count": 7,
   "id": "a13fbb19-9aa1-4dcf-8107-7ca18b8ffea9",
   "metadata": {},
   "outputs": [],
   "source": [
    "alts = [350, 550]"
   ]
  },
  {
   "cell_type": "code",
   "execution_count": 8,
   "id": "baf67112-11c8-4f7c-9144-1b5c508a32b5",
   "metadata": {},
   "outputs": [],
   "source": [
    "types = ['bandpass']"
   ]
  },
  {
   "cell_type": "code",
   "execution_count": null,
   "id": "fed50e32-1533-4cdd-acc6-640ca98508ad",
   "metadata": {},
   "outputs": [],
   "source": []
  },
  {
   "cell_type": "code",
   "execution_count": null,
   "id": "31128bc9-dff7-4d53-9ea6-039b69bcc2ea",
   "metadata": {},
   "outputs": [],
   "source": []
  },
  {
   "cell_type": "markdown",
   "id": "05013322-dc57-4b5a-99b7-4b79ae8a9dc6",
   "metadata": {},
   "source": [
    "# Find data paths"
   ]
  },
  {
   "cell_type": "code",
   "execution_count": 9,
   "id": "f8e32f99-df66-4018-850b-4f5c596e2fde",
   "metadata": {},
   "outputs": [],
   "source": [
    "dirs_with_data = []\n",
    "\n",
    "for root, dirs, files in os.walk(top_path):\n",
    "    if len(files) != 0:\n",
    "        dirs_with_data.append(root)"
   ]
  },
  {
   "cell_type": "code",
   "execution_count": 10,
   "id": "99717839-5f8e-4ca3-a09d-9b2407e802b3",
   "metadata": {},
   "outputs": [
    {
     "data": {
      "text/plain": [
       "['/glade/u/home/abukowski/scratch/simstorm-20111121/postprocessed/Full',\n",
       " '/glade/u/home/abukowski/scratch/simstorm-20111121/postprocessed/rotB/bzfull',\n",
       " '/glade/u/home/abukowski/scratch/simstorm-20111121/postprocessed/rotB/bz15/byneg',\n",
       " '/glade/u/home/abukowski/scratch/simstorm-20111121/postprocessed/rotB/bz15/bypos',\n",
       " '/glade/u/home/abukowski/scratch/simstorm-20111121/postprocessed/rotB/bz8/byneg',\n",
       " '/glade/u/home/abukowski/scratch/simstorm-20111121/postprocessed/rotB/bz8/bypos',\n",
       " '/glade/u/home/abukowski/scratch/simstorm-20111121/postprocessed/Half']"
      ]
     },
     "execution_count": 10,
     "metadata": {},
     "output_type": "execute_result"
    }
   ],
   "source": [
    "dirs_with_data"
   ]
  },
  {
   "cell_type": "code",
   "execution_count": null,
   "id": "3e57ffbe-d087-4b9d-8b5e-040e2dce0085",
   "metadata": {},
   "outputs": [],
   "source": []
  },
  {
   "cell_type": "code",
   "execution_count": null,
   "id": "03e67f5a-5597-41d4-8831-280e7e28ed16",
   "metadata": {},
   "outputs": [],
   "source": []
  },
  {
   "cell_type": "markdown",
   "id": "69b948aa-f4fc-4a60-8c48-858548558b9a",
   "metadata": {},
   "source": [
    "# Run:\n",
    "\n",
    "- loop thru the options, set up a command, run the program"
   ]
  },
  {
   "cell_type": "code",
   "execution_count": null,
   "id": "5bf563e6-79f3-41cc-aef4-23b3e236e9b1",
   "metadata": {},
   "outputs": [],
   "source": []
  },
  {
   "cell_type": "code",
   "execution_count": null,
   "id": "a87cd294-555a-4176-b519-e2e5422e14f7",
   "metadata": {},
   "outputs": [],
   "source": []
  },
  {
   "cell_type": "code",
   "execution_count": 11,
   "id": "8f2bb2f6-c280-41cd-bd3c-8fbbd9c84681",
   "metadata": {},
   "outputs": [],
   "source": [
    "import importlib"
   ]
  },
  {
   "cell_type": "code",
   "execution_count": null,
   "id": "dd7455d7-7ae4-4426-bb1a-589f217e1c2a",
   "metadata": {},
   "outputs": [],
   "source": []
  },
  {
   "cell_type": "code",
   "execution_count": 12,
   "id": "fa994fba-f1e9-4827-86a9-1f81fc10a66e",
   "metadata": {},
   "outputs": [],
   "source": [
    "basic_plots_from_netcdf = importlib.reload(basic_plots_from_netcdf)"
   ]
  },
  {
   "cell_type": "code",
   "execution_count": 13,
   "id": "5fb3c933-bb62-43f9-9f2c-2fcf38c788fb",
   "metadata": {},
   "outputs": [
    {
     "name": "stdout",
     "output_type": "stream",
     "text": [
      "Reading in 114 files...\n",
      "Done reading files.\n",
      "/glade/u/home/abukowski/scratch/simstorm-20111121/postprocessed/Full\n",
      "Reading in 114 files...\n",
      "Done reading files.\n",
      "/glade/u/home/abukowski/scratch/simstorm-20111121/postprocessed/rotB/bzfull\n",
      "Reading in 114 files...\n",
      "Done reading files.\n",
      "/glade/u/home/abukowski/scratch/simstorm-20111121/postprocessed/rotB/bz15/byneg\n",
      "Reading in 114 files...\n",
      "Done reading files.\n",
      "/glade/u/home/abukowski/scratch/simstorm-20111121/postprocessed/rotB/bz15/bypos\n",
      "Reading in 114 files...\n",
      "Done reading files.\n",
      "/glade/u/home/abukowski/scratch/simstorm-20111121/postprocessed/rotB/bz8/byneg\n",
      "Reading in 114 files...\n",
      "Done reading files.\n",
      "/glade/u/home/abukowski/scratch/simstorm-20111121/postprocessed/rotB/bz8/bypos\n",
      "Reading in 114 files...\n",
      "Done reading files.\n",
      "/glade/u/home/abukowski/scratch/simstorm-20111121/postprocessed/Half\n"
     ]
    }
   ],
   "source": [
    "for path in dirs_with_data:\n",
    "    for col in columns:\n",
    "        \n",
    "        time_lims = [None, None]\n",
    "        # if col =='Rho':\n",
    "        file_list = glob.glob(os.path.join(path, 'GITM' + '*.nc'))\n",
    "        # elif col =='edens':\n",
    "        #     file_list = glob.glob(os.path.join(path, 'SAMI_REGRID' + '*.nc'))\n",
    "            \n",
    "        if len(file_list) == 0:\n",
    "            raise ValueError\n",
    "        file_list = np.sort(file_list)\n",
    "        \n",
    "        dtime_lim_0 = str_to_ut(str(int(time_lims_set[0])))\n",
    "        dtime_lim_1 = str_to_ut(str(int(time_lims_set[1])))\n",
    "        time_list = []\n",
    "        for fname in file_list:\n",
    "            t_str = fname.split('_')[-1].split('.')[0]\n",
    "            time_list.append(datetime.strptime(t_str, '%Y-%m-%dT%H-%M-%S'))\n",
    "        time_list = np.array(time_list)\n",
    "        time_lims[0] = np.argmin(np.abs(time_list - dtime_lim_0))\n",
    "        time_lims[1] = np.argmin(np.abs(time_list - dtime_lim_1))\n",
    "\n",
    "        file_list = file_list[time_lims[0]:time_lims[1]]\n",
    "        \n",
    "\n",
    "        ds0 = xr.open_dataset(file_list[0])\n",
    "        drops = []\n",
    "        for v in ds0.data_vars:\n",
    "            if v not in col:\n",
    "                drops.append(v)\n",
    "        del ds0  # save memory\n",
    "        \n",
    "        print('Reading in {} files...'.format(len(file_list)))\n",
    "        ds = [xr.open_dataset(f, drop_variables=drops) for f in file_list]\n",
    "        ds = xr.concat(ds, dim='time')\n",
    "        print('Done reading files.')\n",
    "        \n",
    "#         if col =='edens':\n",
    "            \n",
    "#             tec = basic_plots_from_netcdf.run_processing_options(ds.copy(), ['alt_int','bandpass'])\n",
    "        \n",
    "        ds = basic_plots_from_netcdf.run_processing_options(ds, 'bandpass')\n",
    "        \n",
    "        \n",
    "        # make output dir\n",
    "        out_path = os.path.join(out_dir, path.replace(top_path, ''))\n",
    "        \n",
    "\n",
    "        \n",
    "        # if col =='edens':\n",
    "        #     tec_out_path = os.path.join(out_dir, path.replace(top_path, ''), 'tec')\n",
    "            # os.makedirs(tec_out_path)\n",
    "        for t in range(ds[col].shape[0]):\n",
    "            \n",
    "            for a in alts:\n",
    "            \n",
    "                p = ds[col].isel(time=t).sel(\n",
    "                        alt=a, method='nearest').plot(\n",
    "                    transform=ccrs.PlateCarree(),\n",
    "                    subplot_kws={\"projection\": ccrs.PlateCarree()},\n",
    "                    x='lon', y='lat',vmin=-3, vmax=3, cmap='bwr',\n",
    "                    size=6,)\n",
    "                p.axes.coastlines()\n",
    "                p.axes.gridlines(alpha=0.6)\n",
    "                try:\n",
    "                    plt.savefig(os.path.join(out_path,str(a), str(t).rjust(3,'0')))\n",
    "                except FileNotFoundError:\n",
    "                    os.makedirs(os.path.join(out_path,str(a)))\n",
    "                    plt.savefig(os.path.join(out_path,str(a), str(t).rjust(3,'0')))\n",
    "                plt.close()\n",
    "\n",
    "            # if col =='edens':\n",
    "            #     p = tec[col].isel(time=t).plot(\n",
    "            #         transform=ccrs.PlateCarree(),\n",
    "            #         subplot_kws={\"projection\": ccrs.PlateCarree()},\n",
    "            #         x='lon', y='lat',vmin=-3, vmax=3, cmap='bwr',\n",
    "            #         size=6)\n",
    "            #     p.axes.coastlines()\n",
    "            #     p.axes.gridlines(alpha=0.6)\n",
    "            #     try:\n",
    "            #         plt.savefig(os.path.join(tec_out_path, str(t).rjust(3,'0')))\n",
    "            #     except FileNotFoundError:\n",
    "            #         os.makedirs(tec_out_path)\n",
    "            #         plt.savefig(os.path.join(tec_out_path, str(t).rjust(3,'0')))\n",
    "            #     plt.close()\n",
    "        print(path)\n",
    "        del ds\n"
   ]
  },
  {
   "cell_type": "code",
   "execution_count": null,
   "id": "2e032dd7-3595-4689-ae65-990f3752f6cb",
   "metadata": {},
   "outputs": [],
   "source": []
  },
  {
   "cell_type": "code",
   "execution_count": null,
   "id": "2d5f4ed8-d785-4ac9-b296-cc358673ecc3",
   "metadata": {},
   "outputs": [],
   "source": []
  },
  {
   "cell_type": "code",
   "execution_count": null,
   "id": "e27df9f7-95c9-4f99-99e9-620fb0b54128",
   "metadata": {},
   "outputs": [],
   "source": []
  },
  {
   "cell_type": "code",
   "execution_count": 25,
   "id": "ccee6b4e-496a-4a24-9603-48058d147153",
   "metadata": {},
   "outputs": [
    {
     "ename": "NameError",
     "evalue": "name 'ds' is not defined",
     "output_type": "error",
     "traceback": [
      "\u001b[0;31m---------------------------------------------------------------------------\u001b[0m",
      "\u001b[0;31mNameError\u001b[0m                                 Traceback (most recent call last)",
      "Cell \u001b[0;32mIn[25], line 1\u001b[0m\n\u001b[0;32m----> 1\u001b[0m \u001b[43mds\u001b[49m\n",
      "\u001b[0;31mNameError\u001b[0m: name 'ds' is not defined"
     ]
    }
   ],
   "source": [
    "ds"
   ]
  },
  {
   "cell_type": "code",
   "execution_count": 29,
   "id": "620a75cd-996b-4f04-bd43-221b38a89504",
   "metadata": {},
   "outputs": [
    {
     "ename": "NameError",
     "evalue": "name 'tec' is not defined",
     "output_type": "error",
     "traceback": [
      "\u001b[0;31m---------------------------------------------------------------------------\u001b[0m",
      "\u001b[0;31mNameError\u001b[0m                                 Traceback (most recent call last)",
      "Cell \u001b[0;32mIn[29], line 1\u001b[0m\n\u001b[0;32m----> 1\u001b[0m \u001b[43mtec\u001b[49m\n",
      "\u001b[0;31mNameError\u001b[0m: name 'tec' is not defined"
     ]
    }
   ],
   "source": [
    "tec"
   ]
  },
  {
   "cell_type": "code",
   "execution_count": null,
   "id": "f69d8832-bf8b-42ac-bb4b-88cb938f99d7",
   "metadata": {},
   "outputs": [],
   "source": []
  },
  {
   "cell_type": "code",
   "execution_count": null,
   "id": "76f408be-5ca0-4745-b7e9-599e8a72d1f4",
   "metadata": {},
   "outputs": [],
   "source": []
  },
  {
   "cell_type": "code",
   "execution_count": null,
   "id": "88376999-e7b4-4df9-8de3-73f75c325b64",
   "metadata": {},
   "outputs": [],
   "source": []
  },
  {
   "cell_type": "code",
   "execution_count": null,
   "id": "35e1e515-47b8-4b17-ae8a-afb77700ba3f",
   "metadata": {},
   "outputs": [],
   "source": []
  },
  {
   "cell_type": "code",
   "execution_count": null,
   "id": "53033b07-208f-4a7a-9c2f-a2e0b27dd3a9",
   "metadata": {},
   "outputs": [],
   "source": []
  },
  {
   "cell_type": "code",
   "execution_count": null,
   "id": "a9ae85e2-914d-49d5-b3ce-2dc786ec677f",
   "metadata": {},
   "outputs": [],
   "source": []
  },
  {
   "cell_type": "code",
   "execution_count": null,
   "id": "2e7797dc-5a56-4dc5-8b53-462ebbc1636c",
   "metadata": {},
   "outputs": [],
   "source": []
  },
  {
   "cell_type": "code",
   "execution_count": null,
   "id": "affbe53c-94bd-4579-a195-536c16ba5de3",
   "metadata": {},
   "outputs": [],
   "source": [
    "# for plot_dir in dirs_with_data:\n",
    "#     for alt in alts:\n",
    "#         for proc_opt in types:\n",
    "#             for col in columns:\n",
    "            \n",
    "#                 out_path = os.path.join(out_dir, col+'-'+proc_opt[0],\n",
    "#                                         plot_dir.replace(top_path, ''))\n",
    "                                        \n",
    "#                 if col == 'edens':\n",
    "#                     basic_plots_from_netcdf.autoplot(data_dir=plot_dir,\n",
    "#                              columns_to_plot=col,\n",
    "#                              model='SAMI_REGRID',\n",
    "#                              output_dir=out_path,\n",
    "#                              show_map=True,\n",
    "#                              time_lims=time_lims,\n",
    "#                              cut_dict={'alt':alt},\n",
    "#                              process_options=proc_opt,\n",
    "#                              plot_arg_dict={'size':6,\n",
    "#                                            'vmin':-3,\n",
    "#                                            'vmax':3,\n",
    "#                                            'cmap':'bwr'})\n",
    "                \n",
    "#                 elif col =='Rho' and proc_opt != 'alt_int':\n",
    "\n",
    "#                     basic_plots_from_netcdf.autoplot(data_dir=plot_dir,\n",
    "#                              columns_to_plot=col,\n",
    "#                              model='GITM',\n",
    "#                              output_dir=out_path,\n",
    "#                              show_map=True,\n",
    "#                              time_lims=time_lims,\n",
    "#                              cut_dict={'alt':alt},\n",
    "#                              process_options=proc_opt,\n",
    "#                              plot_arg_dict={'size':6,\n",
    "#                                            'vmin':-3,\n",
    "#                                            'vmax':3,\n",
    "#                                            'cmap':'bwr'})"
   ]
  },
  {
   "cell_type": "code",
   "execution_count": null,
   "id": "ce9a073c-0b40-48b9-8cbd-3a4fb8f197fa",
   "metadata": {},
   "outputs": [],
   "source": []
  },
  {
   "cell_type": "code",
   "execution_count": null,
   "id": "a3b07457-89c8-4c41-b08e-1f3de8fa24e2",
   "metadata": {},
   "outputs": [],
   "source": []
  }
 ],
 "metadata": {
  "kernelspec": {
   "display_name": "Python [conda env:SAMI3-GITM]",
   "language": "python",
   "name": "conda-env-SAMI3-GITM-py"
  },
  "language_info": {
   "codemirror_mode": {
    "name": "ipython",
    "version": 3
   },
   "file_extension": ".py",
   "mimetype": "text/x-python",
   "name": "python",
   "nbconvert_exporter": "python",
   "pygments_lexer": "ipython3",
   "version": "3.10.11"
  }
 },
 "nbformat": 4,
 "nbformat_minor": 5
}
