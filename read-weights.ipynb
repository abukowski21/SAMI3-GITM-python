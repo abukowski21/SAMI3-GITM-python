{
 "cells": [
  {
   "cell_type": "code",
   "execution_count": 10,
   "id": "0df242d1-484a-4d1b-ab17-43b4b4e2a602",
   "metadata": {},
   "outputs": [],
   "source": [
    "import ESMF\n",
    "import numpy\n",
    "# import dask\n",
    "import os\n",
    "import numpy as np\n",
    "# import esmpy.util.helpers as helpers\n",
    "# import esmpy.api.constants as constants"
   ]
  },
  {
   "cell_type": "code",
   "execution_count": 2,
   "id": "53284dda-c7ac-4b8b-a4cb-976ca287c4fe",
   "metadata": {},
   "outputs": [],
   "source": [
    "import xesmf as xe"
   ]
  },
  {
   "cell_type": "code",
   "execution_count": 3,
   "id": "29da9d7d-4c90-4ad1-808b-7ae76729e4cf",
   "metadata": {},
   "outputs": [],
   "source": [
    "# !ESMF_PrintInfo"
   ]
  },
  {
   "cell_type": "code",
   "execution_count": 4,
   "id": "1043eb21-b6ab-4b77-a1f1-bc3f485718aa",
   "metadata": {},
   "outputs": [],
   "source": [
    "import xarray as xr"
   ]
  },
  {
   "cell_type": "code",
   "execution_count": null,
   "id": "dd32c31b-261c-487a-8b9c-9fa4552b6d34",
   "metadata": {},
   "outputs": [],
   "source": []
  },
  {
   "cell_type": "code",
   "execution_count": 20,
   "id": "95b3336e-f9e9-45b6-ba78-162b995f0c3c",
   "metadata": {},
   "outputs": [],
   "source": [
    "ins = xr.open_dataset('../mesh-test/ugrid-mesh-vars.nc')\n",
    "outs = xr.open_dataset('../mesh-test/ugrid-mesh_out.nc')"
   ]
  },
  {
   "cell_type": "code",
   "execution_count": 21,
   "id": "d9371c30-937e-4f72-81c5-4d46ca33c32d",
   "metadata": {},
   "outputs": [],
   "source": [
    "weights = xr.open_dataset('../mesh-test/weights-vars.nc')"
   ]
  },
  {
   "cell_type": "code",
   "execution_count": 22,
   "id": "39225416-4e70-428b-87a5-8f7cf435cfd2",
   "metadata": {},
   "outputs": [
    {
     "data": {
      "text/html": [
       "<div><svg style=\"position: absolute; width: 0; height: 0; overflow: hidden\">\n",
       "<defs>\n",
       "<symbol id=\"icon-database\" viewBox=\"0 0 32 32\">\n",
       "<path d=\"M16 0c-8.837 0-16 2.239-16 5v4c0 2.761 7.163 5 16 5s16-2.239 16-5v-4c0-2.761-7.163-5-16-5z\"></path>\n",
       "<path d=\"M16 17c-8.837 0-16-2.239-16-5v6c0 2.761 7.163 5 16 5s16-2.239 16-5v-6c0 2.761-7.163 5-16 5z\"></path>\n",
       "<path d=\"M16 26c-8.837 0-16-2.239-16-5v6c0 2.761 7.163 5 16 5s16-2.239 16-5v-6c0 2.761-7.163 5-16 5z\"></path>\n",
       "</symbol>\n",
       "<symbol id=\"icon-file-text2\" viewBox=\"0 0 32 32\">\n",
       "<path d=\"M28.681 7.159c-0.694-0.947-1.662-2.053-2.724-3.116s-2.169-2.030-3.116-2.724c-1.612-1.182-2.393-1.319-2.841-1.319h-15.5c-1.378 0-2.5 1.121-2.5 2.5v27c0 1.378 1.122 2.5 2.5 2.5h23c1.378 0 2.5-1.122 2.5-2.5v-19.5c0-0.448-0.137-1.23-1.319-2.841zM24.543 5.457c0.959 0.959 1.712 1.825 2.268 2.543h-4.811v-4.811c0.718 0.556 1.584 1.309 2.543 2.268zM28 29.5c0 0.271-0.229 0.5-0.5 0.5h-23c-0.271 0-0.5-0.229-0.5-0.5v-27c0-0.271 0.229-0.5 0.5-0.5 0 0 15.499-0 15.5 0v7c0 0.552 0.448 1 1 1h7v19.5z\"></path>\n",
       "<path d=\"M23 26h-14c-0.552 0-1-0.448-1-1s0.448-1 1-1h14c0.552 0 1 0.448 1 1s-0.448 1-1 1z\"></path>\n",
       "<path d=\"M23 22h-14c-0.552 0-1-0.448-1-1s0.448-1 1-1h14c0.552 0 1 0.448 1 1s-0.448 1-1 1z\"></path>\n",
       "<path d=\"M23 18h-14c-0.552 0-1-0.448-1-1s0.448-1 1-1h14c0.552 0 1 0.448 1 1s-0.448 1-1 1z\"></path>\n",
       "</symbol>\n",
       "</defs>\n",
       "</svg>\n",
       "<style>/* CSS stylesheet for displaying xarray objects in jupyterlab.\n",
       " *\n",
       " */\n",
       "\n",
       ":root {\n",
       "  --xr-font-color0: var(--jp-content-font-color0, rgba(0, 0, 0, 1));\n",
       "  --xr-font-color2: var(--jp-content-font-color2, rgba(0, 0, 0, 0.54));\n",
       "  --xr-font-color3: var(--jp-content-font-color3, rgba(0, 0, 0, 0.38));\n",
       "  --xr-border-color: var(--jp-border-color2, #e0e0e0);\n",
       "  --xr-disabled-color: var(--jp-layout-color3, #bdbdbd);\n",
       "  --xr-background-color: var(--jp-layout-color0, white);\n",
       "  --xr-background-color-row-even: var(--jp-layout-color1, white);\n",
       "  --xr-background-color-row-odd: var(--jp-layout-color2, #eeeeee);\n",
       "}\n",
       "\n",
       "html[theme=dark],\n",
       "body[data-theme=dark],\n",
       "body.vscode-dark {\n",
       "  --xr-font-color0: rgba(255, 255, 255, 1);\n",
       "  --xr-font-color2: rgba(255, 255, 255, 0.54);\n",
       "  --xr-font-color3: rgba(255, 255, 255, 0.38);\n",
       "  --xr-border-color: #1F1F1F;\n",
       "  --xr-disabled-color: #515151;\n",
       "  --xr-background-color: #111111;\n",
       "  --xr-background-color-row-even: #111111;\n",
       "  --xr-background-color-row-odd: #313131;\n",
       "}\n",
       "\n",
       ".xr-wrap {\n",
       "  display: block !important;\n",
       "  min-width: 300px;\n",
       "  max-width: 700px;\n",
       "}\n",
       "\n",
       ".xr-text-repr-fallback {\n",
       "  /* fallback to plain text repr when CSS is not injected (untrusted notebook) */\n",
       "  display: none;\n",
       "}\n",
       "\n",
       ".xr-header {\n",
       "  padding-top: 6px;\n",
       "  padding-bottom: 6px;\n",
       "  margin-bottom: 4px;\n",
       "  border-bottom: solid 1px var(--xr-border-color);\n",
       "}\n",
       "\n",
       ".xr-header > div,\n",
       ".xr-header > ul {\n",
       "  display: inline;\n",
       "  margin-top: 0;\n",
       "  margin-bottom: 0;\n",
       "}\n",
       "\n",
       ".xr-obj-type,\n",
       ".xr-array-name {\n",
       "  margin-left: 2px;\n",
       "  margin-right: 10px;\n",
       "}\n",
       "\n",
       ".xr-obj-type {\n",
       "  color: var(--xr-font-color2);\n",
       "}\n",
       "\n",
       ".xr-sections {\n",
       "  padding-left: 0 !important;\n",
       "  display: grid;\n",
       "  grid-template-columns: 150px auto auto 1fr 20px 20px;\n",
       "}\n",
       "\n",
       ".xr-section-item {\n",
       "  display: contents;\n",
       "}\n",
       "\n",
       ".xr-section-item input {\n",
       "  display: none;\n",
       "}\n",
       "\n",
       ".xr-section-item input + label {\n",
       "  color: var(--xr-disabled-color);\n",
       "}\n",
       "\n",
       ".xr-section-item input:enabled + label {\n",
       "  cursor: pointer;\n",
       "  color: var(--xr-font-color2);\n",
       "}\n",
       "\n",
       ".xr-section-item input:enabled + label:hover {\n",
       "  color: var(--xr-font-color0);\n",
       "}\n",
       "\n",
       ".xr-section-summary {\n",
       "  grid-column: 1;\n",
       "  color: var(--xr-font-color2);\n",
       "  font-weight: 500;\n",
       "}\n",
       "\n",
       ".xr-section-summary > span {\n",
       "  display: inline-block;\n",
       "  padding-left: 0.5em;\n",
       "}\n",
       "\n",
       ".xr-section-summary-in:disabled + label {\n",
       "  color: var(--xr-font-color2);\n",
       "}\n",
       "\n",
       ".xr-section-summary-in + label:before {\n",
       "  display: inline-block;\n",
       "  content: '►';\n",
       "  font-size: 11px;\n",
       "  width: 15px;\n",
       "  text-align: center;\n",
       "}\n",
       "\n",
       ".xr-section-summary-in:disabled + label:before {\n",
       "  color: var(--xr-disabled-color);\n",
       "}\n",
       "\n",
       ".xr-section-summary-in:checked + label:before {\n",
       "  content: '▼';\n",
       "}\n",
       "\n",
       ".xr-section-summary-in:checked + label > span {\n",
       "  display: none;\n",
       "}\n",
       "\n",
       ".xr-section-summary,\n",
       ".xr-section-inline-details {\n",
       "  padding-top: 4px;\n",
       "  padding-bottom: 4px;\n",
       "}\n",
       "\n",
       ".xr-section-inline-details {\n",
       "  grid-column: 2 / -1;\n",
       "}\n",
       "\n",
       ".xr-section-details {\n",
       "  display: none;\n",
       "  grid-column: 1 / -1;\n",
       "  margin-bottom: 5px;\n",
       "}\n",
       "\n",
       ".xr-section-summary-in:checked ~ .xr-section-details {\n",
       "  display: contents;\n",
       "}\n",
       "\n",
       ".xr-array-wrap {\n",
       "  grid-column: 1 / -1;\n",
       "  display: grid;\n",
       "  grid-template-columns: 20px auto;\n",
       "}\n",
       "\n",
       ".xr-array-wrap > label {\n",
       "  grid-column: 1;\n",
       "  vertical-align: top;\n",
       "}\n",
       "\n",
       ".xr-preview {\n",
       "  color: var(--xr-font-color3);\n",
       "}\n",
       "\n",
       ".xr-array-preview,\n",
       ".xr-array-data {\n",
       "  padding: 0 5px !important;\n",
       "  grid-column: 2;\n",
       "}\n",
       "\n",
       ".xr-array-data,\n",
       ".xr-array-in:checked ~ .xr-array-preview {\n",
       "  display: none;\n",
       "}\n",
       "\n",
       ".xr-array-in:checked ~ .xr-array-data,\n",
       ".xr-array-preview {\n",
       "  display: inline-block;\n",
       "}\n",
       "\n",
       ".xr-dim-list {\n",
       "  display: inline-block !important;\n",
       "  list-style: none;\n",
       "  padding: 0 !important;\n",
       "  margin: 0;\n",
       "}\n",
       "\n",
       ".xr-dim-list li {\n",
       "  display: inline-block;\n",
       "  padding: 0;\n",
       "  margin: 0;\n",
       "}\n",
       "\n",
       ".xr-dim-list:before {\n",
       "  content: '(';\n",
       "}\n",
       "\n",
       ".xr-dim-list:after {\n",
       "  content: ')';\n",
       "}\n",
       "\n",
       ".xr-dim-list li:not(:last-child):after {\n",
       "  content: ',';\n",
       "  padding-right: 5px;\n",
       "}\n",
       "\n",
       ".xr-has-index {\n",
       "  font-weight: bold;\n",
       "}\n",
       "\n",
       ".xr-var-list,\n",
       ".xr-var-item {\n",
       "  display: contents;\n",
       "}\n",
       "\n",
       ".xr-var-item > div,\n",
       ".xr-var-item label,\n",
       ".xr-var-item > .xr-var-name span {\n",
       "  background-color: var(--xr-background-color-row-even);\n",
       "  margin-bottom: 0;\n",
       "}\n",
       "\n",
       ".xr-var-item > .xr-var-name:hover span {\n",
       "  padding-right: 5px;\n",
       "}\n",
       "\n",
       ".xr-var-list > li:nth-child(odd) > div,\n",
       ".xr-var-list > li:nth-child(odd) > label,\n",
       ".xr-var-list > li:nth-child(odd) > .xr-var-name span {\n",
       "  background-color: var(--xr-background-color-row-odd);\n",
       "}\n",
       "\n",
       ".xr-var-name {\n",
       "  grid-column: 1;\n",
       "}\n",
       "\n",
       ".xr-var-dims {\n",
       "  grid-column: 2;\n",
       "}\n",
       "\n",
       ".xr-var-dtype {\n",
       "  grid-column: 3;\n",
       "  text-align: right;\n",
       "  color: var(--xr-font-color2);\n",
       "}\n",
       "\n",
       ".xr-var-preview {\n",
       "  grid-column: 4;\n",
       "}\n",
       "\n",
       ".xr-index-preview {\n",
       "  grid-column: 2 / 5;\n",
       "  color: var(--xr-font-color2);\n",
       "}\n",
       "\n",
       ".xr-var-name,\n",
       ".xr-var-dims,\n",
       ".xr-var-dtype,\n",
       ".xr-preview,\n",
       ".xr-attrs dt {\n",
       "  white-space: nowrap;\n",
       "  overflow: hidden;\n",
       "  text-overflow: ellipsis;\n",
       "  padding-right: 10px;\n",
       "}\n",
       "\n",
       ".xr-var-name:hover,\n",
       ".xr-var-dims:hover,\n",
       ".xr-var-dtype:hover,\n",
       ".xr-attrs dt:hover {\n",
       "  overflow: visible;\n",
       "  width: auto;\n",
       "  z-index: 1;\n",
       "}\n",
       "\n",
       ".xr-var-attrs,\n",
       ".xr-var-data,\n",
       ".xr-index-data {\n",
       "  display: none;\n",
       "  background-color: var(--xr-background-color) !important;\n",
       "  padding-bottom: 5px !important;\n",
       "}\n",
       "\n",
       ".xr-var-attrs-in:checked ~ .xr-var-attrs,\n",
       ".xr-var-data-in:checked ~ .xr-var-data,\n",
       ".xr-index-data-in:checked ~ .xr-index-data {\n",
       "  display: block;\n",
       "}\n",
       "\n",
       ".xr-var-data > table {\n",
       "  float: right;\n",
       "}\n",
       "\n",
       ".xr-var-name span,\n",
       ".xr-var-data,\n",
       ".xr-index-name div,\n",
       ".xr-index-data,\n",
       ".xr-attrs {\n",
       "  padding-left: 25px !important;\n",
       "}\n",
       "\n",
       ".xr-attrs,\n",
       ".xr-var-attrs,\n",
       ".xr-var-data,\n",
       ".xr-index-data {\n",
       "  grid-column: 1 / -1;\n",
       "}\n",
       "\n",
       "dl.xr-attrs {\n",
       "  padding: 0;\n",
       "  margin: 0;\n",
       "  display: grid;\n",
       "  grid-template-columns: 125px auto;\n",
       "}\n",
       "\n",
       ".xr-attrs dt,\n",
       ".xr-attrs dd {\n",
       "  padding: 0;\n",
       "  margin: 0;\n",
       "  float: left;\n",
       "  padding-right: 10px;\n",
       "  width: auto;\n",
       "}\n",
       "\n",
       ".xr-attrs dt {\n",
       "  font-weight: normal;\n",
       "  grid-column: 1;\n",
       "}\n",
       "\n",
       ".xr-attrs dt:hover span {\n",
       "  display: inline-block;\n",
       "  background: var(--xr-background-color);\n",
       "  padding-right: 10px;\n",
       "}\n",
       "\n",
       ".xr-attrs dd {\n",
       "  grid-column: 2;\n",
       "  white-space: pre-wrap;\n",
       "  word-break: break-all;\n",
       "}\n",
       "\n",
       ".xr-icon-database,\n",
       ".xr-icon-file-text2,\n",
       ".xr-no-icon {\n",
       "  display: inline-block;\n",
       "  vertical-align: middle;\n",
       "  width: 1em;\n",
       "  height: 1.5em !important;\n",
       "  stroke-width: 0;\n",
       "  stroke: currentColor;\n",
       "  fill: currentColor;\n",
       "}\n",
       "</style><pre class='xr-text-repr-fallback'>&lt;xarray.Dataset&gt;\n",
       "Dimensions:        (src_grid_rank: 1, dst_grid_rank: 1, n_a: 1474560,\n",
       "                    n_b: 226800, nv_a: 3, nv_b: 3, n_s: 1960)\n",
       "Dimensions without coordinates: src_grid_rank, dst_grid_rank, n_a, n_b, nv_a,\n",
       "                                nv_b, n_s\n",
       "Data variables: (12/19)\n",
       "    src_grid_dims  (src_grid_rank) int32 ...\n",
       "    dst_grid_dims  (dst_grid_rank) int32 ...\n",
       "    yc_a           (n_a) float64 ...\n",
       "    yc_b           (n_b) float64 ...\n",
       "    xc_a           (n_a) float64 ...\n",
       "    xc_b           (n_b) float64 ...\n",
       "    ...             ...\n",
       "    area_b         (n_b) float64 ...\n",
       "    frac_a         (n_a) float64 ...\n",
       "    frac_b         (n_b) float64 ...\n",
       "    col            (n_s) int32 ...\n",
       "    row            (n_s) int32 ...\n",
       "    S              (n_s) float64 ...\n",
       "Attributes:\n",
       "    title:               ESMF Offline Regridding Weight Generator\n",
       "    normalization:       destarea\n",
       "    map_method:          Bilinear remapping\n",
       "    ESMF_regrid_method:  Bilinear\n",
       "    conventions:         NCAR-CSM\n",
       "    domain_a:            ugrid-mesh-vars.nc\n",
       "    domain_b:            ugrid-mesh_out.nc\n",
       "    grid_file_src:       ugrid-mesh-vars.nc\n",
       "    grid_file_dst:       ugrid-mesh_out.nc\n",
       "    ESMF_version:        (No version information available.)</pre><div class='xr-wrap' style='display:none'><div class='xr-header'><div class='xr-obj-type'>xarray.Dataset</div></div><ul class='xr-sections'><li class='xr-section-item'><input id='section-436b77cb-44dc-478f-b6c1-8d468f1d391c' class='xr-section-summary-in' type='checkbox' disabled ><label for='section-436b77cb-44dc-478f-b6c1-8d468f1d391c' class='xr-section-summary'  title='Expand/collapse section'>Dimensions:</label><div class='xr-section-inline-details'><ul class='xr-dim-list'><li><span>src_grid_rank</span>: 1</li><li><span>dst_grid_rank</span>: 1</li><li><span>n_a</span>: 1474560</li><li><span>n_b</span>: 226800</li><li><span>nv_a</span>: 3</li><li><span>nv_b</span>: 3</li><li><span>n_s</span>: 1960</li></ul></div><div class='xr-section-details'></div></li><li class='xr-section-item'><input id='section-c8d14243-a518-4092-9086-aef7675bbff0' class='xr-section-summary-in' type='checkbox' disabled ><label for='section-c8d14243-a518-4092-9086-aef7675bbff0' class='xr-section-summary'  title='Expand/collapse section'>Coordinates: <span>(0)</span></label><div class='xr-section-inline-details'></div><div class='xr-section-details'><ul class='xr-var-list'></ul></div></li><li class='xr-section-item'><input id='section-3d6f2f41-2404-44a9-91bc-c9454b2671b6' class='xr-section-summary-in' type='checkbox'  ><label for='section-3d6f2f41-2404-44a9-91bc-c9454b2671b6' class='xr-section-summary' >Data variables: <span>(19)</span></label><div class='xr-section-inline-details'></div><div class='xr-section-details'><ul class='xr-var-list'><li class='xr-var-item'><div class='xr-var-name'><span>src_grid_dims</span></div><div class='xr-var-dims'>(src_grid_rank)</div><div class='xr-var-dtype'>int32</div><div class='xr-var-preview xr-preview'>...</div><input id='attrs-d48f621f-87e7-4c31-a0f3-46fceaaca0b5' class='xr-var-attrs-in' type='checkbox' disabled><label for='attrs-d48f621f-87e7-4c31-a0f3-46fceaaca0b5' title='Show/Hide attributes'><svg class='icon xr-icon-file-text2'><use xlink:href='#icon-file-text2'></use></svg></label><input id='data-4c195f8a-026c-4d4d-89fb-d726160d35f3' class='xr-var-data-in' type='checkbox'><label for='data-4c195f8a-026c-4d4d-89fb-d726160d35f3' title='Show/Hide data repr'><svg class='icon xr-icon-database'><use xlink:href='#icon-database'></use></svg></label><div class='xr-var-attrs'><dl class='xr-attrs'></dl></div><div class='xr-var-data'><pre>[1 values with dtype=int32]</pre></div></li><li class='xr-var-item'><div class='xr-var-name'><span>dst_grid_dims</span></div><div class='xr-var-dims'>(dst_grid_rank)</div><div class='xr-var-dtype'>int32</div><div class='xr-var-preview xr-preview'>...</div><input id='attrs-133ba809-4d8d-4e5d-b6cb-9cf6d935c49f' class='xr-var-attrs-in' type='checkbox' disabled><label for='attrs-133ba809-4d8d-4e5d-b6cb-9cf6d935c49f' title='Show/Hide attributes'><svg class='icon xr-icon-file-text2'><use xlink:href='#icon-file-text2'></use></svg></label><input id='data-7fd63c1d-2df0-4783-9b6f-7bf5eeb0030a' class='xr-var-data-in' type='checkbox'><label for='data-7fd63c1d-2df0-4783-9b6f-7bf5eeb0030a' title='Show/Hide data repr'><svg class='icon xr-icon-database'><use xlink:href='#icon-database'></use></svg></label><div class='xr-var-attrs'><dl class='xr-attrs'></dl></div><div class='xr-var-data'><pre>[1 values with dtype=int32]</pre></div></li><li class='xr-var-item'><div class='xr-var-name'><span>yc_a</span></div><div class='xr-var-dims'>(n_a)</div><div class='xr-var-dtype'>float64</div><div class='xr-var-preview xr-preview'>...</div><input id='attrs-d82649f6-4205-4893-9cb1-52846d3310fc' class='xr-var-attrs-in' type='checkbox' ><label for='attrs-d82649f6-4205-4893-9cb1-52846d3310fc' title='Show/Hide attributes'><svg class='icon xr-icon-file-text2'><use xlink:href='#icon-file-text2'></use></svg></label><input id='data-581b65a4-9128-4016-bded-5888e2c8c05e' class='xr-var-data-in' type='checkbox'><label for='data-581b65a4-9128-4016-bded-5888e2c8c05e' title='Show/Hide data repr'><svg class='icon xr-icon-database'><use xlink:href='#icon-database'></use></svg></label><div class='xr-var-attrs'><dl class='xr-attrs'><dt><span>units :</span></dt><dd>degrees</dd></dl></div><div class='xr-var-data'><pre>[1474560 values with dtype=float64]</pre></div></li><li class='xr-var-item'><div class='xr-var-name'><span>yc_b</span></div><div class='xr-var-dims'>(n_b)</div><div class='xr-var-dtype'>float64</div><div class='xr-var-preview xr-preview'>...</div><input id='attrs-9a5eab9a-d423-480d-9fc9-f5038cfb6787' class='xr-var-attrs-in' type='checkbox' ><label for='attrs-9a5eab9a-d423-480d-9fc9-f5038cfb6787' title='Show/Hide attributes'><svg class='icon xr-icon-file-text2'><use xlink:href='#icon-file-text2'></use></svg></label><input id='data-a9bda44d-79ab-4ebe-8671-30c4b50d7b2a' class='xr-var-data-in' type='checkbox'><label for='data-a9bda44d-79ab-4ebe-8671-30c4b50d7b2a' title='Show/Hide data repr'><svg class='icon xr-icon-database'><use xlink:href='#icon-database'></use></svg></label><div class='xr-var-attrs'><dl class='xr-attrs'><dt><span>units :</span></dt><dd>degrees</dd></dl></div><div class='xr-var-data'><pre>[226800 values with dtype=float64]</pre></div></li><li class='xr-var-item'><div class='xr-var-name'><span>xc_a</span></div><div class='xr-var-dims'>(n_a)</div><div class='xr-var-dtype'>float64</div><div class='xr-var-preview xr-preview'>...</div><input id='attrs-813692dc-b5e2-4418-b745-1f0937a15943' class='xr-var-attrs-in' type='checkbox' ><label for='attrs-813692dc-b5e2-4418-b745-1f0937a15943' title='Show/Hide attributes'><svg class='icon xr-icon-file-text2'><use xlink:href='#icon-file-text2'></use></svg></label><input id='data-a011d728-0553-4127-a9c8-02f4943593fb' class='xr-var-data-in' type='checkbox'><label for='data-a011d728-0553-4127-a9c8-02f4943593fb' title='Show/Hide data repr'><svg class='icon xr-icon-database'><use xlink:href='#icon-database'></use></svg></label><div class='xr-var-attrs'><dl class='xr-attrs'><dt><span>units :</span></dt><dd>degrees</dd></dl></div><div class='xr-var-data'><pre>[1474560 values with dtype=float64]</pre></div></li><li class='xr-var-item'><div class='xr-var-name'><span>xc_b</span></div><div class='xr-var-dims'>(n_b)</div><div class='xr-var-dtype'>float64</div><div class='xr-var-preview xr-preview'>...</div><input id='attrs-2c8dea48-2dd5-47ec-b609-3f076a3dd569' class='xr-var-attrs-in' type='checkbox' ><label for='attrs-2c8dea48-2dd5-47ec-b609-3f076a3dd569' title='Show/Hide attributes'><svg class='icon xr-icon-file-text2'><use xlink:href='#icon-file-text2'></use></svg></label><input id='data-38f9b081-8815-4531-9af0-37185adca6f5' class='xr-var-data-in' type='checkbox'><label for='data-38f9b081-8815-4531-9af0-37185adca6f5' title='Show/Hide data repr'><svg class='icon xr-icon-database'><use xlink:href='#icon-database'></use></svg></label><div class='xr-var-attrs'><dl class='xr-attrs'><dt><span>units :</span></dt><dd>degrees</dd></dl></div><div class='xr-var-data'><pre>[226800 values with dtype=float64]</pre></div></li><li class='xr-var-item'><div class='xr-var-name'><span>yv_a</span></div><div class='xr-var-dims'>(n_a, nv_a)</div><div class='xr-var-dtype'>float64</div><div class='xr-var-preview xr-preview'>...</div><input id='attrs-ff0887a3-81a9-4896-bac7-2562d1fdf368' class='xr-var-attrs-in' type='checkbox' ><label for='attrs-ff0887a3-81a9-4896-bac7-2562d1fdf368' title='Show/Hide attributes'><svg class='icon xr-icon-file-text2'><use xlink:href='#icon-file-text2'></use></svg></label><input id='data-fd5acc80-352b-4297-9129-7c404aa4966d' class='xr-var-data-in' type='checkbox'><label for='data-fd5acc80-352b-4297-9129-7c404aa4966d' title='Show/Hide data repr'><svg class='icon xr-icon-database'><use xlink:href='#icon-database'></use></svg></label><div class='xr-var-attrs'><dl class='xr-attrs'><dt><span>units :</span></dt><dd>degrees</dd></dl></div><div class='xr-var-data'><pre>[4423680 values with dtype=float64]</pre></div></li><li class='xr-var-item'><div class='xr-var-name'><span>xv_a</span></div><div class='xr-var-dims'>(n_a, nv_a)</div><div class='xr-var-dtype'>float64</div><div class='xr-var-preview xr-preview'>...</div><input id='attrs-ba4dbf18-2b66-4c93-a0d6-cae367a4fa53' class='xr-var-attrs-in' type='checkbox' ><label for='attrs-ba4dbf18-2b66-4c93-a0d6-cae367a4fa53' title='Show/Hide attributes'><svg class='icon xr-icon-file-text2'><use xlink:href='#icon-file-text2'></use></svg></label><input id='data-4fa18491-f3a7-4af5-8d16-3857b753a6bb' class='xr-var-data-in' type='checkbox'><label for='data-4fa18491-f3a7-4af5-8d16-3857b753a6bb' title='Show/Hide data repr'><svg class='icon xr-icon-database'><use xlink:href='#icon-database'></use></svg></label><div class='xr-var-attrs'><dl class='xr-attrs'><dt><span>units :</span></dt><dd>degrees</dd></dl></div><div class='xr-var-data'><pre>[4423680 values with dtype=float64]</pre></div></li><li class='xr-var-item'><div class='xr-var-name'><span>yv_b</span></div><div class='xr-var-dims'>(n_b, nv_b)</div><div class='xr-var-dtype'>float64</div><div class='xr-var-preview xr-preview'>...</div><input id='attrs-734081d3-28db-44a6-ad63-35c6c05bdaf3' class='xr-var-attrs-in' type='checkbox' ><label for='attrs-734081d3-28db-44a6-ad63-35c6c05bdaf3' title='Show/Hide attributes'><svg class='icon xr-icon-file-text2'><use xlink:href='#icon-file-text2'></use></svg></label><input id='data-bad4a698-22df-4a32-969e-3c2bd58b55ee' class='xr-var-data-in' type='checkbox'><label for='data-bad4a698-22df-4a32-969e-3c2bd58b55ee' title='Show/Hide data repr'><svg class='icon xr-icon-database'><use xlink:href='#icon-database'></use></svg></label><div class='xr-var-attrs'><dl class='xr-attrs'><dt><span>units :</span></dt><dd>degrees</dd></dl></div><div class='xr-var-data'><pre>[680400 values with dtype=float64]</pre></div></li><li class='xr-var-item'><div class='xr-var-name'><span>xv_b</span></div><div class='xr-var-dims'>(n_b, nv_b)</div><div class='xr-var-dtype'>float64</div><div class='xr-var-preview xr-preview'>...</div><input id='attrs-f7f45014-1dc1-4f98-9858-1f7c5d2c0e98' class='xr-var-attrs-in' type='checkbox' ><label for='attrs-f7f45014-1dc1-4f98-9858-1f7c5d2c0e98' title='Show/Hide attributes'><svg class='icon xr-icon-file-text2'><use xlink:href='#icon-file-text2'></use></svg></label><input id='data-1ad4e0d9-cb5a-407c-8dd9-aa5d38cba809' class='xr-var-data-in' type='checkbox'><label for='data-1ad4e0d9-cb5a-407c-8dd9-aa5d38cba809' title='Show/Hide data repr'><svg class='icon xr-icon-database'><use xlink:href='#icon-database'></use></svg></label><div class='xr-var-attrs'><dl class='xr-attrs'><dt><span>units :</span></dt><dd>degrees</dd></dl></div><div class='xr-var-data'><pre>[680400 values with dtype=float64]</pre></div></li><li class='xr-var-item'><div class='xr-var-name'><span>mask_a</span></div><div class='xr-var-dims'>(n_a)</div><div class='xr-var-dtype'>int32</div><div class='xr-var-preview xr-preview'>...</div><input id='attrs-eae8c390-3c16-46ff-a6cf-943d8f233abb' class='xr-var-attrs-in' type='checkbox' ><label for='attrs-eae8c390-3c16-46ff-a6cf-943d8f233abb' title='Show/Hide attributes'><svg class='icon xr-icon-file-text2'><use xlink:href='#icon-file-text2'></use></svg></label><input id='data-da69718c-270b-486f-9807-1ed62a9ef52e' class='xr-var-data-in' type='checkbox'><label for='data-da69718c-270b-486f-9807-1ed62a9ef52e' title='Show/Hide data repr'><svg class='icon xr-icon-database'><use xlink:href='#icon-database'></use></svg></label><div class='xr-var-attrs'><dl class='xr-attrs'><dt><span>units :</span></dt><dd>unitless</dd></dl></div><div class='xr-var-data'><pre>[1474560 values with dtype=int32]</pre></div></li><li class='xr-var-item'><div class='xr-var-name'><span>mask_b</span></div><div class='xr-var-dims'>(n_b)</div><div class='xr-var-dtype'>int32</div><div class='xr-var-preview xr-preview'>...</div><input id='attrs-92671f7d-7567-46a5-a8e6-fd52c99f9741' class='xr-var-attrs-in' type='checkbox' ><label for='attrs-92671f7d-7567-46a5-a8e6-fd52c99f9741' title='Show/Hide attributes'><svg class='icon xr-icon-file-text2'><use xlink:href='#icon-file-text2'></use></svg></label><input id='data-37a38be0-cba9-4939-a1ff-2af0c709ec63' class='xr-var-data-in' type='checkbox'><label for='data-37a38be0-cba9-4939-a1ff-2af0c709ec63' title='Show/Hide data repr'><svg class='icon xr-icon-database'><use xlink:href='#icon-database'></use></svg></label><div class='xr-var-attrs'><dl class='xr-attrs'><dt><span>units :</span></dt><dd>unitless</dd></dl></div><div class='xr-var-data'><pre>[226800 values with dtype=int32]</pre></div></li><li class='xr-var-item'><div class='xr-var-name'><span>area_a</span></div><div class='xr-var-dims'>(n_a)</div><div class='xr-var-dtype'>float64</div><div class='xr-var-preview xr-preview'>...</div><input id='attrs-df0fd2ae-0b9b-4b15-8f14-8ce35bde1030' class='xr-var-attrs-in' type='checkbox' ><label for='attrs-df0fd2ae-0b9b-4b15-8f14-8ce35bde1030' title='Show/Hide attributes'><svg class='icon xr-icon-file-text2'><use xlink:href='#icon-file-text2'></use></svg></label><input id='data-c822858a-2204-4434-841b-a78e1ba96c74' class='xr-var-data-in' type='checkbox'><label for='data-c822858a-2204-4434-841b-a78e1ba96c74' title='Show/Hide data repr'><svg class='icon xr-icon-database'><use xlink:href='#icon-database'></use></svg></label><div class='xr-var-attrs'><dl class='xr-attrs'><dt><span>units :</span></dt><dd>square radians</dd></dl></div><div class='xr-var-data'><pre>[1474560 values with dtype=float64]</pre></div></li><li class='xr-var-item'><div class='xr-var-name'><span>area_b</span></div><div class='xr-var-dims'>(n_b)</div><div class='xr-var-dtype'>float64</div><div class='xr-var-preview xr-preview'>...</div><input id='attrs-6b1afbf6-cb55-41ef-bab5-3e5e7f9601fa' class='xr-var-attrs-in' type='checkbox' ><label for='attrs-6b1afbf6-cb55-41ef-bab5-3e5e7f9601fa' title='Show/Hide attributes'><svg class='icon xr-icon-file-text2'><use xlink:href='#icon-file-text2'></use></svg></label><input id='data-44389bab-a351-4d49-97b6-9961ff6eaaee' class='xr-var-data-in' type='checkbox'><label for='data-44389bab-a351-4d49-97b6-9961ff6eaaee' title='Show/Hide data repr'><svg class='icon xr-icon-database'><use xlink:href='#icon-database'></use></svg></label><div class='xr-var-attrs'><dl class='xr-attrs'><dt><span>units :</span></dt><dd>square radians</dd></dl></div><div class='xr-var-data'><pre>[226800 values with dtype=float64]</pre></div></li><li class='xr-var-item'><div class='xr-var-name'><span>frac_a</span></div><div class='xr-var-dims'>(n_a)</div><div class='xr-var-dtype'>float64</div><div class='xr-var-preview xr-preview'>...</div><input id='attrs-ab6a8821-e7a1-4ef4-9c45-554742378184' class='xr-var-attrs-in' type='checkbox' ><label for='attrs-ab6a8821-e7a1-4ef4-9c45-554742378184' title='Show/Hide attributes'><svg class='icon xr-icon-file-text2'><use xlink:href='#icon-file-text2'></use></svg></label><input id='data-67950732-fea5-4d13-83ae-765a27d1b379' class='xr-var-data-in' type='checkbox'><label for='data-67950732-fea5-4d13-83ae-765a27d1b379' title='Show/Hide data repr'><svg class='icon xr-icon-database'><use xlink:href='#icon-database'></use></svg></label><div class='xr-var-attrs'><dl class='xr-attrs'><dt><span>units :</span></dt><dd>unitless</dd></dl></div><div class='xr-var-data'><pre>[1474560 values with dtype=float64]</pre></div></li><li class='xr-var-item'><div class='xr-var-name'><span>frac_b</span></div><div class='xr-var-dims'>(n_b)</div><div class='xr-var-dtype'>float64</div><div class='xr-var-preview xr-preview'>...</div><input id='attrs-f32d2289-6149-4451-95d2-6fc0405995f0' class='xr-var-attrs-in' type='checkbox' ><label for='attrs-f32d2289-6149-4451-95d2-6fc0405995f0' title='Show/Hide attributes'><svg class='icon xr-icon-file-text2'><use xlink:href='#icon-file-text2'></use></svg></label><input id='data-ed513417-0275-4974-8fe2-aa68e6319353' class='xr-var-data-in' type='checkbox'><label for='data-ed513417-0275-4974-8fe2-aa68e6319353' title='Show/Hide data repr'><svg class='icon xr-icon-database'><use xlink:href='#icon-database'></use></svg></label><div class='xr-var-attrs'><dl class='xr-attrs'><dt><span>units :</span></dt><dd>unitless</dd></dl></div><div class='xr-var-data'><pre>[226800 values with dtype=float64]</pre></div></li><li class='xr-var-item'><div class='xr-var-name'><span>col</span></div><div class='xr-var-dims'>(n_s)</div><div class='xr-var-dtype'>int32</div><div class='xr-var-preview xr-preview'>...</div><input id='attrs-68c87308-1b2e-46e0-8044-b291f967ab5f' class='xr-var-attrs-in' type='checkbox' disabled><label for='attrs-68c87308-1b2e-46e0-8044-b291f967ab5f' title='Show/Hide attributes'><svg class='icon xr-icon-file-text2'><use xlink:href='#icon-file-text2'></use></svg></label><input id='data-359b8e3b-ee3c-497b-9889-dc53a301d4fa' class='xr-var-data-in' type='checkbox'><label for='data-359b8e3b-ee3c-497b-9889-dc53a301d4fa' title='Show/Hide data repr'><svg class='icon xr-icon-database'><use xlink:href='#icon-database'></use></svg></label><div class='xr-var-attrs'><dl class='xr-attrs'></dl></div><div class='xr-var-data'><pre>[1960 values with dtype=int32]</pre></div></li><li class='xr-var-item'><div class='xr-var-name'><span>row</span></div><div class='xr-var-dims'>(n_s)</div><div class='xr-var-dtype'>int32</div><div class='xr-var-preview xr-preview'>...</div><input id='attrs-4e8da8cd-02c0-4bf2-9012-3ded49d6c02d' class='xr-var-attrs-in' type='checkbox' disabled><label for='attrs-4e8da8cd-02c0-4bf2-9012-3ded49d6c02d' title='Show/Hide attributes'><svg class='icon xr-icon-file-text2'><use xlink:href='#icon-file-text2'></use></svg></label><input id='data-a2b653d4-92e8-4ca7-8394-ac11c8df8fda' class='xr-var-data-in' type='checkbox'><label for='data-a2b653d4-92e8-4ca7-8394-ac11c8df8fda' title='Show/Hide data repr'><svg class='icon xr-icon-database'><use xlink:href='#icon-database'></use></svg></label><div class='xr-var-attrs'><dl class='xr-attrs'></dl></div><div class='xr-var-data'><pre>[1960 values with dtype=int32]</pre></div></li><li class='xr-var-item'><div class='xr-var-name'><span>S</span></div><div class='xr-var-dims'>(n_s)</div><div class='xr-var-dtype'>float64</div><div class='xr-var-preview xr-preview'>...</div><input id='attrs-3d71f836-e49f-41fe-ad10-cdbbcdfa8fdb' class='xr-var-attrs-in' type='checkbox' disabled><label for='attrs-3d71f836-e49f-41fe-ad10-cdbbcdfa8fdb' title='Show/Hide attributes'><svg class='icon xr-icon-file-text2'><use xlink:href='#icon-file-text2'></use></svg></label><input id='data-eb59d774-0d69-4029-ad6b-1bd04283b050' class='xr-var-data-in' type='checkbox'><label for='data-eb59d774-0d69-4029-ad6b-1bd04283b050' title='Show/Hide data repr'><svg class='icon xr-icon-database'><use xlink:href='#icon-database'></use></svg></label><div class='xr-var-attrs'><dl class='xr-attrs'></dl></div><div class='xr-var-data'><pre>[1960 values with dtype=float64]</pre></div></li></ul></div></li><li class='xr-section-item'><input id='section-edf9008a-6f73-4e96-8b1d-5e2ba152b1cc' class='xr-section-summary-in' type='checkbox' disabled ><label for='section-edf9008a-6f73-4e96-8b1d-5e2ba152b1cc' class='xr-section-summary'  title='Expand/collapse section'>Indexes: <span>(0)</span></label><div class='xr-section-inline-details'></div><div class='xr-section-details'><ul class='xr-var-list'></ul></div></li><li class='xr-section-item'><input id='section-c335674f-2785-4f82-b4d5-bc92b1265386' class='xr-section-summary-in' type='checkbox'  ><label for='section-c335674f-2785-4f82-b4d5-bc92b1265386' class='xr-section-summary' >Attributes: <span>(10)</span></label><div class='xr-section-inline-details'></div><div class='xr-section-details'><dl class='xr-attrs'><dt><span>title :</span></dt><dd>ESMF Offline Regridding Weight Generator</dd><dt><span>normalization :</span></dt><dd>destarea</dd><dt><span>map_method :</span></dt><dd>Bilinear remapping</dd><dt><span>ESMF_regrid_method :</span></dt><dd>Bilinear</dd><dt><span>conventions :</span></dt><dd>NCAR-CSM</dd><dt><span>domain_a :</span></dt><dd>ugrid-mesh-vars.nc</dd><dt><span>domain_b :</span></dt><dd>ugrid-mesh_out.nc</dd><dt><span>grid_file_src :</span></dt><dd>ugrid-mesh-vars.nc</dd><dt><span>grid_file_dst :</span></dt><dd>ugrid-mesh_out.nc</dd><dt><span>ESMF_version :</span></dt><dd>(No version information available.)</dd></dl></div></li></ul></div></div>"
      ],
      "text/plain": [
       "<xarray.Dataset>\n",
       "Dimensions:        (src_grid_rank: 1, dst_grid_rank: 1, n_a: 1474560,\n",
       "                    n_b: 226800, nv_a: 3, nv_b: 3, n_s: 1960)\n",
       "Dimensions without coordinates: src_grid_rank, dst_grid_rank, n_a, n_b, nv_a,\n",
       "                                nv_b, n_s\n",
       "Data variables: (12/19)\n",
       "    src_grid_dims  (src_grid_rank) int32 ...\n",
       "    dst_grid_dims  (dst_grid_rank) int32 ...\n",
       "    yc_a           (n_a) float64 ...\n",
       "    yc_b           (n_b) float64 ...\n",
       "    xc_a           (n_a) float64 ...\n",
       "    xc_b           (n_b) float64 ...\n",
       "    ...             ...\n",
       "    area_b         (n_b) float64 ...\n",
       "    frac_a         (n_a) float64 ...\n",
       "    frac_b         (n_b) float64 ...\n",
       "    col            (n_s) int32 ...\n",
       "    row            (n_s) int32 ...\n",
       "    S              (n_s) float64 ...\n",
       "Attributes:\n",
       "    title:               ESMF Offline Regridding Weight Generator\n",
       "    normalization:       destarea\n",
       "    map_method:          Bilinear remapping\n",
       "    ESMF_regrid_method:  Bilinear\n",
       "    conventions:         NCAR-CSM\n",
       "    domain_a:            ugrid-mesh-vars.nc\n",
       "    domain_b:            ugrid-mesh_out.nc\n",
       "    grid_file_src:       ugrid-mesh-vars.nc\n",
       "    grid_file_dst:       ugrid-mesh_out.nc\n",
       "    ESMF_version:        (No version information available.)"
      ]
     },
     "execution_count": 22,
     "metadata": {},
     "output_type": "execute_result"
    }
   ],
   "source": [
    "weights"
   ]
  },
  {
   "cell_type": "code",
   "execution_count": 23,
   "id": "a2357f53-99f6-4560-9c5a-0ea9623eab9b",
   "metadata": {},
   "outputs": [
    {
     "data": {
      "text/plain": [
       "(<xarray.DataArray 'frac_b' ()>\n",
       " array(226310),\n",
       " <xarray.DataArray 'frac_b' ()>\n",
       " array(490))"
      ]
     },
     "execution_count": 23,
     "metadata": {},
     "output_type": "execute_result"
    }
   ],
   "source": [
    "np.sum(weights.frac_b == 0), np.sum(weights.frac_b != 0)"
   ]
  },
  {
   "cell_type": "code",
   "execution_count": 24,
   "id": "574dbc60-92ef-425e-a832-f0055cfe03a0",
   "metadata": {},
   "outputs": [
    {
     "data": {
      "text/plain": [
       "(<xarray.DataArray 'frac_a' ()>\n",
       " array(1474560),\n",
       " <xarray.DataArray 'frac_a' ()>\n",
       " array(0))"
      ]
     },
     "execution_count": 24,
     "metadata": {},
     "output_type": "execute_result"
    }
   ],
   "source": [
    "np.sum(weights.frac_a == 0), np.sum(weights.frac_a!= 0)"
   ]
  },
  {
   "cell_type": "code",
   "execution_count": 25,
   "id": "e7a15701-1e36-4af2-b00c-e2f5a8009f38",
   "metadata": {},
   "outputs": [
    {
     "data": {
      "text/plain": [
       "array([     0,      1,      2, ..., 226797, 226798, 226799])"
      ]
     },
     "execution_count": 25,
     "metadata": {},
     "output_type": "execute_result"
    }
   ],
   "source": [
    "weights.n_b.values"
   ]
  },
  {
   "cell_type": "code",
   "execution_count": 26,
   "id": "b2896a69-e598-47b3-ba94-b9eba254bfbd",
   "metadata": {},
   "outputs": [
    {
     "data": {
      "text/plain": [
       "array([   0,    1,    2, ..., 1957, 1958, 1959])"
      ]
     },
     "execution_count": 26,
     "metadata": {},
     "output_type": "execute_result"
    }
   ],
   "source": [
    "weights.n_s.values"
   ]
  },
  {
   "cell_type": "code",
   "execution_count": 44,
   "id": "4669d56b-71a6-4c3e-ac85-61bd8b3559cd",
   "metadata": {},
   "outputs": [
    {
     "data": {
      "text/plain": [
       "(array([1474560], dtype=int32), array([226800], dtype=int32))"
      ]
     },
     "execution_count": 44,
     "metadata": {},
     "output_type": "execute_result"
    }
   ],
   "source": [
    "weights.src_grid_dims.values, weights.dst_grid_dims.values"
   ]
  },
  {
   "cell_type": "code",
   "execution_count": 45,
   "id": "982feed1-25d9-42d0-80a4-320d97127d4d",
   "metadata": {},
   "outputs": [
    {
     "data": {
      "text/plain": [
       "3150.0"
      ]
     },
     "execution_count": 45,
     "metadata": {},
     "output_type": "execute_result"
    }
   ],
   "source": [
    "226800/72"
   ]
  },
  {
   "cell_type": "code",
   "execution_count": 46,
   "id": "e7abd32f-3798-434b-90f8-fc060e175259",
   "metadata": {},
   "outputs": [
    {
     "data": {
      "text/plain": [
       "115.71428571428571"
      ]
     },
     "execution_count": 46,
     "metadata": {},
     "output_type": "execute_result"
    }
   ],
   "source": [
    "226800/1960"
   ]
  },
  {
   "cell_type": "code",
   "execution_count": 47,
   "id": "affe7331-bbab-4fb0-98c9-60ac6eb32bba",
   "metadata": {},
   "outputs": [
    {
     "data": {
      "text/plain": [
       "738.9795918367347"
      ]
     },
     "execution_count": 47,
     "metadata": {},
     "output_type": "execute_result"
    }
   ],
   "source": [
    "1448400/1960"
   ]
  },
  {
   "cell_type": "code",
   "execution_count": null,
   "id": "37a8c376-87d7-406c-803d-b593d2eddb49",
   "metadata": {},
   "outputs": [],
   "source": []
  },
  {
   "cell_type": "code",
   "execution_count": null,
   "id": "382bb8ad-9c6f-41b8-b30a-f997cc682d58",
   "metadata": {},
   "outputs": [],
   "source": []
  },
  {
   "cell_type": "code",
   "execution_count": 31,
   "id": "1b8723bd-5f62-4502-83c1-8db34822f291",
   "metadata": {},
   "outputs": [],
   "source": [
    "dsts = []\n",
    "for i in weights.n_s.values:\n",
    "    dsts.append(ins.edens.isel(time=0)[weights.row.values[i]] + weights.S.values[i]*ins.edens.isel(time=0).values[weights.col.values[i]])"
   ]
  },
  {
   "cell_type": "code",
   "execution_count": 32,
   "id": "4b520734-c34a-49d7-8ba2-20ccd05aec9f",
   "metadata": {},
   "outputs": [],
   "source": [
    "dsts = np.array(dsts)"
   ]
  },
  {
   "cell_type": "code",
   "execution_count": 33,
   "id": "8ce7ae20-94e2-4b50-8cd0-08aeea5c7437",
   "metadata": {},
   "outputs": [
    {
     "data": {
      "text/plain": [
       "(1960,)"
      ]
     },
     "execution_count": 33,
     "metadata": {},
     "output_type": "execute_result"
    }
   ],
   "source": [
    "dsts.shape"
   ]
  },
  {
   "cell_type": "code",
   "execution_count": 40,
   "id": "670cef85-5027-4279-a7b1-cbde9d8ac1d3",
   "metadata": {},
   "outputs": [
    {
     "data": {
      "text/plain": [
       "(3150.0, 72)"
      ]
     },
     "execution_count": 40,
     "metadata": {},
     "output_type": "execute_result"
    }
   ],
   "source": [
    "len(weights.xc_b.values)/len(np.unique(outs.height.values)), len(np.unique(outs.height.values)), "
   ]
  },
  {
   "cell_type": "code",
   "execution_count": null,
   "id": "4a5d9f57-66ac-4a1e-81cb-708a83fd0744",
   "metadata": {},
   "outputs": [],
   "source": []
  },
  {
   "cell_type": "code",
   "execution_count": null,
   "id": "4dbc7c75-ae39-406d-8981-8a46591f59b8",
   "metadata": {},
   "outputs": [],
   "source": []
  },
  {
   "cell_type": "code",
   "execution_count": null,
   "id": "380747f4-01f3-4c6b-b830-f3367d2a8163",
   "metadata": {},
   "outputs": [],
   "source": []
  },
  {
   "cell_type": "code",
   "execution_count": null,
   "id": "c20a71f7-ce29-4ffa-bad5-7a03d94b0e79",
   "metadata": {},
   "outputs": [],
   "source": []
  },
  {
   "cell_type": "code",
   "execution_count": null,
   "id": "ac95d914-1fb1-49fe-8a42-8efd280cd10a",
   "metadata": {},
   "outputs": [],
   "source": [
    "regridder = ESMF.RegridFromFile(ins, outs, filename=\"../mesh-test/weights-vars.nc\")"
   ]
  },
  {
   "cell_type": "code",
   "execution_count": null,
   "id": "b69bb12c-2faf-461a-ba89-1257d078a896",
   "metadata": {},
   "outputs": [],
   "source": []
  },
  {
   "cell_type": "code",
   "execution_count": null,
   "id": "f2106bac-94d4-4051-a055-52b2d9234188",
   "metadata": {},
   "outputs": [],
   "source": []
  },
  {
   "cell_type": "code",
   "execution_count": null,
   "id": "1c774cab-530b-40fc-9185-56f84f65c7b6",
   "metadata": {},
   "outputs": [],
   "source": []
  },
  {
   "cell_type": "code",
   "execution_count": null,
   "id": "3cc842ec-b262-41c7-8150-6ff00e8c3ba9",
   "metadata": {},
   "outputs": [],
   "source": [
    "mesh = ESMF.Mesh(filename='/glade/u/home/abukowski/mesh-test/ugrid-mesh.nc',\n",
    "                 filetype=ESMF.FileFormat.UGRID)"
   ]
  },
  {
   "cell_type": "code",
   "execution_count": null,
   "id": "c83401fb-41cf-49fe-9418-cc4e83ee2c5e",
   "metadata": {},
   "outputs": [],
   "source": []
  },
  {
   "cell_type": "code",
   "execution_count": null,
   "id": "5b22bed4-f116-4ac3-9ca0-8d737423a7be",
   "metadata": {},
   "outputs": [],
   "source": [
    "ESMF.RegridFromFile("
   ]
  },
  {
   "cell_type": "code",
   "execution_count": null,
   "id": "a471e8a8-3082-4d3b-af08-9fab27339833",
   "metadata": {},
   "outputs": [],
   "source": []
  },
  {
   "cell_type": "code",
   "execution_count": null,
   "id": "26e71ef9-68af-4228-8a96-8b100fd9130f",
   "metadata": {},
   "outputs": [],
   "source": []
  },
  {
   "cell_type": "code",
   "execution_count": null,
   "id": "ddf68b99-a270-437d-8f47-c43844068fc0",
   "metadata": {},
   "outputs": [],
   "source": []
  },
  {
   "cell_type": "code",
   "execution_count": null,
   "id": "8bbc0991-df24-41a0-a0f8-c1b7ed577868",
   "metadata": {},
   "outputs": [],
   "source": []
  }
 ],
 "metadata": {
  "kernelspec": {
   "display_name": "Python [conda env:esm2]",
   "language": "python",
   "name": "conda-env-esm2-py"
  },
  "language_info": {
   "codemirror_mode": {
    "name": "ipython",
    "version": 3
   },
   "file_extension": ".py",
   "mimetype": "text/x-python",
   "name": "python",
   "nbconvert_exporter": "python",
   "pygments_lexer": "ipython3",
   "version": "3.8.16"
  }
 },
 "nbformat": 4,
 "nbformat_minor": 5
}
