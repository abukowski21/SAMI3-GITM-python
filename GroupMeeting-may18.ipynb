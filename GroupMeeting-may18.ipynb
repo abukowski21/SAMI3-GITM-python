{
 "cells": [
  {
   "cell_type": "code",
   "execution_count": 1,
   "id": "2893cc37-59f3-4584-ab1b-a5c076887bb0",
   "metadata": {},
   "outputs": [
    {
     "name": "stderr",
     "output_type": "stream",
     "text": [
      "/glade/work/abukowski/conda-envs/SAMI3-GITM/lib/python3.10/site-packages/tqdm/auto.py:21: TqdmWarning: IProgress not found. Please update jupyter and ipywidgets. See https://ipywidgets.readthedocs.io/en/stable/user_install.html\n",
      "  from .autonotebook import tqdm as notebook_tqdm\n"
     ]
    }
   ],
   "source": [
    "import xarray as xr\n",
    "import cartopy.crs as ccrs\n",
    "import numpy as np\n",
    "from scipy import signal \n",
    "\n",
    "from datetime import datetime, timedelta\n",
    "\n",
    "import matplotlib.pyplot as plt\n",
    "\n",
    "from utility_programs.read_routines.GITM import auto_read as auto_read_gitm\n",
    "from  utility_programs.read_routines.SAMI import auto_read as auto_read_sami\n",
    "from utility_programs.filters import make_fits\n",
    "\n",
    "import gc\n",
    "\n",
    "from tqdm.auto import tqdm\n",
    "import glob\n",
    "\n",
    "import importlib"
   ]
  },
  {
   "cell_type": "code",
   "execution_count": null,
   "id": "7933d3b4-affa-4997-984e-0c269ad5a462",
   "metadata": {},
   "outputs": [],
   "source": []
  },
  {
   "cell_type": "code",
   "execution_count": null,
   "id": "4c291878-792f-49f8-a145-7a2ea6b5f233",
   "metadata": {},
   "outputs": [],
   "source": []
  },
  {
   "cell_type": "code",
   "execution_count": null,
   "id": "7c9cd62f-25f3-42ab-87ea-223330806ca5",
   "metadata": {},
   "outputs": [],
   "source": []
  },
  {
   "cell_type": "code",
   "execution_count": 2,
   "id": "16b8fcaf-5fc6-4d7f-980e-0853fc4424ad",
   "metadata": {},
   "outputs": [],
   "source": [
    "gitmcol  = 'Rho'\n",
    "samicol  = 'edens'\n",
    "\n",
    "\n",
    "t_11 = datetime(2011,11,20)\n",
    "t_05 = datetime(2011, 5,20)\n",
    "\n",
    "t_start0 = timedelta(days=1, hours = 10)\n",
    "t_end0 = timedelta(days=1, hours=18) # hours\n",
    "\n",
    "afewtimes = [10,20,30,40,50,60]\n",
    "afewtimes2 = [10,20,30,40,50,60,70,80]\n",
    "\n",
    "dir11 = '/glade/u/home/abukowski/scratch/simstorm-20111121/postprocessed/'\n",
    "dir05 = '/glade/u/home/abukowski/scratch/simstorm-20110521/postprocessed/'"
   ]
  },
  {
   "cell_type": "code",
   "execution_count": null,
   "id": "b0c38ac1-0bf0-49b5-86b4-4ede8a1d7ec4",
   "metadata": {},
   "outputs": [],
   "source": []
  },
  {
   "cell_type": "code",
   "execution_count": 3,
   "id": "b5112d14-3e55-45dd-90af-166efa228188",
   "metadata": {},
   "outputs": [],
   "source": [
    "times = []\n",
    "t = datetime(2011,5,20)\n",
    "max_dtime = t + timedelta(days=7)\n",
    "while t < max_dtime:\n",
    "    times.append(t)\n",
    "    t+=timedelta(minutes=5)\n",
    "times = np.array(times)\n",
    "\n",
    "start_idx = np.argmin(np.abs(times - (datetime(2011,5,21,10))))\n",
    "end_idx = np.argmin(np.abs(times - datetime(2011,5,21,18)))"
   ]
  },
  {
   "cell_type": "code",
   "execution_count": 4,
   "id": "30409913-d956-45a8-8ef4-6031f2147c01",
   "metadata": {},
   "outputs": [
    {
     "data": {
      "text/plain": [
       "(408, 504)"
      ]
     },
     "execution_count": 4,
     "metadata": {},
     "output_type": "execute_result"
    }
   ],
   "source": [
    "start_idx, end_idx"
   ]
  },
  {
   "cell_type": "code",
   "execution_count": 5,
   "id": "d74ce21d-d566-458e-9e93-c974bb667038",
   "metadata": {},
   "outputs": [],
   "source": [
    "def get_fit(array):\n",
    "    return xr.apply_ufunc(make_fits, array)\n",
    "\n",
    "def get_diffs(array):\n",
    "    return 100*(array - get_fit(array))/array"
   ]
  },
  {
   "cell_type": "code",
   "execution_count": 6,
   "id": "0fa254be-4019-4dd9-8f62-2da9d5b70ca8",
   "metadata": {},
   "outputs": [],
   "source": [
    "def panel_of_maps(da,\n",
    "                  times,\n",
    "                  vlims,):\n",
    "    \n",
    "    p = da.isel(time=times).plot(x=\"lon\", y=\"lat\", col=\"time\",\n",
    "                                     transform=ccrs.PlateCarree(),\n",
    "                                     subplot_kws={\"projection\": ccrs.PlateCarree(),\n",
    "                                                 },\n",
    "                                     col_wrap=2, vmin=-vlims, vmax = vlims, cmap = 'bwr',\n",
    "                                    aa=True, )\n",
    "\n",
    "    for ax in p.axs.flatten():\n",
    "        ax.coastlines(alpha=0.6)\n",
    "        ax.gridlines(color='black', alpha=0.5, linestyle='--')\n",
    "    \n",
    "\n",
    "        \n",
    "    p.fig.suptitle('alt = %i km' % da.alt.mean())\n",
    "\n",
    "    plt.show()\n",
    "    plt.close('all')\n",
    "\n",
    "    \n",
    "    \n",
    "    \n",
    "    \n",
    "def panel_of_keos(da,\n",
    "                  lons,\n",
    "                  vlims,):\n",
    "    \n",
    "    p = da.sel(lon=lons, method='nearest').plot(x=\"time\", y=\"lat\", col=\"lon\",\n",
    "                                     col_wrap=2, vmin=-vlims, vmax = vlims, cmap = 'bwr',\n",
    "                                    aa=True)\n",
    "\n",
    "\n",
    "    p.fig.suptitle('alt = %i km' % da.alt.mean())\n",
    "\n",
    "    plt.show()\n",
    "    plt.close('all')\n",
    "    \n",
    "    \n",
    "    \n",
    "def panel_of_lat_keos(da,\n",
    "                  lats,\n",
    "                  vlims,):\n",
    "    \n",
    "    p = da.sel(lat=lats, method='nearest').plot(x=\"time\", y=\"lon\", col=\"lat\",\n",
    "                                     col_wrap=2, vmin=-vlims, vmax = vlims, cmap = 'bwr',\n",
    "                                    aa=True)\n",
    "\n",
    "\n",
    "    p.fig.suptitle('alt = %i km' % da.alt.mean())\n",
    "\n",
    "    plt.show()\n",
    "    plt.close('all')\n"
   ]
  },
  {
   "cell_type": "code",
   "execution_count": null,
   "id": "18a732aa-deda-479e-8c64-9bb4570906b6",
   "metadata": {},
   "outputs": [],
   "source": []
  },
  {
   "cell_type": "code",
   "execution_count": 7,
   "id": "c8820b46-eb72-4e12-9854-330565824e02",
   "metadata": {},
   "outputs": [
    {
     "ename": "KeyboardInterrupt",
     "evalue": "",
     "output_type": "error",
     "traceback": [
      "\u001b[0;31m---------------------------------------------------------------------------\u001b[0m",
      "\u001b[0;31mKeyError\u001b[0m                                  Traceback (most recent call last)",
      "File \u001b[0;32m/glade/work/abukowski/conda-envs/SAMI3-GITM/lib/python3.10/site-packages/xarray/backends/file_manager.py:210\u001b[0m, in \u001b[0;36mCachingFileManager._acquire_with_cache_info\u001b[0;34m(self, needs_lock)\u001b[0m\n\u001b[1;32m    209\u001b[0m \u001b[38;5;28;01mtry\u001b[39;00m:\n\u001b[0;32m--> 210\u001b[0m     file \u001b[38;5;241m=\u001b[39m \u001b[38;5;28;43mself\u001b[39;49m\u001b[38;5;241;43m.\u001b[39;49m\u001b[43m_cache\u001b[49m\u001b[43m[\u001b[49m\u001b[38;5;28;43mself\u001b[39;49m\u001b[38;5;241;43m.\u001b[39;49m\u001b[43m_key\u001b[49m\u001b[43m]\u001b[49m\n\u001b[1;32m    211\u001b[0m \u001b[38;5;28;01mexcept\u001b[39;00m \u001b[38;5;167;01mKeyError\u001b[39;00m:\n",
      "File \u001b[0;32m/glade/work/abukowski/conda-envs/SAMI3-GITM/lib/python3.10/site-packages/xarray/backends/lru_cache.py:56\u001b[0m, in \u001b[0;36mLRUCache.__getitem__\u001b[0;34m(self, key)\u001b[0m\n\u001b[1;32m     55\u001b[0m \u001b[38;5;28;01mwith\u001b[39;00m \u001b[38;5;28mself\u001b[39m\u001b[38;5;241m.\u001b[39m_lock:\n\u001b[0;32m---> 56\u001b[0m     value \u001b[38;5;241m=\u001b[39m \u001b[38;5;28;43mself\u001b[39;49m\u001b[38;5;241;43m.\u001b[39;49m\u001b[43m_cache\u001b[49m\u001b[43m[\u001b[49m\u001b[43mkey\u001b[49m\u001b[43m]\u001b[49m\n\u001b[1;32m     57\u001b[0m     \u001b[38;5;28mself\u001b[39m\u001b[38;5;241m.\u001b[39m_cache\u001b[38;5;241m.\u001b[39mmove_to_end(key)\n",
      "\u001b[0;31mKeyError\u001b[0m: [<class 'h5netcdf.core.File'>, ('/glade/u/home/abukowski/scratch/simstorm-20110521/postprocessed/Full/SAMI_REGRID_2011-05-21T11-35-00.nc',), 'r', (('decode_vlen_strings', True), ('invalid_netcdf', None)), '5c1157e1-2024-4c67-81f4-17b7a838b4d0']",
      "\nDuring handling of the above exception, another exception occurred:\n",
      "\u001b[0;31mKeyboardInterrupt\u001b[0m                         Traceback (most recent call last)",
      "Cell \u001b[0;32mIn[7], line 1\u001b[0m\n\u001b[0;32m----> 1\u001b[0m may_edens_full \u001b[38;5;241m=\u001b[39m \u001b[43mauto_read_sami\u001b[49m\u001b[43m(\u001b[49m\u001b[43mdir05\u001b[49m\u001b[38;5;241;43m+\u001b[39;49m\u001b[38;5;124;43m\"\u001b[39;49m\u001b[38;5;124;43mFull\u001b[39;49m\u001b[38;5;124;43m\"\u001b[39;49m\u001b[43m,\u001b[49m\u001b[43m \u001b[49m\u001b[43mcols\u001b[49m\u001b[38;5;241;43m=\u001b[39;49m\u001b[43msamicol\u001b[49m\u001b[43m,\u001b[49m\u001b[43m \u001b[49m\u001b[43mstart_idx\u001b[49m\u001b[38;5;241;43m=\u001b[39;49m\u001b[43mstart_idx\u001b[49m\u001b[43m,\u001b[49m\u001b[43m \u001b[49m\u001b[43mend_idx\u001b[49m\u001b[43m \u001b[49m\u001b[38;5;241;43m=\u001b[39;49m\u001b[43m \u001b[49m\u001b[43mend_idx\u001b[49m\u001b[43m,\u001b[49m\u001b[43m \u001b[49m\u001b[43muse_dask\u001b[49m\u001b[43m \u001b[49m\u001b[38;5;241;43m=\u001b[39;49m\u001b[43m \u001b[49m\u001b[38;5;28;43;01mFalse\u001b[39;49;00m\u001b[43m)\u001b[49m\n\u001b[1;32m      2\u001b[0m may_edens_half \u001b[38;5;241m=\u001b[39m auto_read_sami(dir05\u001b[38;5;241m+\u001b[39m\u001b[38;5;124m\"\u001b[39m\u001b[38;5;124mHalf\u001b[39m\u001b[38;5;124m\"\u001b[39m, cols\u001b[38;5;241m=\u001b[39msamicol, start_idx\u001b[38;5;241m=\u001b[39mstart_idx, end_idx \u001b[38;5;241m=\u001b[39m end_idx, use_dask \u001b[38;5;241m=\u001b[39m \u001b[38;5;28;01mFalse\u001b[39;00m)\n\u001b[1;32m      4\u001b[0m may_rho_full \u001b[38;5;241m=\u001b[39m auto_read_gitm(dir05\u001b[38;5;241m+\u001b[39m\u001b[38;5;124m\"\u001b[39m\u001b[38;5;124mFull\u001b[39m\u001b[38;5;124m\"\u001b[39m, start_idx\u001b[38;5;241m=\u001b[39mstart_idx, end_idx\u001b[38;5;241m=\u001b[39mend_idx, cols \u001b[38;5;241m=\u001b[39m gitmcol)\n",
      "File \u001b[0;32m~/SAMI3-GITM-python/utility_programs/read_routines/SAMI.py:1077\u001b[0m, in \u001b[0;36mauto_read\u001b[0;34m(sami_dir, cols, split_by_time, split_by_var, whole_run, return_xarray, filetype, force_nparrays, dtime_sim_start, parallel, start_dtime, start_idx, end_dtime, end_idx, hrs_before_storm_start, hrs_after_storm_start, dtime_storm_start, progress_bar, use_dask, engine)\u001b[0m\n\u001b[1;32m   1075\u001b[0m dss\u001b[38;5;241m=\u001b[39m[]\n\u001b[1;32m   1076\u001b[0m \u001b[38;5;28;01mfor\u001b[39;00m f \u001b[38;5;129;01min\u001b[39;00m files:\n\u001b[0;32m-> 1077\u001b[0m     dss\u001b[38;5;241m.\u001b[39mappend(\u001b[43mxr\u001b[49m\u001b[38;5;241;43m.\u001b[39;49m\u001b[43mopen_dataset\u001b[49m\u001b[43m(\u001b[49m\n\u001b[1;32m   1078\u001b[0m \u001b[43m        \u001b[49m\u001b[43mf\u001b[49m\u001b[43m,\u001b[49m\u001b[43m \u001b[49m\u001b[43mdrop_variables\u001b[49m\u001b[38;5;241;43m=\u001b[39;49m\u001b[43mdrops\u001b[49m\u001b[43m,\u001b[49m\u001b[43m \u001b[49m\u001b[43mengine\u001b[49m\u001b[38;5;241;43m=\u001b[39;49m\u001b[43mengine\u001b[49m\u001b[43m)\u001b[49m)\n\u001b[1;32m   1080\u001b[0m ds\u001b[38;5;241m=\u001b[39mxr\u001b[38;5;241m.\u001b[39mconcat(dss, dim\u001b[38;5;241m=\u001b[39m\u001b[38;5;124m'\u001b[39m\u001b[38;5;124mtime\u001b[39m\u001b[38;5;124m'\u001b[39m)\n\u001b[1;32m   1081\u001b[0m \u001b[38;5;28;01mdel\u001b[39;00m dss\n",
      "File \u001b[0;32m/glade/work/abukowski/conda-envs/SAMI3-GITM/lib/python3.10/site-packages/xarray/backends/api.py:525\u001b[0m, in \u001b[0;36mopen_dataset\u001b[0;34m(filename_or_obj, engine, chunks, cache, decode_cf, mask_and_scale, decode_times, decode_timedelta, use_cftime, concat_characters, decode_coords, drop_variables, inline_array, backend_kwargs, **kwargs)\u001b[0m\n\u001b[1;32m    513\u001b[0m decoders \u001b[38;5;241m=\u001b[39m _resolve_decoders_kwargs(\n\u001b[1;32m    514\u001b[0m     decode_cf,\n\u001b[1;32m    515\u001b[0m     open_backend_dataset_parameters\u001b[38;5;241m=\u001b[39mbackend\u001b[38;5;241m.\u001b[39mopen_dataset_parameters,\n\u001b[0;32m   (...)\u001b[0m\n\u001b[1;32m    521\u001b[0m     decode_coords\u001b[38;5;241m=\u001b[39mdecode_coords,\n\u001b[1;32m    522\u001b[0m )\n\u001b[1;32m    524\u001b[0m overwrite_encoded_chunks \u001b[38;5;241m=\u001b[39m kwargs\u001b[38;5;241m.\u001b[39mpop(\u001b[38;5;124m\"\u001b[39m\u001b[38;5;124moverwrite_encoded_chunks\u001b[39m\u001b[38;5;124m\"\u001b[39m, \u001b[38;5;28;01mNone\u001b[39;00m)\n\u001b[0;32m--> 525\u001b[0m backend_ds \u001b[38;5;241m=\u001b[39m \u001b[43mbackend\u001b[49m\u001b[38;5;241;43m.\u001b[39;49m\u001b[43mopen_dataset\u001b[49m\u001b[43m(\u001b[49m\n\u001b[1;32m    526\u001b[0m \u001b[43m    \u001b[49m\u001b[43mfilename_or_obj\u001b[49m\u001b[43m,\u001b[49m\n\u001b[1;32m    527\u001b[0m \u001b[43m    \u001b[49m\u001b[43mdrop_variables\u001b[49m\u001b[38;5;241;43m=\u001b[39;49m\u001b[43mdrop_variables\u001b[49m\u001b[43m,\u001b[49m\n\u001b[1;32m    528\u001b[0m \u001b[43m    \u001b[49m\u001b[38;5;241;43m*\u001b[39;49m\u001b[38;5;241;43m*\u001b[39;49m\u001b[43mdecoders\u001b[49m\u001b[43m,\u001b[49m\n\u001b[1;32m    529\u001b[0m \u001b[43m    \u001b[49m\u001b[38;5;241;43m*\u001b[39;49m\u001b[38;5;241;43m*\u001b[39;49m\u001b[43mkwargs\u001b[49m\u001b[43m,\u001b[49m\n\u001b[1;32m    530\u001b[0m \u001b[43m\u001b[49m\u001b[43m)\u001b[49m\n\u001b[1;32m    531\u001b[0m ds \u001b[38;5;241m=\u001b[39m _dataset_from_backend_dataset(\n\u001b[1;32m    532\u001b[0m     backend_ds,\n\u001b[1;32m    533\u001b[0m     filename_or_obj,\n\u001b[0;32m   (...)\u001b[0m\n\u001b[1;32m    541\u001b[0m     \u001b[38;5;241m*\u001b[39m\u001b[38;5;241m*\u001b[39mkwargs,\n\u001b[1;32m    542\u001b[0m )\n\u001b[1;32m    543\u001b[0m \u001b[38;5;28;01mreturn\u001b[39;00m ds\n",
      "File \u001b[0;32m/glade/work/abukowski/conda-envs/SAMI3-GITM/lib/python3.10/site-packages/xarray/backends/h5netcdf_.py:413\u001b[0m, in \u001b[0;36mH5netcdfBackendEntrypoint.open_dataset\u001b[0;34m(self, filename_or_obj, mask_and_scale, decode_times, concat_characters, decode_coords, drop_variables, use_cftime, decode_timedelta, format, group, lock, invalid_netcdf, phony_dims, decode_vlen_strings)\u001b[0m\n\u001b[1;32m    394\u001b[0m \u001b[38;5;28;01mdef\u001b[39;00m \u001b[38;5;21mopen_dataset\u001b[39m(  \u001b[38;5;66;03m# type: ignore[override]  # allow LSP violation, not supporting **kwargs\u001b[39;00m\n\u001b[1;32m    395\u001b[0m     \u001b[38;5;28mself\u001b[39m,\n\u001b[1;32m    396\u001b[0m     filename_or_obj: \u001b[38;5;28mstr\u001b[39m \u001b[38;5;241m|\u001b[39m os\u001b[38;5;241m.\u001b[39mPathLike[Any] \u001b[38;5;241m|\u001b[39m BufferedIOBase \u001b[38;5;241m|\u001b[39m AbstractDataStore,\n\u001b[0;32m   (...)\u001b[0m\n\u001b[1;32m    410\u001b[0m     decode_vlen_strings\u001b[38;5;241m=\u001b[39m\u001b[38;5;28;01mTrue\u001b[39;00m,\n\u001b[1;32m    411\u001b[0m ) \u001b[38;5;241m-\u001b[39m\u001b[38;5;241m>\u001b[39m Dataset:\n\u001b[1;32m    412\u001b[0m     filename_or_obj \u001b[38;5;241m=\u001b[39m _normalize_path(filename_or_obj)\n\u001b[0;32m--> 413\u001b[0m     store \u001b[38;5;241m=\u001b[39m \u001b[43mH5NetCDFStore\u001b[49m\u001b[38;5;241;43m.\u001b[39;49m\u001b[43mopen\u001b[49m\u001b[43m(\u001b[49m\n\u001b[1;32m    414\u001b[0m \u001b[43m        \u001b[49m\u001b[43mfilename_or_obj\u001b[49m\u001b[43m,\u001b[49m\n\u001b[1;32m    415\u001b[0m \u001b[43m        \u001b[49m\u001b[38;5;28;43mformat\u001b[39;49m\u001b[38;5;241;43m=\u001b[39;49m\u001b[38;5;28;43mformat\u001b[39;49m\u001b[43m,\u001b[49m\n\u001b[1;32m    416\u001b[0m \u001b[43m        \u001b[49m\u001b[43mgroup\u001b[49m\u001b[38;5;241;43m=\u001b[39;49m\u001b[43mgroup\u001b[49m\u001b[43m,\u001b[49m\n\u001b[1;32m    417\u001b[0m \u001b[43m        \u001b[49m\u001b[43mlock\u001b[49m\u001b[38;5;241;43m=\u001b[39;49m\u001b[43mlock\u001b[49m\u001b[43m,\u001b[49m\n\u001b[1;32m    418\u001b[0m \u001b[43m        \u001b[49m\u001b[43minvalid_netcdf\u001b[49m\u001b[38;5;241;43m=\u001b[39;49m\u001b[43minvalid_netcdf\u001b[49m\u001b[43m,\u001b[49m\n\u001b[1;32m    419\u001b[0m \u001b[43m        \u001b[49m\u001b[43mphony_dims\u001b[49m\u001b[38;5;241;43m=\u001b[39;49m\u001b[43mphony_dims\u001b[49m\u001b[43m,\u001b[49m\n\u001b[1;32m    420\u001b[0m \u001b[43m        \u001b[49m\u001b[43mdecode_vlen_strings\u001b[49m\u001b[38;5;241;43m=\u001b[39;49m\u001b[43mdecode_vlen_strings\u001b[49m\u001b[43m,\u001b[49m\n\u001b[1;32m    421\u001b[0m \u001b[43m    \u001b[49m\u001b[43m)\u001b[49m\n\u001b[1;32m    423\u001b[0m     store_entrypoint \u001b[38;5;241m=\u001b[39m StoreBackendEntrypoint()\n\u001b[1;32m    425\u001b[0m     ds \u001b[38;5;241m=\u001b[39m store_entrypoint\u001b[38;5;241m.\u001b[39mopen_dataset(\n\u001b[1;32m    426\u001b[0m         store,\n\u001b[1;32m    427\u001b[0m         mask_and_scale\u001b[38;5;241m=\u001b[39mmask_and_scale,\n\u001b[0;32m   (...)\u001b[0m\n\u001b[1;32m    433\u001b[0m         decode_timedelta\u001b[38;5;241m=\u001b[39mdecode_timedelta,\n\u001b[1;32m    434\u001b[0m     )\n",
      "File \u001b[0;32m/glade/work/abukowski/conda-envs/SAMI3-GITM/lib/python3.10/site-packages/xarray/backends/h5netcdf_.py:176\u001b[0m, in \u001b[0;36mH5NetCDFStore.open\u001b[0;34m(cls, filename, mode, format, group, lock, autoclose, invalid_netcdf, phony_dims, decode_vlen_strings)\u001b[0m\n\u001b[1;32m    173\u001b[0m         lock \u001b[38;5;241m=\u001b[39m combine_locks([HDF5_LOCK, get_write_lock(filename)])\n\u001b[1;32m    175\u001b[0m manager \u001b[38;5;241m=\u001b[39m CachingFileManager(h5netcdf\u001b[38;5;241m.\u001b[39mFile, filename, mode\u001b[38;5;241m=\u001b[39mmode, kwargs\u001b[38;5;241m=\u001b[39mkwargs)\n\u001b[0;32m--> 176\u001b[0m \u001b[38;5;28;01mreturn\u001b[39;00m \u001b[38;5;28;43mcls\u001b[39;49m\u001b[43m(\u001b[49m\u001b[43mmanager\u001b[49m\u001b[43m,\u001b[49m\u001b[43m \u001b[49m\u001b[43mgroup\u001b[49m\u001b[38;5;241;43m=\u001b[39;49m\u001b[43mgroup\u001b[49m\u001b[43m,\u001b[49m\u001b[43m \u001b[49m\u001b[43mmode\u001b[49m\u001b[38;5;241;43m=\u001b[39;49m\u001b[43mmode\u001b[49m\u001b[43m,\u001b[49m\u001b[43m \u001b[49m\u001b[43mlock\u001b[49m\u001b[38;5;241;43m=\u001b[39;49m\u001b[43mlock\u001b[49m\u001b[43m,\u001b[49m\u001b[43m \u001b[49m\u001b[43mautoclose\u001b[49m\u001b[38;5;241;43m=\u001b[39;49m\u001b[43mautoclose\u001b[49m\u001b[43m)\u001b[49m\n",
      "File \u001b[0;32m/glade/work/abukowski/conda-envs/SAMI3-GITM/lib/python3.10/site-packages/xarray/backends/h5netcdf_.py:127\u001b[0m, in \u001b[0;36mH5NetCDFStore.__init__\u001b[0;34m(self, manager, group, mode, lock, autoclose)\u001b[0m\n\u001b[1;32m    124\u001b[0m \u001b[38;5;28mself\u001b[39m\u001b[38;5;241m.\u001b[39mformat \u001b[38;5;241m=\u001b[39m \u001b[38;5;28;01mNone\u001b[39;00m\n\u001b[1;32m    125\u001b[0m \u001b[38;5;66;03m# todo: utilizing find_root_and_group seems a bit clunky\u001b[39;00m\n\u001b[1;32m    126\u001b[0m \u001b[38;5;66;03m#  making filename available on h5netcdf.Group seems better\u001b[39;00m\n\u001b[0;32m--> 127\u001b[0m \u001b[38;5;28mself\u001b[39m\u001b[38;5;241m.\u001b[39m_filename \u001b[38;5;241m=\u001b[39m find_root_and_group(\u001b[38;5;28;43mself\u001b[39;49m\u001b[38;5;241;43m.\u001b[39;49m\u001b[43mds\u001b[49m)[\u001b[38;5;241m0\u001b[39m]\u001b[38;5;241m.\u001b[39mfilename\n\u001b[1;32m    128\u001b[0m \u001b[38;5;28mself\u001b[39m\u001b[38;5;241m.\u001b[39mis_remote \u001b[38;5;241m=\u001b[39m is_remote_uri(\u001b[38;5;28mself\u001b[39m\u001b[38;5;241m.\u001b[39m_filename)\n\u001b[1;32m    129\u001b[0m \u001b[38;5;28mself\u001b[39m\u001b[38;5;241m.\u001b[39mlock \u001b[38;5;241m=\u001b[39m ensure_lock(lock)\n",
      "File \u001b[0;32m/glade/work/abukowski/conda-envs/SAMI3-GITM/lib/python3.10/site-packages/xarray/backends/h5netcdf_.py:187\u001b[0m, in \u001b[0;36mH5NetCDFStore.ds\u001b[0;34m(self)\u001b[0m\n\u001b[1;32m    185\u001b[0m \u001b[38;5;129m@property\u001b[39m\n\u001b[1;32m    186\u001b[0m \u001b[38;5;28;01mdef\u001b[39;00m \u001b[38;5;21mds\u001b[39m(\u001b[38;5;28mself\u001b[39m):\n\u001b[0;32m--> 187\u001b[0m     \u001b[38;5;28;01mreturn\u001b[39;00m \u001b[38;5;28;43mself\u001b[39;49m\u001b[38;5;241;43m.\u001b[39;49m\u001b[43m_acquire\u001b[49m\u001b[43m(\u001b[49m\u001b[43m)\u001b[49m\n",
      "File \u001b[0;32m/glade/work/abukowski/conda-envs/SAMI3-GITM/lib/python3.10/site-packages/xarray/backends/h5netcdf_.py:179\u001b[0m, in \u001b[0;36mH5NetCDFStore._acquire\u001b[0;34m(self, needs_lock)\u001b[0m\n\u001b[1;32m    178\u001b[0m \u001b[38;5;28;01mdef\u001b[39;00m \u001b[38;5;21m_acquire\u001b[39m(\u001b[38;5;28mself\u001b[39m, needs_lock\u001b[38;5;241m=\u001b[39m\u001b[38;5;28;01mTrue\u001b[39;00m):\n\u001b[0;32m--> 179\u001b[0m     \u001b[38;5;28;01mwith\u001b[39;00m \u001b[38;5;28mself\u001b[39m\u001b[38;5;241m.\u001b[39m_manager\u001b[38;5;241m.\u001b[39macquire_context(needs_lock) \u001b[38;5;28;01mas\u001b[39;00m root:\n\u001b[1;32m    180\u001b[0m         ds \u001b[38;5;241m=\u001b[39m _nc4_require_group(\n\u001b[1;32m    181\u001b[0m             root, \u001b[38;5;28mself\u001b[39m\u001b[38;5;241m.\u001b[39m_group, \u001b[38;5;28mself\u001b[39m\u001b[38;5;241m.\u001b[39m_mode, create_group\u001b[38;5;241m=\u001b[39m_h5netcdf_create_group\n\u001b[1;32m    182\u001b[0m         )\n\u001b[1;32m    183\u001b[0m     \u001b[38;5;28;01mreturn\u001b[39;00m ds\n",
      "File \u001b[0;32m/glade/work/abukowski/conda-envs/SAMI3-GITM/lib/python3.10/contextlib.py:135\u001b[0m, in \u001b[0;36m_GeneratorContextManager.__enter__\u001b[0;34m(self)\u001b[0m\n\u001b[1;32m    133\u001b[0m \u001b[38;5;28;01mdel\u001b[39;00m \u001b[38;5;28mself\u001b[39m\u001b[38;5;241m.\u001b[39margs, \u001b[38;5;28mself\u001b[39m\u001b[38;5;241m.\u001b[39mkwds, \u001b[38;5;28mself\u001b[39m\u001b[38;5;241m.\u001b[39mfunc\n\u001b[1;32m    134\u001b[0m \u001b[38;5;28;01mtry\u001b[39;00m:\n\u001b[0;32m--> 135\u001b[0m     \u001b[38;5;28;01mreturn\u001b[39;00m \u001b[38;5;28;43mnext\u001b[39;49m\u001b[43m(\u001b[49m\u001b[38;5;28;43mself\u001b[39;49m\u001b[38;5;241;43m.\u001b[39;49m\u001b[43mgen\u001b[49m\u001b[43m)\u001b[49m\n\u001b[1;32m    136\u001b[0m \u001b[38;5;28;01mexcept\u001b[39;00m \u001b[38;5;167;01mStopIteration\u001b[39;00m:\n\u001b[1;32m    137\u001b[0m     \u001b[38;5;28;01mraise\u001b[39;00m \u001b[38;5;167;01mRuntimeError\u001b[39;00m(\u001b[38;5;124m\"\u001b[39m\u001b[38;5;124mgenerator didn\u001b[39m\u001b[38;5;124m'\u001b[39m\u001b[38;5;124mt yield\u001b[39m\u001b[38;5;124m\"\u001b[39m) \u001b[38;5;28;01mfrom\u001b[39;00m \u001b[38;5;28;01mNone\u001b[39;00m\n",
      "File \u001b[0;32m/glade/work/abukowski/conda-envs/SAMI3-GITM/lib/python3.10/site-packages/xarray/backends/file_manager.py:198\u001b[0m, in \u001b[0;36mCachingFileManager.acquire_context\u001b[0;34m(self, needs_lock)\u001b[0m\n\u001b[1;32m    195\u001b[0m \u001b[38;5;129m@contextlib\u001b[39m\u001b[38;5;241m.\u001b[39mcontextmanager\n\u001b[1;32m    196\u001b[0m \u001b[38;5;28;01mdef\u001b[39;00m \u001b[38;5;21macquire_context\u001b[39m(\u001b[38;5;28mself\u001b[39m, needs_lock\u001b[38;5;241m=\u001b[39m\u001b[38;5;28;01mTrue\u001b[39;00m):\n\u001b[1;32m    197\u001b[0m \u001b[38;5;250m    \u001b[39m\u001b[38;5;124;03m\"\"\"Context manager for acquiring a file.\"\"\"\u001b[39;00m\n\u001b[0;32m--> 198\u001b[0m     file, cached \u001b[38;5;241m=\u001b[39m \u001b[38;5;28;43mself\u001b[39;49m\u001b[38;5;241;43m.\u001b[39;49m\u001b[43m_acquire_with_cache_info\u001b[49m\u001b[43m(\u001b[49m\u001b[43mneeds_lock\u001b[49m\u001b[43m)\u001b[49m\n\u001b[1;32m    199\u001b[0m     \u001b[38;5;28;01mtry\u001b[39;00m:\n\u001b[1;32m    200\u001b[0m         \u001b[38;5;28;01myield\u001b[39;00m file\n",
      "File \u001b[0;32m/glade/work/abukowski/conda-envs/SAMI3-GITM/lib/python3.10/site-packages/xarray/backends/file_manager.py:216\u001b[0m, in \u001b[0;36mCachingFileManager._acquire_with_cache_info\u001b[0;34m(self, needs_lock)\u001b[0m\n\u001b[1;32m    214\u001b[0m     kwargs \u001b[38;5;241m=\u001b[39m kwargs\u001b[38;5;241m.\u001b[39mcopy()\n\u001b[1;32m    215\u001b[0m     kwargs[\u001b[38;5;124m\"\u001b[39m\u001b[38;5;124mmode\u001b[39m\u001b[38;5;124m\"\u001b[39m] \u001b[38;5;241m=\u001b[39m \u001b[38;5;28mself\u001b[39m\u001b[38;5;241m.\u001b[39m_mode\n\u001b[0;32m--> 216\u001b[0m file \u001b[38;5;241m=\u001b[39m \u001b[38;5;28;43mself\u001b[39;49m\u001b[38;5;241;43m.\u001b[39;49m\u001b[43m_opener\u001b[49m\u001b[43m(\u001b[49m\u001b[38;5;241;43m*\u001b[39;49m\u001b[38;5;28;43mself\u001b[39;49m\u001b[38;5;241;43m.\u001b[39;49m\u001b[43m_args\u001b[49m\u001b[43m,\u001b[49m\u001b[43m \u001b[49m\u001b[38;5;241;43m*\u001b[39;49m\u001b[38;5;241;43m*\u001b[39;49m\u001b[43mkwargs\u001b[49m\u001b[43m)\u001b[49m\n\u001b[1;32m    217\u001b[0m \u001b[38;5;28;01mif\u001b[39;00m \u001b[38;5;28mself\u001b[39m\u001b[38;5;241m.\u001b[39m_mode \u001b[38;5;241m==\u001b[39m \u001b[38;5;124m\"\u001b[39m\u001b[38;5;124mw\u001b[39m\u001b[38;5;124m\"\u001b[39m:\n\u001b[1;32m    218\u001b[0m     \u001b[38;5;66;03m# ensure file doesn't get overridden when opened again\u001b[39;00m\n\u001b[1;32m    219\u001b[0m     \u001b[38;5;28mself\u001b[39m\u001b[38;5;241m.\u001b[39m_mode \u001b[38;5;241m=\u001b[39m \u001b[38;5;124m\"\u001b[39m\u001b[38;5;124ma\u001b[39m\u001b[38;5;124m\"\u001b[39m\n",
      "File \u001b[0;32m/glade/work/abukowski/conda-envs/SAMI3-GITM/lib/python3.10/site-packages/h5netcdf/core.py:1108\u001b[0m, in \u001b[0;36mFile.__init__\u001b[0;34m(self, path, mode, invalid_netcdf, phony_dims, **kwargs)\u001b[0m\n\u001b[1;32m   1106\u001b[0m \u001b[38;5;66;03m# This maps keeps track of all HDF5 datasets corresponding to this group.\u001b[39;00m\n\u001b[1;32m   1107\u001b[0m \u001b[38;5;28mself\u001b[39m\u001b[38;5;241m.\u001b[39m_all_h5groups \u001b[38;5;241m=\u001b[39m ChainMap(\u001b[38;5;28mself\u001b[39m\u001b[38;5;241m.\u001b[39m_h5group)\n\u001b[0;32m-> 1108\u001b[0m \u001b[38;5;28;43msuper\u001b[39;49m\u001b[43m(\u001b[49m\u001b[43mFile\u001b[49m\u001b[43m,\u001b[49m\u001b[43m \u001b[49m\u001b[38;5;28;43mself\u001b[39;49m\u001b[43m)\u001b[49m\u001b[38;5;241;43m.\u001b[39;49m\u001b[38;5;21;43m__init__\u001b[39;49m\u001b[43m(\u001b[49m\u001b[38;5;28;43mself\u001b[39;49m\u001b[43m,\u001b[49m\u001b[43m \u001b[49m\u001b[38;5;28;43mself\u001b[39;49m\u001b[38;5;241;43m.\u001b[39;49m\u001b[43m_h5path\u001b[49m\u001b[43m)\u001b[49m\n\u001b[1;32m   1109\u001b[0m \u001b[38;5;66;03m# get maximum dimension id and count of labeled dimensions\u001b[39;00m\n\u001b[1;32m   1110\u001b[0m \u001b[38;5;28;01mif\u001b[39;00m \u001b[38;5;28mself\u001b[39m\u001b[38;5;241m.\u001b[39m_writable:\n",
      "File \u001b[0;32m/glade/work/abukowski/conda-envs/SAMI3-GITM/lib/python3.10/site-packages/h5netcdf/core.py:505\u001b[0m, in \u001b[0;36mGroup.__init__\u001b[0;34m(self, parent, name)\u001b[0m\n\u001b[1;32m    502\u001b[0m \u001b[38;5;28;01mif\u001b[39;00m \u001b[38;5;28mself\u001b[39m\u001b[38;5;241m.\u001b[39m_root\u001b[38;5;241m.\u001b[39m_phony_dims_mode \u001b[38;5;129;01mis\u001b[39;00m \u001b[38;5;129;01mnot\u001b[39;00m \u001b[38;5;28;01mNone\u001b[39;00m:\n\u001b[1;32m    503\u001b[0m     phony_dims \u001b[38;5;241m=\u001b[39m Counter()\n\u001b[0;32m--> 505\u001b[0m \u001b[38;5;28;01mfor\u001b[39;00m k, v \u001b[38;5;129;01min\u001b[39;00m \u001b[38;5;28mself\u001b[39m\u001b[38;5;241m.\u001b[39m_h5group\u001b[38;5;241m.\u001b[39mitems():\n\u001b[1;32m    506\u001b[0m     \u001b[38;5;28;01mif\u001b[39;00m \u001b[38;5;28misinstance\u001b[39m(v, \u001b[38;5;28mself\u001b[39m\u001b[38;5;241m.\u001b[39m_root\u001b[38;5;241m.\u001b[39m_h5py\u001b[38;5;241m.\u001b[39mGroup):\n\u001b[1;32m    507\u001b[0m         \u001b[38;5;66;03m# add to the groups collection if this is a h5py(d) Group\u001b[39;00m\n\u001b[1;32m    508\u001b[0m         \u001b[38;5;66;03m# instance\u001b[39;00m\n\u001b[1;32m    509\u001b[0m         \u001b[38;5;28mself\u001b[39m\u001b[38;5;241m.\u001b[39m_groups\u001b[38;5;241m.\u001b[39madd(k)\n",
      "File \u001b[0;32m/glade/work/abukowski/conda-envs/SAMI3-GITM/lib/python3.10/site-packages/h5py/_hl/base.py:436\u001b[0m, in \u001b[0;36mItemsViewHDF5.__iter__\u001b[0;34m(self)\u001b[0m\n\u001b[1;32m    434\u001b[0m \u001b[38;5;28;01mwith\u001b[39;00m phil:\n\u001b[1;32m    435\u001b[0m     \u001b[38;5;28;01mfor\u001b[39;00m key \u001b[38;5;129;01min\u001b[39;00m \u001b[38;5;28mself\u001b[39m\u001b[38;5;241m.\u001b[39m_mapping:\n\u001b[0;32m--> 436\u001b[0m         \u001b[38;5;28;01myield\u001b[39;00m (key, \u001b[38;5;28;43mself\u001b[39;49m\u001b[38;5;241;43m.\u001b[39;49m\u001b[43m_mapping\u001b[49m\u001b[38;5;241;43m.\u001b[39;49m\u001b[43mget\u001b[49m\u001b[43m(\u001b[49m\u001b[43mkey\u001b[49m\u001b[43m)\u001b[49m)\n",
      "File \u001b[0;32m/glade/work/abukowski/conda-envs/SAMI3-GITM/lib/python3.10/site-packages/h5py/_hl/group.py:400\u001b[0m, in \u001b[0;36mGroup.get\u001b[0;34m(self, name, default, getclass, getlink)\u001b[0m\n\u001b[1;32m    398\u001b[0m \u001b[38;5;28;01mif\u001b[39;00m \u001b[38;5;129;01mnot\u001b[39;00m (getclass \u001b[38;5;129;01mor\u001b[39;00m getlink):\n\u001b[1;32m    399\u001b[0m     \u001b[38;5;28;01mtry\u001b[39;00m:\n\u001b[0;32m--> 400\u001b[0m         \u001b[38;5;28;01mreturn\u001b[39;00m \u001b[38;5;28;43mself\u001b[39;49m\u001b[43m[\u001b[49m\u001b[43mname\u001b[49m\u001b[43m]\u001b[49m\n\u001b[1;32m    401\u001b[0m     \u001b[38;5;28;01mexcept\u001b[39;00m \u001b[38;5;167;01mKeyError\u001b[39;00m:\n\u001b[1;32m    402\u001b[0m         \u001b[38;5;28;01mreturn\u001b[39;00m default\n",
      "File \u001b[0;32mh5py/_objects.pyx:54\u001b[0m, in \u001b[0;36mh5py._objects.with_phil.wrapper\u001b[0;34m()\u001b[0m\n",
      "File \u001b[0;32mh5py/_objects.pyx:55\u001b[0m, in \u001b[0;36mh5py._objects.with_phil.wrapper\u001b[0;34m()\u001b[0m\n",
      "File \u001b[0;32m/glade/work/abukowski/conda-envs/SAMI3-GITM/lib/python3.10/site-packages/h5py/_hl/group.py:357\u001b[0m, in \u001b[0;36mGroup.__getitem__\u001b[0;34m(self, name)\u001b[0m\n\u001b[1;32m    355\u001b[0m         \u001b[38;5;28;01mraise\u001b[39;00m \u001b[38;5;167;01mValueError\u001b[39;00m(\u001b[38;5;124m\"\u001b[39m\u001b[38;5;124mInvalid HDF5 object reference\u001b[39m\u001b[38;5;124m\"\u001b[39m)\n\u001b[1;32m    356\u001b[0m \u001b[38;5;28;01melif\u001b[39;00m \u001b[38;5;28misinstance\u001b[39m(name, (\u001b[38;5;28mbytes\u001b[39m, \u001b[38;5;28mstr\u001b[39m)):\n\u001b[0;32m--> 357\u001b[0m     oid \u001b[38;5;241m=\u001b[39m \u001b[43mh5o\u001b[49m\u001b[38;5;241;43m.\u001b[39;49m\u001b[43mopen\u001b[49m\u001b[43m(\u001b[49m\u001b[38;5;28;43mself\u001b[39;49m\u001b[38;5;241;43m.\u001b[39;49m\u001b[43mid\u001b[49m\u001b[43m,\u001b[49m\u001b[43m \u001b[49m\u001b[38;5;28;43mself\u001b[39;49m\u001b[38;5;241;43m.\u001b[39;49m\u001b[43m_e\u001b[49m\u001b[43m(\u001b[49m\u001b[43mname\u001b[49m\u001b[43m)\u001b[49m\u001b[43m,\u001b[49m\u001b[43m \u001b[49m\u001b[43mlapl\u001b[49m\u001b[38;5;241;43m=\u001b[39;49m\u001b[38;5;28;43mself\u001b[39;49m\u001b[38;5;241;43m.\u001b[39;49m\u001b[43m_lapl\u001b[49m\u001b[43m)\u001b[49m\n\u001b[1;32m    358\u001b[0m \u001b[38;5;28;01melse\u001b[39;00m:\n\u001b[1;32m    359\u001b[0m     \u001b[38;5;28;01mraise\u001b[39;00m \u001b[38;5;167;01mTypeError\u001b[39;00m(\u001b[38;5;124m\"\u001b[39m\u001b[38;5;124mAccessing a group is done with bytes or str, \u001b[39m\u001b[38;5;124m\"\u001b[39m\n\u001b[1;32m    360\u001b[0m                     \u001b[38;5;124m\"\u001b[39m\u001b[38;5;124mnot \u001b[39m\u001b[38;5;132;01m{}\u001b[39;00m\u001b[38;5;124m\"\u001b[39m\u001b[38;5;241m.\u001b[39mformat(\u001b[38;5;28mtype\u001b[39m(name)))\n",
      "File \u001b[0;32mh5py/_objects.pyx:54\u001b[0m, in \u001b[0;36mh5py._objects.with_phil.wrapper\u001b[0;34m()\u001b[0m\n",
      "File \u001b[0;32mh5py/_objects.pyx:55\u001b[0m, in \u001b[0;36mh5py._objects.with_phil.wrapper\u001b[0;34m()\u001b[0m\n",
      "File \u001b[0;32mh5py/h5o.pyx:190\u001b[0m, in \u001b[0;36mh5py.h5o.open\u001b[0;34m()\u001b[0m\n",
      "File \u001b[0;32mh5py/h5i.pyx:43\u001b[0m, in \u001b[0;36mh5py.h5i.wrap_identifier\u001b[0;34m()\u001b[0m\n",
      "File \u001b[0;32m<frozen importlib._bootstrap>:404\u001b[0m, in \u001b[0;36mparent\u001b[0;34m(self)\u001b[0m\n",
      "\u001b[0;31mKeyboardInterrupt\u001b[0m: "
     ]
    }
   ],
   "source": [
    "may_edens_full = auto_read_sami(dir05+\"Full\", cols=samicol, start_idx=start_idx, end_idx = end_idx, use_dask = False)\n",
    "may_edens_half = auto_read_sami(dir05+\"Half\", cols=samicol, start_idx=start_idx, end_idx = end_idx, use_dask = False)\n",
    "\n",
    "may_rho_full = auto_read_gitm(dir05+\"Full\", start_idx=start_idx, end_idx=end_idx, cols = gitmcol)\n",
    "may_rho_half = auto_read_gitm(dir05+\"Half\", start_idx=start_idx, end_idx=end_idx, cols = gitmcol)"
   ]
  },
  {
   "cell_type": "code",
   "execution_count": null,
   "id": "083711d4-949d-4890-8670-b276ea86647f",
   "metadata": {},
   "outputs": [],
   "source": [
    "nov_edens_full = auto_read_sami(dir11+\"Full\", cols=samicol, start_idx=start_idx, end_idx = end_idx, use_dask = False)\n",
    "# nov_edens_half = auto_read_sami(dir11+\"Half\", cols=samicol, start_idx=start_idx, end_idx = end_idx, use_dask = False)\n",
    "\n",
    "nov_rho_full = auto_read_gitm(dir11+\"Full\", start_idx=start_idx, end_idx=end_idx, cols = gitmcol)\n",
    "nov_rho_half = auto_read_gitm(dir11+\"Half\", start_idx=start_idx, end_idx=end_idx, cols = gitmcol)"
   ]
  },
  {
   "cell_type": "code",
   "execution_count": null,
   "id": "8b216ae4-d6b6-4b71-96ff-d2103674781f",
   "metadata": {},
   "outputs": [],
   "source": []
  },
  {
   "cell_type": "code",
   "execution_count": null,
   "id": "1b021c57-c897-4d98-91b5-590d6f752cac",
   "metadata": {},
   "outputs": [],
   "source": [
    "panel_of_maps(get_diffs(may_edens_full.edens.sel(alt=250, method='nearest')),\n",
    "              afewtimes2, 2)\n",
    "\n",
    "panel_of_maps(get_diffs(may_edens_half.edens.sel(alt=250, method='nearest')),\n",
    "              afewtimes2, 2)\n",
    "\n",
    "panel_of_maps(get_diffs(may_edens_full.edens.sel(alt=650, method='nearest')),\n",
    "              afewtimes2, 2)\n",
    "\n",
    "panel_of_maps(get_diffs(may_edens_half.edens.sel(alt=650, method='nearest')),\n",
    "              afewtimes2, 2)"
   ]
  },
  {
   "cell_type": "code",
   "execution_count": null,
   "id": "089dfb72-53c5-4fd9-9e61-2656fe59de07",
   "metadata": {},
   "outputs": [],
   "source": []
  },
  {
   "cell_type": "code",
   "execution_count": null,
   "id": "20f7a66c-503d-46fe-ab22-db0d56dd335f",
   "metadata": {},
   "outputs": [],
   "source": [
    "panel_of_maps(get_diffs(nov_edens_full.edens.sel(alt=250, method='nearest')),\n",
    "              afewtimes2, 2)\n",
    "\n",
    "# panel_of_maps(get_diffs(nov_edens_half.edens.sel(alt=250, method='nearest')),\n",
    "#               afewtimes2, 2)\n",
    "\n",
    "panel_of_maps(get_diffs(nov_edens_full.edens.sel(alt=650, method='nearest')),\n",
    "              afewtimes2, 2)\n",
    "\n",
    "# panel_of_maps(get_diffs(nov_edens_half.edens.sel(alt=650, method='nearest')),\n",
    "#               afewtimes2, 2)"
   ]
  },
  {
   "cell_type": "code",
   "execution_count": null,
   "id": "80125da4-be7a-4c12-92ca-791155291c7e",
   "metadata": {},
   "outputs": [],
   "source": []
  },
  {
   "cell_type": "code",
   "execution_count": null,
   "id": "f31730d2-a700-49e8-aad4-d2e1e68a9e1a",
   "metadata": {},
   "outputs": [],
   "source": []
  },
  {
   "cell_type": "code",
   "execution_count": null,
   "id": "35e8bf6c-92eb-4647-b465-2e41833623ce",
   "metadata": {},
   "outputs": [],
   "source": [
    "fig, axs = plt.subplots(nrows=2, ncols = 2, figsize=(11,8))\n",
    "\n",
    "get_diffs(may_rho_full.Rho.sel(lon=180+50, alt=150, lat=40, method='nearest')).plot(ax=axs[0, 0], label='full-may')\n",
    "get_diffs(may_rho_half.Rho.sel(lon=180+50, alt=150, lat=40, method='nearest')).plot(ax=axs[0, 0], label='half-may')\n",
    "may_rho_full.Rho.sel(lon=180+50, alt=150, lat=40, method='nearest').plot(ax=axs[1, 0], label='full-may-raw')\n",
    "get_fit(may_rho_full.Rho.sel(lon=180+50, alt=150, lat=40, method='nearest')).plot(ax=axs[1, 0], label='full-may-fit')\n",
    "may_rho_half.Rho.sel(lon=180+50, alt=150, lat=40, method='nearest').plot(ax=axs[1, 0], label='half-may-raw')\n",
    "get_fit(may_rho_half.Rho.sel(lon=180+50, alt=150, lat=40, method='nearest')).plot(ax=axs[1, 0], label='half-may-fit')\n",
    "\n",
    "\n",
    "get_diffs(nov_rho_full.Rho.sel(lon=180+50, alt=150, lat=40, method='nearest')).plot(ax=axs[0, 1], label='full-nov')\n",
    "get_diffs(nov_rho_half.Rho.sel(lon=180+50, alt=150, lat=40, method='nearest')).plot(ax=axs[0, 1], label='half-nov')\n",
    "nov_rho_full.Rho.sel(lon=180+50, alt=150, lat=40, method='nearest').plot(ax=axs[1, 1], label='full-nov-raw')\n",
    "get_fit(nov_rho_full.Rho.sel(lon=180+50, alt=150, lat=40, method='nearest')).plot(ax=axs[1, 1], label='full-nov-fit')\n",
    "nov_rho_half.Rho.sel(lon=180+50, alt=150, lat=40, method='nearest').plot(ax=axs[1, 1], label='half-nov-raw')\n",
    "get_fit(nov_rho_half.Rho.sel(lon=180+50, alt=150, lat=40, method='nearest')).plot(ax=axs[1, 1], label='half-nov-fit')\n",
    "\n",
    "axs[0,0].legend()\n",
    "axs[1,0].legend()\n",
    "axs[0,1].legend()\n",
    "axs[1,1].legend()\n",
    "fig.tight_layout()\n",
    "\n",
    "plt.show()\n",
    "plt.close()"
   ]
  },
  {
   "cell_type": "code",
   "execution_count": null,
   "id": "542757f2-f736-4e62-97e9-08c69c7cc696",
   "metadata": {},
   "outputs": [],
   "source": [
    "fig, axs = plt.subplots(nrows=2, ncols = 2, figsize=(11,8))\n",
    "\n",
    "get_diffs(may_edens_full.edens.sel(lon=180+50, alt=150, lat=40, method='nearest')).plot(ax=axs[0, 0], label='full-may')\n",
    "get_diffs(may_edens_half.edens.sel(lon=180+50, alt=150, lat=40, method='nearest')).plot(ax=axs[0, 0], label='half-may')\n",
    "may_edens_full.edens.sel(lon=180+50, alt=150, lat=40, method='nearest').plot(ax=axs[1, 0], label='full-may-raw')\n",
    "get_fit(may_edens_full.edens.sel(lon=180+50, alt=150, lat=40, method='nearest')).plot(ax=axs[1, 0], label='full-may-fit')\n",
    "may_edens_half.edens.sel(lon=180+50, alt=150, lat=40, method='nearest').plot(ax=axs[1, 0], label='half-may-raw')\n",
    "get_fit(may_edens_half.edens.sel(lon=180+50, alt=150, lat=40, method='nearest')).plot(ax=axs[1, 0], label='half-may-fit')\n",
    "\n",
    "\n",
    "get_diffs(nov_edens_full.edens.sel(lon=180+50, alt=150, lat=40, method='nearest')).plot(ax=axs[0, 1], label='full-nov')\n",
    "# get_diffs(nov_edens_half.edens.sel(lon=180+50, alt=150, lat=40, method='nearest')).plot(ax=axs[0, 1], label='half-nov')\n",
    "nov_edens_full.edens.sel(lon=180+50, alt=150, lat=40, method='nearest').plot(ax=axs[1, 1], label='full-nov-raw')\n",
    "get_fit(nov_edens_full.edens.sel(lon=180+50, alt=150, lat=40, method='nearest')).plot(ax=axs[1, 1], label='full-nov-fit')\n",
    "# nov_edens_half.edens.sel(lon=180+50, alt=150, lat=40, method='nearest').plot(ax=axs[1, 1], label='half-nov-raw')\n",
    "# get_fit(nov_edens_half.edens.sel(lon=180+50, alt=150, lat=40, method='nearest')).plot(ax=axs[1, 1], label='half-nov-fit')\n",
    "\n",
    "axs[0,0].legend()\n",
    "axs[1,0].legend()\n",
    "axs[0,1].legend()\n",
    "axs[1,1].legend()\n",
    "fig.tight_layout()\n",
    "\n",
    "plt.show()\n",
    "plt.close()"
   ]
  },
  {
   "cell_type": "code",
   "execution_count": null,
   "id": "e3ce148a-696d-4d3f-844d-6d23ac9709dc",
   "metadata": {},
   "outputs": [],
   "source": []
  },
  {
   "cell_type": "code",
   "execution_count": null,
   "id": "eaa7ad99-7fe3-4b6a-be11-a42b47ef4b15",
   "metadata": {},
   "outputs": [],
   "source": []
  },
  {
   "cell_type": "code",
   "execution_count": null,
   "id": "6052fd93-33a4-4246-a020-ca6606d1bf7a",
   "metadata": {},
   "outputs": [],
   "source": [
    "lons = np.linspace(0,360,7)[:-1]"
   ]
  },
  {
   "cell_type": "code",
   "execution_count": null,
   "id": "966a8359-3f77-468d-9f7f-a00f67b19e4b",
   "metadata": {},
   "outputs": [],
   "source": [
    "lons"
   ]
  },
  {
   "cell_type": "code",
   "execution_count": null,
   "id": "e994c835-b102-4091-b16b-f9d811636f4f",
   "metadata": {},
   "outputs": [],
   "source": [
    "panel_of_keos(get_diffs(may_edens_full.edens.sel(alt=250, method='nearest')),\n",
    "              lons, 2)\n",
    "\n",
    "panel_of_keos(get_diffs(may_edens_full.edens.sel(alt=650, method='nearest')),\n",
    "              lons, 2)\n",
    "\n",
    "panel_of_keos(get_diffs(nov_edens_full.edens.sel(alt=250, method='nearest')),\n",
    "              lons, 2)\n",
    "\n",
    "panel_of_keos(get_diffs(nov_edens_full.edens.sel(alt=650, method='nearest')),\n",
    "              lons, 2)"
   ]
  },
  {
   "cell_type": "code",
   "execution_count": null,
   "id": "0e4215ba-d81d-464b-ac33-e5f0434f7671",
   "metadata": {},
   "outputs": [],
   "source": []
  },
  {
   "cell_type": "code",
   "execution_count": null,
   "id": "38cfcf15-b5ec-4b37-adf6-ec333939dd93",
   "metadata": {},
   "outputs": [],
   "source": [
    "panel_of_keos(get_diffs(may_rho_full.Rho.sel(alt=250, method='nearest')),\n",
    "              lons, 2)\n",
    "\n",
    "panel_of_keos(get_diffs(may_rho_full.Rho.sel(alt=650, method='nearest')),\n",
    "              lons, 2)\n",
    "\n",
    "panel_of_keos(get_diffs(nov_rho_full.Rho.sel(alt=250, method='nearest')),\n",
    "              lons, 2)\n",
    "\n",
    "panel_of_keos(get_diffs(nov_rho_full.Rho.sel(alt=650, method='nearest')),\n",
    "              lons, 2)"
   ]
  },
  {
   "cell_type": "code",
   "execution_count": null,
   "id": "c8b43147-d937-4734-9c15-38e71cf5af60",
   "metadata": {},
   "outputs": [],
   "source": []
  },
  {
   "cell_type": "code",
   "execution_count": null,
   "id": "7fa0f32c-05f1-4f9f-bb3e-e654f8cae853",
   "metadata": {},
   "outputs": [],
   "source": [
    "lats = np.linspace(-45,45, 6); lats"
   ]
  },
  {
   "cell_type": "code",
   "execution_count": null,
   "id": "0f305da1-62e8-4177-ab0e-f5528de2bc24",
   "metadata": {},
   "outputs": [],
   "source": [
    "panel_of_lat_keos(get_diffs(may_rho_full.Rho.sel(alt=250, method='nearest')),\n",
    "              lats, 2)\n",
    "\n",
    "panel_of_lat_keos(get_diffs(may_rho_full.Rho.sel(alt=650, method='nearest')),\n",
    "              lats, 2)\n",
    "\n",
    "panel_of_lat_keos(get_diffs(nov_rho_full.Rho.sel(alt=250, method='nearest')),\n",
    "              lats, 2)\n",
    "\n",
    "panel_of_lat_keos(get_diffs(nov_rho_full.Rho.sel(alt=650, method='nearest')),\n",
    "              lats, 2)"
   ]
  },
  {
   "cell_type": "code",
   "execution_count": null,
   "id": "05ea80d5-632c-48b5-99ce-67315a2febea",
   "metadata": {},
   "outputs": [],
   "source": []
  },
  {
   "cell_type": "code",
   "execution_count": null,
   "id": "5b976a2d-65cd-487c-a9e9-60cb734c9e14",
   "metadata": {},
   "outputs": [],
   "source": []
  },
  {
   "cell_type": "code",
   "execution_count": null,
   "id": "7d91ee14-1747-452c-93dd-9029ce8df300",
   "metadata": {},
   "outputs": [],
   "source": []
  },
  {
   "cell_type": "code",
   "execution_count": null,
   "id": "4be50c40-65e3-455c-a820-4b79c6720abc",
   "metadata": {},
   "outputs": [],
   "source": [
    "get_diffs(nov_rho_full.Rho.sel(alt=650, lon=300, method='nearest')).plot()"
   ]
  },
  {
   "cell_type": "code",
   "execution_count": null,
   "id": "cc7e97d8-6036-4ef8-b88b-2afaf63a85b4",
   "metadata": {},
   "outputs": [],
   "source": [
    "plt.imshow(get_diffs((nov_rho_full.Rho.sel(alt=650, lon=2, method='nearest')).T.values - (may_rho_full.Rho.sel(alt=650,lon=2, method='nearest')).T.values),\n",
    "          cmap = 'bwr', aspect='auto', vmin=-20, vmax=20)\n",
    "plt.colorbar()"
   ]
  },
  {
   "cell_type": "code",
   "execution_count": null,
   "id": "858b15f8-5fe0-4dbd-944e-75d48d90b63f",
   "metadata": {},
   "outputs": [],
   "source": []
  },
  {
   "cell_type": "code",
   "execution_count": null,
   "id": "f5624f2d-bfc2-41bc-8e73-5d9f093a2131",
   "metadata": {},
   "outputs": [],
   "source": []
  }
 ],
 "metadata": {
  "kernelspec": {
   "display_name": "Python [conda env:SAMI3-GITM]",
   "language": "python",
   "name": "conda-env-SAMI3-GITM-py"
  },
  "language_info": {
   "codemirror_mode": {
    "name": "ipython",
    "version": 3
   },
   "file_extension": ".py",
   "mimetype": "text/x-python",
   "name": "python",
   "nbconvert_exporter": "python",
   "pygments_lexer": "ipython3",
   "version": "3.10.11"
  }
 },
 "nbformat": 4,
 "nbformat_minor": 5
}
