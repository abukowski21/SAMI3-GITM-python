{
 "cells": [
  {
   "cell_type": "code",
   "execution_count": 2,
   "id": "85eb7ef2-1bfb-4a82-97f5-d1b595f405ff",
   "metadata": {
    "tags": []
   },
   "outputs": [],
   "source": [
    "import os\n",
    "import sys\n",
    "import glob"
   ]
  },
  {
   "cell_type": "code",
   "execution_count": 3,
   "id": "ed942660-9555-44fb-aa6b-a906e5cb42fb",
   "metadata": {
    "tags": []
   },
   "outputs": [],
   "source": [
    "sys.path.append('../')"
   ]
  },
  {
   "cell_type": "code",
   "execution_count": 4,
   "id": "5feb5d5f-9f15-4fee-8d94-f43c32afb737",
   "metadata": {
    "tags": []
   },
   "outputs": [],
   "source": [
    "import RegridSami\n",
    "import xarray as xr\n",
    "import pandas as pd\n",
    "import numpy as np\n",
    "import matplotlib.pyplot as plt"
   ]
  },
  {
   "cell_type": "code",
   "execution_count": null,
   "id": "6f332241-1e1a-4856-b7e1-8ea45f4a69dc",
   "metadata": {},
   "outputs": [],
   "source": []
  },
  {
   "cell_type": "code",
   "execution_count": 5,
   "id": "bd73b93b-dd30-4f91-a67d-1ba5383c4ff6",
   "metadata": {
    "tags": []
   },
   "outputs": [
    {
     "data": {
      "text/plain": [
       "array(['/petastore/phil/DMSP_INTERPOLATIONS/dmsp-eph/F16_eph_13075.txt',\n",
       "       '/petastore/phil/DMSP_INTERPOLATIONS/dmsp-eph/F16_eph_13076.txt',\n",
       "       '/petastore/phil/DMSP_INTERPOLATIONS/dmsp-eph/F16_eph_13077.txt',\n",
       "       '/petastore/phil/DMSP_INTERPOLATIONS/dmsp-eph/F17_eph_13075.txt',\n",
       "       '/petastore/phil/DMSP_INTERPOLATIONS/dmsp-eph/F17_eph_13076.txt',\n",
       "       '/petastore/phil/DMSP_INTERPOLATIONS/dmsp-eph/F17_eph_13077.txt',\n",
       "       '/petastore/phil/DMSP_INTERPOLATIONS/dmsp-eph/F18_eph_13075.txt',\n",
       "       '/petastore/phil/DMSP_INTERPOLATIONS/dmsp-eph/F18_eph_13076.txt',\n",
       "       '/petastore/phil/DMSP_INTERPOLATIONS/dmsp-eph/F18_eph_13077.txt'],\n",
       "      dtype='<U62')"
      ]
     },
     "execution_count": 5,
     "metadata": {},
     "output_type": "execute_result"
    }
   ],
   "source": [
    "eph_files = np.sort(glob.glob('/petastore/phil/DMSP_INTERPOLATIONS/dmsp-eph/*'))\n",
    "eph_files"
   ]
  },
  {
   "cell_type": "code",
   "execution_count": 6,
   "id": "3d8bafab-cf27-4de6-b34d-85d370293fdf",
   "metadata": {
    "tags": []
   },
   "outputs": [
    {
     "data": {
      "text/plain": [
       "array(['F16', 'F17', 'F18'], dtype='<U3')"
      ]
     },
     "execution_count": 6,
     "metadata": {},
     "output_type": "execute_result"
    }
   ],
   "source": [
    "satnames = np.unique([fname.split('/')[-1][:3] for fname in eph_files])\n",
    "satnames"
   ]
  },
  {
   "cell_type": "code",
   "execution_count": 15,
   "id": "376d0975-f01a-4609-995b-9c313a7f521d",
   "metadata": {
    "tags": []
   },
   "outputs": [
    {
     "name": "stdout",
     "output_type": "stream",
     "text": [
      "Found existing triangulation file. Recalculating... \n",
      "(Specify save_delauney=True to reuse)\n"
     ]
    },
    {
     "data": {
      "application/vnd.jupyter.widget-view+json": {
       "model_id": "eede8afeff1b4551b87f68d4a9c5ec26",
       "version_major": 2,
       "version_minor": 0
      },
      "text/plain": [
       "Reading in SAMI data:   0%|          | 0/596 [00:00<?, ?it/s]"
      ]
     },
     "metadata": {},
     "output_type": "display_data"
    },
    {
     "name": "stdout",
     "output_type": "stream",
     "text": [
      "Found existing triangulation file. Recalculating... \n",
      "(Specify save_delauney=True to reuse)\n"
     ]
    },
    {
     "data": {
      "application/vnd.jupyter.widget-view+json": {
       "model_id": "98e59ea7a9324d86a65648fdf8ac83ca",
       "version_major": 2,
       "version_minor": 0
      },
      "text/plain": [
       "Reading in SAMI data:   0%|          | 0/596 [00:00<?, ?it/s]"
      ]
     },
     "metadata": {},
     "output_type": "display_data"
    },
    {
     "name": "stdout",
     "output_type": "stream",
     "text": [
      "Found existing triangulation file. Recalculating... \n",
      "(Specify save_delauney=True to reuse)\n"
     ]
    },
    {
     "data": {
      "application/vnd.jupyter.widget-view+json": {
       "model_id": "fa4134aea25344bb916a3f6673592bba",
       "version_major": 2,
       "version_minor": 0
      },
      "text/plain": [
       "Reading in SAMI data:   0%|          | 0/596 [00:00<?, ?it/s]"
      ]
     },
     "metadata": {},
     "output_type": "display_data"
    }
   ],
   "source": [
    "for sat in satnames:\n",
    "    files_each_sat = [fname for fname in eph_files if sat in fname]\n",
    "    \n",
    "    dfs = []\n",
    "    for fname in files_each_sat:\n",
    "        dfs.append(pd.read_fwf(fname))\n",
    "    sat_df = pd.concat(dfs).reset_index(drop=True)\n",
    "    \n",
    "    sat_df['time'] = [pd.Timestamp(str(sat_df['Year'][i]) + '-01-01') + pd.Timedelta(sat_df['DOY'][i]-1, unit='d') + pd.Timedelta(sat_df['UT(sec)'][i], unit='s') for i in range(len(sat_df))]\n",
    "    \n",
    "    RegridSami.do_interpolations('/petastore/phil/Prasoon_satellite_project/more_runs/20130317/sami-gitm-coupled/',\n",
    "                                 dtime_sim_start='20130316',\n",
    "                                 out_lat_lon_alt=np.array(sat_df[['GLAT','GLON','ALT']]).T,\n",
    "                                out_path='/petastore/phil/DMSP_INTERPOLATIONS/interpolated/20130317/',\n",
    "                                out_runname=sat,\n",
    "                                sat_times=sat_df.time,\n",
    "                                cols='edens',\n",
    "                                save_delauney=False,\n",
    "                                show_progress=True,\n",
    "                                return_ds_too=False)\n"
   ]
  },
  {
   "cell_type": "code",
   "execution_count": null,
   "id": "600d1a94-c781-41a7-b41d-9004ee048e71",
   "metadata": {},
   "outputs": [],
   "source": []
  },
  {
   "cell_type": "code",
   "execution_count": 16,
   "id": "495fb893-1c58-41b6-aa39-6f4f34956883",
   "metadata": {
    "tags": []
   },
   "outputs": [
    {
     "name": "stdout",
     "output_type": "stream",
     "text": [
      "0\n",
      "0\n",
      "0\n"
     ]
    }
   ],
   "source": [
    "for i in glob.glob('/petastore/phil/DMSP_INTERPOLATIONS/interpolated/20130317/*.nc'):\n",
    "    ds = xr.open_dataset(i)\n",
    "    print(np.sum(np.isnan(ds.edens.values)))"
   ]
  },
  {
   "cell_type": "code",
   "execution_count": null,
   "id": "1ba0be3f-5e4a-4f29-a03c-20f84baa8e32",
   "metadata": {},
   "outputs": [],
   "source": []
  },
  {
   "cell_type": "code",
   "execution_count": null,
   "id": "4f017501-c653-4d43-84c8-0e81f096f2dd",
   "metadata": {},
   "outputs": [],
   "source": []
  },
  {
   "cell_type": "code",
   "execution_count": 9,
   "id": "d4ccafaf-7a3d-4493-915a-df1ee5ee2408",
   "metadata": {
    "tags": []
   },
   "outputs": [],
   "source": [
    "ds2 = xr.open_dataset('/petastore/phil/DMSP_INTERPOLATIONS/interpolated/20130317/F16_SAT_INTERP.nc')"
   ]
  },
  {
   "cell_type": "code",
   "execution_count": 10,
   "id": "fa2a4e89-facb-4234-a75c-e778f0067fc1",
   "metadata": {
    "tags": []
   },
   "outputs": [
    {
     "data": {
      "text/plain": [
       "[<matplotlib.lines.Line2D at 0x2b6cbdcf1d80>]"
      ]
     },
     "execution_count": 10,
     "metadata": {},
     "output_type": "execute_result"
    },
    {
     "data": {
      "image/png": "[encoded data removed]",
      "text/plain": [
       "<Figure size 640x480 with 1 Axes>"
      ]
     },
     "metadata": {},
     "output_type": "display_data"
    }
   ],
   "source": [
    "\n",
    "ds2.sat_time.plot()"
   ]
  },
  {
   "cell_type": "code",
   "execution_count": 13,
   "id": "e7af1f59-3965-47c2-ab7f-e1794dbdfe0e",
   "metadata": {
    "tags": []
   },
   "outputs": [
    {
     "data": {
      "text/plain": [
       "(0, 154070768)"
      ]
     },
     "execution_count": 13,
     "metadata": {},
     "output_type": "execute_result"
    }
   ],
   "source": [
    "np.sum(np.isnan(ds2.edens.values)) , np.product(ds2.edens.values.shape)"
   ]
  },
  {
   "cell_type": "code",
   "execution_count": 14,
   "id": "954401ed-216a-4af7-8498-f4113104fa50",
   "metadata": {
    "tags": []
   },
   "outputs": [],
   "source": [
    "ds2.close()"
   ]
  },
  {
   "cell_type": "code",
   "execution_count": null,
   "id": "ce3ba8ad-f84a-4601-9c28-59153caf498c",
   "metadata": {},
   "outputs": [],
   "source": []
  },
  {
   "cell_type": "code",
   "execution_count": null,
   "id": "308b455c-a3fc-4a5c-8620-dd7cf4f06d81",
   "metadata": {},
   "outputs": [],
   "source": []
  }
 ],
 "metadata": {
  "kernelspec": {
   "display_name": "Python [conda env:.conda-s3g]",
   "language": "python",
   "name": "conda-env-.conda-s3g-py"
  },
  "language_info": {
   "codemirror_mode": {
    "name": "ipython",
    "version": 3
   },
   "file_extension": ".py",
   "mimetype": "text/x-python",
   "name": "python",
   "nbconvert_exporter": "python",
   "pygments_lexer": "ipython3",
   "version": "3.10.11"
  }
 },
 "nbformat": 4,
 "nbformat_minor": 5
}
