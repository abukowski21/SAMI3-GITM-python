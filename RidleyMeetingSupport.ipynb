{
 "cells": [
  {
   "cell_type": "code",
   "execution_count": null,
   "id": "640ab01d-d9b1-4b99-a693-c8606d7b578e",
   "metadata": {},
   "outputs": [],
   "source": []
  },
  {
   "cell_type": "code",
   "execution_count": 1,
   "id": "b7d889ac-4cf2-4c88-8438-b03afbdad119",
   "metadata": {},
   "outputs": [
    {
     "name": "stderr",
     "output_type": "stream",
     "text": [
      "/glade/work/abukowski/conda-envs/SAMI3-GITM/lib/python3.10/site-packages/tqdm/auto.py:21: TqdmWarning: IProgress not found. Please update jupyter and ipywidgets. See https://ipywidgets.readthedocs.io/en/stable/user_install.html\n",
      "  from .autonotebook import tqdm as notebook_tqdm\n"
     ]
    }
   ],
   "source": [
    "import xarray as xr\n",
    "import cartopy.crs as ccrs\n",
    "import numpy as np\n",
    "from scipy import signal \n",
    "\n",
    "from datetime import datetime, timedelta\n",
    "\n",
    "import matplotlib.pyplot as plt\n",
    "\n",
    "from utility_programs.read_routines.GITM import auto_read as auto_read_gitm\n",
    "from  utility_programs.read_routines.SAMI import auto_read as auto_read_sami\n",
    "import utility_programs.filters as filters\n",
    "\n",
    "import gc\n",
    "\n",
    "from tqdm.auto import tqdm\n",
    "import glob, os\n",
    "\n",
    "import importlib"
   ]
  },
  {
   "cell_type": "code",
   "execution_count": 16,
   "id": "acfee393-4f7e-4a8d-aa0b-471b36f148ea",
   "metadata": {},
   "outputs": [],
   "source": [
    "\n",
    "t_11 = datetime(2011,11,20)\n",
    "t_05 = datetime(2011, 5,20)\n",
    "\n",
    "t_start0 = timedelta(days=1) # Delta from t_start\n",
    "t_end0 = timedelta(days=2)     #  in hours\n",
    "\n",
    "\n",
    "\n",
    "dirs = {'may':'/glade/u/home/abukowski/scratch/simstorm-20110521/postprocessed/1hr/',}\n",
    "        # 'nov':'/glade/u/home/abukowski/scratch/simstorm-20111121/postprocessed/1hr/'}"
   ]
  },
  {
   "cell_type": "code",
   "execution_count": 17,
   "id": "cfc81159-f6cc-44ed-b810-1629fbd26fe7",
   "metadata": {},
   "outputs": [],
   "source": [
    "\n",
    "afewtimes = [10,20,30,40,50,60,70,80]\n",
    "\n",
    "alts = [225, 400, 660, 850]\n",
    "\n",
    "lons = np.linspace(0,360,7)[:-1]\n",
    "\n",
    "gitmcol  = ['Rho']\n",
    "samicol  = ['edens']"
   ]
  },
  {
   "cell_type": "code",
   "execution_count": 18,
   "id": "f5911fc7-1af8-46fd-b63f-797eb1584185",
   "metadata": {},
   "outputs": [
    {
     "data": {
      "text/plain": [
       "['Rho', 'edens']"
      ]
     },
     "execution_count": 18,
     "metadata": {},
     "output_type": "execute_result"
    }
   ],
   "source": [
    "gitmcol + samicol"
   ]
  },
  {
   "cell_type": "code",
   "execution_count": 19,
   "id": "7470c317-e141-4d27-becc-bf5b9bea9da8",
   "metadata": {},
   "outputs": [],
   "source": [
    "# Just want to make an example time_list. \n",
    "# Can & should be changed in the future.\n",
    "\n",
    "\n",
    "times = []\n",
    "t = t_05\n",
    "max_dtime = t_05 + timedelta(days=7)\n",
    "while t < max_dtime:\n",
    "    times.append(t)\n",
    "    t+=timedelta(minutes=5)\n",
    "times = np.array(times)\n",
    "\n",
    "start_idx = np.argmin(np.abs(times - (t_05 + t_start0)))\n",
    "end_idx = np.argmin(np.abs(times - (t_05 + t_end0)))"
   ]
  },
  {
   "cell_type": "code",
   "execution_count": null,
   "id": "340b8879-54ac-4941-8a14-e7287dd456c4",
   "metadata": {},
   "outputs": [],
   "source": []
  },
  {
   "cell_type": "code",
   "execution_count": 20,
   "id": "dc5cfa55-8f8c-44cf-b8f9-7367ac6e4b22",
   "metadata": {},
   "outputs": [],
   "source": [
    "data = {}\n",
    "data_dirs_dict = {}\n",
    "\n",
    "for mn in dirs.keys():\n",
    "    for path in os.listdir(dirs[mn]):\n",
    "        data_dirs_dict[mn+'-'+path.lower()] = dirs[mn]+path\n",
    "\n",
    "\n"
   ]
  },
  {
   "cell_type": "code",
   "execution_count": 21,
   "id": "3fb6c7ab-733f-4b04-bef4-a2f3e56d45fd",
   "metadata": {},
   "outputs": [
    {
     "data": {
      "text/plain": [
       "'/glade/u/home/abukowski/scratch/simstorm-20110521/postprocessed/1hr/'"
      ]
     },
     "execution_count": 21,
     "metadata": {},
     "output_type": "execute_result"
    }
   ],
   "source": [
    "dirs[mn]"
   ]
  },
  {
   "cell_type": "code",
   "execution_count": null,
   "id": "77afd5d9-9707-4df3-8af9-ab5726929933",
   "metadata": {},
   "outputs": [],
   "source": []
  },
  {
   "cell_type": "code",
   "execution_count": 22,
   "id": "0581bd42-5fe7-4849-9013-ee86335208c9",
   "metadata": {},
   "outputs": [
    {
     "data": {
      "text/plain": [
       "{'may-1hr-full': '/glade/u/home/abukowski/scratch/simstorm-20110521/postprocessed/1hr/1hr-full',\n",
       " 'may-1hr-ut6': '/glade/u/home/abukowski/scratch/simstorm-20110521/postprocessed/1hr/1hr-ut6',\n",
       " 'may-1hr-half': '/glade/u/home/abukowski/scratch/simstorm-20110521/postprocessed/1hr/1hr-half'}"
      ]
     },
     "execution_count": 22,
     "metadata": {},
     "output_type": "execute_result"
    }
   ],
   "source": [
    "data_dirs_dict"
   ]
  },
  {
   "cell_type": "code",
   "execution_count": 24,
   "id": "d5728a5d-8eb8-42e4-b7e8-f5f25e615158",
   "metadata": {},
   "outputs": [
    {
     "name": "stderr",
     "output_type": "stream",
     "text": [
      "\n",
      "reading in data:   0%|          | 0/3 [00:20<?, ?it/s]\u001b[A\n",
      "\n",
      "reading in data:  33%|███▎      | 1/3 [04:07<08:14, 247.33s/it]\u001b[A\n",
      "reading in data:  67%|██████▋   | 2/3 [08:45<04:25, 265.61s/it]\u001b[A\n",
      "reading in data: 100%|██████████| 3/3 [13:58<00:00, 287.00s/it]\u001b[A"
     ]
    }
   ],
   "source": [
    "pbar=tqdm(total=len(data_dirs_dict), desc='reading in data')\n",
    "\n",
    "\n",
    "# May files\n",
    "for mn in dirs.keys():\n",
    "    for path in os.listdir(dirs[mn]):\n",
    "        \n",
    "        # # data[mn+'-'+path.lower()] = 0\n",
    "        # data[mn+'-'+path.lower() + '-sami'] = auto_read_sami(dirs[mn]+path, cols=samicol,\n",
    "        #                                              start_idx=start_idx, end_idx=end_idx, use_dask=True)\n",
    "        # pbar.update()\n",
    "        if 'Q' not in path:\n",
    "            data[mn+'-'+path.lower() + '-gitm'] = auto_read_gitm(dirs[mn]+path, cols=gitmcol,\n",
    "                                                     start_idx=start_idx, end_idx=end_idx, use_dask=True)\n",
    "        pbar.update()"
   ]
  },
  {
   "cell_type": "code",
   "execution_count": null,
   "id": "44f18f82-c983-4ee4-a19f-96b18c4610b3",
   "metadata": {},
   "outputs": [],
   "source": []
  },
  {
   "cell_type": "code",
   "execution_count": 25,
   "id": "ebea9010-47f3-413f-9a28-bfb2b1c6e705",
   "metadata": {},
   "outputs": [],
   "source": [
    "out_data_dir = '/glade/u/home/abukowski/scratch/tmp/rho_edens_datasets'"
   ]
  },
  {
   "cell_type": "code",
   "execution_count": null,
   "id": "c88bfa6f-31b8-43a7-aac2-5ef84ea2d72c",
   "metadata": {},
   "outputs": [],
   "source": []
  },
  {
   "cell_type": "code",
   "execution_count": 26,
   "id": "f2e54474-7bad-4c26-8a05-3e1fad07b966",
   "metadata": {},
   "outputs": [
    {
     "data": {
      "text/plain": [
       "dict_keys(['may-1hr-full-gitm', 'may-1hr-ut6-gitm', 'may-1hr-half-gitm'])"
      ]
     },
     "execution_count": 26,
     "metadata": {},
     "output_type": "execute_result"
    }
   ],
   "source": [
    "data.keys()"
   ]
  },
  {
   "cell_type": "code",
   "execution_count": null,
   "id": "3c9e58a5-a409-4b93-9799-7332d70793dc",
   "metadata": {},
   "outputs": [],
   "source": []
  },
  {
   "cell_type": "code",
   "execution_count": null,
   "id": "4011ad80-4fbd-476c-bea6-9e8a9929a263",
   "metadata": {},
   "outputs": [],
   "source": []
  },
  {
   "cell_type": "code",
   "execution_count": 27,
   "id": "8706c001-40cf-4a2e-ac9a-e25f47d081bc",
   "metadata": {},
   "outputs": [],
   "source": [
    "for file in data.keys():\n",
    "    data[file].to_netcdf(os.path.join(out_data_dir, file),\n",
    "        encoding={'time': {\"dtype\": \"float\"}})\n"
   ]
  },
  {
   "cell_type": "code",
   "execution_count": 28,
   "id": "32ae0929-5f34-4014-bfc3-fd7c78b2e42e",
   "metadata": {},
   "outputs": [
    {
     "name": "stdout",
     "output_type": "stream",
     "text": [
      "done all!!\n"
     ]
    }
   ],
   "source": [
    "print('done all!!')"
   ]
  },
  {
   "cell_type": "code",
   "execution_count": null,
   "id": "9d68d0cb-52ef-4bd6-97b8-58c352028abd",
   "metadata": {},
   "outputs": [],
   "source": []
  },
  {
   "cell_type": "code",
   "execution_count": null,
   "id": "4050c237-9015-4802-a055-e3a03e81355c",
   "metadata": {},
   "outputs": [],
   "source": []
  },
  {
   "cell_type": "code",
   "execution_count": null,
   "id": "d9600fff-3d40-44d9-be15-2a08778c7dbb",
   "metadata": {},
   "outputs": [],
   "source": []
  },
  {
   "cell_type": "code",
   "execution_count": null,
   "id": "bcaac630-6ef4-44bc-8984-3e517986459b",
   "metadata": {},
   "outputs": [],
   "source": []
  }
 ],
 "metadata": {
  "kernelspec": {
   "display_name": "Python [conda env:SAMI3-GITM]",
   "language": "python",
   "name": "conda-env-SAMI3-GITM-py"
  },
  "language_info": {
   "codemirror_mode": {
    "name": "ipython",
    "version": 3
   },
   "file_extension": ".py",
   "mimetype": "text/x-python",
   "name": "python",
   "nbconvert_exporter": "python",
   "pygments_lexer": "ipython3",
   "version": "3.10.11"
  }
 },
 "nbformat": 4,
 "nbformat_minor": 5
}
