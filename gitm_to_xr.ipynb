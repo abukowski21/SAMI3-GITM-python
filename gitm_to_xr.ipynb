{
 "cells": [
  {
   "cell_type": "code",
   "execution_count": 49,
   "metadata": {},
   "outputs": [],
   "source": [
    "from utility_programs.read_routines import GITM\n",
    "import numpy as np\n",
    "from glob import glob\n",
    "import os\n",
    "\n",
    "from tqdm.auto import tqdm\n",
    "import xarray as xr\n",
    "import matplotlib.pyplot as plt\n",
    "from struct import unpack\n",
    "import datetime"
   ]
  },
  {
   "cell_type": "code",
   "execution_count": 50,
   "metadata": {},
   "outputs": [],
   "source": [
    "gitm_dir = '/petastore/phil/GITM/cheyenne_runs/FullAmp/data'"
   ]
  },
  {
   "cell_type": "code",
   "execution_count": 51,
   "metadata": {},
   "outputs": [],
   "source": [
    "files = np.sort(glob(os.path.join(gitm_dir, '*.bin')))"
   ]
  },
  {
   "cell_type": "code",
   "execution_count": 52,
   "metadata": {},
   "outputs": [],
   "source": [
    "start = datetime.datetime(2011, 5, 21, 8)\n",
    "# end = datetime.datetime(2011,5,21,9)"
   ]
  },
  {
   "cell_type": "code",
   "execution_count": 53,
   "metadata": {},
   "outputs": [],
   "source": [
    "import importlib"
   ]
  },
  {
   "cell_type": "code",
   "execution_count": null,
   "metadata": {},
   "outputs": [],
   "source": []
  },
  {
   "cell_type": "code",
   "execution_count": 80,
   "metadata": {},
   "outputs": [
    {
     "name": "stdout",
     "output_type": "stream",
     "text": [
      "filtered 768 out of 1250 files by time\n",
      "looks like all files have already been processed. you can run again if you need to reprocess all netcdfs\n"
     ]
    },
    {
     "data": {
      "application/vnd.jupyter.widget-view+json": {
       "model_id": "9cf44aa8d25443c0b0f29fb887e9c629",
       "version_major": 2,
       "version_minor": 0
      },
      "text/plain": [
       "0it [00:00, ?it/s]"
      ]
     },
     "metadata": {},
     "output_type": "display_data"
    },
    {
     "name": "stdout",
     "output_type": "stream",
     "text": [
      "FILES WILL BE DELETED. YOU HAVE BEEN WARNED.\n",
      "Done!\n"
     ]
    }
   ],
   "source": [
    "\n",
    "\n",
    "# GITM.process_all_to_cdf(gitm_dir, delete_bins=True, progress_bar = True, drop_ghost_cells = True, drop_before=start, skip_existing=True)"
   ]
  },
  {
   "cell_type": "code",
   "execution_count": 88,
   "metadata": {},
   "outputs": [
    {
     "name": "stdout",
     "output_type": "stream",
     "text": [
      "CPU times: user 43.3 s, sys: 17.1 s, total: 1min\n",
      "Wall time: 41.5 s\n",
      "CPU times: user 26.4 s, sys: 504 ms, total: 26.9 s\n",
      "Wall time: 31.1 s\n"
     ]
    }
   ],
   "source": [
    "%time ds = GITM.auto_gitm_read(gitm_dir, parallel=True)\n"
   ]
  },
  {
   "cell_type": "code",
   "execution_count": null,
   "metadata": {},
   "outputs": [],
   "source": [
    "%time ds.nbytes/1e9\n",
    "%time ds2.nbytes/1e9"
   ]
  },
  {
   "cell_type": "code",
   "execution_count": null,
   "metadata": {},
   "outputs": [],
   "source": []
  }
 ],
 "metadata": {
  "kernelspec": {
   "display_name": "py38",
   "language": "python",
   "name": "python3"
  },
  "language_info": {
   "codemirror_mode": {
    "name": "ipython",
    "version": 3
   },
   "file_extension": ".py",
   "mimetype": "text/x-python",
   "name": "python",
   "nbconvert_exporter": "python",
   "pygments_lexer": "ipython3",
   "version": "3.8.16"
  },
  "orig_nbformat": 4
 },
 "nbformat": 4,
 "nbformat_minor": 2
}
