{
 "cells": [
  {
   "cell_type": "code",
   "execution_count": null,
   "id": "e2c31991-653d-4147-8406-96f44b421922",
   "metadata": {},
   "outputs": [],
   "source": []
  },
  {
   "cell_type": "code",
   "execution_count": 1,
   "id": "03518259-c1aa-4f01-842c-20bb371a6ff3",
   "metadata": {},
   "outputs": [],
   "source": [
    "import xarray as xr\n",
    "import matplotlib.pyplot as plt\n",
    "import pandas as pd\n",
    "import importlib\n",
    "import os\n",
    "from glob import glob\n",
    "from tqdm import tqdm\n",
    "import numpy as np\n",
    "\n",
    "import datetime\n",
    "\n",
    "from  utility_programs.read_routines import SAMI\n",
    "\n",
    "import cartopy.crs as ccrs\n",
    "\n",
    "from datetime import datetime\n",
    "import pyinterp\n",
    "\n",
    "\n",
    "import cartopy.crs as ccrs"
   ]
  },
  {
   "cell_type": "code",
   "execution_count": null,
   "id": "ccb82a17-7480-4a52-a02f-affaaa8417d2",
   "metadata": {},
   "outputs": [],
   "source": []
  },
  {
   "cell_type": "code",
   "execution_count": null,
   "id": "57a43d71-67e6-46fd-b69d-0c30fa14c01a",
   "metadata": {},
   "outputs": [],
   "source": []
  },
  {
   "cell_type": "code",
   "execution_count": 2,
   "id": "d860098f-485f-43ff-8616-51c64998770e",
   "metadata": {},
   "outputs": [],
   "source": [
    "sami_data_path = '/glade/u/home/abukowski/scratch/simstorm-20110521/GITM-simstorm-run1/sami-gitm-coupled-lores/'"
   ]
  },
  {
   "cell_type": "code",
   "execution_count": 3,
   "id": "476eda93-254e-4ade-b9f1-fc06e948c1a8",
   "metadata": {},
   "outputs": [],
   "source": [
    "SAMI = importlib.reload(SAMI)"
   ]
  },
  {
   "cell_type": "code",
   "execution_count": 4,
   "id": "12540a76-9a78-48bf-b12d-e4811f52e06b",
   "metadata": {},
   "outputs": [
    {
     "name": "stdout",
     "output_type": "stream",
     "text": [
      "skipping deni1u.dat because it is not in cols\n",
      "skipping deni2u.dat because it is not in cols\n",
      "skipping deni3u.dat because it is not in cols\n",
      "skipping deni4u.dat because it is not in cols\n",
      "skipping deni5u.dat because it is not in cols\n",
      "skipping deni6u.dat because it is not in cols\n",
      "skipping deni7u.dat because it is not in cols\n",
      "skipping denn1u.dat because it is not in cols\n",
      "skipping denn2u.dat because it is not in cols\n",
      "skipping denn3u.dat because it is not in cols\n",
      "skipping denn4u.dat because it is not in cols\n",
      "skipping denn5u.dat because it is not in cols\n",
      "skipping denn6u.dat because it is not in cols\n",
      "skipping denn7u.dat because it is not in cols\n",
      "skipping teu.dat because it is not in cols\n",
      "skipping ti1u.dat because it is not in cols\n",
      "skipping ti2u.dat because it is not in cols\n",
      "skipping ti5u.dat because it is not in cols\n",
      "skipping vsi1u.dat because it is not in cols\n",
      "skipping vsi2u.dat because it is not in cols\n",
      "skipping u1pu.dat because it is not in cols\n",
      "skipping u3hu.dat because it is not in cols\n",
      "skipping u1u.dat because it is not in cols\n",
      "skipping u2u.dat because it is not in cols\n",
      "glat (1474560,) (80, 72, 256)\n",
      "glon (1474560,) (80, 72, 256)\n",
      "alt (1474560,) (80, 72, 256)\n",
      "mlat (1474560,) (80, 72, 256)\n",
      "mlon (1474560,) (80, 72, 256)\n",
      "malt (1474560,) (80, 72, 256)\n"
     ]
    }
   ],
   "source": [
    "nz, nf, nlt, nt = SAMI.get_grid_elems_from_parammod(sami_data_path)\n",
    "\n",
    "old_shape = [nlt, nf, nz]\n",
    "\n",
    "grid2 = SAMI.get_sami_grid(sami_data_path, nlt, nf, nz)\n",
    "\n",
    "data2, times = SAMI.read_to_nparray(sami_data_path, datetime(2011,5,20),\n",
    "                                    datetime(2011,5,21,12), 1, 2, cols='edens')\n",
    "\n",
    "grid = {}\n",
    "\n",
    "for k in grid2.keys():\n",
    "    grid[k] = grid2[k].flatten()\n",
    "    # grid2[k] = grid2[k]\n",
    "    print(k, grid[k].shape, grid2[k].shape)\n",
    "    \n"
   ]
  },
  {
   "cell_type": "code",
   "execution_count": null,
   "id": "f2802f2b-9fc4-4abf-95f9-4464ee288f51",
   "metadata": {},
   "outputs": [],
   "source": []
  },
  {
   "cell_type": "code",
   "execution_count": null,
   "id": "f9d277d1-29ee-4687-bc6a-7fd7dae04043",
   "metadata": {},
   "outputs": [],
   "source": []
  },
  {
   "cell_type": "code",
   "execution_count": null,
   "id": "5d5a09d6-b5f8-4f41-b2fb-03ad63af49f7",
   "metadata": {},
   "outputs": [],
   "source": []
  },
  {
   "cell_type": "code",
   "execution_count": 5,
   "id": "5ff855d5-8776-4438-a496-0543f2eae73f",
   "metadata": {},
   "outputs": [],
   "source": [
    "mesh = pyinterp.RTree()\n",
    "\n",
    "mesh.packing(np.vstack((grid['glon'], grid['glat'], grid['alt'])).T, data2['data']['edens'][:,:,:,5].flatten())"
   ]
  },
  {
   "cell_type": "code",
   "execution_count": 6,
   "id": "ef5ddab3-cd07-4a29-b2d6-7eae7037172d",
   "metadata": {},
   "outputs": [],
   "source": [
    "latout = np.arange(-90,90,1)\n",
    "lonout = np.arange(0,360,4)\n",
    "altout = [450] #np.arange(400,1000,50)\n",
    "\n",
    "mx, my, mz = np.meshgrid(lonout,latout,altout,\n",
    "                        indexing='ij')"
   ]
  },
  {
   "cell_type": "code",
   "execution_count": null,
   "id": "98eb5160-ba75-4286-865d-e6b4bdec742f",
   "metadata": {},
   "outputs": [],
   "source": [
    "rbf, neighbors = mesh.radial_basis_function(\n",
    "    np.vstack((mx.ravel(), my.ravel(), mz.ravel())).T,\n",
    "    within=False,  # Extrapolation is forbidden\n",
    "    k=1600,  # We are looking for at most 11 neighbors\n",
    "    rbf='linear',\n",
    "    smooth=1e-4,\n",
    "    num_threads=2)\n",
    "rbf = rbf.reshape(mx.shape)"
   ]
  },
  {
   "cell_type": "code",
   "execution_count": null,
   "id": "2535eaab-18a1-4720-bf22-d74cb76be8ba",
   "metadata": {},
   "outputs": [],
   "source": [
    "rbf.shape"
   ]
  },
  {
   "cell_type": "code",
   "execution_count": null,
   "id": "3029fab1-53d1-4d68-80c5-e41882793f23",
   "metadata": {},
   "outputs": [],
   "source": [
    "plt.imshow(rbf[:,:,5])"
   ]
  },
  {
   "cell_type": "code",
   "execution_count": null,
   "id": "dd726ef6-2dd3-48ab-b658-36b33fbb8471",
   "metadata": {},
   "outputs": [],
   "source": []
  },
  {
   "cell_type": "code",
   "execution_count": null,
   "id": "f2aa5828-ef00-4d53-a1dd-68a7d095288e",
   "metadata": {},
   "outputs": [],
   "source": []
  },
  {
   "cell_type": "code",
   "execution_count": null,
   "id": "5a2c9f9e-35aa-4787-a733-7d1cc858266c",
   "metadata": {},
   "outputs": [],
   "source": []
  }
 ],
 "metadata": {
  "kernelspec": {
   "display_name": "Python [conda env:pyinterp]",
   "language": "python",
   "name": "conda-env-pyinterp-py"
  },
  "language_info": {
   "codemirror_mode": {
    "name": "ipython",
    "version": 3
   },
   "file_extension": ".py",
   "mimetype": "text/x-python",
   "name": "python",
   "nbconvert_exporter": "python",
   "pygments_lexer": "ipython3",
   "version": "3.11.3"
  }
 },
 "nbformat": 4,
 "nbformat_minor": 5
}
